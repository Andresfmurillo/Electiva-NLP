{
 "cells": [
  {
   "cell_type": "markdown",
   "metadata": {},
   "source": [
    "# Primero vamos a traer los datos de los tuits del taller anterior"
   ]
  },
  {
   "cell_type": "code",
   "execution_count": 2,
   "metadata": {},
   "outputs": [],
   "source": [
    "import pandas as pd\n",
    "import tweepy"
   ]
  },
  {
   "cell_type": "code",
   "execution_count": 3,
   "metadata": {},
   "outputs": [
    {
     "data": {
      "text/plain": [
       "dict_keys(['api_key', 'api_secret_key', 'access_token', 'access_token_secret', 'bearer_token'])"
      ]
     },
     "execution_count": 3,
     "metadata": {},
     "output_type": "execute_result"
    }
   ],
   "source": [
    "#leer las llaves\n",
    "keys = pd.read_csv(\"C:/Users/AndresFelipe/Documents/Talleres NLP/Taller 10 twitter/mis_llaves.csv\", header=None)\n",
    "keys = dict(zip(keys[0],keys[1]))\n",
    "keys.keys()"
   ]
  },
  {
   "cell_type": "code",
   "execution_count": 4,
   "metadata": {},
   "outputs": [],
   "source": [
    "# Autenticar a través de la API \n",
    "auth = tweepy.OAuthHandler(keys['api_key'], keys['api_secret_key'])\n",
    "auth.set_access_token(keys['access_token'], keys['access_token_secret'])\n",
    "api = tweepy.API(auth, wait_on_rate_limit=True)"
   ]
  },
  {
   "cell_type": "code",
   "execution_count": 5,
   "metadata": {},
   "outputs": [],
   "source": [
    "### Para el taller anterior escogí los tuits referentes a Steph Curry\n",
    "### ingrese las coordenadas de San Francisco - California - USA\n",
    "tweets = tweepy.Cursor(api.search,\n",
    "                       q=['Steph Curry -RT'],\n",
    "                       lang='es',\n",
    "                       geocode='37.7272,-123.032,5000km',\n",
    "                       tweet_mode='extended',\n",
    "                       include_rts=False,\n",
    "                       ).items(2000)"
   ]
  },
  {
   "cell_type": "code",
   "execution_count": 6,
   "metadata": {},
   "outputs": [
    {
     "data": {
      "text/plain": [
       "Status(_api=<tweepy.api.API object at 0x000000666EEBCFA0>, _json={'created_at': 'Wed May 26 17:52:03 +0000 2021', 'id': 1397611502404870148, 'id_str': '1397611502404870148', 'full_text': 'Tiene que volver el Steph Curry TikToker, todos los necesitamos https://t.co/lFGynnb03j', 'truncated': False, 'display_text_range': [0, 63], 'entities': {'hashtags': [], 'symbols': [], 'user_mentions': [], 'urls': [], 'media': [{'id': 1397609891674705925, 'id_str': '1397609891674705925', 'indices': [64, 87], 'media_url': 'http://pbs.twimg.com/ext_tw_video_thumb/1397609891674705925/pu/img/MF8NOzCEnQwGgxd2.jpg', 'media_url_https': 'https://pbs.twimg.com/ext_tw_video_thumb/1397609891674705925/pu/img/MF8NOzCEnQwGgxd2.jpg', 'url': 'https://t.co/lFGynnb03j', 'display_url': 'pic.twitter.com/lFGynnb03j', 'expanded_url': 'https://twitter.com/LucianoLanci/status/1397611502404870148/video/1', 'type': 'photo', 'sizes': {'thumb': {'w': 150, 'h': 150, 'resize': 'crop'}, 'medium': {'w': 540, 'h': 960, 'resize': 'fit'}, 'small': {'w': 383, 'h': 680, 'resize': 'fit'}, 'large': {'w': 540, 'h': 960, 'resize': 'fit'}}}]}, 'extended_entities': {'media': [{'id': 1397609891674705925, 'id_str': '1397609891674705925', 'indices': [64, 87], 'media_url': 'http://pbs.twimg.com/ext_tw_video_thumb/1397609891674705925/pu/img/MF8NOzCEnQwGgxd2.jpg', 'media_url_https': 'https://pbs.twimg.com/ext_tw_video_thumb/1397609891674705925/pu/img/MF8NOzCEnQwGgxd2.jpg', 'url': 'https://t.co/lFGynnb03j', 'display_url': 'pic.twitter.com/lFGynnb03j', 'expanded_url': 'https://twitter.com/LucianoLanci/status/1397611502404870148/video/1', 'type': 'video', 'sizes': {'thumb': {'w': 150, 'h': 150, 'resize': 'crop'}, 'medium': {'w': 540, 'h': 960, 'resize': 'fit'}, 'small': {'w': 383, 'h': 680, 'resize': 'fit'}, 'large': {'w': 540, 'h': 960, 'resize': 'fit'}}, 'video_info': {'aspect_ratio': [9, 16], 'duration_millis': 15033, 'variants': [{'content_type': 'application/x-mpegURL', 'url': 'https://video.twimg.com/ext_tw_video/1397609891674705925/pu/pl/ZI6KmYzzxuUq1FZY.m3u8?tag=12&container=fmp4'}, {'bitrate': 2176000, 'content_type': 'video/mp4', 'url': 'https://video.twimg.com/ext_tw_video/1397609891674705925/pu/vid/540x960/B_jaxMtfhZX5GNSl.mp4?tag=12'}, {'bitrate': 632000, 'content_type': 'video/mp4', 'url': 'https://video.twimg.com/ext_tw_video/1397609891674705925/pu/vid/320x568/g3nz0ab8Ta9dnhlL.mp4?tag=12'}, {'bitrate': 950000, 'content_type': 'video/mp4', 'url': 'https://video.twimg.com/ext_tw_video/1397609891674705925/pu/vid/480x852/V81ytuHH6pTo8EqE.mp4?tag=12'}]}, 'additional_media_info': {'monetizable': False}}]}, 'metadata': {'iso_language_code': 'es', 'result_type': 'recent'}, 'source': '<a href=\"http://twitter.com/download/iphone\" rel=\"nofollow\">Twitter for iPhone</a>', 'in_reply_to_status_id': None, 'in_reply_to_status_id_str': None, 'in_reply_to_user_id': None, 'in_reply_to_user_id_str': None, 'in_reply_to_screen_name': None, 'user': {'id': 384433473, 'id_str': '384433473', 'name': 'Luciano', 'screen_name': 'LucianoLanci', 'location': 'Bernal', 'description': '', 'url': 'https://t.co/2NJVcDmgxb', 'entities': {'url': {'urls': [{'url': 'https://t.co/2NJVcDmgxb', 'expanded_url': 'https://www.instagram.com/lucianolanci/', 'display_url': 'instagram.com/lucianolanci/', 'indices': [0, 23]}]}, 'description': {'urls': []}}, 'protected': False, 'followers_count': 594, 'friends_count': 1092, 'listed_count': 1, 'created_at': 'Mon Oct 03 17:37:36 +0000 2011', 'favourites_count': 16824, 'utc_offset': None, 'time_zone': None, 'geo_enabled': True, 'verified': False, 'statuses_count': 7063, 'lang': None, 'contributors_enabled': False, 'is_translator': False, 'is_translation_enabled': False, 'profile_background_color': 'C0DEED', 'profile_background_image_url': 'http://abs.twimg.com/images/themes/theme1/bg.png', 'profile_background_image_url_https': 'https://abs.twimg.com/images/themes/theme1/bg.png', 'profile_background_tile': False, 'profile_image_url': 'http://pbs.twimg.com/profile_images/1328289350245871623/ukkT5Nay_normal.jpg', 'profile_image_url_https': 'https://pbs.twimg.com/profile_images/1328289350245871623/ukkT5Nay_normal.jpg', 'profile_banner_url': 'https://pbs.twimg.com/profile_banners/384433473/1621997774', 'profile_link_color': '1DA1F2', 'profile_sidebar_border_color': 'C0DEED', 'profile_sidebar_fill_color': 'DDEEF6', 'profile_text_color': '333333', 'profile_use_background_image': True, 'has_extended_profile': True, 'default_profile': True, 'default_profile_image': False, 'following': False, 'follow_request_sent': False, 'notifications': False, 'translator_type': 'none', 'withheld_in_countries': []}, 'geo': None, 'coordinates': None, 'place': None, 'contributors': None, 'is_quote_status': False, 'retweet_count': 0, 'favorite_count': 0, 'favorited': False, 'retweeted': False, 'possibly_sensitive': False, 'lang': 'es'}, created_at=datetime.datetime(2021, 5, 26, 17, 52, 3), id=1397611502404870148, id_str='1397611502404870148', full_text='Tiene que volver el Steph Curry TikToker, todos los necesitamos https://t.co/lFGynnb03j', truncated=False, display_text_range=[0, 63], entities={'hashtags': [], 'symbols': [], 'user_mentions': [], 'urls': [], 'media': [{'id': 1397609891674705925, 'id_str': '1397609891674705925', 'indices': [64, 87], 'media_url': 'http://pbs.twimg.com/ext_tw_video_thumb/1397609891674705925/pu/img/MF8NOzCEnQwGgxd2.jpg', 'media_url_https': 'https://pbs.twimg.com/ext_tw_video_thumb/1397609891674705925/pu/img/MF8NOzCEnQwGgxd2.jpg', 'url': 'https://t.co/lFGynnb03j', 'display_url': 'pic.twitter.com/lFGynnb03j', 'expanded_url': 'https://twitter.com/LucianoLanci/status/1397611502404870148/video/1', 'type': 'photo', 'sizes': {'thumb': {'w': 150, 'h': 150, 'resize': 'crop'}, 'medium': {'w': 540, 'h': 960, 'resize': 'fit'}, 'small': {'w': 383, 'h': 680, 'resize': 'fit'}, 'large': {'w': 540, 'h': 960, 'resize': 'fit'}}}]}, extended_entities={'media': [{'id': 1397609891674705925, 'id_str': '1397609891674705925', 'indices': [64, 87], 'media_url': 'http://pbs.twimg.com/ext_tw_video_thumb/1397609891674705925/pu/img/MF8NOzCEnQwGgxd2.jpg', 'media_url_https': 'https://pbs.twimg.com/ext_tw_video_thumb/1397609891674705925/pu/img/MF8NOzCEnQwGgxd2.jpg', 'url': 'https://t.co/lFGynnb03j', 'display_url': 'pic.twitter.com/lFGynnb03j', 'expanded_url': 'https://twitter.com/LucianoLanci/status/1397611502404870148/video/1', 'type': 'video', 'sizes': {'thumb': {'w': 150, 'h': 150, 'resize': 'crop'}, 'medium': {'w': 540, 'h': 960, 'resize': 'fit'}, 'small': {'w': 383, 'h': 680, 'resize': 'fit'}, 'large': {'w': 540, 'h': 960, 'resize': 'fit'}}, 'video_info': {'aspect_ratio': [9, 16], 'duration_millis': 15033, 'variants': [{'content_type': 'application/x-mpegURL', 'url': 'https://video.twimg.com/ext_tw_video/1397609891674705925/pu/pl/ZI6KmYzzxuUq1FZY.m3u8?tag=12&container=fmp4'}, {'bitrate': 2176000, 'content_type': 'video/mp4', 'url': 'https://video.twimg.com/ext_tw_video/1397609891674705925/pu/vid/540x960/B_jaxMtfhZX5GNSl.mp4?tag=12'}, {'bitrate': 632000, 'content_type': 'video/mp4', 'url': 'https://video.twimg.com/ext_tw_video/1397609891674705925/pu/vid/320x568/g3nz0ab8Ta9dnhlL.mp4?tag=12'}, {'bitrate': 950000, 'content_type': 'video/mp4', 'url': 'https://video.twimg.com/ext_tw_video/1397609891674705925/pu/vid/480x852/V81ytuHH6pTo8EqE.mp4?tag=12'}]}, 'additional_media_info': {'monetizable': False}}]}, metadata={'iso_language_code': 'es', 'result_type': 'recent'}, source='Twitter for iPhone', source_url='http://twitter.com/download/iphone', in_reply_to_status_id=None, in_reply_to_status_id_str=None, in_reply_to_user_id=None, in_reply_to_user_id_str=None, in_reply_to_screen_name=None, author=User(_api=<tweepy.api.API object at 0x000000666EEBCFA0>, _json={'id': 384433473, 'id_str': '384433473', 'name': 'Luciano', 'screen_name': 'LucianoLanci', 'location': 'Bernal', 'description': '', 'url': 'https://t.co/2NJVcDmgxb', 'entities': {'url': {'urls': [{'url': 'https://t.co/2NJVcDmgxb', 'expanded_url': 'https://www.instagram.com/lucianolanci/', 'display_url': 'instagram.com/lucianolanci/', 'indices': [0, 23]}]}, 'description': {'urls': []}}, 'protected': False, 'followers_count': 594, 'friends_count': 1092, 'listed_count': 1, 'created_at': 'Mon Oct 03 17:37:36 +0000 2011', 'favourites_count': 16824, 'utc_offset': None, 'time_zone': None, 'geo_enabled': True, 'verified': False, 'statuses_count': 7063, 'lang': None, 'contributors_enabled': False, 'is_translator': False, 'is_translation_enabled': False, 'profile_background_color': 'C0DEED', 'profile_background_image_url': 'http://abs.twimg.com/images/themes/theme1/bg.png', 'profile_background_image_url_https': 'https://abs.twimg.com/images/themes/theme1/bg.png', 'profile_background_tile': False, 'profile_image_url': 'http://pbs.twimg.com/profile_images/1328289350245871623/ukkT5Nay_normal.jpg', 'profile_image_url_https': 'https://pbs.twimg.com/profile_images/1328289350245871623/ukkT5Nay_normal.jpg', 'profile_banner_url': 'https://pbs.twimg.com/profile_banners/384433473/1621997774', 'profile_link_color': '1DA1F2', 'profile_sidebar_border_color': 'C0DEED', 'profile_sidebar_fill_color': 'DDEEF6', 'profile_text_color': '333333', 'profile_use_background_image': True, 'has_extended_profile': True, 'default_profile': True, 'default_profile_image': False, 'following': False, 'follow_request_sent': False, 'notifications': False, 'translator_type': 'none', 'withheld_in_countries': []}, id=384433473, id_str='384433473', name='Luciano', screen_name='LucianoLanci', location='Bernal', description='', url='https://t.co/2NJVcDmgxb', entities={'url': {'urls': [{'url': 'https://t.co/2NJVcDmgxb', 'expanded_url': 'https://www.instagram.com/lucianolanci/', 'display_url': 'instagram.com/lucianolanci/', 'indices': [0, 23]}]}, 'description': {'urls': []}}, protected=False, followers_count=594, friends_count=1092, listed_count=1, created_at=datetime.datetime(2011, 10, 3, 17, 37, 36), favourites_count=16824, utc_offset=None, time_zone=None, geo_enabled=True, verified=False, statuses_count=7063, lang=None, contributors_enabled=False, is_translator=False, is_translation_enabled=False, profile_background_color='C0DEED', profile_background_image_url='http://abs.twimg.com/images/themes/theme1/bg.png', profile_background_image_url_https='https://abs.twimg.com/images/themes/theme1/bg.png', profile_background_tile=False, profile_image_url='http://pbs.twimg.com/profile_images/1328289350245871623/ukkT5Nay_normal.jpg', profile_image_url_https='https://pbs.twimg.com/profile_images/1328289350245871623/ukkT5Nay_normal.jpg', profile_banner_url='https://pbs.twimg.com/profile_banners/384433473/1621997774', profile_link_color='1DA1F2', profile_sidebar_border_color='C0DEED', profile_sidebar_fill_color='DDEEF6', profile_text_color='333333', profile_use_background_image=True, has_extended_profile=True, default_profile=True, default_profile_image=False, following=False, follow_request_sent=False, notifications=False, translator_type='none', withheld_in_countries=[]), user=User(_api=<tweepy.api.API object at 0x000000666EEBCFA0>, _json={'id': 384433473, 'id_str': '384433473', 'name': 'Luciano', 'screen_name': 'LucianoLanci', 'location': 'Bernal', 'description': '', 'url': 'https://t.co/2NJVcDmgxb', 'entities': {'url': {'urls': [{'url': 'https://t.co/2NJVcDmgxb', 'expanded_url': 'https://www.instagram.com/lucianolanci/', 'display_url': 'instagram.com/lucianolanci/', 'indices': [0, 23]}]}, 'description': {'urls': []}}, 'protected': False, 'followers_count': 594, 'friends_count': 1092, 'listed_count': 1, 'created_at': 'Mon Oct 03 17:37:36 +0000 2011', 'favourites_count': 16824, 'utc_offset': None, 'time_zone': None, 'geo_enabled': True, 'verified': False, 'statuses_count': 7063, 'lang': None, 'contributors_enabled': False, 'is_translator': False, 'is_translation_enabled': False, 'profile_background_color': 'C0DEED', 'profile_background_image_url': 'http://abs.twimg.com/images/themes/theme1/bg.png', 'profile_background_image_url_https': 'https://abs.twimg.com/images/themes/theme1/bg.png', 'profile_background_tile': False, 'profile_image_url': 'http://pbs.twimg.com/profile_images/1328289350245871623/ukkT5Nay_normal.jpg', 'profile_image_url_https': 'https://pbs.twimg.com/profile_images/1328289350245871623/ukkT5Nay_normal.jpg', 'profile_banner_url': 'https://pbs.twimg.com/profile_banners/384433473/1621997774', 'profile_link_color': '1DA1F2', 'profile_sidebar_border_color': 'C0DEED', 'profile_sidebar_fill_color': 'DDEEF6', 'profile_text_color': '333333', 'profile_use_background_image': True, 'has_extended_profile': True, 'default_profile': True, 'default_profile_image': False, 'following': False, 'follow_request_sent': False, 'notifications': False, 'translator_type': 'none', 'withheld_in_countries': []}, id=384433473, id_str='384433473', name='Luciano', screen_name='LucianoLanci', location='Bernal', description='', url='https://t.co/2NJVcDmgxb', entities={'url': {'urls': [{'url': 'https://t.co/2NJVcDmgxb', 'expanded_url': 'https://www.instagram.com/lucianolanci/', 'display_url': 'instagram.com/lucianolanci/', 'indices': [0, 23]}]}, 'description': {'urls': []}}, protected=False, followers_count=594, friends_count=1092, listed_count=1, created_at=datetime.datetime(2011, 10, 3, 17, 37, 36), favourites_count=16824, utc_offset=None, time_zone=None, geo_enabled=True, verified=False, statuses_count=7063, lang=None, contributors_enabled=False, is_translator=False, is_translation_enabled=False, profile_background_color='C0DEED', profile_background_image_url='http://abs.twimg.com/images/themes/theme1/bg.png', profile_background_image_url_https='https://abs.twimg.com/images/themes/theme1/bg.png', profile_background_tile=False, profile_image_url='http://pbs.twimg.com/profile_images/1328289350245871623/ukkT5Nay_normal.jpg', profile_image_url_https='https://pbs.twimg.com/profile_images/1328289350245871623/ukkT5Nay_normal.jpg', profile_banner_url='https://pbs.twimg.com/profile_banners/384433473/1621997774', profile_link_color='1DA1F2', profile_sidebar_border_color='C0DEED', profile_sidebar_fill_color='DDEEF6', profile_text_color='333333', profile_use_background_image=True, has_extended_profile=True, default_profile=True, default_profile_image=False, following=False, follow_request_sent=False, notifications=False, translator_type='none', withheld_in_countries=[]), geo=None, coordinates=None, place=None, contributors=None, is_quote_status=False, retweet_count=0, favorite_count=0, favorited=False, retweeted=False, possibly_sensitive=False, lang='es')"
      ]
     },
     "execution_count": 6,
     "metadata": {},
     "output_type": "execute_result"
    }
   ],
   "source": [
    "# Objeto generador\n",
    "t = [tweet for tweet in tweets]\n",
    "t[0]"
   ]
  },
  {
   "cell_type": "code",
   "execution_count": 7,
   "metadata": {},
   "outputs": [],
   "source": [
    "t_processed = []\n",
    "\n",
    "for tweet in t: \n",
    "    temp = []\n",
    "    temp.append(tweet.full_text)\n",
    "    temp.append(tweet.created_at)\n",
    "    temp.append('Bogotá')\n",
    "    temp.append(tweet.user.location)\n",
    "    temp.append(tweet.id)\n",
    "    temp.append(f\"https://twitter.com/i/web/stuatus/{tweet.id}\")\n",
    "    \n",
    "    t_processed.append(temp)"
   ]
  },
  {
   "cell_type": "code",
   "execution_count": 8,
   "metadata": {},
   "outputs": [
    {
     "data": {
      "text/html": [
       "<div>\n",
       "<style scoped>\n",
       "    .dataframe tbody tr th:only-of-type {\n",
       "        vertical-align: middle;\n",
       "    }\n",
       "\n",
       "    .dataframe tbody tr th {\n",
       "        vertical-align: top;\n",
       "    }\n",
       "\n",
       "    .dataframe thead th {\n",
       "        text-align: right;\n",
       "    }\n",
       "</style>\n",
       "<table border=\"1\" class=\"dataframe\">\n",
       "  <thead>\n",
       "    <tr style=\"text-align: right;\">\n",
       "      <th></th>\n",
       "      <th>tweets</th>\n",
       "      <th>date</th>\n",
       "      <th>city</th>\n",
       "      <th>user_location</th>\n",
       "      <th>id</th>\n",
       "      <th>link</th>\n",
       "    </tr>\n",
       "  </thead>\n",
       "  <tbody>\n",
       "    <tr>\n",
       "      <th>0</th>\n",
       "      <td>Tiene que volver el Steph Curry TikToker, todo...</td>\n",
       "      <td>2021-05-26 17:52:03</td>\n",
       "      <td>Bogotá</td>\n",
       "      <td>Bernal</td>\n",
       "      <td>1397611502404870148</td>\n",
       "      <td>https://twitter.com/i/web/stuatus/139761150240...</td>\n",
       "    </tr>\n",
       "    <tr>\n",
       "      <th>1</th>\n",
       "      <td>mira vos ahora cameron payne es el mismísimo s...</td>\n",
       "      <td>2021-05-26 04:16:27</td>\n",
       "      <td>Bogotá</td>\n",
       "      <td>Los Angeles, CA</td>\n",
       "      <td>1397406249281540096</td>\n",
       "      <td>https://twitter.com/i/web/stuatus/139740624928...</td>\n",
       "    </tr>\n",
       "    <tr>\n",
       "      <th>2</th>\n",
       "      <td>Soy el único que piensa que el hijo de Drake s...</td>\n",
       "      <td>2021-05-26 00:04:24</td>\n",
       "      <td>Bogotá</td>\n",
       "      <td>Caracas, Venezuela</td>\n",
       "      <td>1397342822001414150</td>\n",
       "      <td>https://twitter.com/i/web/stuatus/139734282200...</td>\n",
       "    </tr>\n",
       "    <tr>\n",
       "      <th>3</th>\n",
       "      <td>@loraxxd @batixtg @husslev Curry no tiene fmvp...</td>\n",
       "      <td>2021-05-25 23:29:17</td>\n",
       "      <td>Bogotá</td>\n",
       "      <td>Argentina</td>\n",
       "      <td>1397333984758149121</td>\n",
       "      <td>https://twitter.com/i/web/stuatus/139733398475...</td>\n",
       "    </tr>\n",
       "    <tr>\n",
       "      <th>4</th>\n",
       "      <td>@PaDiabelM Steph Curry deguisé 😅😅</td>\n",
       "      <td>2021-05-25 00:16:54</td>\n",
       "      <td>Bogotá</td>\n",
       "      <td>Boston</td>\n",
       "      <td>1396983576948789248</td>\n",
       "      <td>https://twitter.com/i/web/stuatus/139698357694...</td>\n",
       "    </tr>\n",
       "  </tbody>\n",
       "</table>\n",
       "</div>"
      ],
      "text/plain": [
       "                                              tweets                date  \\\n",
       "0  Tiene que volver el Steph Curry TikToker, todo... 2021-05-26 17:52:03   \n",
       "1  mira vos ahora cameron payne es el mismísimo s... 2021-05-26 04:16:27   \n",
       "2  Soy el único que piensa que el hijo de Drake s... 2021-05-26 00:04:24   \n",
       "3  @loraxxd @batixtg @husslev Curry no tiene fmvp... 2021-05-25 23:29:17   \n",
       "4                  @PaDiabelM Steph Curry deguisé 😅😅 2021-05-25 00:16:54   \n",
       "\n",
       "     city       user_location                   id  \\\n",
       "0  Bogotá              Bernal  1397611502404870148   \n",
       "1  Bogotá     Los Angeles, CA  1397406249281540096   \n",
       "2  Bogotá  Caracas, Venezuela  1397342822001414150   \n",
       "3  Bogotá           Argentina  1397333984758149121   \n",
       "4  Bogotá              Boston  1396983576948789248   \n",
       "\n",
       "                                                link  \n",
       "0  https://twitter.com/i/web/stuatus/139761150240...  \n",
       "1  https://twitter.com/i/web/stuatus/139740624928...  \n",
       "2  https://twitter.com/i/web/stuatus/139734282200...  \n",
       "3  https://twitter.com/i/web/stuatus/139733398475...  \n",
       "4  https://twitter.com/i/web/stuatus/139698357694...  "
      ]
     },
     "execution_count": 8,
     "metadata": {},
     "output_type": "execute_result"
    }
   ],
   "source": [
    "data = pd.DataFrame(t_processed)\n",
    "data.columns = ['tweets', 'date', 'city', 'user_location', 'id', 'link']\n",
    "data.head()"
   ]
  },
  {
   "cell_type": "code",
   "execution_count": 9,
   "metadata": {},
   "outputs": [
    {
     "data": {
      "text/plain": [
       "(150, 6)"
      ]
     },
     "execution_count": 9,
     "metadata": {},
     "output_type": "execute_result"
    }
   ],
   "source": [
    "data.shape"
   ]
  },
  {
   "cell_type": "code",
   "execution_count": 10,
   "metadata": {},
   "outputs": [],
   "source": [
    "import re"
   ]
  },
  {
   "cell_type": "code",
   "execution_count": 11,
   "metadata": {},
   "outputs": [],
   "source": [
    "pattern1 = '?P<pic>pic.twitter.com/[^\\s]+'\n",
    "pattern2 = '?P<url>https?://[^\\s]+'"
   ]
  },
  {
   "cell_type": "code",
   "execution_count": 12,
   "metadata": {},
   "outputs": [],
   "source": [
    "def text_clean(row):\n",
    "    text = row['tweets']\n",
    "    \n",
    "    links = [tuple(j for j in i if j)[-1] for i in re.findall(f\"({pattern1})|({pattern2})\",text)]\n",
    "    for link in links:\n",
    "        text = text.replace(link,\"\")\n",
    "    \n",
    "    hashtags = [interaction for interaction in text.split() if interaction.startswith(\"#\")]\n",
    "    for hashtag in hashtags:\n",
    "        text = text.replace(hashtag, \"\")\n",
    "        \n",
    "    mentions = [interaction for interaction in text.split() if interaction.startswith(\"@\")]\n",
    "    for mention in mentions:\n",
    "        text = text.replace(mention, \"\")\n",
    "        \n",
    "    return text, links, hashtags, mentions"
   ]
  },
  {
   "cell_type": "code",
   "execution_count": 13,
   "metadata": {},
   "outputs": [
    {
     "data": {
      "text/html": [
       "<div>\n",
       "<style scoped>\n",
       "    .dataframe tbody tr th:only-of-type {\n",
       "        vertical-align: middle;\n",
       "    }\n",
       "\n",
       "    .dataframe tbody tr th {\n",
       "        vertical-align: top;\n",
       "    }\n",
       "\n",
       "    .dataframe thead th {\n",
       "        text-align: right;\n",
       "    }\n",
       "</style>\n",
       "<table border=\"1\" class=\"dataframe\">\n",
       "  <thead>\n",
       "    <tr style=\"text-align: right;\">\n",
       "      <th></th>\n",
       "      <th>tweets</th>\n",
       "      <th>date</th>\n",
       "      <th>city</th>\n",
       "      <th>user_location</th>\n",
       "      <th>id</th>\n",
       "      <th>link</th>\n",
       "      <th>texto_limpio</th>\n",
       "      <th>links</th>\n",
       "      <th>hashtags</th>\n",
       "      <th>mentions</th>\n",
       "    </tr>\n",
       "  </thead>\n",
       "  <tbody>\n",
       "    <tr>\n",
       "      <th>0</th>\n",
       "      <td>Tiene que volver el Steph Curry TikToker, todo...</td>\n",
       "      <td>2021-05-26 17:52:03</td>\n",
       "      <td>Bogotá</td>\n",
       "      <td>Bernal</td>\n",
       "      <td>1397611502404870148</td>\n",
       "      <td>https://twitter.com/i/web/stuatus/139761150240...</td>\n",
       "      <td>Tiene que volver el Steph Curry TikToker, todo...</td>\n",
       "      <td>[https://t.co/lFGynnb03j]</td>\n",
       "      <td>[]</td>\n",
       "      <td>[]</td>\n",
       "    </tr>\n",
       "    <tr>\n",
       "      <th>1</th>\n",
       "      <td>mira vos ahora cameron payne es el mismísimo s...</td>\n",
       "      <td>2021-05-26 04:16:27</td>\n",
       "      <td>Bogotá</td>\n",
       "      <td>Los Angeles, CA</td>\n",
       "      <td>1397406249281540096</td>\n",
       "      <td>https://twitter.com/i/web/stuatus/139740624928...</td>\n",
       "      <td>mira vos ahora cameron payne es el mismísimo s...</td>\n",
       "      <td>[]</td>\n",
       "      <td>[]</td>\n",
       "      <td>[]</td>\n",
       "    </tr>\n",
       "    <tr>\n",
       "      <th>2</th>\n",
       "      <td>Soy el único que piensa que el hijo de Drake s...</td>\n",
       "      <td>2021-05-26 00:04:24</td>\n",
       "      <td>Bogotá</td>\n",
       "      <td>Caracas, Venezuela</td>\n",
       "      <td>1397342822001414150</td>\n",
       "      <td>https://twitter.com/i/web/stuatus/139734282200...</td>\n",
       "      <td>Soy el único que piensa que el hijo de Drake s...</td>\n",
       "      <td>[https://t.co/ym659mowHP]</td>\n",
       "      <td>[#Drake, #StephenCurry, #BILLBOARD, #Billboard...</td>\n",
       "      <td>[]</td>\n",
       "    </tr>\n",
       "    <tr>\n",
       "      <th>3</th>\n",
       "      <td>@loraxxd @batixtg @husslev Curry no tiene fmvp...</td>\n",
       "      <td>2021-05-25 23:29:17</td>\n",
       "      <td>Bogotá</td>\n",
       "      <td>Argentina</td>\n",
       "      <td>1397333984758149121</td>\n",
       "      <td>https://twitter.com/i/web/stuatus/139733398475...</td>\n",
       "      <td>Curry no tiene fmvp pq la NBA no quería, si...</td>\n",
       "      <td>[]</td>\n",
       "      <td>[]</td>\n",
       "      <td>[@loraxxd, @batixtg, @husslev]</td>\n",
       "    </tr>\n",
       "    <tr>\n",
       "      <th>4</th>\n",
       "      <td>@PaDiabelM Steph Curry deguisé 😅😅</td>\n",
       "      <td>2021-05-25 00:16:54</td>\n",
       "      <td>Bogotá</td>\n",
       "      <td>Boston</td>\n",
       "      <td>1396983576948789248</td>\n",
       "      <td>https://twitter.com/i/web/stuatus/139698357694...</td>\n",
       "      <td>Steph Curry deguisé 😅😅</td>\n",
       "      <td>[]</td>\n",
       "      <td>[]</td>\n",
       "      <td>[@PaDiabelM]</td>\n",
       "    </tr>\n",
       "    <tr>\n",
       "      <th>...</th>\n",
       "      <td>...</td>\n",
       "      <td>...</td>\n",
       "      <td>...</td>\n",
       "      <td>...</td>\n",
       "      <td>...</td>\n",
       "      <td>...</td>\n",
       "      <td>...</td>\n",
       "      <td>...</td>\n",
       "      <td>...</td>\n",
       "      <td>...</td>\n",
       "    </tr>\n",
       "    <tr>\n",
       "      <th>145</th>\n",
       "      <td>Steph Curry lanzó para 6/19 FG (38%) y 3/13 3P...</td>\n",
       "      <td>2021-05-19 23:10:00</td>\n",
       "      <td>Bogotá</td>\n",
       "      <td>La Habana</td>\n",
       "      <td>1395154802426920973</td>\n",
       "      <td>https://twitter.com/i/web/stuatus/139515480242...</td>\n",
       "      <td>Steph Curry lanzó para 6/19 FG (38%) y 3/13 3P...</td>\n",
       "      <td>[https://t.co/HCInKSG6C5]</td>\n",
       "      <td>[#PLAYIN]</td>\n",
       "      <td>[]</td>\n",
       "    </tr>\n",
       "    <tr>\n",
       "      <th>146</th>\n",
       "      <td>La clave para los Lakers para mí, en principio...</td>\n",
       "      <td>2021-05-19 22:58:07</td>\n",
       "      <td>Bogotá</td>\n",
       "      <td>Dominican Republic</td>\n",
       "      <td>1395151812072775680</td>\n",
       "      <td>https://twitter.com/i/web/stuatus/139515181207...</td>\n",
       "      <td>La clave para los Lakers para mí, en principio...</td>\n",
       "      <td>[]</td>\n",
       "      <td>[]</td>\n",
       "      <td>[]</td>\n",
       "    </tr>\n",
       "    <tr>\n",
       "      <th>147</th>\n",
       "      <td>#NBA : están de acuerdo? : Jordan Poole The ‘X...</td>\n",
       "      <td>2021-05-19 19:54:17</td>\n",
       "      <td>Bogotá</td>\n",
       "      <td>Republica dominicana</td>\n",
       "      <td>1395105550417989637</td>\n",
       "      <td>https://twitter.com/i/web/stuatus/139510555041...</td>\n",
       "      <td>: están de acuerdo? : Jordan Poole The ‘X’ Fa...</td>\n",
       "      <td>[https://t.co/ZDRVcKJ91q]</td>\n",
       "      <td>[#NBA]</td>\n",
       "      <td>[]</td>\n",
       "    </tr>\n",
       "    <tr>\n",
       "      <th>148</th>\n",
       "      <td>será clave cada vez que lo intenten atrapar co...</td>\n",
       "      <td>2021-05-19 17:25:51</td>\n",
       "      <td>Bogotá</td>\n",
       "      <td>Los Angeles, CA</td>\n",
       "      <td>1395068196168761344</td>\n",
       "      <td>https://twitter.com/i/web/stuatus/139506819616...</td>\n",
       "      <td>será clave cada vez que lo intenten atrapar co...</td>\n",
       "      <td>[]</td>\n",
       "      <td>[]</td>\n",
       "      <td>[]</td>\n",
       "    </tr>\n",
       "    <tr>\n",
       "      <th>149</th>\n",
       "      <td>¿Cómo les fue cuando se midieron en cruces def...</td>\n",
       "      <td>2021-05-19 16:00:00</td>\n",
       "      <td>Bogotá</td>\n",
       "      <td>Argentina</td>\n",
       "      <td>1395046590017011715</td>\n",
       "      <td>https://twitter.com/i/web/stuatus/139504659001...</td>\n",
       "      <td>¿Cómo les fue cuando se midieron en cruces def...</td>\n",
       "      <td>[https://t.co/OMIoGfC83m, https://t.co/4dH3jKY...</td>\n",
       "      <td>[]</td>\n",
       "      <td>[]</td>\n",
       "    </tr>\n",
       "  </tbody>\n",
       "</table>\n",
       "<p>150 rows × 10 columns</p>\n",
       "</div>"
      ],
      "text/plain": [
       "                                                tweets                date  \\\n",
       "0    Tiene que volver el Steph Curry TikToker, todo... 2021-05-26 17:52:03   \n",
       "1    mira vos ahora cameron payne es el mismísimo s... 2021-05-26 04:16:27   \n",
       "2    Soy el único que piensa que el hijo de Drake s... 2021-05-26 00:04:24   \n",
       "3    @loraxxd @batixtg @husslev Curry no tiene fmvp... 2021-05-25 23:29:17   \n",
       "4                    @PaDiabelM Steph Curry deguisé 😅😅 2021-05-25 00:16:54   \n",
       "..                                                 ...                 ...   \n",
       "145  Steph Curry lanzó para 6/19 FG (38%) y 3/13 3P... 2021-05-19 23:10:00   \n",
       "146  La clave para los Lakers para mí, en principio... 2021-05-19 22:58:07   \n",
       "147  #NBA : están de acuerdo? : Jordan Poole The ‘X... 2021-05-19 19:54:17   \n",
       "148  será clave cada vez que lo intenten atrapar co... 2021-05-19 17:25:51   \n",
       "149  ¿Cómo les fue cuando se midieron en cruces def... 2021-05-19 16:00:00   \n",
       "\n",
       "       city         user_location                   id  \\\n",
       "0    Bogotá                Bernal  1397611502404870148   \n",
       "1    Bogotá       Los Angeles, CA  1397406249281540096   \n",
       "2    Bogotá    Caracas, Venezuela  1397342822001414150   \n",
       "3    Bogotá             Argentina  1397333984758149121   \n",
       "4    Bogotá                Boston  1396983576948789248   \n",
       "..      ...                   ...                  ...   \n",
       "145  Bogotá             La Habana  1395154802426920973   \n",
       "146  Bogotá    Dominican Republic  1395151812072775680   \n",
       "147  Bogotá  Republica dominicana  1395105550417989637   \n",
       "148  Bogotá       Los Angeles, CA  1395068196168761344   \n",
       "149  Bogotá             Argentina  1395046590017011715   \n",
       "\n",
       "                                                  link  \\\n",
       "0    https://twitter.com/i/web/stuatus/139761150240...   \n",
       "1    https://twitter.com/i/web/stuatus/139740624928...   \n",
       "2    https://twitter.com/i/web/stuatus/139734282200...   \n",
       "3    https://twitter.com/i/web/stuatus/139733398475...   \n",
       "4    https://twitter.com/i/web/stuatus/139698357694...   \n",
       "..                                                 ...   \n",
       "145  https://twitter.com/i/web/stuatus/139515480242...   \n",
       "146  https://twitter.com/i/web/stuatus/139515181207...   \n",
       "147  https://twitter.com/i/web/stuatus/139510555041...   \n",
       "148  https://twitter.com/i/web/stuatus/139506819616...   \n",
       "149  https://twitter.com/i/web/stuatus/139504659001...   \n",
       "\n",
       "                                          texto_limpio  \\\n",
       "0    Tiene que volver el Steph Curry TikToker, todo...   \n",
       "1    mira vos ahora cameron payne es el mismísimo s...   \n",
       "2    Soy el único que piensa que el hijo de Drake s...   \n",
       "3       Curry no tiene fmvp pq la NBA no quería, si...   \n",
       "4                               Steph Curry deguisé 😅😅   \n",
       "..                                                 ...   \n",
       "145  Steph Curry lanzó para 6/19 FG (38%) y 3/13 3P...   \n",
       "146  La clave para los Lakers para mí, en principio...   \n",
       "147   : están de acuerdo? : Jordan Poole The ‘X’ Fa...   \n",
       "148  será clave cada vez que lo intenten atrapar co...   \n",
       "149  ¿Cómo les fue cuando se midieron en cruces def...   \n",
       "\n",
       "                                                 links  \\\n",
       "0                            [https://t.co/lFGynnb03j]   \n",
       "1                                                   []   \n",
       "2                            [https://t.co/ym659mowHP]   \n",
       "3                                                   []   \n",
       "4                                                   []   \n",
       "..                                                 ...   \n",
       "145                          [https://t.co/HCInKSG6C5]   \n",
       "146                                                 []   \n",
       "147                          [https://t.co/ZDRVcKJ91q]   \n",
       "148                                                 []   \n",
       "149  [https://t.co/OMIoGfC83m, https://t.co/4dH3jKY...   \n",
       "\n",
       "                                              hashtags  \\\n",
       "0                                                   []   \n",
       "1                                                   []   \n",
       "2    [#Drake, #StephenCurry, #BILLBOARD, #Billboard...   \n",
       "3                                                   []   \n",
       "4                                                   []   \n",
       "..                                                 ...   \n",
       "145                                          [#PLAYIN]   \n",
       "146                                                 []   \n",
       "147                                             [#NBA]   \n",
       "148                                                 []   \n",
       "149                                                 []   \n",
       "\n",
       "                           mentions  \n",
       "0                                []  \n",
       "1                                []  \n",
       "2                                []  \n",
       "3    [@loraxxd, @batixtg, @husslev]  \n",
       "4                      [@PaDiabelM]  \n",
       "..                              ...  \n",
       "145                              []  \n",
       "146                              []  \n",
       "147                              []  \n",
       "148                              []  \n",
       "149                              []  \n",
       "\n",
       "[150 rows x 10 columns]"
      ]
     },
     "execution_count": 13,
     "metadata": {},
     "output_type": "execute_result"
    }
   ],
   "source": [
    "data[['texto_limpio', 'links', 'hashtags', 'mentions']] = data.apply(text_clean, axis=1, result_type='expand')\n",
    "data"
   ]
  },
  {
   "cell_type": "code",
   "execution_count": 14,
   "metadata": {},
   "outputs": [],
   "source": [
    "data.to_csv('tuits_taller_12.csv', index=False)"
   ]
  },
  {
   "cell_type": "markdown",
   "metadata": {},
   "source": [
    "# Desde aca inicia el Taller No. 12 - Analisis de sentimiento"
   ]
  },
  {
   "cell_type": "code",
   "execution_count": 18,
   "metadata": {},
   "outputs": [],
   "source": [
    "from textblob import TextBlob\n",
    "from vaderSentiment.vaderSentiment import SentimentIntensityAnalyzer"
   ]
  },
  {
   "cell_type": "code",
   "execution_count": 19,
   "metadata": {},
   "outputs": [],
   "source": [
    "vader = SentimentIntensityAnalyzer()"
   ]
  },
  {
   "cell_type": "code",
   "execution_count": 20,
   "metadata": {},
   "outputs": [],
   "source": [
    "import pandas as pd"
   ]
  },
  {
   "cell_type": "code",
   "execution_count": 21,
   "metadata": {},
   "outputs": [
    {
     "data": {
      "text/html": [
       "<div>\n",
       "<style scoped>\n",
       "    .dataframe tbody tr th:only-of-type {\n",
       "        vertical-align: middle;\n",
       "    }\n",
       "\n",
       "    .dataframe tbody tr th {\n",
       "        vertical-align: top;\n",
       "    }\n",
       "\n",
       "    .dataframe thead th {\n",
       "        text-align: right;\n",
       "    }\n",
       "</style>\n",
       "<table border=\"1\" class=\"dataframe\">\n",
       "  <thead>\n",
       "    <tr style=\"text-align: right;\">\n",
       "      <th></th>\n",
       "      <th>tweets</th>\n",
       "      <th>date</th>\n",
       "      <th>city</th>\n",
       "      <th>user_location</th>\n",
       "      <th>id</th>\n",
       "      <th>link</th>\n",
       "      <th>texto_limpio</th>\n",
       "      <th>links</th>\n",
       "      <th>hashtags</th>\n",
       "      <th>mentions</th>\n",
       "    </tr>\n",
       "  </thead>\n",
       "  <tbody>\n",
       "    <tr>\n",
       "      <th>0</th>\n",
       "      <td>mira vos ahora cameron payne es el mismísimo s...</td>\n",
       "      <td>2021-05-26 04:16:27</td>\n",
       "      <td>Bogotá</td>\n",
       "      <td>Los Angeles, CA</td>\n",
       "      <td>1397406249281540096</td>\n",
       "      <td>https://twitter.com/i/web/stuatus/139740624928...</td>\n",
       "      <td>mira vos ahora cameron payne es el mismísimo s...</td>\n",
       "      <td>[]</td>\n",
       "      <td>[]</td>\n",
       "      <td>[]</td>\n",
       "    </tr>\n",
       "    <tr>\n",
       "      <th>1</th>\n",
       "      <td>Soy el único que piensa que el hijo de Drake s...</td>\n",
       "      <td>2021-05-26 00:04:24</td>\n",
       "      <td>Bogotá</td>\n",
       "      <td>Caracas, Venezuela</td>\n",
       "      <td>1397342822001414150</td>\n",
       "      <td>https://twitter.com/i/web/stuatus/139734282200...</td>\n",
       "      <td>Soy el único que piensa que el hijo de Drake s...</td>\n",
       "      <td>['https://t.co/ym659mowHP']</td>\n",
       "      <td>['#Drake', '#StephenCurry', '#BILLBOARD', '#Bi...</td>\n",
       "      <td>[]</td>\n",
       "    </tr>\n",
       "    <tr>\n",
       "      <th>2</th>\n",
       "      <td>@loraxxd @batixtg @husslev Curry no tiene fmvp...</td>\n",
       "      <td>2021-05-25 23:29:17</td>\n",
       "      <td>Bogotá</td>\n",
       "      <td>Argentina</td>\n",
       "      <td>1397333984758149121</td>\n",
       "      <td>https://twitter.com/i/web/stuatus/139733398475...</td>\n",
       "      <td>Curry no tiene fmvp pq la NBA no quería, si...</td>\n",
       "      <td>[]</td>\n",
       "      <td>[]</td>\n",
       "      <td>['@loraxxd', '@batixtg', '@husslev']</td>\n",
       "    </tr>\n",
       "    <tr>\n",
       "      <th>3</th>\n",
       "      <td>@PaDiabelM Steph Curry deguisé 😅😅</td>\n",
       "      <td>2021-05-25 00:16:54</td>\n",
       "      <td>Bogotá</td>\n",
       "      <td>Boston</td>\n",
       "      <td>1396983576948789248</td>\n",
       "      <td>https://twitter.com/i/web/stuatus/139698357694...</td>\n",
       "      <td>Steph Curry deguisé 😅😅</td>\n",
       "      <td>[]</td>\n",
       "      <td>[]</td>\n",
       "      <td>['@PaDiabelM']</td>\n",
       "    </tr>\n",
       "    <tr>\n",
       "      <th>4</th>\n",
       "      <td>Bob Myers se reunió con Steph Curry durante un...</td>\n",
       "      <td>2021-05-24 18:46:00</td>\n",
       "      <td>Bogotá</td>\n",
       "      <td>Oakland, CA</td>\n",
       "      <td>1396900303967039491</td>\n",
       "      <td>https://twitter.com/i/web/stuatus/139690030396...</td>\n",
       "      <td>Bob Myers se reunió con Steph Curry durante un...</td>\n",
       "      <td>['https://t.co/2sJCAbfC2x']</td>\n",
       "      <td>[]</td>\n",
       "      <td>[]</td>\n",
       "    </tr>\n",
       "  </tbody>\n",
       "</table>\n",
       "</div>"
      ],
      "text/plain": [
       "                                              tweets                 date  \\\n",
       "0  mira vos ahora cameron payne es el mismísimo s...  2021-05-26 04:16:27   \n",
       "1  Soy el único que piensa que el hijo de Drake s...  2021-05-26 00:04:24   \n",
       "2  @loraxxd @batixtg @husslev Curry no tiene fmvp...  2021-05-25 23:29:17   \n",
       "3                  @PaDiabelM Steph Curry deguisé 😅😅  2021-05-25 00:16:54   \n",
       "4  Bob Myers se reunió con Steph Curry durante un...  2021-05-24 18:46:00   \n",
       "\n",
       "     city       user_location                   id  \\\n",
       "0  Bogotá     Los Angeles, CA  1397406249281540096   \n",
       "1  Bogotá  Caracas, Venezuela  1397342822001414150   \n",
       "2  Bogotá           Argentina  1397333984758149121   \n",
       "3  Bogotá              Boston  1396983576948789248   \n",
       "4  Bogotá         Oakland, CA  1396900303967039491   \n",
       "\n",
       "                                                link  \\\n",
       "0  https://twitter.com/i/web/stuatus/139740624928...   \n",
       "1  https://twitter.com/i/web/stuatus/139734282200...   \n",
       "2  https://twitter.com/i/web/stuatus/139733398475...   \n",
       "3  https://twitter.com/i/web/stuatus/139698357694...   \n",
       "4  https://twitter.com/i/web/stuatus/139690030396...   \n",
       "\n",
       "                                        texto_limpio  \\\n",
       "0  mira vos ahora cameron payne es el mismísimo s...   \n",
       "1  Soy el único que piensa que el hijo de Drake s...   \n",
       "2     Curry no tiene fmvp pq la NBA no quería, si...   \n",
       "3                             Steph Curry deguisé 😅😅   \n",
       "4  Bob Myers se reunió con Steph Curry durante un...   \n",
       "\n",
       "                         links  \\\n",
       "0                           []   \n",
       "1  ['https://t.co/ym659mowHP']   \n",
       "2                           []   \n",
       "3                           []   \n",
       "4  ['https://t.co/2sJCAbfC2x']   \n",
       "\n",
       "                                            hashtags  \\\n",
       "0                                                 []   \n",
       "1  ['#Drake', '#StephenCurry', '#BILLBOARD', '#Bi...   \n",
       "2                                                 []   \n",
       "3                                                 []   \n",
       "4                                                 []   \n",
       "\n",
       "                               mentions  \n",
       "0                                    []  \n",
       "1                                    []  \n",
       "2  ['@loraxxd', '@batixtg', '@husslev']  \n",
       "3                        ['@PaDiabelM']  \n",
       "4                                    []  "
      ]
     },
     "execution_count": 21,
     "metadata": {},
     "output_type": "execute_result"
    }
   ],
   "source": [
    "tuits = pd.read_csv(\"C:/Users/AndresFelipe/Documents/Talleres NLP/Taller12/tuits_taller_12.csv\")\n",
    "tuits.head()"
   ]
  },
  {
   "cell_type": "code",
   "execution_count": 26,
   "metadata": {},
   "outputs": [
    {
     "data": {
      "text/html": [
       "<div>\n",
       "<style scoped>\n",
       "    .dataframe tbody tr th:only-of-type {\n",
       "        vertical-align: middle;\n",
       "    }\n",
       "\n",
       "    .dataframe tbody tr th {\n",
       "        vertical-align: top;\n",
       "    }\n",
       "\n",
       "    .dataframe thead th {\n",
       "        text-align: right;\n",
       "    }\n",
       "</style>\n",
       "<table border=\"1\" class=\"dataframe\">\n",
       "  <thead>\n",
       "    <tr style=\"text-align: right;\">\n",
       "      <th></th>\n",
       "      <th>tweets</th>\n",
       "      <th>sentimiento_vader</th>\n",
       "      <th>sentimiento_textblob</th>\n",
       "    </tr>\n",
       "  </thead>\n",
       "  <tbody>\n",
       "    <tr>\n",
       "      <th>0</th>\n",
       "      <td>mira vos ahora cameron payne es el mismísimo steph curry</td>\n",
       "      <td>0.0000</td>\n",
       "      <td>0.0</td>\n",
       "    </tr>\n",
       "    <tr>\n",
       "      <th>1</th>\n",
       "      <td>Soy el único que piensa que el hijo de Drake se parece a Steph Curry? #Drake #StephenCurry #BILLBOARD #BillboardTNT https://t.co/ym659mowHP</td>\n",
       "      <td>0.0000</td>\n",
       "      <td>0.0</td>\n",
       "    </tr>\n",
       "    <tr>\n",
       "      <th>2</th>\n",
       "      <td>@loraxxd @batixtg @husslev Curry no tiene fmvp pq la NBA no quería, si viste las finales del 2015 todos pensabamos q era de Steph. Yo me quedé en shock ajajaja</td>\n",
       "      <td>-0.7184</td>\n",
       "      <td>0.0</td>\n",
       "    </tr>\n",
       "    <tr>\n",
       "      <th>3</th>\n",
       "      <td>@PaDiabelM Steph Curry deguisé 😅😅</td>\n",
       "      <td>0.6124</td>\n",
       "      <td>0.0</td>\n",
       "    </tr>\n",
       "    <tr>\n",
       "      <th>4</th>\n",
       "      <td>Bob Myers se reunió con Steph Curry durante una hora ayer, y se reunió con Draymond Green durante 90 minutos hace un momento. https://t.co/2sJCAbfC2x</td>\n",
       "      <td>0.0000</td>\n",
       "      <td>-0.2</td>\n",
       "    </tr>\n",
       "  </tbody>\n",
       "</table>\n",
       "</div>"
      ],
      "text/plain": [
       "                                                                                                                                                            tweets  \\\n",
       "0                                                                                                         mira vos ahora cameron payne es el mismísimo steph curry   \n",
       "1                      Soy el único que piensa que el hijo de Drake se parece a Steph Curry? #Drake #StephenCurry #BILLBOARD #BillboardTNT https://t.co/ym659mowHP   \n",
       "2  @loraxxd @batixtg @husslev Curry no tiene fmvp pq la NBA no quería, si viste las finales del 2015 todos pensabamos q era de Steph. Yo me quedé en shock ajajaja   \n",
       "3                                                                                                                                @PaDiabelM Steph Curry deguisé 😅😅   \n",
       "4            Bob Myers se reunió con Steph Curry durante una hora ayer, y se reunió con Draymond Green durante 90 minutos hace un momento. https://t.co/2sJCAbfC2x   \n",
       "\n",
       "   sentimiento_vader  sentimiento_textblob  \n",
       "0             0.0000                   0.0  \n",
       "1             0.0000                   0.0  \n",
       "2            -0.7184                   0.0  \n",
       "3             0.6124                   0.0  \n",
       "4             0.0000                  -0.2  "
      ]
     },
     "execution_count": 26,
     "metadata": {},
     "output_type": "execute_result"
    }
   ],
   "source": [
    "pd.set_option('display.max_colwidth', None)\n",
    "\n",
    "tuits['sentimiento_vader'] = tuits['tweets'].apply(lambda valor: vader.polarity_scores(valor)['compound'])\n",
    "tuits['sentimiento_textblob'] = tuits['tweets'].apply(lambda valor: TextBlob(valor).sentiment.polarity)\n",
    "tuits[[\"tweets\", \"sentimiento_vader\", \"sentimiento_textblob\"]].head()"
   ]
  },
  {
   "cell_type": "markdown",
   "metadata": {},
   "source": [
    "## Tuits mas negativos"
   ]
  },
  {
   "cell_type": "code",
   "execution_count": 31,
   "metadata": {},
   "outputs": [
    {
     "data": {
      "text/html": [
       "<div>\n",
       "<style scoped>\n",
       "    .dataframe tbody tr th:only-of-type {\n",
       "        vertical-align: middle;\n",
       "    }\n",
       "\n",
       "    .dataframe tbody tr th {\n",
       "        vertical-align: top;\n",
       "    }\n",
       "\n",
       "    .dataframe thead th {\n",
       "        text-align: right;\n",
       "    }\n",
       "</style>\n",
       "<table border=\"1\" class=\"dataframe\">\n",
       "  <thead>\n",
       "    <tr style=\"text-align: right;\">\n",
       "      <th></th>\n",
       "      <th>tweets</th>\n",
       "      <th>sentimiento_vader</th>\n",
       "    </tr>\n",
       "  </thead>\n",
       "  <tbody>\n",
       "    <tr>\n",
       "      <th>119</th>\n",
       "      <td>CURRY SIENDO CURRY 🔥🔥\\n\\nAsí finalizó la primera mitad en el partido entre Lakers y Golden State en el Play In 😱😱 los Warriors dominan 55-42 a Los Ángeles \\n\\nSteph lidera con 15 puntos 🏀🔥 https://t.co/oSD3rkiYXO</td>\n",
       "      <td>-0.9371</td>\n",
       "    </tr>\n",
       "    <tr>\n",
       "      <th>59</th>\n",
       "      <td>@GSWarriorsLATAM y si no meta ni lo libres! pero viejo el juego de curry y de draymond esta siendo horrible cuantas perdidas a steph no le esta cayendo el tiro no le pitan una y de paso 5 perdidas  y 3 asistencias si lo estan doble y triple marcando creo que por muy malo que es kent generan nada</td>\n",
       "      <td>-0.8553</td>\n",
       "    </tr>\n",
       "    <tr>\n",
       "      <th>19</th>\n",
       "      <td>No me encuentro mentalmente apto para ver estos playoffs sin Steph Curry ☹️ https://t.co/aGsrcNjtAG</td>\n",
       "      <td>-0.8020</td>\n",
       "    </tr>\n",
       "    <tr>\n",
       "      <th>107</th>\n",
       "      <td>Con un triple a lo Steph Curry, LeBron James le dio la victoria a los Lakers sobre los Warriors y la clasificación a los playoffs de la #NBA. Una bestia 💥💥💥 https://t.co/0kUbQdKE4V</td>\n",
       "      <td>-0.7579</td>\n",
       "    </tr>\n",
       "    <tr>\n",
       "      <th>2</th>\n",
       "      <td>@loraxxd @batixtg @husslev Curry no tiene fmvp pq la NBA no quería, si viste las finales del 2015 todos pensabamos q era de Steph. Yo me quedé en shock ajajaja</td>\n",
       "      <td>-0.7184</td>\n",
       "    </tr>\n",
       "    <tr>\n",
       "      <th>...</th>\n",
       "      <td>...</td>\n",
       "      <td>...</td>\n",
       "    </tr>\n",
       "    <tr>\n",
       "      <th>78</th>\n",
       "      <td>@SoldadoStranger Hoy es noche de Steph Curry ✌🏼</td>\n",
       "      <td>0.4939</td>\n",
       "    </tr>\n",
       "    <tr>\n",
       "      <th>3</th>\n",
       "      <td>@PaDiabelM Steph Curry deguisé 😅😅</td>\n",
       "      <td>0.6124</td>\n",
       "    </tr>\n",
       "    <tr>\n",
       "      <th>11</th>\n",
       "      <td>Nadie quiere decirlo pero yo lo diré: Damian Lillard mejor que Steph Curry… Punto !!! Bai 👋😅</td>\n",
       "      <td>0.7633</td>\n",
       "    </tr>\n",
       "    <tr>\n",
       "      <th>75</th>\n",
       "      <td>Tengo mucha fe para el partido de hoy pero el cagazo está, no hay duda. Como siempre, la buena noticia es que para mi equipo juega Steph Curry y un grupo de muchachos que se la bancan siempre. \\n\\nDale Warriors! 💙💛</td>\n",
       "      <td>0.8172</td>\n",
       "    </tr>\n",
       "    <tr>\n",
       "      <th>69</th>\n",
       "      <td>Te amo Steph Curry😍😍😍😍😍</td>\n",
       "      <td>0.9325</td>\n",
       "    </tr>\n",
       "  </tbody>\n",
       "</table>\n",
       "<p>151 rows × 2 columns</p>\n",
       "</div>"
      ],
      "text/plain": [
       "                                                                                                                                                                                                                                                                                                       tweets  \\\n",
       "119                                                                                      CURRY SIENDO CURRY 🔥🔥\\n\\nAsí finalizó la primera mitad en el partido entre Lakers y Golden State en el Play In 😱😱 los Warriors dominan 55-42 a Los Ángeles \\n\\nSteph lidera con 15 puntos 🏀🔥 https://t.co/oSD3rkiYXO   \n",
       "59   @GSWarriorsLATAM y si no meta ni lo libres! pero viejo el juego de curry y de draymond esta siendo horrible cuantas perdidas a steph no le esta cayendo el tiro no le pitan una y de paso 5 perdidas  y 3 asistencias si lo estan doble y triple marcando creo que por muy malo que es kent generan nada   \n",
       "19                                                                                                                                                                                                        No me encuentro mentalmente apto para ver estos playoffs sin Steph Curry ☹️ https://t.co/aGsrcNjtAG   \n",
       "107                                                                                                                      Con un triple a lo Steph Curry, LeBron James le dio la victoria a los Lakers sobre los Warriors y la clasificación a los playoffs de la #NBA. Una bestia 💥💥💥 https://t.co/0kUbQdKE4V   \n",
       "2                                                                                                                                             @loraxxd @batixtg @husslev Curry no tiene fmvp pq la NBA no quería, si viste las finales del 2015 todos pensabamos q era de Steph. Yo me quedé en shock ajajaja   \n",
       "..                                                                                                                                                                                                                                                                                                        ...   \n",
       "78                                                                                                                                                                                                                                                            @SoldadoStranger Hoy es noche de Steph Curry ✌🏼   \n",
       "3                                                                                                                                                                                                                                                                           @PaDiabelM Steph Curry deguisé 😅😅   \n",
       "11                                                                                                                                                                                                               Nadie quiere decirlo pero yo lo diré: Damian Lillard mejor que Steph Curry… Punto !!! Bai 👋😅   \n",
       "75                                                                                     Tengo mucha fe para el partido de hoy pero el cagazo está, no hay duda. Como siempre, la buena noticia es que para mi equipo juega Steph Curry y un grupo de muchachos que se la bancan siempre. \\n\\nDale Warriors! 💙💛   \n",
       "69                                                                                                                                                                                                                                                                                    Te amo Steph Curry😍😍😍😍😍   \n",
       "\n",
       "     sentimiento_vader  \n",
       "119            -0.9371  \n",
       "59             -0.8553  \n",
       "19             -0.8020  \n",
       "107            -0.7579  \n",
       "2              -0.7184  \n",
       "..                 ...  \n",
       "78              0.4939  \n",
       "3               0.6124  \n",
       "11              0.7633  \n",
       "75              0.8172  \n",
       "69              0.9325  \n",
       "\n",
       "[151 rows x 2 columns]"
      ]
     },
     "execution_count": 31,
     "metadata": {},
     "output_type": "execute_result"
    }
   ],
   "source": [
    "# Tuit más negativo para la libreria vaderSentiment\n",
    "tuits[['tweets','sentimiento_vader']].sort_values('sentimiento_vader')"
   ]
  },
  {
   "cell_type": "code",
   "execution_count": 34,
   "metadata": {},
   "outputs": [
    {
     "data": {
      "text/html": [
       "<div>\n",
       "<style scoped>\n",
       "    .dataframe tbody tr th:only-of-type {\n",
       "        vertical-align: middle;\n",
       "    }\n",
       "\n",
       "    .dataframe tbody tr th {\n",
       "        vertical-align: top;\n",
       "    }\n",
       "\n",
       "    .dataframe thead th {\n",
       "        text-align: right;\n",
       "    }\n",
       "</style>\n",
       "<table border=\"1\" class=\"dataframe\">\n",
       "  <thead>\n",
       "    <tr style=\"text-align: right;\">\n",
       "      <th></th>\n",
       "      <th>tweets</th>\n",
       "      <th>sentimiento_textblob</th>\n",
       "    </tr>\n",
       "  </thead>\n",
       "  <tbody>\n",
       "    <tr>\n",
       "      <th>59</th>\n",
       "      <td>@GSWarriorsLATAM y si no meta ni lo libres! pero viejo el juego de curry y de draymond esta siendo horrible cuantas perdidas a steph no le esta cayendo el tiro no le pitan una y de paso 5 perdidas  y 3 asistencias si lo estan doble y triple marcando creo que por muy malo que es kent generan nada</td>\n",
       "      <td>-1.000</td>\n",
       "    </tr>\n",
       "    <tr>\n",
       "      <th>83</th>\n",
       "      <td>Está dando su opinión acerca de pq cree que Curry no es MVP, con argumentos totalmente válidos.\\nHace poquísimo tiempo declaró que Steph era el segundo mejor base de la historia (!!!)\\nPero bueno, vayamos a la fácil y peguemosle a Lillard. https://t.co/7DVBGLh81g</td>\n",
       "      <td>-1.000</td>\n",
       "    </tr>\n",
       "    <tr>\n",
       "      <th>31</th>\n",
       "      <td>@okcargentina0 Si obvio, no son todos. Me llevo bien con un montón.\\nDetesto cuando para \"inflar\" la imagen de Curry lo meten en alguna comparación con Lillard, Harden, Trae, étc, cuando Steph no necesita de ninguna de esas comparaciones para que sepan que es el mejor base de todos.</td>\n",
       "      <td>-0.800</td>\n",
       "    </tr>\n",
       "    <tr>\n",
       "      <th>70</th>\n",
       "      <td>Dillon Brooks anuló los primeros minutos a Curry.\\n\\nLo hizo presionando arriba ante las bloqueos para evitar el handoff y poniéndose siempre de cara a la línea de base para evitar los desmarques.\\n\\nTodo bien hasta que Steph hizo de las suyas y empezó a tomar ritmo.</td>\n",
       "      <td>-0.800</td>\n",
       "    </tr>\n",
       "    <tr>\n",
       "      <th>93</th>\n",
       "      <td>Mae que increíble cómo queda demostrado que los Warriors cuando Curry está en descanso, son unos fucking troncos e inútiles, hoy literal fue Steph Curry vs Lakers😔🙄</td>\n",
       "      <td>-0.600</td>\n",
       "    </tr>\n",
       "    <tr>\n",
       "      <th>...</th>\n",
       "      <td>...</td>\n",
       "      <td>...</td>\n",
       "    </tr>\n",
       "    <tr>\n",
       "      <th>36</th>\n",
       "      <td>Las rachas de Steph Curry no aparecieron en #DubNation. Ja Morant, se robó el show, lideró a Memphis y dejó sin #Playoffs a Golden State por 2do año. \\n\\nOtro partidazo de #NBAPlayIn, hasta el momento este nuevo formato es un éxito total 👏👏👏 https://t.co/sd9RmwMCVG</td>\n",
       "      <td>0.150</td>\n",
       "    </tr>\n",
       "    <tr>\n",
       "      <th>146</th>\n",
       "      <td>#NBA : están de acuerdo? : Jordan Poole The ‘X’ Factor In Golden State Warriors-Los Angeles Lakers Play-In CBS San Francisco https://t.co/ZDRVcKJ91q</td>\n",
       "      <td>0.300</td>\n",
       "    </tr>\n",
       "    <tr>\n",
       "      <th>119</th>\n",
       "      <td>CURRY SIENDO CURRY 🔥🔥\\n\\nAsí finalizó la primera mitad en el partido entre Lakers y Golden State en el Play In 😱😱 los Warriors dominan 55-42 a Los Ángeles \\n\\nSteph lidera con 15 puntos 🏀🔥 https://t.co/oSD3rkiYXO</td>\n",
       "      <td>0.300</td>\n",
       "    </tr>\n",
       "    <tr>\n",
       "      <th>30</th>\n",
       "      <td>Steph Curry es Messi y Golden State es Barcelona. Parecidos!</td>\n",
       "      <td>0.375</td>\n",
       "    </tr>\n",
       "    <tr>\n",
       "      <th>80</th>\n",
       "      <td>Jugadores con al menos tres temporadas en las que finalizaron en el Top 3 del MVP desde la 2010/11:\\n\\nLeBron James\\nJames Harden\\nKawhi Leonard\\nKevin Durant\\nSteph Curry\\n\\nDe todas esas campañas, LBJ sólo se bajó de los finalistas en tres (contando esta).</td>\n",
       "      <td>0.500</td>\n",
       "    </tr>\n",
       "  </tbody>\n",
       "</table>\n",
       "<p>151 rows × 2 columns</p>\n",
       "</div>"
      ],
      "text/plain": [
       "                                                                                                                                                                                                                                                                                                       tweets  \\\n",
       "59   @GSWarriorsLATAM y si no meta ni lo libres! pero viejo el juego de curry y de draymond esta siendo horrible cuantas perdidas a steph no le esta cayendo el tiro no le pitan una y de paso 5 perdidas  y 3 asistencias si lo estan doble y triple marcando creo que por muy malo que es kent generan nada   \n",
       "83                                    Está dando su opinión acerca de pq cree que Curry no es MVP, con argumentos totalmente válidos.\\nHace poquísimo tiempo declaró que Steph era el segundo mejor base de la historia (!!!)\\nPero bueno, vayamos a la fácil y peguemosle a Lillard. https://t.co/7DVBGLh81g   \n",
       "31                @okcargentina0 Si obvio, no son todos. Me llevo bien con un montón.\\nDetesto cuando para \"inflar\" la imagen de Curry lo meten en alguna comparación con Lillard, Harden, Trae, étc, cuando Steph no necesita de ninguna de esas comparaciones para que sepan que es el mejor base de todos.   \n",
       "70                                Dillon Brooks anuló los primeros minutos a Curry.\\n\\nLo hizo presionando arriba ante las bloqueos para evitar el handoff y poniéndose siempre de cara a la línea de base para evitar los desmarques.\\n\\nTodo bien hasta que Steph hizo de las suyas y empezó a tomar ritmo.   \n",
       "93                                                                                                                                       Mae que increíble cómo queda demostrado que los Warriors cuando Curry está en descanso, son unos fucking troncos e inútiles, hoy literal fue Steph Curry vs Lakers😔🙄   \n",
       "..                                                                                                                                                                                                                                                                                                        ...   \n",
       "36                                  Las rachas de Steph Curry no aparecieron en #DubNation. Ja Morant, se robó el show, lideró a Memphis y dejó sin #Playoffs a Golden State por 2do año. \\n\\nOtro partidazo de #NBAPlayIn, hasta el momento este nuevo formato es un éxito total 👏👏👏 https://t.co/sd9RmwMCVG   \n",
       "146                                                                                                                                                      #NBA : están de acuerdo? : Jordan Poole The ‘X’ Factor In Golden State Warriors-Los Angeles Lakers Play-In CBS San Francisco https://t.co/ZDRVcKJ91q   \n",
       "119                                                                                      CURRY SIENDO CURRY 🔥🔥\\n\\nAsí finalizó la primera mitad en el partido entre Lakers y Golden State en el Play In 😱😱 los Warriors dominan 55-42 a Los Ángeles \\n\\nSteph lidera con 15 puntos 🏀🔥 https://t.co/oSD3rkiYXO   \n",
       "30                                                                                                                                                                                                                                               Steph Curry es Messi y Golden State es Barcelona. Parecidos!   \n",
       "80                                         Jugadores con al menos tres temporadas en las que finalizaron en el Top 3 del MVP desde la 2010/11:\\n\\nLeBron James\\nJames Harden\\nKawhi Leonard\\nKevin Durant\\nSteph Curry\\n\\nDe todas esas campañas, LBJ sólo se bajó de los finalistas en tres (contando esta).   \n",
       "\n",
       "     sentimiento_textblob  \n",
       "59                 -1.000  \n",
       "83                 -1.000  \n",
       "31                 -0.800  \n",
       "70                 -0.800  \n",
       "93                 -0.600  \n",
       "..                    ...  \n",
       "36                  0.150  \n",
       "146                 0.300  \n",
       "119                 0.300  \n",
       "30                  0.375  \n",
       "80                  0.500  \n",
       "\n",
       "[151 rows x 2 columns]"
      ]
     },
     "execution_count": 34,
     "metadata": {},
     "output_type": "execute_result"
    }
   ],
   "source": [
    "# Tuit más negativo para la libreria textblob\n",
    "tuits[['tweets','sentimiento_textblob']].sort_values('sentimiento_textblob')"
   ]
  },
  {
   "cell_type": "markdown",
   "metadata": {},
   "source": [
    "## Tuits mas positivos"
   ]
  },
  {
   "cell_type": "code",
   "execution_count": 35,
   "metadata": {},
   "outputs": [
    {
     "data": {
      "text/html": [
       "<div>\n",
       "<style scoped>\n",
       "    .dataframe tbody tr th:only-of-type {\n",
       "        vertical-align: middle;\n",
       "    }\n",
       "\n",
       "    .dataframe tbody tr th {\n",
       "        vertical-align: top;\n",
       "    }\n",
       "\n",
       "    .dataframe thead th {\n",
       "        text-align: right;\n",
       "    }\n",
       "</style>\n",
       "<table border=\"1\" class=\"dataframe\">\n",
       "  <thead>\n",
       "    <tr style=\"text-align: right;\">\n",
       "      <th></th>\n",
       "      <th>tweets</th>\n",
       "      <th>sentimiento_vader</th>\n",
       "    </tr>\n",
       "  </thead>\n",
       "  <tbody>\n",
       "    <tr>\n",
       "      <th>78</th>\n",
       "      <td>@SoldadoStranger Hoy es noche de Steph Curry ✌🏼</td>\n",
       "      <td>0.4939</td>\n",
       "    </tr>\n",
       "    <tr>\n",
       "      <th>3</th>\n",
       "      <td>@PaDiabelM Steph Curry deguisé 😅😅</td>\n",
       "      <td>0.6124</td>\n",
       "    </tr>\n",
       "    <tr>\n",
       "      <th>11</th>\n",
       "      <td>Nadie quiere decirlo pero yo lo diré: Damian Lillard mejor que Steph Curry… Punto !!! Bai 👋😅</td>\n",
       "      <td>0.7633</td>\n",
       "    </tr>\n",
       "    <tr>\n",
       "      <th>75</th>\n",
       "      <td>Tengo mucha fe para el partido de hoy pero el cagazo está, no hay duda. Como siempre, la buena noticia es que para mi equipo juega Steph Curry y un grupo de muchachos que se la bancan siempre. \\n\\nDale Warriors! 💙💛</td>\n",
       "      <td>0.8172</td>\n",
       "    </tr>\n",
       "    <tr>\n",
       "      <th>69</th>\n",
       "      <td>Te amo Steph Curry😍😍😍😍😍</td>\n",
       "      <td>0.9325</td>\n",
       "    </tr>\n",
       "  </tbody>\n",
       "</table>\n",
       "</div>"
      ],
      "text/plain": [
       "                                                                                                                                                                                                                    tweets  \\\n",
       "78                                                                                                                                                                         @SoldadoStranger Hoy es noche de Steph Curry ✌🏼   \n",
       "3                                                                                                                                                                                        @PaDiabelM Steph Curry deguisé 😅😅   \n",
       "11                                                                                                                            Nadie quiere decirlo pero yo lo diré: Damian Lillard mejor que Steph Curry… Punto !!! Bai 👋😅   \n",
       "75  Tengo mucha fe para el partido de hoy pero el cagazo está, no hay duda. Como siempre, la buena noticia es que para mi equipo juega Steph Curry y un grupo de muchachos que se la bancan siempre. \\n\\nDale Warriors! 💙💛   \n",
       "69                                                                                                                                                                                                 Te amo Steph Curry😍😍😍😍😍   \n",
       "\n",
       "    sentimiento_vader  \n",
       "78             0.4939  \n",
       "3              0.6124  \n",
       "11             0.7633  \n",
       "75             0.8172  \n",
       "69             0.9325  "
      ]
     },
     "execution_count": 35,
     "metadata": {},
     "output_type": "execute_result"
    }
   ],
   "source": [
    "# Tuit más positivo para la libreria vaderSentiment\n",
    "tuits[['tweets','sentimiento_vader']].sort_values('sentimiento_vader').tail()"
   ]
  },
  {
   "cell_type": "code",
   "execution_count": 36,
   "metadata": {},
   "outputs": [
    {
     "data": {
      "text/html": [
       "<div>\n",
       "<style scoped>\n",
       "    .dataframe tbody tr th:only-of-type {\n",
       "        vertical-align: middle;\n",
       "    }\n",
       "\n",
       "    .dataframe tbody tr th {\n",
       "        vertical-align: top;\n",
       "    }\n",
       "\n",
       "    .dataframe thead th {\n",
       "        text-align: right;\n",
       "    }\n",
       "</style>\n",
       "<table border=\"1\" class=\"dataframe\">\n",
       "  <thead>\n",
       "    <tr style=\"text-align: right;\">\n",
       "      <th></th>\n",
       "      <th>tweets</th>\n",
       "      <th>sentimiento_textblob</th>\n",
       "    </tr>\n",
       "  </thead>\n",
       "  <tbody>\n",
       "    <tr>\n",
       "      <th>36</th>\n",
       "      <td>Las rachas de Steph Curry no aparecieron en #DubNation. Ja Morant, se robó el show, lideró a Memphis y dejó sin #Playoffs a Golden State por 2do año. \\n\\nOtro partidazo de #NBAPlayIn, hasta el momento este nuevo formato es un éxito total 👏👏👏 https://t.co/sd9RmwMCVG</td>\n",
       "      <td>0.150</td>\n",
       "    </tr>\n",
       "    <tr>\n",
       "      <th>146</th>\n",
       "      <td>#NBA : están de acuerdo? : Jordan Poole The ‘X’ Factor In Golden State Warriors-Los Angeles Lakers Play-In CBS San Francisco https://t.co/ZDRVcKJ91q</td>\n",
       "      <td>0.300</td>\n",
       "    </tr>\n",
       "    <tr>\n",
       "      <th>119</th>\n",
       "      <td>CURRY SIENDO CURRY 🔥🔥\\n\\nAsí finalizó la primera mitad en el partido entre Lakers y Golden State en el Play In 😱😱 los Warriors dominan 55-42 a Los Ángeles \\n\\nSteph lidera con 15 puntos 🏀🔥 https://t.co/oSD3rkiYXO</td>\n",
       "      <td>0.300</td>\n",
       "    </tr>\n",
       "    <tr>\n",
       "      <th>30</th>\n",
       "      <td>Steph Curry es Messi y Golden State es Barcelona. Parecidos!</td>\n",
       "      <td>0.375</td>\n",
       "    </tr>\n",
       "    <tr>\n",
       "      <th>80</th>\n",
       "      <td>Jugadores con al menos tres temporadas en las que finalizaron en el Top 3 del MVP desde la 2010/11:\\n\\nLeBron James\\nJames Harden\\nKawhi Leonard\\nKevin Durant\\nSteph Curry\\n\\nDe todas esas campañas, LBJ sólo se bajó de los finalistas en tres (contando esta).</td>\n",
       "      <td>0.500</td>\n",
       "    </tr>\n",
       "  </tbody>\n",
       "</table>\n",
       "</div>"
      ],
      "text/plain": [
       "                                                                                                                                                                                                                                                                        tweets  \\\n",
       "36   Las rachas de Steph Curry no aparecieron en #DubNation. Ja Morant, se robó el show, lideró a Memphis y dejó sin #Playoffs a Golden State por 2do año. \\n\\nOtro partidazo de #NBAPlayIn, hasta el momento este nuevo formato es un éxito total 👏👏👏 https://t.co/sd9RmwMCVG   \n",
       "146                                                                                                                       #NBA : están de acuerdo? : Jordan Poole The ‘X’ Factor In Golden State Warriors-Los Angeles Lakers Play-In CBS San Francisco https://t.co/ZDRVcKJ91q   \n",
       "119                                                       CURRY SIENDO CURRY 🔥🔥\\n\\nAsí finalizó la primera mitad en el partido entre Lakers y Golden State en el Play In 😱😱 los Warriors dominan 55-42 a Los Ángeles \\n\\nSteph lidera con 15 puntos 🏀🔥 https://t.co/oSD3rkiYXO   \n",
       "30                                                                                                                                                                                                                Steph Curry es Messi y Golden State es Barcelona. Parecidos!   \n",
       "80          Jugadores con al menos tres temporadas en las que finalizaron en el Top 3 del MVP desde la 2010/11:\\n\\nLeBron James\\nJames Harden\\nKawhi Leonard\\nKevin Durant\\nSteph Curry\\n\\nDe todas esas campañas, LBJ sólo se bajó de los finalistas en tres (contando esta).   \n",
       "\n",
       "     sentimiento_textblob  \n",
       "36                  0.150  \n",
       "146                 0.300  \n",
       "119                 0.300  \n",
       "30                  0.375  \n",
       "80                  0.500  "
      ]
     },
     "execution_count": 36,
     "metadata": {},
     "output_type": "execute_result"
    }
   ],
   "source": [
    "# Tuit más positivo para la libreria textblob\n",
    "tuits[['tweets','sentimiento_textblob']].sort_values('sentimiento_textblob').tail()"
   ]
  },
  {
   "cell_type": "markdown",
   "metadata": {},
   "source": [
    "## Tuits positivos y negativos por cada libreria"
   ]
  },
  {
   "cell_type": "code",
   "execution_count": 42,
   "metadata": {},
   "outputs": [
    {
     "name": "stdout",
     "output_type": "stream",
     "text": [
      "Número de tuits positivos:  113\n",
      "Número de tuits negativos:  38\n"
     ]
    }
   ],
   "source": [
    "# Tuits positivos y negativos para la libreria vaderSentiment\n",
    "pos_count, neg_count = 0, 0\n",
    "\n",
    "\n",
    "for num in tuits['sentimiento_vader']:\n",
    "\n",
    "    if num >= 0:\n",
    "        pos_count += 1\n",
    "  \n",
    "    else:\n",
    "        neg_count += 1\n",
    "          \n",
    "print(\"Número de tuits positivos: \", pos_count)\n",
    "print(\"Número de tuits negativos: \", neg_count)"
   ]
  },
  {
   "cell_type": "code",
   "execution_count": 43,
   "metadata": {},
   "outputs": [
    {
     "name": "stdout",
     "output_type": "stream",
     "text": [
      "Número de tuits positivos:  139\n",
      "Número de tuits negativos:  12\n"
     ]
    }
   ],
   "source": [
    "# Tuits positivos y negativos para la libreria textblob\n",
    "pos_count, neg_count = 0, 0\n",
    "\n",
    "\n",
    "for num in tuits['sentimiento_textblob']:\n",
    "\n",
    "    if num >= 0:\n",
    "        pos_count += 1\n",
    "  \n",
    "    else:\n",
    "        neg_count += 1\n",
    "          \n",
    "print(\"Número de tuits positivos: \", pos_count)\n",
    "print(\"Número de tuits negativos: \", neg_count)"
   ]
  },
  {
   "cell_type": "markdown",
   "metadata": {},
   "source": [
    "## Visualización"
   ]
  },
  {
   "cell_type": "code",
   "execution_count": 45,
   "metadata": {},
   "outputs": [
    {
     "data": {
      "text/html": [
       "<div>\n",
       "<style scoped>\n",
       "    .dataframe tbody tr th:only-of-type {\n",
       "        vertical-align: middle;\n",
       "    }\n",
       "\n",
       "    .dataframe tbody tr th {\n",
       "        vertical-align: top;\n",
       "    }\n",
       "\n",
       "    .dataframe thead th {\n",
       "        text-align: right;\n",
       "    }\n",
       "</style>\n",
       "<table border=\"1\" class=\"dataframe\">\n",
       "  <thead>\n",
       "    <tr style=\"text-align: right;\">\n",
       "      <th></th>\n",
       "      <th>hora</th>\n",
       "      <th>cnt</th>\n",
       "    </tr>\n",
       "  </thead>\n",
       "  <tbody>\n",
       "    <tr>\n",
       "      <th>75</th>\n",
       "      <td>00:04:00</td>\n",
       "      <td>1</td>\n",
       "    </tr>\n",
       "    <tr>\n",
       "      <th>65</th>\n",
       "      <td>00:16:00</td>\n",
       "      <td>1</td>\n",
       "    </tr>\n",
       "    <tr>\n",
       "      <th>71</th>\n",
       "      <td>00:49:00</td>\n",
       "      <td>1</td>\n",
       "    </tr>\n",
       "    <tr>\n",
       "      <th>76</th>\n",
       "      <td>00:59:00</td>\n",
       "      <td>1</td>\n",
       "    </tr>\n",
       "    <tr>\n",
       "      <th>103</th>\n",
       "      <td>01:08:00</td>\n",
       "      <td>1</td>\n",
       "    </tr>\n",
       "    <tr>\n",
       "      <th>...</th>\n",
       "      <td>...</td>\n",
       "      <td>...</td>\n",
       "    </tr>\n",
       "    <tr>\n",
       "      <th>66</th>\n",
       "      <td>23:29:00</td>\n",
       "      <td>1</td>\n",
       "    </tr>\n",
       "    <tr>\n",
       "      <th>101</th>\n",
       "      <td>23:32:00</td>\n",
       "      <td>1</td>\n",
       "    </tr>\n",
       "    <tr>\n",
       "      <th>43</th>\n",
       "      <td>23:40:00</td>\n",
       "      <td>1</td>\n",
       "    </tr>\n",
       "    <tr>\n",
       "      <th>24</th>\n",
       "      <td>23:50:00</td>\n",
       "      <td>1</td>\n",
       "    </tr>\n",
       "    <tr>\n",
       "      <th>57</th>\n",
       "      <td>23:59:00</td>\n",
       "      <td>1</td>\n",
       "    </tr>\n",
       "  </tbody>\n",
       "</table>\n",
       "<p>120 rows × 2 columns</p>\n",
       "</div>"
      ],
      "text/plain": [
       "         hora  cnt\n",
       "75   00:04:00    1\n",
       "65   00:16:00    1\n",
       "71   00:49:00    1\n",
       "76   00:59:00    1\n",
       "103  01:08:00    1\n",
       "..        ...  ...\n",
       "66   23:29:00    1\n",
       "101  23:32:00    1\n",
       "43   23:40:00    1\n",
       "24   23:50:00    1\n",
       "57   23:59:00    1\n",
       "\n",
       "[120 rows x 2 columns]"
      ]
     },
     "execution_count": 45,
     "metadata": {},
     "output_type": "execute_result"
    }
   ],
   "source": [
    "data['hora'] = data['date'].dt.floor('T').dt.time\n",
    "temp = pd.DataFrame(data.hora.value_counts()).reset_index()\n",
    "temp.columns = ['hora', 'cnt']\n",
    "temp = temp.sort_values('hora')\n",
    "temp"
   ]
  },
  {
   "cell_type": "code",
   "execution_count": 46,
   "metadata": {},
   "outputs": [],
   "source": [
    "import plotly.io as pio\n",
    "import plotly.express as px\n",
    "import plotly.graph_objs as go\n",
    "from plotly.offline import download_plotlyjs, init_notebook_mode, plot, iplot"
   ]
  },
  {
   "cell_type": "code",
   "execution_count": 47,
   "metadata": {},
   "outputs": [
    {
     "data": {
      "text/html": [
       "        <script type=\"text/javascript\">\n",
       "        window.PlotlyConfig = {MathJaxConfig: 'local'};\n",
       "        if (window.MathJax) {MathJax.Hub.Config({SVG: {font: \"STIX-Web\"}});}\n",
       "        if (typeof require !== 'undefined') {\n",
       "        require.undef(\"plotly\");\n",
       "        requirejs.config({\n",
       "            paths: {\n",
       "                'plotly': ['https://cdn.plot.ly/plotly-latest.min']\n",
       "            }\n",
       "        });\n",
       "        require(['plotly'], function(Plotly) {\n",
       "            window._Plotly = Plotly;\n",
       "        });\n",
       "        }\n",
       "        </script>\n",
       "        "
      ]
     },
     "metadata": {},
     "output_type": "display_data"
    }
   ],
   "source": [
    "import matplotlib.pyplot as plt\n",
    "%matplotlib inline\n",
    "init_notebook_mode(connected=True)"
   ]
  },
  {
   "cell_type": "code",
   "execution_count": 48,
   "metadata": {},
   "outputs": [
    {
     "data": {
      "application/vnd.plotly.v1+json": {
       "config": {
        "linkText": "Export to plot.ly",
        "plotlyServerURL": "https://plot.ly",
        "showLink": false
       },
       "data": [
        {
         "hoverinfo": "text",
         "line": {
          "color": "blue"
         },
         "mode": "lines+markers",
         "name": "Horas",
         "text": [
          "Fecha: 00:04:00<br>Tuits: 1",
          "Fecha: 00:16:00<br>Tuits: 1",
          "Fecha: 00:49:00<br>Tuits: 1",
          "Fecha: 00:59:00<br>Tuits: 1",
          "Fecha: 01:08:00<br>Tuits: 1",
          "Fecha: 01:10:00<br>Tuits: 1",
          "Fecha: 01:19:00<br>Tuits: 1",
          "Fecha: 01:30:00<br>Tuits: 1",
          "Fecha: 01:45:00<br>Tuits: 1",
          "Fecha: 01:47:00<br>Tuits: 2",
          "Fecha: 01:49:00<br>Tuits: 1",
          "Fecha: 01:50:00<br>Tuits: 2",
          "Fecha: 02:02:00<br>Tuits: 1",
          "Fecha: 02:14:00<br>Tuits: 1",
          "Fecha: 02:18:00<br>Tuits: 1",
          "Fecha: 02:19:00<br>Tuits: 1",
          "Fecha: 02:22:00<br>Tuits: 1",
          "Fecha: 02:24:00<br>Tuits: 1",
          "Fecha: 02:26:00<br>Tuits: 1",
          "Fecha: 02:28:00<br>Tuits: 1",
          "Fecha: 02:37:00<br>Tuits: 1",
          "Fecha: 02:39:00<br>Tuits: 1",
          "Fecha: 02:43:00<br>Tuits: 2",
          "Fecha: 02:44:00<br>Tuits: 1",
          "Fecha: 02:50:00<br>Tuits: 1",
          "Fecha: 03:04:00<br>Tuits: 1",
          "Fecha: 03:07:00<br>Tuits: 2",
          "Fecha: 03:08:00<br>Tuits: 1",
          "Fecha: 03:12:00<br>Tuits: 2",
          "Fecha: 03:13:00<br>Tuits: 1",
          "Fecha: 03:14:00<br>Tuits: 4",
          "Fecha: 03:15:00<br>Tuits: 3",
          "Fecha: 03:16:00<br>Tuits: 1",
          "Fecha: 03:17:00<br>Tuits: 3",
          "Fecha: 03:19:00<br>Tuits: 3",
          "Fecha: 03:20:00<br>Tuits: 1",
          "Fecha: 03:22:00<br>Tuits: 3",
          "Fecha: 03:24:00<br>Tuits: 1",
          "Fecha: 03:32:00<br>Tuits: 1",
          "Fecha: 03:37:00<br>Tuits: 1",
          "Fecha: 03:40:00<br>Tuits: 1",
          "Fecha: 03:43:00<br>Tuits: 2",
          "Fecha: 03:45:00<br>Tuits: 1",
          "Fecha: 03:56:00<br>Tuits: 1",
          "Fecha: 03:58:00<br>Tuits: 1",
          "Fecha: 03:59:00<br>Tuits: 3",
          "Fecha: 04:00:00<br>Tuits: 1",
          "Fecha: 04:01:00<br>Tuits: 1",
          "Fecha: 04:03:00<br>Tuits: 1",
          "Fecha: 04:04:00<br>Tuits: 1",
          "Fecha: 04:07:00<br>Tuits: 2",
          "Fecha: 04:09:00<br>Tuits: 1",
          "Fecha: 04:16:00<br>Tuits: 3",
          "Fecha: 04:26:00<br>Tuits: 1",
          "Fecha: 04:27:00<br>Tuits: 2",
          "Fecha: 04:33:00<br>Tuits: 1",
          "Fecha: 04:34:00<br>Tuits: 1",
          "Fecha: 04:35:00<br>Tuits: 1",
          "Fecha: 04:37:00<br>Tuits: 1",
          "Fecha: 04:40:00<br>Tuits: 2",
          "Fecha: 04:41:00<br>Tuits: 2",
          "Fecha: 04:42:00<br>Tuits: 2",
          "Fecha: 04:43:00<br>Tuits: 2",
          "Fecha: 04:46:00<br>Tuits: 1",
          "Fecha: 04:59:00<br>Tuits: 2",
          "Fecha: 05:00:00<br>Tuits: 1",
          "Fecha: 05:02:00<br>Tuits: 1",
          "Fecha: 05:09:00<br>Tuits: 1",
          "Fecha: 05:22:00<br>Tuits: 1",
          "Fecha: 05:31:00<br>Tuits: 1",
          "Fecha: 05:32:00<br>Tuits: 1",
          "Fecha: 05:35:00<br>Tuits: 1",
          "Fecha: 05:38:00<br>Tuits: 1",
          "Fecha: 05:50:00<br>Tuits: 1",
          "Fecha: 05:57:00<br>Tuits: 1",
          "Fecha: 06:39:00<br>Tuits: 1",
          "Fecha: 07:51:00<br>Tuits: 1",
          "Fecha: 08:46:00<br>Tuits: 1",
          "Fecha: 09:16:00<br>Tuits: 1",
          "Fecha: 09:18:00<br>Tuits: 1",
          "Fecha: 09:19:00<br>Tuits: 1",
          "Fecha: 09:22:00<br>Tuits: 1",
          "Fecha: 09:24:00<br>Tuits: 1",
          "Fecha: 09:25:00<br>Tuits: 1",
          "Fecha: 09:28:00<br>Tuits: 1",
          "Fecha: 09:29:00<br>Tuits: 1",
          "Fecha: 12:09:00<br>Tuits: 1",
          "Fecha: 12:48:00<br>Tuits: 1",
          "Fecha: 12:58:00<br>Tuits: 1",
          "Fecha: 13:19:00<br>Tuits: 1",
          "Fecha: 13:54:00<br>Tuits: 1",
          "Fecha: 14:13:00<br>Tuits: 1",
          "Fecha: 14:26:00<br>Tuits: 1",
          "Fecha: 15:52:00<br>Tuits: 1",
          "Fecha: 15:53:00<br>Tuits: 1",
          "Fecha: 16:00:00<br>Tuits: 1",
          "Fecha: 16:02:00<br>Tuits: 1",
          "Fecha: 16:36:00<br>Tuits: 1",
          "Fecha: 16:47:00<br>Tuits: 1",
          "Fecha: 17:25:00<br>Tuits: 1",
          "Fecha: 17:52:00<br>Tuits: 1",
          "Fecha: 18:42:00<br>Tuits: 2",
          "Fecha: 18:44:00<br>Tuits: 2",
          "Fecha: 18:46:00<br>Tuits: 1",
          "Fecha: 18:59:00<br>Tuits: 1",
          "Fecha: 19:20:00<br>Tuits: 1",
          "Fecha: 19:54:00<br>Tuits: 1",
          "Fecha: 20:33:00<br>Tuits: 1",
          "Fecha: 21:21:00<br>Tuits: 1",
          "Fecha: 22:30:00<br>Tuits: 1",
          "Fecha: 22:56:00<br>Tuits: 1",
          "Fecha: 22:58:00<br>Tuits: 1",
          "Fecha: 23:10:00<br>Tuits: 1",
          "Fecha: 23:21:00<br>Tuits: 1",
          "Fecha: 23:24:00<br>Tuits: 1",
          "Fecha: 23:29:00<br>Tuits: 1",
          "Fecha: 23:32:00<br>Tuits: 1",
          "Fecha: 23:40:00<br>Tuits: 1",
          "Fecha: 23:50:00<br>Tuits: 1",
          "Fecha: 23:59:00<br>Tuits: 1"
         ],
         "type": "scatter",
         "x": [
          "00:04:00",
          "00:16:00",
          "00:49:00",
          "00:59:00",
          "01:08:00",
          "01:10:00",
          "01:19:00",
          "01:30:00",
          "01:45:00",
          "01:47:00",
          "01:49:00",
          "01:50:00",
          "02:02:00",
          "02:14:00",
          "02:18:00",
          "02:19:00",
          "02:22:00",
          "02:24:00",
          "02:26:00",
          "02:28:00",
          "02:37:00",
          "02:39:00",
          "02:43:00",
          "02:44:00",
          "02:50:00",
          "03:04:00",
          "03:07:00",
          "03:08:00",
          "03:12:00",
          "03:13:00",
          "03:14:00",
          "03:15:00",
          "03:16:00",
          "03:17:00",
          "03:19:00",
          "03:20:00",
          "03:22:00",
          "03:24:00",
          "03:32:00",
          "03:37:00",
          "03:40:00",
          "03:43:00",
          "03:45:00",
          "03:56:00",
          "03:58:00",
          "03:59:00",
          "04:00:00",
          "04:01:00",
          "04:03:00",
          "04:04:00",
          "04:07:00",
          "04:09:00",
          "04:16:00",
          "04:26:00",
          "04:27:00",
          "04:33:00",
          "04:34:00",
          "04:35:00",
          "04:37:00",
          "04:40:00",
          "04:41:00",
          "04:42:00",
          "04:43:00",
          "04:46:00",
          "04:59:00",
          "05:00:00",
          "05:02:00",
          "05:09:00",
          "05:22:00",
          "05:31:00",
          "05:32:00",
          "05:35:00",
          "05:38:00",
          "05:50:00",
          "05:57:00",
          "06:39:00",
          "07:51:00",
          "08:46:00",
          "09:16:00",
          "09:18:00",
          "09:19:00",
          "09:22:00",
          "09:24:00",
          "09:25:00",
          "09:28:00",
          "09:29:00",
          "12:09:00",
          "12:48:00",
          "12:58:00",
          "13:19:00",
          "13:54:00",
          "14:13:00",
          "14:26:00",
          "15:52:00",
          "15:53:00",
          "16:00:00",
          "16:02:00",
          "16:36:00",
          "16:47:00",
          "17:25:00",
          "17:52:00",
          "18:42:00",
          "18:44:00",
          "18:46:00",
          "18:59:00",
          "19:20:00",
          "19:54:00",
          "20:33:00",
          "21:21:00",
          "22:30:00",
          "22:56:00",
          "22:58:00",
          "23:10:00",
          "23:21:00",
          "23:24:00",
          "23:29:00",
          "23:32:00",
          "23:40:00",
          "23:50:00",
          "23:59:00"
         ],
         "y": [
          1,
          1,
          1,
          1,
          1,
          1,
          1,
          1,
          1,
          2,
          1,
          2,
          1,
          1,
          1,
          1,
          1,
          1,
          1,
          1,
          1,
          1,
          2,
          1,
          1,
          1,
          2,
          1,
          2,
          1,
          4,
          3,
          1,
          3,
          3,
          1,
          3,
          1,
          1,
          1,
          1,
          2,
          1,
          1,
          1,
          3,
          1,
          1,
          1,
          1,
          2,
          1,
          3,
          1,
          2,
          1,
          1,
          1,
          1,
          2,
          2,
          2,
          2,
          1,
          2,
          1,
          1,
          1,
          1,
          1,
          1,
          1,
          1,
          1,
          1,
          1,
          1,
          1,
          1,
          1,
          1,
          1,
          1,
          1,
          1,
          1,
          1,
          1,
          1,
          1,
          1,
          1,
          1,
          1,
          1,
          1,
          1,
          1,
          1,
          1,
          1,
          2,
          2,
          1,
          1,
          1,
          1,
          1,
          1,
          1,
          1,
          1,
          1,
          1,
          1,
          1,
          1,
          1,
          1,
          1
         ]
        }
       ],
       "layout": {
        "template": {
         "data": {
          "bar": [
           {
            "error_x": {
             "color": "#2a3f5f"
            },
            "error_y": {
             "color": "#2a3f5f"
            },
            "marker": {
             "line": {
              "color": "#E5ECF6",
              "width": 0.5
             }
            },
            "type": "bar"
           }
          ],
          "barpolar": [
           {
            "marker": {
             "line": {
              "color": "#E5ECF6",
              "width": 0.5
             }
            },
            "type": "barpolar"
           }
          ],
          "carpet": [
           {
            "aaxis": {
             "endlinecolor": "#2a3f5f",
             "gridcolor": "white",
             "linecolor": "white",
             "minorgridcolor": "white",
             "startlinecolor": "#2a3f5f"
            },
            "baxis": {
             "endlinecolor": "#2a3f5f",
             "gridcolor": "white",
             "linecolor": "white",
             "minorgridcolor": "white",
             "startlinecolor": "#2a3f5f"
            },
            "type": "carpet"
           }
          ],
          "choropleth": [
           {
            "colorbar": {
             "outlinewidth": 0,
             "ticks": ""
            },
            "type": "choropleth"
           }
          ],
          "contour": [
           {
            "colorbar": {
             "outlinewidth": 0,
             "ticks": ""
            },
            "colorscale": [
             [
              0,
              "#0d0887"
             ],
             [
              0.1111111111111111,
              "#46039f"
             ],
             [
              0.2222222222222222,
              "#7201a8"
             ],
             [
              0.3333333333333333,
              "#9c179e"
             ],
             [
              0.4444444444444444,
              "#bd3786"
             ],
             [
              0.5555555555555556,
              "#d8576b"
             ],
             [
              0.6666666666666666,
              "#ed7953"
             ],
             [
              0.7777777777777778,
              "#fb9f3a"
             ],
             [
              0.8888888888888888,
              "#fdca26"
             ],
             [
              1,
              "#f0f921"
             ]
            ],
            "type": "contour"
           }
          ],
          "contourcarpet": [
           {
            "colorbar": {
             "outlinewidth": 0,
             "ticks": ""
            },
            "type": "contourcarpet"
           }
          ],
          "heatmap": [
           {
            "colorbar": {
             "outlinewidth": 0,
             "ticks": ""
            },
            "colorscale": [
             [
              0,
              "#0d0887"
             ],
             [
              0.1111111111111111,
              "#46039f"
             ],
             [
              0.2222222222222222,
              "#7201a8"
             ],
             [
              0.3333333333333333,
              "#9c179e"
             ],
             [
              0.4444444444444444,
              "#bd3786"
             ],
             [
              0.5555555555555556,
              "#d8576b"
             ],
             [
              0.6666666666666666,
              "#ed7953"
             ],
             [
              0.7777777777777778,
              "#fb9f3a"
             ],
             [
              0.8888888888888888,
              "#fdca26"
             ],
             [
              1,
              "#f0f921"
             ]
            ],
            "type": "heatmap"
           }
          ],
          "heatmapgl": [
           {
            "colorbar": {
             "outlinewidth": 0,
             "ticks": ""
            },
            "colorscale": [
             [
              0,
              "#0d0887"
             ],
             [
              0.1111111111111111,
              "#46039f"
             ],
             [
              0.2222222222222222,
              "#7201a8"
             ],
             [
              0.3333333333333333,
              "#9c179e"
             ],
             [
              0.4444444444444444,
              "#bd3786"
             ],
             [
              0.5555555555555556,
              "#d8576b"
             ],
             [
              0.6666666666666666,
              "#ed7953"
             ],
             [
              0.7777777777777778,
              "#fb9f3a"
             ],
             [
              0.8888888888888888,
              "#fdca26"
             ],
             [
              1,
              "#f0f921"
             ]
            ],
            "type": "heatmapgl"
           }
          ],
          "histogram": [
           {
            "marker": {
             "colorbar": {
              "outlinewidth": 0,
              "ticks": ""
             }
            },
            "type": "histogram"
           }
          ],
          "histogram2d": [
           {
            "colorbar": {
             "outlinewidth": 0,
             "ticks": ""
            },
            "colorscale": [
             [
              0,
              "#0d0887"
             ],
             [
              0.1111111111111111,
              "#46039f"
             ],
             [
              0.2222222222222222,
              "#7201a8"
             ],
             [
              0.3333333333333333,
              "#9c179e"
             ],
             [
              0.4444444444444444,
              "#bd3786"
             ],
             [
              0.5555555555555556,
              "#d8576b"
             ],
             [
              0.6666666666666666,
              "#ed7953"
             ],
             [
              0.7777777777777778,
              "#fb9f3a"
             ],
             [
              0.8888888888888888,
              "#fdca26"
             ],
             [
              1,
              "#f0f921"
             ]
            ],
            "type": "histogram2d"
           }
          ],
          "histogram2dcontour": [
           {
            "colorbar": {
             "outlinewidth": 0,
             "ticks": ""
            },
            "colorscale": [
             [
              0,
              "#0d0887"
             ],
             [
              0.1111111111111111,
              "#46039f"
             ],
             [
              0.2222222222222222,
              "#7201a8"
             ],
             [
              0.3333333333333333,
              "#9c179e"
             ],
             [
              0.4444444444444444,
              "#bd3786"
             ],
             [
              0.5555555555555556,
              "#d8576b"
             ],
             [
              0.6666666666666666,
              "#ed7953"
             ],
             [
              0.7777777777777778,
              "#fb9f3a"
             ],
             [
              0.8888888888888888,
              "#fdca26"
             ],
             [
              1,
              "#f0f921"
             ]
            ],
            "type": "histogram2dcontour"
           }
          ],
          "mesh3d": [
           {
            "colorbar": {
             "outlinewidth": 0,
             "ticks": ""
            },
            "type": "mesh3d"
           }
          ],
          "parcoords": [
           {
            "line": {
             "colorbar": {
              "outlinewidth": 0,
              "ticks": ""
             }
            },
            "type": "parcoords"
           }
          ],
          "pie": [
           {
            "automargin": true,
            "type": "pie"
           }
          ],
          "scatter": [
           {
            "marker": {
             "colorbar": {
              "outlinewidth": 0,
              "ticks": ""
             }
            },
            "type": "scatter"
           }
          ],
          "scatter3d": [
           {
            "line": {
             "colorbar": {
              "outlinewidth": 0,
              "ticks": ""
             }
            },
            "marker": {
             "colorbar": {
              "outlinewidth": 0,
              "ticks": ""
             }
            },
            "type": "scatter3d"
           }
          ],
          "scattercarpet": [
           {
            "marker": {
             "colorbar": {
              "outlinewidth": 0,
              "ticks": ""
             }
            },
            "type": "scattercarpet"
           }
          ],
          "scattergeo": [
           {
            "marker": {
             "colorbar": {
              "outlinewidth": 0,
              "ticks": ""
             }
            },
            "type": "scattergeo"
           }
          ],
          "scattergl": [
           {
            "marker": {
             "colorbar": {
              "outlinewidth": 0,
              "ticks": ""
             }
            },
            "type": "scattergl"
           }
          ],
          "scattermapbox": [
           {
            "marker": {
             "colorbar": {
              "outlinewidth": 0,
              "ticks": ""
             }
            },
            "type": "scattermapbox"
           }
          ],
          "scatterpolar": [
           {
            "marker": {
             "colorbar": {
              "outlinewidth": 0,
              "ticks": ""
             }
            },
            "type": "scatterpolar"
           }
          ],
          "scatterpolargl": [
           {
            "marker": {
             "colorbar": {
              "outlinewidth": 0,
              "ticks": ""
             }
            },
            "type": "scatterpolargl"
           }
          ],
          "scatterternary": [
           {
            "marker": {
             "colorbar": {
              "outlinewidth": 0,
              "ticks": ""
             }
            },
            "type": "scatterternary"
           }
          ],
          "surface": [
           {
            "colorbar": {
             "outlinewidth": 0,
             "ticks": ""
            },
            "colorscale": [
             [
              0,
              "#0d0887"
             ],
             [
              0.1111111111111111,
              "#46039f"
             ],
             [
              0.2222222222222222,
              "#7201a8"
             ],
             [
              0.3333333333333333,
              "#9c179e"
             ],
             [
              0.4444444444444444,
              "#bd3786"
             ],
             [
              0.5555555555555556,
              "#d8576b"
             ],
             [
              0.6666666666666666,
              "#ed7953"
             ],
             [
              0.7777777777777778,
              "#fb9f3a"
             ],
             [
              0.8888888888888888,
              "#fdca26"
             ],
             [
              1,
              "#f0f921"
             ]
            ],
            "type": "surface"
           }
          ],
          "table": [
           {
            "cells": {
             "fill": {
              "color": "#EBF0F8"
             },
             "line": {
              "color": "white"
             }
            },
            "header": {
             "fill": {
              "color": "#C8D4E3"
             },
             "line": {
              "color": "white"
             }
            },
            "type": "table"
           }
          ]
         },
         "layout": {
          "annotationdefaults": {
           "arrowcolor": "#2a3f5f",
           "arrowhead": 0,
           "arrowwidth": 1
          },
          "autotypenumbers": "strict",
          "coloraxis": {
           "colorbar": {
            "outlinewidth": 0,
            "ticks": ""
           }
          },
          "colorscale": {
           "diverging": [
            [
             0,
             "#8e0152"
            ],
            [
             0.1,
             "#c51b7d"
            ],
            [
             0.2,
             "#de77ae"
            ],
            [
             0.3,
             "#f1b6da"
            ],
            [
             0.4,
             "#fde0ef"
            ],
            [
             0.5,
             "#f7f7f7"
            ],
            [
             0.6,
             "#e6f5d0"
            ],
            [
             0.7,
             "#b8e186"
            ],
            [
             0.8,
             "#7fbc41"
            ],
            [
             0.9,
             "#4d9221"
            ],
            [
             1,
             "#276419"
            ]
           ],
           "sequential": [
            [
             0,
             "#0d0887"
            ],
            [
             0.1111111111111111,
             "#46039f"
            ],
            [
             0.2222222222222222,
             "#7201a8"
            ],
            [
             0.3333333333333333,
             "#9c179e"
            ],
            [
             0.4444444444444444,
             "#bd3786"
            ],
            [
             0.5555555555555556,
             "#d8576b"
            ],
            [
             0.6666666666666666,
             "#ed7953"
            ],
            [
             0.7777777777777778,
             "#fb9f3a"
            ],
            [
             0.8888888888888888,
             "#fdca26"
            ],
            [
             1,
             "#f0f921"
            ]
           ],
           "sequentialminus": [
            [
             0,
             "#0d0887"
            ],
            [
             0.1111111111111111,
             "#46039f"
            ],
            [
             0.2222222222222222,
             "#7201a8"
            ],
            [
             0.3333333333333333,
             "#9c179e"
            ],
            [
             0.4444444444444444,
             "#bd3786"
            ],
            [
             0.5555555555555556,
             "#d8576b"
            ],
            [
             0.6666666666666666,
             "#ed7953"
            ],
            [
             0.7777777777777778,
             "#fb9f3a"
            ],
            [
             0.8888888888888888,
             "#fdca26"
            ],
            [
             1,
             "#f0f921"
            ]
           ]
          },
          "colorway": [
           "#636efa",
           "#EF553B",
           "#00cc96",
           "#ab63fa",
           "#FFA15A",
           "#19d3f3",
           "#FF6692",
           "#B6E880",
           "#FF97FF",
           "#FECB52"
          ],
          "font": {
           "color": "#2a3f5f"
          },
          "geo": {
           "bgcolor": "white",
           "lakecolor": "white",
           "landcolor": "#E5ECF6",
           "showlakes": true,
           "showland": true,
           "subunitcolor": "white"
          },
          "hoverlabel": {
           "align": "left"
          },
          "hovermode": "closest",
          "mapbox": {
           "style": "light"
          },
          "paper_bgcolor": "white",
          "plot_bgcolor": "#E5ECF6",
          "polar": {
           "angularaxis": {
            "gridcolor": "white",
            "linecolor": "white",
            "ticks": ""
           },
           "bgcolor": "#E5ECF6",
           "radialaxis": {
            "gridcolor": "white",
            "linecolor": "white",
            "ticks": ""
           }
          },
          "scene": {
           "xaxis": {
            "backgroundcolor": "#E5ECF6",
            "gridcolor": "white",
            "gridwidth": 2,
            "linecolor": "white",
            "showbackground": true,
            "ticks": "",
            "zerolinecolor": "white"
           },
           "yaxis": {
            "backgroundcolor": "#E5ECF6",
            "gridcolor": "white",
            "gridwidth": 2,
            "linecolor": "white",
            "showbackground": true,
            "ticks": "",
            "zerolinecolor": "white"
           },
           "zaxis": {
            "backgroundcolor": "#E5ECF6",
            "gridcolor": "white",
            "gridwidth": 2,
            "linecolor": "white",
            "showbackground": true,
            "ticks": "",
            "zerolinecolor": "white"
           }
          },
          "shapedefaults": {
           "line": {
            "color": "#2a3f5f"
           }
          },
          "ternary": {
           "aaxis": {
            "gridcolor": "white",
            "linecolor": "white",
            "ticks": ""
           },
           "baxis": {
            "gridcolor": "white",
            "linecolor": "white",
            "ticks": ""
           },
           "bgcolor": "#E5ECF6",
           "caxis": {
            "gridcolor": "white",
            "linecolor": "white",
            "ticks": ""
           }
          },
          "title": {
           "x": 0.05
          },
          "xaxis": {
           "automargin": true,
           "gridcolor": "white",
           "linecolor": "white",
           "ticks": "",
           "title": {
            "standoff": 15
           },
           "zerolinecolor": "white",
           "zerolinewidth": 2
          },
          "yaxis": {
           "automargin": true,
           "gridcolor": "white",
           "linecolor": "white",
           "ticks": "",
           "title": {
            "standoff": 15
           },
           "zerolinecolor": "white",
           "zerolinewidth": 2
          }
         }
        },
        "title": {
         "text": "Número de tuits por hora"
        }
       }
      },
      "text/html": [
       "<div>                            <div id=\"75058698-eefe-4b7c-9734-88351476345f\" class=\"plotly-graph-div\" style=\"height:525px; width:100%;\"></div>            <script type=\"text/javascript\">                require([\"plotly\"], function(Plotly) {                    window.PLOTLYENV=window.PLOTLYENV || {};                                    if (document.getElementById(\"75058698-eefe-4b7c-9734-88351476345f\")) {                    Plotly.newPlot(                        \"75058698-eefe-4b7c-9734-88351476345f\",                        [{\"hoverinfo\": \"text\", \"line\": {\"color\": \"blue\"}, \"mode\": \"lines+markers\", \"name\": \"Horas\", \"text\": [\"Fecha: 00:04:00<br>Tuits: 1\", \"Fecha: 00:16:00<br>Tuits: 1\", \"Fecha: 00:49:00<br>Tuits: 1\", \"Fecha: 00:59:00<br>Tuits: 1\", \"Fecha: 01:08:00<br>Tuits: 1\", \"Fecha: 01:10:00<br>Tuits: 1\", \"Fecha: 01:19:00<br>Tuits: 1\", \"Fecha: 01:30:00<br>Tuits: 1\", \"Fecha: 01:45:00<br>Tuits: 1\", \"Fecha: 01:47:00<br>Tuits: 2\", \"Fecha: 01:49:00<br>Tuits: 1\", \"Fecha: 01:50:00<br>Tuits: 2\", \"Fecha: 02:02:00<br>Tuits: 1\", \"Fecha: 02:14:00<br>Tuits: 1\", \"Fecha: 02:18:00<br>Tuits: 1\", \"Fecha: 02:19:00<br>Tuits: 1\", \"Fecha: 02:22:00<br>Tuits: 1\", \"Fecha: 02:24:00<br>Tuits: 1\", \"Fecha: 02:26:00<br>Tuits: 1\", \"Fecha: 02:28:00<br>Tuits: 1\", \"Fecha: 02:37:00<br>Tuits: 1\", \"Fecha: 02:39:00<br>Tuits: 1\", \"Fecha: 02:43:00<br>Tuits: 2\", \"Fecha: 02:44:00<br>Tuits: 1\", \"Fecha: 02:50:00<br>Tuits: 1\", \"Fecha: 03:04:00<br>Tuits: 1\", \"Fecha: 03:07:00<br>Tuits: 2\", \"Fecha: 03:08:00<br>Tuits: 1\", \"Fecha: 03:12:00<br>Tuits: 2\", \"Fecha: 03:13:00<br>Tuits: 1\", \"Fecha: 03:14:00<br>Tuits: 4\", \"Fecha: 03:15:00<br>Tuits: 3\", \"Fecha: 03:16:00<br>Tuits: 1\", \"Fecha: 03:17:00<br>Tuits: 3\", \"Fecha: 03:19:00<br>Tuits: 3\", \"Fecha: 03:20:00<br>Tuits: 1\", \"Fecha: 03:22:00<br>Tuits: 3\", \"Fecha: 03:24:00<br>Tuits: 1\", \"Fecha: 03:32:00<br>Tuits: 1\", \"Fecha: 03:37:00<br>Tuits: 1\", \"Fecha: 03:40:00<br>Tuits: 1\", \"Fecha: 03:43:00<br>Tuits: 2\", \"Fecha: 03:45:00<br>Tuits: 1\", \"Fecha: 03:56:00<br>Tuits: 1\", \"Fecha: 03:58:00<br>Tuits: 1\", \"Fecha: 03:59:00<br>Tuits: 3\", \"Fecha: 04:00:00<br>Tuits: 1\", \"Fecha: 04:01:00<br>Tuits: 1\", \"Fecha: 04:03:00<br>Tuits: 1\", \"Fecha: 04:04:00<br>Tuits: 1\", \"Fecha: 04:07:00<br>Tuits: 2\", \"Fecha: 04:09:00<br>Tuits: 1\", \"Fecha: 04:16:00<br>Tuits: 3\", \"Fecha: 04:26:00<br>Tuits: 1\", \"Fecha: 04:27:00<br>Tuits: 2\", \"Fecha: 04:33:00<br>Tuits: 1\", \"Fecha: 04:34:00<br>Tuits: 1\", \"Fecha: 04:35:00<br>Tuits: 1\", \"Fecha: 04:37:00<br>Tuits: 1\", \"Fecha: 04:40:00<br>Tuits: 2\", \"Fecha: 04:41:00<br>Tuits: 2\", \"Fecha: 04:42:00<br>Tuits: 2\", \"Fecha: 04:43:00<br>Tuits: 2\", \"Fecha: 04:46:00<br>Tuits: 1\", \"Fecha: 04:59:00<br>Tuits: 2\", \"Fecha: 05:00:00<br>Tuits: 1\", \"Fecha: 05:02:00<br>Tuits: 1\", \"Fecha: 05:09:00<br>Tuits: 1\", \"Fecha: 05:22:00<br>Tuits: 1\", \"Fecha: 05:31:00<br>Tuits: 1\", \"Fecha: 05:32:00<br>Tuits: 1\", \"Fecha: 05:35:00<br>Tuits: 1\", \"Fecha: 05:38:00<br>Tuits: 1\", \"Fecha: 05:50:00<br>Tuits: 1\", \"Fecha: 05:57:00<br>Tuits: 1\", \"Fecha: 06:39:00<br>Tuits: 1\", \"Fecha: 07:51:00<br>Tuits: 1\", \"Fecha: 08:46:00<br>Tuits: 1\", \"Fecha: 09:16:00<br>Tuits: 1\", \"Fecha: 09:18:00<br>Tuits: 1\", \"Fecha: 09:19:00<br>Tuits: 1\", \"Fecha: 09:22:00<br>Tuits: 1\", \"Fecha: 09:24:00<br>Tuits: 1\", \"Fecha: 09:25:00<br>Tuits: 1\", \"Fecha: 09:28:00<br>Tuits: 1\", \"Fecha: 09:29:00<br>Tuits: 1\", \"Fecha: 12:09:00<br>Tuits: 1\", \"Fecha: 12:48:00<br>Tuits: 1\", \"Fecha: 12:58:00<br>Tuits: 1\", \"Fecha: 13:19:00<br>Tuits: 1\", \"Fecha: 13:54:00<br>Tuits: 1\", \"Fecha: 14:13:00<br>Tuits: 1\", \"Fecha: 14:26:00<br>Tuits: 1\", \"Fecha: 15:52:00<br>Tuits: 1\", \"Fecha: 15:53:00<br>Tuits: 1\", \"Fecha: 16:00:00<br>Tuits: 1\", \"Fecha: 16:02:00<br>Tuits: 1\", \"Fecha: 16:36:00<br>Tuits: 1\", \"Fecha: 16:47:00<br>Tuits: 1\", \"Fecha: 17:25:00<br>Tuits: 1\", \"Fecha: 17:52:00<br>Tuits: 1\", \"Fecha: 18:42:00<br>Tuits: 2\", \"Fecha: 18:44:00<br>Tuits: 2\", \"Fecha: 18:46:00<br>Tuits: 1\", \"Fecha: 18:59:00<br>Tuits: 1\", \"Fecha: 19:20:00<br>Tuits: 1\", \"Fecha: 19:54:00<br>Tuits: 1\", \"Fecha: 20:33:00<br>Tuits: 1\", \"Fecha: 21:21:00<br>Tuits: 1\", \"Fecha: 22:30:00<br>Tuits: 1\", \"Fecha: 22:56:00<br>Tuits: 1\", \"Fecha: 22:58:00<br>Tuits: 1\", \"Fecha: 23:10:00<br>Tuits: 1\", \"Fecha: 23:21:00<br>Tuits: 1\", \"Fecha: 23:24:00<br>Tuits: 1\", \"Fecha: 23:29:00<br>Tuits: 1\", \"Fecha: 23:32:00<br>Tuits: 1\", \"Fecha: 23:40:00<br>Tuits: 1\", \"Fecha: 23:50:00<br>Tuits: 1\", \"Fecha: 23:59:00<br>Tuits: 1\"], \"type\": \"scatter\", \"x\": [\"00:04:00\", \"00:16:00\", \"00:49:00\", \"00:59:00\", \"01:08:00\", \"01:10:00\", \"01:19:00\", \"01:30:00\", \"01:45:00\", \"01:47:00\", \"01:49:00\", \"01:50:00\", \"02:02:00\", \"02:14:00\", \"02:18:00\", \"02:19:00\", \"02:22:00\", \"02:24:00\", \"02:26:00\", \"02:28:00\", \"02:37:00\", \"02:39:00\", \"02:43:00\", \"02:44:00\", \"02:50:00\", \"03:04:00\", \"03:07:00\", \"03:08:00\", \"03:12:00\", \"03:13:00\", \"03:14:00\", \"03:15:00\", \"03:16:00\", \"03:17:00\", \"03:19:00\", \"03:20:00\", \"03:22:00\", \"03:24:00\", \"03:32:00\", \"03:37:00\", \"03:40:00\", \"03:43:00\", \"03:45:00\", \"03:56:00\", \"03:58:00\", \"03:59:00\", \"04:00:00\", \"04:01:00\", \"04:03:00\", \"04:04:00\", \"04:07:00\", \"04:09:00\", \"04:16:00\", \"04:26:00\", \"04:27:00\", \"04:33:00\", \"04:34:00\", \"04:35:00\", \"04:37:00\", \"04:40:00\", \"04:41:00\", \"04:42:00\", \"04:43:00\", \"04:46:00\", \"04:59:00\", \"05:00:00\", \"05:02:00\", \"05:09:00\", \"05:22:00\", \"05:31:00\", \"05:32:00\", \"05:35:00\", \"05:38:00\", \"05:50:00\", \"05:57:00\", \"06:39:00\", \"07:51:00\", \"08:46:00\", \"09:16:00\", \"09:18:00\", \"09:19:00\", \"09:22:00\", \"09:24:00\", \"09:25:00\", \"09:28:00\", \"09:29:00\", \"12:09:00\", \"12:48:00\", \"12:58:00\", \"13:19:00\", \"13:54:00\", \"14:13:00\", \"14:26:00\", \"15:52:00\", \"15:53:00\", \"16:00:00\", \"16:02:00\", \"16:36:00\", \"16:47:00\", \"17:25:00\", \"17:52:00\", \"18:42:00\", \"18:44:00\", \"18:46:00\", \"18:59:00\", \"19:20:00\", \"19:54:00\", \"20:33:00\", \"21:21:00\", \"22:30:00\", \"22:56:00\", \"22:58:00\", \"23:10:00\", \"23:21:00\", \"23:24:00\", \"23:29:00\", \"23:32:00\", \"23:40:00\", \"23:50:00\", \"23:59:00\"], \"y\": [1, 1, 1, 1, 1, 1, 1, 1, 1, 2, 1, 2, 1, 1, 1, 1, 1, 1, 1, 1, 1, 1, 2, 1, 1, 1, 2, 1, 2, 1, 4, 3, 1, 3, 3, 1, 3, 1, 1, 1, 1, 2, 1, 1, 1, 3, 1, 1, 1, 1, 2, 1, 3, 1, 2, 1, 1, 1, 1, 2, 2, 2, 2, 1, 2, 1, 1, 1, 1, 1, 1, 1, 1, 1, 1, 1, 1, 1, 1, 1, 1, 1, 1, 1, 1, 1, 1, 1, 1, 1, 1, 1, 1, 1, 1, 1, 1, 1, 1, 1, 1, 2, 2, 1, 1, 1, 1, 1, 1, 1, 1, 1, 1, 1, 1, 1, 1, 1, 1, 1]}],                        {\"template\": {\"data\": {\"bar\": [{\"error_x\": {\"color\": \"#2a3f5f\"}, \"error_y\": {\"color\": \"#2a3f5f\"}, \"marker\": {\"line\": {\"color\": \"#E5ECF6\", \"width\": 0.5}}, \"type\": \"bar\"}], \"barpolar\": [{\"marker\": {\"line\": {\"color\": \"#E5ECF6\", \"width\": 0.5}}, \"type\": \"barpolar\"}], \"carpet\": [{\"aaxis\": {\"endlinecolor\": \"#2a3f5f\", \"gridcolor\": \"white\", \"linecolor\": \"white\", \"minorgridcolor\": \"white\", \"startlinecolor\": \"#2a3f5f\"}, \"baxis\": {\"endlinecolor\": \"#2a3f5f\", \"gridcolor\": \"white\", \"linecolor\": \"white\", \"minorgridcolor\": \"white\", \"startlinecolor\": \"#2a3f5f\"}, \"type\": \"carpet\"}], \"choropleth\": [{\"colorbar\": {\"outlinewidth\": 0, \"ticks\": \"\"}, \"type\": \"choropleth\"}], \"contour\": [{\"colorbar\": {\"outlinewidth\": 0, \"ticks\": \"\"}, \"colorscale\": [[0.0, \"#0d0887\"], [0.1111111111111111, \"#46039f\"], [0.2222222222222222, \"#7201a8\"], [0.3333333333333333, \"#9c179e\"], [0.4444444444444444, \"#bd3786\"], [0.5555555555555556, \"#d8576b\"], [0.6666666666666666, \"#ed7953\"], [0.7777777777777778, \"#fb9f3a\"], [0.8888888888888888, \"#fdca26\"], [1.0, \"#f0f921\"]], \"type\": \"contour\"}], \"contourcarpet\": [{\"colorbar\": {\"outlinewidth\": 0, \"ticks\": \"\"}, \"type\": \"contourcarpet\"}], \"heatmap\": [{\"colorbar\": {\"outlinewidth\": 0, \"ticks\": \"\"}, \"colorscale\": [[0.0, \"#0d0887\"], [0.1111111111111111, \"#46039f\"], [0.2222222222222222, \"#7201a8\"], [0.3333333333333333, \"#9c179e\"], [0.4444444444444444, \"#bd3786\"], [0.5555555555555556, \"#d8576b\"], [0.6666666666666666, \"#ed7953\"], [0.7777777777777778, \"#fb9f3a\"], [0.8888888888888888, \"#fdca26\"], [1.0, \"#f0f921\"]], \"type\": \"heatmap\"}], \"heatmapgl\": [{\"colorbar\": {\"outlinewidth\": 0, \"ticks\": \"\"}, \"colorscale\": [[0.0, \"#0d0887\"], [0.1111111111111111, \"#46039f\"], [0.2222222222222222, \"#7201a8\"], [0.3333333333333333, \"#9c179e\"], [0.4444444444444444, \"#bd3786\"], [0.5555555555555556, \"#d8576b\"], [0.6666666666666666, \"#ed7953\"], [0.7777777777777778, \"#fb9f3a\"], [0.8888888888888888, \"#fdca26\"], [1.0, \"#f0f921\"]], \"type\": \"heatmapgl\"}], \"histogram\": [{\"marker\": {\"colorbar\": {\"outlinewidth\": 0, \"ticks\": \"\"}}, \"type\": \"histogram\"}], \"histogram2d\": [{\"colorbar\": {\"outlinewidth\": 0, \"ticks\": \"\"}, \"colorscale\": [[0.0, \"#0d0887\"], [0.1111111111111111, \"#46039f\"], [0.2222222222222222, \"#7201a8\"], [0.3333333333333333, \"#9c179e\"], [0.4444444444444444, \"#bd3786\"], [0.5555555555555556, \"#d8576b\"], [0.6666666666666666, \"#ed7953\"], [0.7777777777777778, \"#fb9f3a\"], [0.8888888888888888, \"#fdca26\"], [1.0, \"#f0f921\"]], \"type\": \"histogram2d\"}], \"histogram2dcontour\": [{\"colorbar\": {\"outlinewidth\": 0, \"ticks\": \"\"}, \"colorscale\": [[0.0, \"#0d0887\"], [0.1111111111111111, \"#46039f\"], [0.2222222222222222, \"#7201a8\"], [0.3333333333333333, \"#9c179e\"], [0.4444444444444444, \"#bd3786\"], [0.5555555555555556, \"#d8576b\"], [0.6666666666666666, \"#ed7953\"], [0.7777777777777778, \"#fb9f3a\"], [0.8888888888888888, \"#fdca26\"], [1.0, \"#f0f921\"]], \"type\": \"histogram2dcontour\"}], \"mesh3d\": [{\"colorbar\": {\"outlinewidth\": 0, \"ticks\": \"\"}, \"type\": \"mesh3d\"}], \"parcoords\": [{\"line\": {\"colorbar\": {\"outlinewidth\": 0, \"ticks\": \"\"}}, \"type\": \"parcoords\"}], \"pie\": [{\"automargin\": true, \"type\": \"pie\"}], \"scatter\": [{\"marker\": {\"colorbar\": {\"outlinewidth\": 0, \"ticks\": \"\"}}, \"type\": \"scatter\"}], \"scatter3d\": [{\"line\": {\"colorbar\": {\"outlinewidth\": 0, \"ticks\": \"\"}}, \"marker\": {\"colorbar\": {\"outlinewidth\": 0, \"ticks\": \"\"}}, \"type\": \"scatter3d\"}], \"scattercarpet\": [{\"marker\": {\"colorbar\": {\"outlinewidth\": 0, \"ticks\": \"\"}}, \"type\": \"scattercarpet\"}], \"scattergeo\": [{\"marker\": {\"colorbar\": {\"outlinewidth\": 0, \"ticks\": \"\"}}, \"type\": \"scattergeo\"}], \"scattergl\": [{\"marker\": {\"colorbar\": {\"outlinewidth\": 0, \"ticks\": \"\"}}, \"type\": \"scattergl\"}], \"scattermapbox\": [{\"marker\": {\"colorbar\": {\"outlinewidth\": 0, \"ticks\": \"\"}}, \"type\": \"scattermapbox\"}], \"scatterpolar\": [{\"marker\": {\"colorbar\": {\"outlinewidth\": 0, \"ticks\": \"\"}}, \"type\": \"scatterpolar\"}], \"scatterpolargl\": [{\"marker\": {\"colorbar\": {\"outlinewidth\": 0, \"ticks\": \"\"}}, \"type\": \"scatterpolargl\"}], \"scatterternary\": [{\"marker\": {\"colorbar\": {\"outlinewidth\": 0, \"ticks\": \"\"}}, \"type\": \"scatterternary\"}], \"surface\": [{\"colorbar\": {\"outlinewidth\": 0, \"ticks\": \"\"}, \"colorscale\": [[0.0, \"#0d0887\"], [0.1111111111111111, \"#46039f\"], [0.2222222222222222, \"#7201a8\"], [0.3333333333333333, \"#9c179e\"], [0.4444444444444444, \"#bd3786\"], [0.5555555555555556, \"#d8576b\"], [0.6666666666666666, \"#ed7953\"], [0.7777777777777778, \"#fb9f3a\"], [0.8888888888888888, \"#fdca26\"], [1.0, \"#f0f921\"]], \"type\": \"surface\"}], \"table\": [{\"cells\": {\"fill\": {\"color\": \"#EBF0F8\"}, \"line\": {\"color\": \"white\"}}, \"header\": {\"fill\": {\"color\": \"#C8D4E3\"}, \"line\": {\"color\": \"white\"}}, \"type\": \"table\"}]}, \"layout\": {\"annotationdefaults\": {\"arrowcolor\": \"#2a3f5f\", \"arrowhead\": 0, \"arrowwidth\": 1}, \"autotypenumbers\": \"strict\", \"coloraxis\": {\"colorbar\": {\"outlinewidth\": 0, \"ticks\": \"\"}}, \"colorscale\": {\"diverging\": [[0, \"#8e0152\"], [0.1, \"#c51b7d\"], [0.2, \"#de77ae\"], [0.3, \"#f1b6da\"], [0.4, \"#fde0ef\"], [0.5, \"#f7f7f7\"], [0.6, \"#e6f5d0\"], [0.7, \"#b8e186\"], [0.8, \"#7fbc41\"], [0.9, \"#4d9221\"], [1, \"#276419\"]], \"sequential\": [[0.0, \"#0d0887\"], [0.1111111111111111, \"#46039f\"], [0.2222222222222222, \"#7201a8\"], [0.3333333333333333, \"#9c179e\"], [0.4444444444444444, \"#bd3786\"], [0.5555555555555556, \"#d8576b\"], [0.6666666666666666, \"#ed7953\"], [0.7777777777777778, \"#fb9f3a\"], [0.8888888888888888, \"#fdca26\"], [1.0, \"#f0f921\"]], \"sequentialminus\": [[0.0, \"#0d0887\"], [0.1111111111111111, \"#46039f\"], [0.2222222222222222, \"#7201a8\"], [0.3333333333333333, \"#9c179e\"], [0.4444444444444444, \"#bd3786\"], [0.5555555555555556, \"#d8576b\"], [0.6666666666666666, \"#ed7953\"], [0.7777777777777778, \"#fb9f3a\"], [0.8888888888888888, \"#fdca26\"], [1.0, \"#f0f921\"]]}, \"colorway\": [\"#636efa\", \"#EF553B\", \"#00cc96\", \"#ab63fa\", \"#FFA15A\", \"#19d3f3\", \"#FF6692\", \"#B6E880\", \"#FF97FF\", \"#FECB52\"], \"font\": {\"color\": \"#2a3f5f\"}, \"geo\": {\"bgcolor\": \"white\", \"lakecolor\": \"white\", \"landcolor\": \"#E5ECF6\", \"showlakes\": true, \"showland\": true, \"subunitcolor\": \"white\"}, \"hoverlabel\": {\"align\": \"left\"}, \"hovermode\": \"closest\", \"mapbox\": {\"style\": \"light\"}, \"paper_bgcolor\": \"white\", \"plot_bgcolor\": \"#E5ECF6\", \"polar\": {\"angularaxis\": {\"gridcolor\": \"white\", \"linecolor\": \"white\", \"ticks\": \"\"}, \"bgcolor\": \"#E5ECF6\", \"radialaxis\": {\"gridcolor\": \"white\", \"linecolor\": \"white\", \"ticks\": \"\"}}, \"scene\": {\"xaxis\": {\"backgroundcolor\": \"#E5ECF6\", \"gridcolor\": \"white\", \"gridwidth\": 2, \"linecolor\": \"white\", \"showbackground\": true, \"ticks\": \"\", \"zerolinecolor\": \"white\"}, \"yaxis\": {\"backgroundcolor\": \"#E5ECF6\", \"gridcolor\": \"white\", \"gridwidth\": 2, \"linecolor\": \"white\", \"showbackground\": true, \"ticks\": \"\", \"zerolinecolor\": \"white\"}, \"zaxis\": {\"backgroundcolor\": \"#E5ECF6\", \"gridcolor\": \"white\", \"gridwidth\": 2, \"linecolor\": \"white\", \"showbackground\": true, \"ticks\": \"\", \"zerolinecolor\": \"white\"}}, \"shapedefaults\": {\"line\": {\"color\": \"#2a3f5f\"}}, \"ternary\": {\"aaxis\": {\"gridcolor\": \"white\", \"linecolor\": \"white\", \"ticks\": \"\"}, \"baxis\": {\"gridcolor\": \"white\", \"linecolor\": \"white\", \"ticks\": \"\"}, \"bgcolor\": \"#E5ECF6\", \"caxis\": {\"gridcolor\": \"white\", \"linecolor\": \"white\", \"ticks\": \"\"}}, \"title\": {\"x\": 0.05}, \"xaxis\": {\"automargin\": true, \"gridcolor\": \"white\", \"linecolor\": \"white\", \"ticks\": \"\", \"title\": {\"standoff\": 15}, \"zerolinecolor\": \"white\", \"zerolinewidth\": 2}, \"yaxis\": {\"automargin\": true, \"gridcolor\": \"white\", \"linecolor\": \"white\", \"ticks\": \"\", \"title\": {\"standoff\": 15}, \"zerolinecolor\": \"white\", \"zerolinewidth\": 2}}}, \"title\": {\"text\": \"N\\u00famero de tuits por hora\"}},                        {\"responsive\": true}                    ).then(function(){\n",
       "                            \n",
       "var gd = document.getElementById('75058698-eefe-4b7c-9734-88351476345f');\n",
       "var x = new MutationObserver(function (mutations, observer) {{\n",
       "        var display = window.getComputedStyle(gd).display;\n",
       "        if (!display || display === 'none') {{\n",
       "            console.log([gd, 'removed!']);\n",
       "            Plotly.purge(gd);\n",
       "            observer.disconnect();\n",
       "        }}\n",
       "}});\n",
       "\n",
       "// Listen for the removal of the full notebook cells\n",
       "var notebookContainer = gd.closest('#notebook-container');\n",
       "if (notebookContainer) {{\n",
       "    x.observe(notebookContainer, {childList: true});\n",
       "}}\n",
       "\n",
       "// Listen for the clearing of the current output cell\n",
       "var outputEl = gd.closest('.output');\n",
       "if (outputEl) {{\n",
       "    x.observe(outputEl, {childList: true});\n",
       "}}\n",
       "\n",
       "                        })                };                });            </script>        </div>"
      ]
     },
     "metadata": {},
     "output_type": "display_data"
    }
   ],
   "source": [
    "trace = go.Scatter(x=temp.hora.values,\n",
    "                   y=temp.cnt.values,\n",
    "                   text=[f\"Fecha: {f}<br>Tuits: {c}\" for f,c in zip(temp.hora.values,temp.cnt.values)],\n",
    "                   hoverinfo='text',\n",
    "                   mode='lines+markers',\n",
    "                   name='Horas',\n",
    "                   line={'color': 'blue'})\n",
    "\n",
    "layout = go.Layout(title=\"Número de tuits por hora\")\n",
    "\n",
    "fig = go.Figure(data=[trace], layout=layout)\n",
    "iplot(fig)"
   ]
  },
  {
   "cell_type": "code",
   "execution_count": null,
   "metadata": {},
   "outputs": [],
   "source": []
  }
 ],
 "metadata": {
  "kernelspec": {
   "display_name": "Python 3",
   "language": "python",
   "name": "python3"
  },
  "language_info": {
   "codemirror_mode": {
    "name": "ipython",
    "version": 3
   },
   "file_extension": ".py",
   "mimetype": "text/x-python",
   "name": "python",
   "nbconvert_exporter": "python",
   "pygments_lexer": "ipython3",
   "version": "3.8.5"
  }
 },
 "nbformat": 4,
 "nbformat_minor": 4
}
