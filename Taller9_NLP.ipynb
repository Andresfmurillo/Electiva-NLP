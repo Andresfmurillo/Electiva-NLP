{
  "nbformat": 4,
  "nbformat_minor": 0,
  "metadata": {
    "kernelspec": {
      "display_name": "Python 3",
      "language": "python",
      "name": "python3"
    },
    "language_info": {
      "codemirror_mode": {
        "name": "ipython",
        "version": 3
      },
      "file_extension": ".py",
      "mimetype": "text/x-python",
      "name": "python",
      "nbconvert_exporter": "python",
      "pygments_lexer": "ipython3",
      "version": "3.8.5"
    },
    "colab": {
      "name": "Taller9 - NLP.ipynb",
      "provenance": []
    }
  },
  "cells": [
    {
      "cell_type": "markdown",
      "metadata": {
        "id": "rqvR320GukN9"
      },
      "source": [
        "## Taller No.9 \n",
        "\n",
        "Modelo de LDA\n",
        "\n",
        "Andrés Felipe Murillo"
      ]
    },
    {
      "cell_type": "code",
      "metadata": {
        "id": "shZNyUGfukN_"
      },
      "source": [
        "import pandas as pd"
      ],
      "execution_count": null,
      "outputs": []
    },
    {
      "cell_type": "code",
      "metadata": {
        "id": "kT0_vblCukOA",
        "outputId": "ccae00ed-6814-4fb7-e701-4d9b121031bb"
      },
      "source": [
        "data = pd.read_csv(\"C:/Users/AndresFelipe/Documents/Talleres NLP/reviews_vidjew_es.csv\")\n",
        "\n",
        "data.head()"
      ],
      "execution_count": null,
      "outputs": [
        {
          "output_type": "execute_result",
          "data": {
            "text/html": [
              "<div>\n",
              "<style scoped>\n",
              "    .dataframe tbody tr th:only-of-type {\n",
              "        vertical-align: middle;\n",
              "    }\n",
              "\n",
              "    .dataframe tbody tr th {\n",
              "        vertical-align: top;\n",
              "    }\n",
              "\n",
              "    .dataframe thead th {\n",
              "        text-align: right;\n",
              "    }\n",
              "</style>\n",
              "<table border=\"1\" class=\"dataframe\">\n",
              "  <thead>\n",
              "    <tr style=\"text-align: right;\">\n",
              "      <th></th>\n",
              "      <th>review_id</th>\n",
              "      <th>product_id</th>\n",
              "      <th>reviewer_id</th>\n",
              "      <th>stars</th>\n",
              "      <th>review_body</th>\n",
              "      <th>review_title</th>\n",
              "      <th>language</th>\n",
              "      <th>product_category</th>\n",
              "    </tr>\n",
              "  </thead>\n",
              "  <tbody>\n",
              "    <tr>\n",
              "      <th>0</th>\n",
              "      <td>es_0825565</td>\n",
              "      <td>product_es_0370490</td>\n",
              "      <td>reviewer_es_0174781</td>\n",
              "      <td>3</td>\n",
              "      <td>Buen. Buena calidad, y buena presentación.</td>\n",
              "      <td>Contenta</td>\n",
              "      <td>es</td>\n",
              "      <td>jewelry</td>\n",
              "    </tr>\n",
              "    <tr>\n",
              "      <th>1</th>\n",
              "      <td>es_0227934</td>\n",
              "      <td>product_es_0354224</td>\n",
              "      <td>reviewer_es_0411613</td>\n",
              "      <td>3</td>\n",
              "      <td>Un producto a perfecto, para salir de casa con...</td>\n",
              "      <td>Versatilidad</td>\n",
              "      <td>es</td>\n",
              "      <td>video_games</td>\n",
              "    </tr>\n",
              "    <tr>\n",
              "      <th>2</th>\n",
              "      <td>es_0468601</td>\n",
              "      <td>product_es_0665460</td>\n",
              "      <td>reviewer_es_0348315</td>\n",
              "      <td>1</td>\n",
              "      <td>No funciona con Nintendo Switch. No hay forma ...</td>\n",
              "      <td>Decepción absoluta</td>\n",
              "      <td>es</td>\n",
              "      <td>video_games</td>\n",
              "    </tr>\n",
              "    <tr>\n",
              "      <th>3</th>\n",
              "      <td>es_0814494</td>\n",
              "      <td>product_es_0692692</td>\n",
              "      <td>reviewer_es_0951508</td>\n",
              "      <td>5</td>\n",
              "      <td>Recomendado, los utilizo para pc y no me dan n...</td>\n",
              "      <td>Auriculares Pecham ps4</td>\n",
              "      <td>es</td>\n",
              "      <td>video_games</td>\n",
              "    </tr>\n",
              "    <tr>\n",
              "      <th>4</th>\n",
              "      <td>es_0206329</td>\n",
              "      <td>product_es_0728826</td>\n",
              "      <td>reviewer_es_0493255</td>\n",
              "      <td>4</td>\n",
              "      <td>El cable funciona bien podria ser un poco mas ...</td>\n",
              "      <td>Perfecto</td>\n",
              "      <td>es</td>\n",
              "      <td>video_games</td>\n",
              "    </tr>\n",
              "  </tbody>\n",
              "</table>\n",
              "</div>"
            ],
            "text/plain": [
              "    review_id          product_id          reviewer_id  stars  \\\n",
              "0  es_0825565  product_es_0370490  reviewer_es_0174781      3   \n",
              "1  es_0227934  product_es_0354224  reviewer_es_0411613      3   \n",
              "2  es_0468601  product_es_0665460  reviewer_es_0348315      1   \n",
              "3  es_0814494  product_es_0692692  reviewer_es_0951508      5   \n",
              "4  es_0206329  product_es_0728826  reviewer_es_0493255      4   \n",
              "\n",
              "                                         review_body            review_title  \\\n",
              "0         Buen. Buena calidad, y buena presentación.                Contenta   \n",
              "1  Un producto a perfecto, para salir de casa con...            Versatilidad   \n",
              "2  No funciona con Nintendo Switch. No hay forma ...      Decepción absoluta   \n",
              "3  Recomendado, los utilizo para pc y no me dan n...  Auriculares Pecham ps4   \n",
              "4  El cable funciona bien podria ser un poco mas ...                Perfecto   \n",
              "\n",
              "  language product_category  \n",
              "0       es          jewelry  \n",
              "1       es      video_games  \n",
              "2       es      video_games  \n",
              "3       es      video_games  \n",
              "4       es      video_games  "
            ]
          },
          "metadata": {
            "tags": []
          },
          "execution_count": 2
        }
      ]
    },
    {
      "cell_type": "code",
      "metadata": {
        "id": "UKLwQzyCukOB"
      },
      "source": [
        "import re\n",
        "from nltk.corpus import stopwords\n",
        "stopwords_sp = stopwords.words('spanish')"
      ],
      "execution_count": null,
      "outputs": []
    },
    {
      "cell_type": "code",
      "metadata": {
        "id": "WN53fVTZukOB"
      },
      "source": [
        "def pre_procesado(texto):\n",
        "    texto = texto.lower()\n",
        "    texto = re.sub(r\"[\\W\\d]+\", \" \", texto)\n",
        "    texto = [palabra for palabra in texto.split() if palabra not in stopwords_sp]\n",
        "    return texto"
      ],
      "execution_count": null,
      "outputs": []
    },
    {
      "cell_type": "code",
      "metadata": {
        "id": "NGCrsR_CukOB",
        "outputId": "fd999e46-b81b-471e-f28c-c7d430a96de2"
      },
      "source": [
        "data['Pre-procesado'] = data['review_body'].apply(lambda texto: pre_procesado(texto))\n",
        "data.head(5)"
      ],
      "execution_count": null,
      "outputs": [
        {
          "output_type": "execute_result",
          "data": {
            "text/html": [
              "<div>\n",
              "<style scoped>\n",
              "    .dataframe tbody tr th:only-of-type {\n",
              "        vertical-align: middle;\n",
              "    }\n",
              "\n",
              "    .dataframe tbody tr th {\n",
              "        vertical-align: top;\n",
              "    }\n",
              "\n",
              "    .dataframe thead th {\n",
              "        text-align: right;\n",
              "    }\n",
              "</style>\n",
              "<table border=\"1\" class=\"dataframe\">\n",
              "  <thead>\n",
              "    <tr style=\"text-align: right;\">\n",
              "      <th></th>\n",
              "      <th>review_id</th>\n",
              "      <th>product_id</th>\n",
              "      <th>reviewer_id</th>\n",
              "      <th>stars</th>\n",
              "      <th>review_body</th>\n",
              "      <th>review_title</th>\n",
              "      <th>language</th>\n",
              "      <th>product_category</th>\n",
              "      <th>Pre-procesado</th>\n",
              "    </tr>\n",
              "  </thead>\n",
              "  <tbody>\n",
              "    <tr>\n",
              "      <th>0</th>\n",
              "      <td>es_0825565</td>\n",
              "      <td>product_es_0370490</td>\n",
              "      <td>reviewer_es_0174781</td>\n",
              "      <td>3</td>\n",
              "      <td>Buen. Buena calidad, y buena presentación.</td>\n",
              "      <td>Contenta</td>\n",
              "      <td>es</td>\n",
              "      <td>jewelry</td>\n",
              "      <td>[buen, buena, calidad, buena, presentación]</td>\n",
              "    </tr>\n",
              "    <tr>\n",
              "      <th>1</th>\n",
              "      <td>es_0227934</td>\n",
              "      <td>product_es_0354224</td>\n",
              "      <td>reviewer_es_0411613</td>\n",
              "      <td>3</td>\n",
              "      <td>Un producto a perfecto, para salir de casa con...</td>\n",
              "      <td>Versatilidad</td>\n",
              "      <td>es</td>\n",
              "      <td>video_games</td>\n",
              "      <td>[producto, perfecto, salir, casa, nintendo, sw...</td>\n",
              "    </tr>\n",
              "    <tr>\n",
              "      <th>2</th>\n",
              "      <td>es_0468601</td>\n",
              "      <td>product_es_0665460</td>\n",
              "      <td>reviewer_es_0348315</td>\n",
              "      <td>1</td>\n",
              "      <td>No funciona con Nintendo Switch. No hay forma ...</td>\n",
              "      <td>Decepción absoluta</td>\n",
              "      <td>es</td>\n",
              "      <td>video_games</td>\n",
              "      <td>[funciona, nintendo, switch, forma, emparejarl...</td>\n",
              "    </tr>\n",
              "    <tr>\n",
              "      <th>3</th>\n",
              "      <td>es_0814494</td>\n",
              "      <td>product_es_0692692</td>\n",
              "      <td>reviewer_es_0951508</td>\n",
              "      <td>5</td>\n",
              "      <td>Recomendado, los utilizo para pc y no me dan n...</td>\n",
              "      <td>Auriculares Pecham ps4</td>\n",
              "      <td>es</td>\n",
              "      <td>video_games</td>\n",
              "      <td>[recomendado, utilizo, pc, dan, ningún, proble...</td>\n",
              "    </tr>\n",
              "    <tr>\n",
              "      <th>4</th>\n",
              "      <td>es_0206329</td>\n",
              "      <td>product_es_0728826</td>\n",
              "      <td>reviewer_es_0493255</td>\n",
              "      <td>4</td>\n",
              "      <td>El cable funciona bien podria ser un poco mas ...</td>\n",
              "      <td>Perfecto</td>\n",
              "      <td>es</td>\n",
              "      <td>video_games</td>\n",
              "      <td>[cable, funciona, bien, podria, ser, mas, larg...</td>\n",
              "    </tr>\n",
              "  </tbody>\n",
              "</table>\n",
              "</div>"
            ],
            "text/plain": [
              "    review_id          product_id          reviewer_id  stars  \\\n",
              "0  es_0825565  product_es_0370490  reviewer_es_0174781      3   \n",
              "1  es_0227934  product_es_0354224  reviewer_es_0411613      3   \n",
              "2  es_0468601  product_es_0665460  reviewer_es_0348315      1   \n",
              "3  es_0814494  product_es_0692692  reviewer_es_0951508      5   \n",
              "4  es_0206329  product_es_0728826  reviewer_es_0493255      4   \n",
              "\n",
              "                                         review_body            review_title  \\\n",
              "0         Buen. Buena calidad, y buena presentación.                Contenta   \n",
              "1  Un producto a perfecto, para salir de casa con...            Versatilidad   \n",
              "2  No funciona con Nintendo Switch. No hay forma ...      Decepción absoluta   \n",
              "3  Recomendado, los utilizo para pc y no me dan n...  Auriculares Pecham ps4   \n",
              "4  El cable funciona bien podria ser un poco mas ...                Perfecto   \n",
              "\n",
              "  language product_category                                      Pre-procesado  \n",
              "0       es          jewelry        [buen, buena, calidad, buena, presentación]  \n",
              "1       es      video_games  [producto, perfecto, salir, casa, nintendo, sw...  \n",
              "2       es      video_games  [funciona, nintendo, switch, forma, emparejarl...  \n",
              "3       es      video_games  [recomendado, utilizo, pc, dan, ningún, proble...  \n",
              "4       es      video_games  [cable, funciona, bien, podria, ser, mas, larg...  "
            ]
          },
          "metadata": {
            "tags": []
          },
          "execution_count": 5
        }
      ]
    },
    {
      "cell_type": "code",
      "metadata": {
        "id": "8J0PO9btukOC",
        "outputId": "6b545c36-d211-4fcc-b13c-78c419f65d03"
      },
      "source": [
        "import pyLDAvis.gensim_models\n",
        "from gensim.models import LdaModel\n",
        "from gensim.corpora import Dictionary\n",
        "from pprint import pprint"
      ],
      "execution_count": null,
      "outputs": [
        {
          "output_type": "stream",
          "text": [
            "C:\\Users\\AndresFelipe\\anaconda3\\lib\\site-packages\\scipy\\sparse\\sparsetools.py:21: DeprecationWarning: `scipy.sparse.sparsetools` is deprecated!\n",
            "scipy.sparse.sparsetools is a private module for scipy.sparse, and should not be used.\n",
            "  _deprecated()\n",
            "C:\\Users\\AndresFelipe\\anaconda3\\lib\\site-packages\\gensim\\similarities\\__init__.py:15: UserWarning: The gensim.similarities.levenshtein submodule is disabled, because the optional Levenshtein package <https://pypi.org/project/python-Levenshtein/> is unavailable. Install Levenhstein (e.g. `pip install python-Levenshtein`) to suppress this warning.\n",
            "  warnings.warn(msg)\n"
          ],
          "name": "stderr"
        }
      ]
    },
    {
      "cell_type": "code",
      "metadata": {
        "id": "tnjumYLjukOD",
        "outputId": "c1e00bfb-c4a2-454e-d17d-dc77e5df8bfb"
      },
      "source": [
        "# Crear la representacion del review_body en forma de diccionario\n",
        "diccionario = Dictionary(data['Pre-procesado'].values)\n",
        "\n",
        "# flitrar palabras frecuentes o poco frecuentes\n",
        "diccionario.filter_extremes(no_below = 5, no_above = 0.5)\n",
        "\n",
        "#corpus\n",
        "corpus = [diccionario.doc2bow(text) for text in data[\"Pre-procesado\"].values]\n",
        "\n",
        "#Entrenar el modelo\n",
        "modelo = LdaModel(corpus = corpus, id2word = diccionario, num_topics = 7, passes = 10)"
      ],
      "execution_count": null,
      "outputs": [
        {
          "output_type": "stream",
          "text": [
            "C:\\Users\\AndresFelipe\\anaconda3\\lib\\site-packages\\ipykernel\\ipkernel.py:287: DeprecationWarning: `should_run_async` will not call `transform_cell` automatically in the future. Please pass the result to `transformed_cell` argument and any exception that happen during thetransform in `preprocessing_exc_tuple` in IPython 7.17 and above.\n",
            "  and should_run_async(code)\n"
          ],
          "name": "stderr"
        }
      ]
    },
    {
      "cell_type": "code",
      "metadata": {
        "id": "d8TVAUCpukOD"
      },
      "source": [
        ""
      ],
      "execution_count": null,
      "outputs": []
    },
    {
      "cell_type": "code",
      "metadata": {
        "id": "0o6-AlcXukOE",
        "outputId": "27bdac8f-ef2c-493d-dfaa-fa86048d35d7"
      },
      "source": [
        "# Resultados\n",
        "modelo.print_topics(num_words=15)"
      ],
      "execution_count": null,
      "outputs": [
        {
          "output_type": "stream",
          "text": [
            "C:\\Users\\AndresFelipe\\anaconda3\\lib\\site-packages\\ipykernel\\ipkernel.py:287: DeprecationWarning: `should_run_async` will not call `transform_cell` automatically in the future. Please pass the result to `transformed_cell` argument and any exception that happen during thetransform in `preprocessing_exc_tuple` in IPython 7.17 and above.\n",
            "  and should_run_async(code)\n"
          ],
          "name": "stderr"
        },
        {
          "output_type": "execute_result",
          "data": {
            "text/plain": [
              "[(0,\n",
              "  '0.035*\"plata\" + 0.025*\"bien\" + 0.022*\"pendientes\" + 0.021*\"producto\" + 0.017*\"bonito\" + 0.017*\"bonitos\" + 0.016*\"buen\" + 0.015*\"regalo\" + 0.014*\"tamaño\" + 0.014*\"vendedor\" + 0.013*\"llego\" + 0.013*\"comprar\" + 0.013*\"plástico\" + 0.013*\"vez\" + 0.012*\"grande\"'),\n",
              " (1,\n",
              "  '0.028*\"esperaba\" + 0.023*\"foto\" + 0.020*\"funciona\" + 0.019*\"perfecto\" + 0.018*\"switch\" + 0.016*\"llegó\" + 0.016*\"juego\" + 0.016*\"pulsera\" + 0.016*\"parece\" + 0.015*\"verdad\" + 0.014*\"bien\" + 0.013*\"bueno\" + 0.013*\"mando\" + 0.012*\"mal\" + 0.012*\"poner\"'),\n",
              " (2,\n",
              "  '0.036*\"calidad\" + 0.027*\"bastante\" + 0.021*\"bien\" + 0.019*\"si\" + 0.016*\"aunque\" + 0.015*\"mas\" + 0.013*\"mala\" + 0.013*\"juego\" + 0.012*\"precio\" + 0.012*\"cierre\" + 0.011*\"viene\" + 0.011*\"bonitos\" + 0.011*\"versión\" + 0.011*\"grandes\" + 0.010*\"pone\"'),\n",
              " (3,\n",
              "  '0.027*\"día\" + 0.027*\"precio\" + 0.022*\"calidad\" + 0.022*\"regalo\" + 0.021*\"bonito\" + 0.020*\"producto\" + 0.017*\"queda\" + 0.015*\"perfecto\" + 0.014*\"bien\" + 0.013*\"cadena\" + 0.012*\"tiempo\" + 0.011*\"llego\" + 0.011*\"ser\" + 0.011*\"color\" + 0.011*\"después\"'),\n",
              " (4,\n",
              "  '0.044*\"llegado\" + 0.019*\"producto\" + 0.018*\"mas\" + 0.016*\"gustado\" + 0.016*\"ps\" + 0.016*\"pedido\" + 0.015*\"juego\" + 0.014*\"trae\" + 0.014*\"todavía\" + 0.013*\"recibido\" + 0.013*\"consola\" + 0.011*\"calidad\" + 0.011*\"pequeño\" + 0.011*\"así\" + 0.011*\"compre\"'),\n",
              " (5,\n",
              "  '0.066*\"bien\" + 0.043*\"juego\" + 0.038*\"si\" + 0.018*\"caja\" + 0.015*\"producto\" + 0.013*\"jugar\" + 0.013*\"puede\" + 0.012*\"quedan\" + 0.011*\"dos\" + 0.010*\"precio\" + 0.010*\"solo\" + 0.009*\"original\" + 0.009*\"vale\" + 0.009*\"funda\" + 0.009*\"así\"'),\n",
              " (6,\n",
              "  '0.042*\"calidad\" + 0.038*\"buena\" + 0.029*\"mando\" + 0.027*\"precio\" + 0.026*\"buen\" + 0.024*\"si\" + 0.019*\"juego\" + 0.018*\"bien\" + 0.014*\"producto\" + 0.014*\"original\" + 0.013*\"cumple\" + 0.011*\"tiempo\" + 0.011*\"compra\" + 0.011*\"sonido\" + 0.011*\"cable\"')]"
            ]
          },
          "metadata": {
            "tags": []
          },
          "execution_count": 9
        }
      ]
    },
    {
      "cell_type": "code",
      "metadata": {
        "id": "QubNHjVzukOE"
      },
      "source": [
        ""
      ],
      "execution_count": null,
      "outputs": []
    },
    {
      "cell_type": "code",
      "metadata": {
        "id": "IzoT-y15ukOF",
        "outputId": "5df24577-e5a5-4615-ac0f-37418a4503a3"
      },
      "source": [
        "lda_display = pyLDAvis.gensim_models.prepare(modelo, corpus, diccionario, sort_topics = True)\n",
        "pyLDAvis.display(lda_display)"
      ],
      "execution_count": null,
      "outputs": [
        {
          "output_type": "stream",
          "text": [
            "C:\\Users\\AndresFelipe\\anaconda3\\lib\\site-packages\\ipykernel\\ipkernel.py:287: DeprecationWarning: `should_run_async` will not call `transform_cell` automatically in the future. Please pass the result to `transformed_cell` argument and any exception that happen during thetransform in `preprocessing_exc_tuple` in IPython 7.17 and above.\n",
            "  and should_run_async(code)\n"
          ],
          "name": "stderr"
        },
        {
          "output_type": "execute_result",
          "data": {
            "text/html": [
              "\n",
              "<link rel=\"stylesheet\" type=\"text/css\" href=\"https://cdn.jsdelivr.net/gh/bmabey/pyLDAvis@3.3.1/pyLDAvis/js/ldavis.v1.0.0.css\">\n",
              "\n",
              "\n",
              "<div id=\"ldavis_el57926736143124963199174707\"></div>\n",
              "<script type=\"text/javascript\">\n",
              "\n",
              "var ldavis_el57926736143124963199174707_data = {\"mdsDat\": {\"x\": [-0.08176580380171448, 0.09163964383515362, 0.07568380570255676, 0.07113143842855944, -0.17283550603672843, 0.020882751591160303, -0.004736329718987301], \"y\": [-0.008694070323011713, -0.03461387390886176, 0.015696312884281912, 0.0742942596122057, 0.0391918577368014, 0.09194419723735571, -0.17781868323877126], \"topics\": [1, 2, 3, 4, 5, 6, 7], \"cluster\": [1, 1, 1, 1, 1, 1, 1], \"Freq\": [19.833795546236114, 15.235103934047892, 15.126162292148054, 14.987171255490425, 12.457178678266182, 11.465720027141774, 10.894868266669556]}, \"tinfo\": {\"Term\": [\"llegado\", \"plata\", \"buena\", \"mando\", \"d\\u00eda\", \"calidad\", \"juego\", \"esperaba\", \"buen\", \"si\", \"bien\", \"queda\", \"regalo\", \"pendientes\", \"bonito\", \"bastante\", \"ps\", \"switch\", \"foto\", \"bonitos\", \"perfecto\", \"funciona\", \"trae\", \"pulsera\", \"lleg\\u00f3\", \"llego\", \"todav\\u00eda\", \"recibido\", \"verdad\", \"meses\", \"meses\", \"paquete\", \"d\\u00eda\", \"encant\\u00f3\", \"prime\", \"persona\", \"color\", \"pedir\", \"devolver\", \"queda\", \"hoy\", \"perdi\\u00f3\", \"brillo\", \"repartidor\", \"cuello\", \"encantada\", \"dio\", \"entregado\", \"seg\\u00fan\", \"despu\\u00e9s\", \"gust\\u00f3\", \"a\\u00f1os\", \"cadena\", \"perdido\", \"tipo\", \"entiendo\", \"encantado\", \"pues\", \"bonita\", \"encontr\\u00e9\", \"regalo\", \"bonito\", \"llego\", \"nunca\", \"nuevo\", \"ser\", \"precio\", \"tiempo\", \"perfecto\", \"producto\", \"calidad\", \"gracias\", \"uso\", \"perfectamente\", \"lleg\\u00f3\", \"bien\", \"foto\", \"amazon\", \"puede\", \"si\", \"buena\", \"buen\", \"realmente\", \"base\", \"familia\", \"divertido\", \"funda\", \"pensaba\", \"adapta\", \"imagen\", \"instrucciones\", \"vino\", \"decepci\\u00f3n\", \"mont\\u00f3n\", \"quedan\", \"deber\\u00eda\", \"cd\", \"mucha\", \"cambiar\", \"cargar\", \"funcionan\", \"deber\\u00edan\", \"dejado\", \"m\\u00f3viles\", \"funcionar\", \"quieres\", \"castellano\", \"mismo\", \"dice\", \"fin\", \"esperado\", \"visto\", \"sitio\", \"vale\", \"bien\", \"juego\", \"caja\", \"si\", \"jugar\", \"hacer\", \"puede\", \"dos\", \"tan\", \"original\", \"casi\", \"solo\", \"producto\", \"adem\\u00e1s\", \"despu\\u00e9s\", \"as\\u00ed\", \"problema\", \"entrega\", \"lleg\\u00f3\", \"precio\", \"perfecto\", \"mal\", \"momento\", \"viene\", \"llegado\", \"ser\", \"venia\", \"expectativas\", \"sonido\", \"contento\", \"acabado\", \"entra\", \"\\u00fanica\", \"buena\", \"todas\", \"general\", \"bot\\u00f3n\", \"mando\", \"imposible\", \"cumple\", \"esperar\", \"par\", \"relaci\\u00f3n\", \"dia\", \"principio\", \"cable\", \"auriculares\", \"tra\\u00eda\", \"condiciones\", \"original\", \"bajo\", \"correctamente\", \"buen\", \"rapidez\", \"opinar\", \"carga\", \"juegos\", \"calidad\", \"mes\", \"compra\", \"precio\", \"si\", \"menos\", \"tiempo\", \"juego\", \"recomiendo\", \"jugar\", \"producto\", \"bien\", \"puede\", \"entrega\", \"mas\", \"ps\", \"perfectamente\", \"enseguida\", \"versi\\u00f3n\", \"super\", \"hacen\", \"aceptable\", \"semana\", \"rompi\\u00f3\", \"peque\\u00f1as\", \"espa\\u00f1ola\", \"modo\", \"cualquier\", \"quiz\\u00e1\", \"historia\", \"cierra\", \"mala\", \"espa\\u00f1ol\", \"realidad\", \"edici\\u00f3n\", \"italiano\", \"enga\\u00f1o\", \"rat\\u00f3n\", \"baja\", \"ajusta\", \"ven\", \"corta\", \"bastante\", \"siendo\", \"cierre\", \"alta\", \"fotos\", \"pone\", \"descripci\\u00f3n\", \"peque\\u00f1os\", \"grandes\", \"dise\\u00f1o\", \"aunque\", \"calidad\", \"q\", \"viene\", \"mas\", \"bonitos\", \"recomendable\", \"menos\", \"si\", \"mejor\", \"bien\", \"material\", \"juego\", \"precio\", \"parece\", \"demasiado\", \"ps\", \"as\\u00ed\", \"foto\", \"perfecto\", \"tal\", \"plata\", \"elegantes\", \"c\\u00f3modos\", \"detalle\", \"peor\", \"rota\", \"gustan\", \"compro\", \"pendientes\", \"marca\", \"s\\u00e9\", \"comprado\", \"acierto\", \"vendedor\", \"pl\\u00e1stico\", \"semanas\", \"primera\", \"pesan\", \"alg\\u00fan\", \"ni\\u00f1as\", \"conjunto\", \"devuelto\", \"entretenido\", \"quedado\", \"envio\", \"ni\\u00f1os\", \"sigue\", \"puestos\", \"baratos\", \"comprar\", \"roto\", \"vez\", \"bonitos\", \"tama\\u00f1o\", \"momento\", \"llego\", \"grande\", \"regalar\", \"parte\", \"bonito\", \"buen\", \"correcto\", \"producto\", \"regalo\", \"tal\", \"bien\", \"colgante\", \"dos\", \"grandes\", \"compra\", \"bastante\", \"pulsera\", \"colores\", \"desear\", \"genial\", \"switch\", \"esperaba\", \"contenta\", \"luces\", \"pandora\", \"verdad\", \"one\", \"nintendo\", \"poner\", \"gr\\u00e1ficos\", \"llegaron\", \"ruido\", \"igual\", \"funciona\", \"hace\", \"deja\", \"rapido\", \"negra\", \"bueno\", \"media\", \"hola\", \"puesta\", \"encima\", \"tacto\", \"pronto\", \"merece\", \"xbox\", \"foto\", \"pulsera\", \"va\", \"lleg\\u00f3\", \"perfecto\", \"parece\", \"d\\u00edas\", \"mal\", \"puesto\", \"aunque\", \"mando\", \"tan\", \"perfectamente\", \"juego\", \"gusto\", \"mas\", \"solo\", \"bien\", \"bonito\", \"precio\", \"bonitos\", \"pena\", \"todav\\u00eda\", \"fino\", \"recibido\", \"poca\", \"llegado\", \"simplemente\", \"trae\", \"usado\", \"compre\", \"encajan\", \"ingl\\u00e9s\", \"ninguna\", \"hija\", \"parecido\", \"pedido\", \"a\\u00fan\", \"precioso\", \"certificado\", \"mu\\u00f1eca\", \"nadie\", \"consola\", \"aun\", \"toda\", \"misma\", \"fatal\", \"ps\", \"alguna\", \"mejores\", \"gran\", \"gustado\", \"dentro\", \"collar\", \"peque\\u00f1o\", \"tampoco\", \"mas\", \"pena\", \"parte\", \"cosa\", \"producto\", \"as\\u00ed\", \"gusta\", \"juego\", \"parece\", \"queda\", \"sido\", \"amazon\", \"ahora\", \"calidad\", \"bien\", \"precio\", \"regalo\"], \"Freq\": [51.0, 35.0, 65.0, 52.0, 47.0, 143.0, 117.0, 34.0, 61.0, 112.0, 186.0, 35.0, 61.0, 29.0, 63.0, 53.0, 29.0, 20.0, 52.0, 39.0, 58.0, 34.0, 16.0, 37.0, 42.0, 33.0, 12.0, 15.0, 23.0, 17.0, 16.5812006033329, 12.028976210549612, 40.756541981015715, 9.249870049378451, 5.3860957036107475, 8.856079747283873, 16.73244643531999, 15.895235365196191, 8.199798695227827, 25.731594410352635, 7.463051639286028, 4.494911956172048, 5.100132964530814, 3.790352070750584, 3.7671086742621362, 6.26272572027175, 3.639465206089225, 9.426366628731943, 4.04196789334555, 16.620290642125696, 4.542307177658748, 7.733426388272948, 18.952459763313566, 3.7873856095106038, 3.8003587655590443, 3.7123387189822994, 7.973148053976751, 8.316088030383238, 14.293536439935087, 3.0649486619258264, 32.84355992669524, 30.884581206619327, 16.95051122127486, 10.736294674648619, 8.464076242627588, 16.758011060640143, 40.294189269236966, 17.673649675600373, 21.951231557909743, 30.710945879971206, 33.43714857614432, 9.910832007399598, 9.948837105024856, 12.184835838738861, 12.869352624492103, 21.582797561246196, 12.984989736638935, 11.158444444065815, 11.829656020256067, 12.294161836929161, 10.44076215327937, 10.341943027349446, 7.62580525589443, 5.682499737232515, 4.726211711861152, 5.169769702228574, 10.079431939742099, 3.882498882828134, 3.8869377866070147, 9.070527882715577, 3.7462637628397406, 6.024433062291981, 7.07810579842729, 3.554465423947609, 13.637755797501253, 4.980083285983552, 3.88829284300162, 5.43851440970456, 5.428031583892994, 4.839821122035839, 4.286974222286676, 3.7176263494929236, 4.2721255212952665, 3.6506567077898175, 4.1260763778489755, 3.6233225327507896, 4.615608824671763, 9.647087598151591, 6.1565235407976076, 5.972267015680879, 4.417906982707592, 4.372911700151795, 5.330338112508124, 10.122091381078741, 75.77702606449668, 49.09485035765865, 21.05622426913375, 44.32845412220317, 14.996203726161735, 8.702959371494648, 14.648396431654842, 12.30777398716485, 8.854205358922309, 10.32536433859434, 6.340631860816293, 11.823368846061854, 17.439174678250122, 7.202850459029926, 8.582717783182545, 9.897258877597856, 7.868594203138185, 7.594961949276743, 9.31522523908413, 11.876808597356133, 9.656324641979609, 8.274775512149198, 6.998108874908722, 7.499740173784232, 7.777894294060959, 7.2691947933537895, 6.741641269582001, 10.840671870544025, 12.39503834408123, 8.036095247207864, 7.886474572256946, 3.9177579530009163, 3.9102831302789904, 43.60794249075861, 11.674773692487067, 5.565798155301136, 4.837738533269593, 32.99464853771535, 4.000999824397937, 14.348199578348034, 5.329993502096028, 4.801842537130565, 4.757419575860872, 8.460064654271708, 5.283835185599355, 12.172918206380304, 4.5450883344188, 2.966093411607267, 3.919536492182853, 16.26102486614392, 2.795880654332393, 4.1908394226331875, 30.115131758471236, 2.755853659736759, 2.6373190347319935, 7.033085516505473, 10.844511510588482, 47.69300814707685, 6.081692340952233, 12.525459219404125, 31.241985608097128, 27.120662489942806, 8.84229436976091, 12.76761884474613, 21.9890310195631, 9.46673649098151, 9.902209890391827, 16.503211148248244, 20.364141415634233, 10.731525224092833, 7.522128345472445, 10.591471661138273, 7.0666570429702675, 6.925758993785436, 9.331466833283006, 12.416078885996093, 4.735038029935136, 5.943007403151901, 4.766322829647906, 7.476738568322503, 6.519551530316145, 4.4665328358785805, 3.837775447672397, 5.670651365871942, 6.278191347448105, 3.7543389264561684, 6.488662379653351, 4.703546161560696, 15.103300821618124, 11.00748375025828, 4.53848444168147, 5.548039249871447, 4.962430058158941, 3.829192398822537, 5.38242024060941, 5.373773539275542, 4.757747968461963, 3.7010715697143244, 3.7130596302813395, 30.099891555273796, 3.6571341880662214, 13.572571095568973, 4.122880205909179, 9.688361292871651, 11.08162595233654, 6.939014004621185, 10.967933635879309, 12.171611088493858, 9.763861062451166, 18.120815232640787, 41.09103484129713, 7.539638843723056, 12.756869531248842, 17.37175068788614, 12.631453536533693, 8.054941885962016, 9.298530238404311, 21.035845446755488, 10.81014203332295, 23.783439518454724, 7.872163117836841, 14.6956724269748, 13.685910550123152, 9.575126429121068, 8.290790450422238, 8.247488801259644, 8.558261885879588, 8.49292538428612, 8.193100526915597, 7.9021500407595004, 32.98902409082847, 6.8785562763904124, 6.657387628331181, 5.0220523477626715, 4.947093498482676, 8.434864775000573, 7.558941616562344, 3.9801961737244516, 20.35112297545744, 5.864121876278425, 4.548738172386446, 10.380909324325556, 3.674033857025941, 12.801009189918405, 11.952089376929077, 3.9705859297456287, 3.821449766012132, 4.223525285695376, 4.101222110381186, 5.539614127189236, 3.0025103753767874, 5.494338673122705, 3.9809179957776855, 3.9664143778430887, 7.762240778158943, 2.896766298497324, 4.713868578063499, 3.757043832212354, 2.7369905040430296, 12.117819544725789, 9.40455542816675, 11.844718785575038, 15.881138925969088, 13.577455258750184, 8.94267537074084, 12.43706949631651, 11.166386950112944, 6.554162245009125, 10.680711352542833, 15.944787473490381, 15.481692085502821, 7.1588172995582795, 19.364724161455637, 14.189401418540218, 9.59110164434778, 24.025789085376722, 8.46576701329176, 9.459287453633863, 7.510217749840034, 7.826840339407307, 8.374894709937914, 7.800428852916896, 7.971830791825492, 5.449107385903355, 6.745924526706887, 15.617598449071679, 24.17643405253386, 8.14618660005914, 3.769400613016315, 5.702936961170239, 13.36200055915222, 3.598554179857881, 9.261412170224403, 10.205981243468607, 3.845641422817662, 3.3315381802814343, 3.301238703044352, 8.800259917710655, 17.04847299033303, 9.518916405504982, 5.153512448516672, 5.142275093298283, 2.535704739507302, 11.417692805740952, 2.524387166537597, 2.9123897204833376, 2.412931774207563, 2.7111090361832173, 3.850555921929786, 3.7855912628336106, 2.606158555863569, 4.748875117253905, 20.330533993137646, 13.717604032198594, 8.381578216112912, 14.122472115783786, 16.66824489029067, 13.57105731383434, 7.1311964441506435, 10.558110903969316, 5.823414728895164, 9.895456509585063, 11.047443228194817, 6.792887675816255, 8.412461848309832, 14.01773723329954, 6.320649208834708, 9.103991400210692, 7.954810888478217, 11.97768060203006, 8.478902352382363, 9.358594056375651, 7.517467749498708, 6.794475057817112, 11.318947271493029, 7.636857009810382, 11.113208804363829, 6.9062857333782555, 36.487469734506256, 4.001167323880298, 11.556860286072519, 3.696765185363368, 8.772662925144152, 4.637634538611342, 3.2972433065516884, 4.713625729391975, 4.71155674025675, 4.052195477225399, 13.07131425312041, 8.00424542911488, 3.967406090626975, 2.9518146648411148, 2.947740430482405, 2.96810910627941, 10.638901109102523, 6.1354152487454545, 4.915301866145982, 4.364356708998888, 3.8961991492219465, 13.283584551205468, 4.307380019890284, 3.659513012943689, 7.851930504014063, 13.521194206204997, 7.402152694788043, 6.144530628124064, 9.227875094845615, 5.27026175865934, 14.463863748960382, 8.730336967749768, 8.733900482815633, 6.004855429521955, 15.339702024252068, 9.172048484144584, 6.7031891825909895, 12.35735095369245, 8.742800822491992, 7.54004843985403, 6.672798696670442, 7.046302691507156, 6.2110216720588465, 9.404189986715458, 8.680705804470358, 6.510487497410724, 6.226434642717649], \"Total\": [51.0, 35.0, 65.0, 52.0, 47.0, 143.0, 117.0, 34.0, 61.0, 112.0, 186.0, 35.0, 61.0, 29.0, 63.0, 53.0, 29.0, 20.0, 52.0, 39.0, 58.0, 34.0, 16.0, 37.0, 42.0, 33.0, 12.0, 15.0, 23.0, 17.0, 17.455103374737433, 13.809487895630967, 47.986237567075804, 11.04585668947952, 6.448132631510972, 11.09121778158529, 21.18171823611226, 20.307943242973334, 11.134057286517423, 35.12953180211992, 10.208473954272616, 6.45752068774923, 7.391084346705578, 5.553563060797487, 5.552289073138647, 9.304215929671397, 5.559337280690947, 14.832413765334838, 6.491971146767495, 26.866301082084792, 7.4233111605934035, 13.000716723596312, 32.370109359375995, 6.479810202520203, 6.5186872812669945, 6.482761932057171, 13.978381616576012, 14.808028894314754, 26.022635922975976, 5.5903538545635705, 61.584195876426385, 63.531999389253244, 33.743234158844594, 20.505308722401118, 15.749834270932258, 36.39818272800662, 115.64762777024866, 41.99546293827811, 58.45851490488394, 105.20004539242908, 143.80930614240924, 21.391056967166215, 23.317969061821724, 37.35647190961572, 42.754980422436425, 186.19158005170897, 52.068926409011254, 34.62645397134946, 50.49775378230977, 112.6725701545502, 65.92184374502443, 61.38347837477531, 8.480515709362468, 6.595571862725159, 5.652883017855627, 6.589321403205146, 14.051517965934096, 5.62670815471938, 5.65600972724638, 13.262586657789235, 5.652099187407088, 9.3881203736421, 11.243021142971058, 5.682254912429394, 22.618576189479302, 8.446733608197011, 6.6033525910162725, 9.356963429718157, 9.428812668884019, 8.453652660733947, 7.531215941271605, 6.566524973797889, 7.567180069182768, 6.603020367721507, 7.50090708630789, 6.588630971925829, 8.434397699527958, 17.73817390797395, 11.348236004955716, 11.189366713590363, 8.503933041644054, 8.439583986532059, 10.307880392475088, 19.7699448390659, 186.19158005170897, 117.40352397887038, 47.08667138045636, 112.6725701545502, 33.90954402247625, 19.65976765658581, 50.49775378230977, 39.52732612174117, 23.461915970287606, 32.058150933836856, 14.080435316801974, 46.0040672050937, 105.20004539242908, 18.757681337950732, 26.866301082084792, 40.48964994454597, 24.452804891964146, 23.517534531611833, 42.754980422436425, 115.64762777024866, 58.45851490488394, 36.61573847176718, 21.779282692718443, 38.25818479310162, 51.007767842479154, 36.39818272800662, 7.562592635453327, 12.28042337396118, 14.182175971209968, 9.44906193921079, 10.38857628540839, 5.6521274485322115, 5.668036185561637, 65.92184374502443, 17.86580100989344, 8.550554805879829, 7.516136748820607, 52.69287142755573, 6.613472537418222, 24.368173542128652, 9.389162222149583, 8.461576814650332, 8.42222768001402, 14.986763393528639, 9.391735341924745, 22.762835894984356, 8.517985058705706, 5.67307491872896, 7.551905923043782, 32.058150933836856, 5.631060874438032, 8.480736631998342, 61.38347837477531, 5.667636328206334, 5.611137820182347, 15.042063746769461, 23.500741801074533, 143.80930614240924, 14.079212321861904, 33.89410266716333, 115.64762777024866, 112.6725701545502, 24.36011483595816, 41.99546293827811, 117.40352397887038, 28.172744064259376, 33.90954402247625, 105.20004539242908, 186.19158005170897, 50.49775378230977, 23.517534531611833, 64.65558475019502, 29.146421503100697, 37.35647190961572, 10.222765550181666, 13.947011525557048, 5.581674543383724, 7.429811404890046, 6.4980063753563195, 10.227308449434657, 9.299708050585433, 6.497625121919663, 5.597062954461823, 8.402134484869157, 9.309523979039891, 5.571206332973063, 10.270108011613313, 7.491936727145734, 24.267062513646245, 17.742114573642485, 7.41357588444872, 9.315796688608621, 8.398621461397257, 6.537534865630965, 9.274975748178047, 9.345509176674176, 8.33315158090997, 6.516676044973678, 6.5403387418369325, 53.27098343376281, 6.485038571176288, 24.205037096884954, 7.417926912667283, 17.672788113059212, 20.44606636693653, 12.946243390960968, 21.553962995201193, 24.475112860426414, 19.528704737632225, 43.02226571768512, 143.80930614240924, 15.83146527103927, 38.25818479310162, 64.65558475019502, 39.65681847704505, 18.585915520272142, 24.36011483595816, 112.6725701545502, 35.5477547212663, 186.19158005170897, 20.474755243400033, 117.40352397887038, 115.64762777024866, 48.616269945164596, 29.045976534211306, 29.146421503100697, 40.48964994454597, 52.068926409011254, 58.45851490488394, 30.21200021540995, 35.61883376252178, 7.694373352512618, 7.686032127298558, 6.6972391626796, 6.706467599641211, 11.469043982920274, 10.543571739129655, 5.7268116838506, 29.641387103156127, 8.58952349005925, 6.696704844855869, 15.296109713860043, 5.701018720365919, 20.004399139339572, 19.062507650387047, 6.633705352563434, 6.654588015713012, 7.606736512108549, 7.6294332495590655, 10.440405872217223, 5.725464754026257, 10.495197985869801, 7.618398715848289, 7.632945433533659, 15.17405458509124, 5.692664731493804, 9.486856523760807, 7.622515513551346, 5.7098790662157874, 25.5903349163859, 19.920237237522816, 26.53328176516906, 39.65681847704505, 34.875459442153115, 21.779282692718443, 33.743234158844594, 30.065552593831832, 15.0223731640239, 31.25691462738041, 63.531999389253244, 61.38347837477531, 18.007843481213328, 105.20004539242908, 61.584195876426385, 30.21200021540995, 186.19158005170897, 25.37517300634765, 39.52732612174117, 24.475112860426414, 33.89410266716333, 53.27098343376281, 37.368896917444715, 9.326089754141266, 6.52395764560727, 8.395657570839576, 20.525187818562248, 34.511622766916695, 12.108154277530883, 5.6088910273548125, 9.2777478060269, 23.402137102987574, 6.51869054986703, 16.872701763306964, 19.627173075555152, 7.469957271211834, 6.591509476248989, 6.561583109671784, 17.66680433870716, 34.766257462200514, 20.534894848668866, 11.193780119315687, 11.197358342984897, 5.586376758463088, 25.279829708527327, 5.630570552525101, 6.536616249868474, 5.559225617337837, 6.577276111061807, 9.354330372693425, 9.324056723035142, 6.521345339600999, 12.116170606450577, 52.068926409011254, 37.368896917444715, 22.413670870105104, 42.754980422436425, 58.45851490488394, 48.616269945164596, 21.489931823034674, 36.61573847176718, 16.777773180342574, 43.02226571768512, 52.69287142755573, 23.461915970287606, 37.35647190961572, 117.40352397887038, 20.65932203039452, 64.65558475019502, 46.0040672050937, 186.19158005170897, 63.531999389253244, 115.64762777024866, 39.65681847704505, 30.959310589073247, 12.272251626903987, 8.494749571162382, 15.01816362101413, 9.391425508026725, 51.007767842479154, 5.646775401191075, 16.867143591996477, 5.663272173268432, 14.105769065271831, 7.5690106725337, 5.635297422633872, 8.437030929273796, 8.455604727080065, 7.533481712550351, 24.496150845662406, 15.04934354358281, 7.47150259773496, 5.6076143732872765, 5.617467586071129, 5.683681878035584, 20.691432718758655, 12.232301809627575, 10.344146905366273, 9.36155698365771, 8.38719803485473, 29.146421503100697, 9.475176476963654, 8.449977932716331, 18.884883844408566, 32.93473975097156, 18.767817853688204, 16.066729031050187, 29.98044317501837, 13.184039512375726, 64.65558475019502, 30.959310589073247, 31.25691462738041, 16.899370661363676, 105.20004539242908, 40.48964994454597, 22.506635095466706, 117.40352397887038, 48.616269945164596, 35.12953180211992, 27.300055328266186, 34.62645397134946, 25.39129050520325, 143.80930614240924, 186.19158005170897, 115.64762777024866, 61.584195876426385], \"Category\": [\"Default\", \"Default\", \"Default\", \"Default\", \"Default\", \"Default\", \"Default\", \"Default\", \"Default\", \"Default\", \"Default\", \"Default\", \"Default\", \"Default\", \"Default\", \"Default\", \"Default\", \"Default\", \"Default\", \"Default\", \"Default\", \"Default\", \"Default\", \"Default\", \"Default\", \"Default\", \"Default\", \"Default\", \"Default\", \"Default\", \"Topic1\", \"Topic1\", \"Topic1\", \"Topic1\", \"Topic1\", \"Topic1\", \"Topic1\", \"Topic1\", \"Topic1\", \"Topic1\", \"Topic1\", \"Topic1\", \"Topic1\", \"Topic1\", \"Topic1\", \"Topic1\", \"Topic1\", \"Topic1\", \"Topic1\", \"Topic1\", \"Topic1\", \"Topic1\", \"Topic1\", \"Topic1\", \"Topic1\", \"Topic1\", \"Topic1\", \"Topic1\", \"Topic1\", \"Topic1\", \"Topic1\", \"Topic1\", \"Topic1\", \"Topic1\", \"Topic1\", \"Topic1\", \"Topic1\", \"Topic1\", \"Topic1\", \"Topic1\", \"Topic1\", \"Topic1\", \"Topic1\", \"Topic1\", \"Topic1\", \"Topic1\", \"Topic1\", \"Topic1\", \"Topic1\", \"Topic1\", \"Topic1\", \"Topic1\", \"Topic2\", \"Topic2\", \"Topic2\", \"Topic2\", \"Topic2\", \"Topic2\", \"Topic2\", \"Topic2\", \"Topic2\", \"Topic2\", \"Topic2\", \"Topic2\", \"Topic2\", \"Topic2\", \"Topic2\", \"Topic2\", \"Topic2\", \"Topic2\", \"Topic2\", \"Topic2\", \"Topic2\", \"Topic2\", \"Topic2\", \"Topic2\", \"Topic2\", \"Topic2\", \"Topic2\", \"Topic2\", \"Topic2\", \"Topic2\", \"Topic2\", \"Topic2\", \"Topic2\", \"Topic2\", \"Topic2\", \"Topic2\", \"Topic2\", \"Topic2\", \"Topic2\", \"Topic2\", \"Topic2\", \"Topic2\", \"Topic2\", \"Topic2\", \"Topic2\", \"Topic2\", \"Topic2\", \"Topic2\", \"Topic2\", \"Topic2\", \"Topic2\", \"Topic2\", \"Topic2\", \"Topic2\", \"Topic2\", \"Topic2\", \"Topic2\", \"Topic2\", \"Topic3\", \"Topic3\", \"Topic3\", \"Topic3\", \"Topic3\", \"Topic3\", \"Topic3\", \"Topic3\", \"Topic3\", \"Topic3\", \"Topic3\", \"Topic3\", \"Topic3\", \"Topic3\", \"Topic3\", \"Topic3\", \"Topic3\", \"Topic3\", \"Topic3\", \"Topic3\", \"Topic3\", \"Topic3\", \"Topic3\", \"Topic3\", \"Topic3\", \"Topic3\", \"Topic3\", \"Topic3\", \"Topic3\", \"Topic3\", \"Topic3\", \"Topic3\", \"Topic3\", \"Topic3\", \"Topic3\", \"Topic3\", \"Topic3\", \"Topic3\", \"Topic3\", \"Topic3\", \"Topic3\", \"Topic3\", \"Topic3\", \"Topic3\", \"Topic3\", \"Topic3\", \"Topic3\", \"Topic3\", \"Topic4\", \"Topic4\", \"Topic4\", \"Topic4\", \"Topic4\", \"Topic4\", \"Topic4\", \"Topic4\", \"Topic4\", \"Topic4\", \"Topic4\", \"Topic4\", \"Topic4\", \"Topic4\", \"Topic4\", \"Topic4\", \"Topic4\", \"Topic4\", \"Topic4\", \"Topic4\", \"Topic4\", \"Topic4\", \"Topic4\", \"Topic4\", \"Topic4\", \"Topic4\", \"Topic4\", \"Topic4\", \"Topic4\", \"Topic4\", \"Topic4\", \"Topic4\", \"Topic4\", \"Topic4\", \"Topic4\", \"Topic4\", \"Topic4\", \"Topic4\", \"Topic4\", \"Topic4\", \"Topic4\", \"Topic4\", \"Topic4\", \"Topic4\", \"Topic4\", \"Topic4\", \"Topic4\", \"Topic4\", \"Topic4\", \"Topic4\", \"Topic4\", \"Topic4\", \"Topic4\", \"Topic4\", \"Topic4\", \"Topic4\", \"Topic5\", \"Topic5\", \"Topic5\", \"Topic5\", \"Topic5\", \"Topic5\", \"Topic5\", \"Topic5\", \"Topic5\", \"Topic5\", \"Topic5\", \"Topic5\", \"Topic5\", \"Topic5\", \"Topic5\", \"Topic5\", \"Topic5\", \"Topic5\", \"Topic5\", \"Topic5\", \"Topic5\", \"Topic5\", \"Topic5\", \"Topic5\", \"Topic5\", \"Topic5\", \"Topic5\", \"Topic5\", \"Topic5\", \"Topic5\", \"Topic5\", \"Topic5\", \"Topic5\", \"Topic5\", \"Topic5\", \"Topic5\", \"Topic5\", \"Topic5\", \"Topic5\", \"Topic5\", \"Topic5\", \"Topic5\", \"Topic5\", \"Topic5\", \"Topic5\", \"Topic5\", \"Topic5\", \"Topic5\", \"Topic5\", \"Topic5\", \"Topic5\", \"Topic5\", \"Topic6\", \"Topic6\", \"Topic6\", \"Topic6\", \"Topic6\", \"Topic6\", \"Topic6\", \"Topic6\", \"Topic6\", \"Topic6\", \"Topic6\", \"Topic6\", \"Topic6\", \"Topic6\", \"Topic6\", \"Topic6\", \"Topic6\", \"Topic6\", \"Topic6\", \"Topic6\", \"Topic6\", \"Topic6\", \"Topic6\", \"Topic6\", \"Topic6\", \"Topic6\", \"Topic6\", \"Topic6\", \"Topic6\", \"Topic6\", \"Topic6\", \"Topic6\", \"Topic6\", \"Topic6\", \"Topic6\", \"Topic6\", \"Topic6\", \"Topic6\", \"Topic6\", \"Topic6\", \"Topic6\", \"Topic6\", \"Topic6\", \"Topic6\", \"Topic6\", \"Topic6\", \"Topic6\", \"Topic6\", \"Topic6\", \"Topic6\", \"Topic6\", \"Topic6\", \"Topic7\", \"Topic7\", \"Topic7\", \"Topic7\", \"Topic7\", \"Topic7\", \"Topic7\", \"Topic7\", \"Topic7\", \"Topic7\", \"Topic7\", \"Topic7\", \"Topic7\", \"Topic7\", \"Topic7\", \"Topic7\", \"Topic7\", \"Topic7\", \"Topic7\", \"Topic7\", \"Topic7\", \"Topic7\", \"Topic7\", \"Topic7\", \"Topic7\", \"Topic7\", \"Topic7\", \"Topic7\", \"Topic7\", \"Topic7\", \"Topic7\", \"Topic7\", \"Topic7\", \"Topic7\", \"Topic7\", \"Topic7\", \"Topic7\", \"Topic7\", \"Topic7\", \"Topic7\", \"Topic7\", \"Topic7\", \"Topic7\", \"Topic7\", \"Topic7\", \"Topic7\", \"Topic7\", \"Topic7\", \"Topic7\", \"Topic7\", \"Topic7\"], \"logprob\": [30.0, 29.0, 28.0, 27.0, 26.0, 25.0, 24.0, 23.0, 22.0, 21.0, 20.0, 19.0, 18.0, 17.0, 16.0, 15.0, 14.0, 13.0, 12.0, 11.0, 10.0, 9.0, 8.0, 7.0, 6.0, 5.0, 4.0, 3.0, 2.0, 1.0, -4.5058, -4.8267, -3.6064, -5.0894, -5.6302, -5.1329, -4.4967, -4.548, -5.2099, -4.0663, -5.3041, -5.8111, -5.6848, -5.9816, -5.9877, -5.4794, -6.0222, -5.0705, -5.9173, -4.5034, -5.8006, -5.2685, -4.3721, -5.9824, -5.9789, -6.0024, -5.238, -5.1958, -4.6542, -6.194, -3.8223, -3.8838, -4.4837, -4.9404, -5.1782, -4.4952, -3.6178, -4.442, -4.2252, -3.8894, -3.8044, -5.0204, -5.0166, -4.8138, -4.7592, -4.2421, -4.7502, -4.9018, -4.8434, -4.8049, -4.9683, -4.9778, -5.0187, -5.3129, -5.4971, -5.4074, -4.7398, -5.6938, -5.6926, -4.8452, -5.7295, -5.2544, -5.0932, -5.782, -4.4374, -5.4448, -5.6923, -5.3567, -5.3587, -5.4734, -5.5947, -5.7372, -5.5981, -5.7553, -5.6329, -5.7629, -5.5208, -4.7836, -5.2327, -5.2631, -5.5646, -5.5748, -5.3768, -4.7355, -2.7225, -3.1565, -4.0031, -3.2586, -4.3425, -4.8866, -4.3659, -4.54, -4.8694, -4.7156, -5.2033, -4.5802, -4.1915, -5.0758, -4.9005, -4.758, -4.9874, -5.0228, -4.8186, -4.5757, -4.7826, -4.937, -5.1046, -5.0354, -4.999, -5.0666, -5.1348, -4.6598, -4.5258, -4.9591, -4.9779, -5.6776, -5.6795, -3.2678, -4.5856, -5.3264, -5.4666, -3.5467, -5.6565, -4.3794, -5.3697, -5.4741, -5.4834, -4.9077, -5.3784, -4.5439, -5.529, -5.9558, -5.6771, -4.2543, -6.0149, -5.6102, -3.638, -6.0293, -6.0733, -5.0924, -4.6594, -3.1783, -5.2378, -4.5153, -3.6013, -3.7428, -4.8635, -4.4962, -3.9525, -4.7953, -4.7503, -4.2395, -4.0293, -4.6699, -5.0252, -4.683, -5.0877, -5.1078, -4.8004, -4.5148, -5.4789, -5.2516, -5.4723, -5.022, -5.159, -5.5372, -5.6889, -5.2985, -5.1968, -5.7109, -5.1638, -5.4855, -4.3189, -4.6353, -5.5212, -5.3204, -5.4319, -5.6912, -5.3507, -5.3523, -5.4741, -5.7252, -5.722, -3.6293, -5.7372, -4.4258, -5.6173, -4.7629, -4.6286, -5.0967, -4.6389, -4.5347, -4.7552, -4.1368, -3.3181, -5.0137, -4.4878, -4.179, -4.4977, -4.9476, -4.804, -3.9876, -4.6534, -3.8649, -4.9705, -4.3463, -4.4175, -4.7747, -4.9187, -4.9239, -4.8869, -4.8946, -4.9305, -4.9667, -3.3528, -4.9205, -4.9532, -5.2351, -5.2501, -4.7166, -4.8262, -5.4676, -3.8358, -5.0801, -5.3341, -4.509, -5.5477, -4.2994, -4.368, -5.47, -5.5083, -5.4083, -5.4377, -5.137, -5.7495, -5.1452, -5.4674, -5.4711, -4.7997, -5.7853, -5.2984, -5.5253, -5.8421, -4.3543, -4.6077, -4.3771, -4.0838, -4.2405, -4.6581, -4.3283, -4.436, -4.9688, -4.4805, -4.0798, -4.1093, -4.8806, -3.8855, -4.1964, -4.5881, -3.6698, -4.7129, -4.6019, -4.8327, -4.7914, -4.7237, -4.7948, -4.6901, -5.0706, -4.8571, -4.0176, -3.5806, -4.6685, -5.4391, -5.025, -4.1736, -5.4855, -4.5402, -4.443, -5.4191, -5.5626, -5.5717, -4.5912, -3.9299, -4.5127, -5.1263, -5.1285, -5.8355, -4.3308, -5.84, -5.697, -5.8852, -5.7686, -5.4178, -5.4348, -5.8081, -5.2081, -3.7539, -4.1473, -4.64, -4.1182, -3.9525, -4.1581, -4.8015, -4.4091, -5.0041, -4.4739, -4.3638, -4.8501, -4.6363, -4.1257, -4.9222, -4.5573, -4.6922, -4.283, -4.6284, -4.5297, -4.7488, -4.8499, -4.2885, -4.682, -4.3068, -4.7825, -3.118, -5.3284, -4.2677, -5.4075, -4.5433, -5.1807, -5.5219, -5.1645, -5.1649, -5.3157, -4.1445, -4.635, -5.3368, -5.6325, -5.6339, -5.627, -4.3504, -4.9009, -5.1226, -5.2415, -5.3549, -4.1284, -5.2546, -5.4176, -4.6542, -4.1107, -4.7132, -4.8994, -4.4927, -5.0529, -4.0433, -4.5481, -4.5477, -4.9224, -3.9845, -4.4988, -4.8124, -4.2007, -4.5467, -4.6947, -4.8169, -4.7624, -4.8886, -4.4738, -4.5538, -4.8415, -4.8861], \"loglift\": [30.0, 29.0, 28.0, 27.0, 26.0, 25.0, 24.0, 23.0, 22.0, 21.0, 20.0, 19.0, 18.0, 17.0, 16.0, 15.0, 14.0, 13.0, 12.0, 11.0, 10.0, 9.0, 8.0, 7.0, 6.0, 5.0, 4.0, 3.0, 2.0, 1.0, 1.5664, 1.4797, 1.4545, 1.4403, 1.4378, 1.3927, 1.382, 1.3728, 1.3119, 1.3065, 1.3045, 1.2555, 1.2468, 1.2358, 1.2299, 1.2219, 1.1941, 1.1645, 1.1439, 1.1375, 1.1266, 1.0983, 1.0825, 1.0808, 1.0782, 1.0603, 1.0564, 1.0408, 1.0186, 1.0168, 0.9891, 0.8965, 0.9293, 0.9707, 0.9968, 0.8421, 0.5634, 0.7523, 0.6383, 0.3865, 0.159, 0.8484, 0.766, 0.4975, 0.4171, -0.5371, 0.229, 0.4854, 0.1665, -0.5976, -0.225, -0.1632, 1.7753, 1.7326, 1.7025, 1.6389, 1.5493, 1.5105, 1.5065, 1.5017, 1.4703, 1.4379, 1.4188, 1.4124, 1.3756, 1.3532, 1.352, 1.339, 1.3294, 1.3238, 1.3181, 1.3127, 1.3099, 1.2889, 1.2839, 1.2836, 1.2787, 1.2725, 1.27, 1.2537, 1.2267, 1.2241, 1.2221, 1.2121, 0.9826, 1.0097, 1.0768, 0.9487, 1.0657, 1.0667, 0.644, 0.7148, 0.9071, 0.7486, 1.0838, 0.5229, 0.0844, 0.9244, 0.7404, 0.4728, 0.7477, 0.7513, 0.3577, -0.3944, 0.0809, 0.3943, 0.7462, 0.2521, 0.0009, 0.2707, 1.7738, 1.764, 1.7541, 1.7268, 1.6132, 1.5222, 1.5175, 1.4755, 1.4633, 1.4594, 1.4481, 1.4206, 1.3862, 1.3591, 1.3225, 1.3222, 1.3176, 1.3169, 1.3136, 1.2628, 1.2606, 1.2403, 1.2329, 1.21, 1.1886, 1.1838, 1.1766, 1.1677, 1.1338, 1.1285, 1.1154, 0.785, 1.0493, 0.8933, 0.58, 0.4646, 0.8753, 0.6981, 0.2137, 0.7982, 0.6578, 0.0364, -0.3243, 0.34, 0.7488, 0.0797, 0.4718, 0.2035, 1.8068, 1.7817, 1.7335, 1.6747, 1.5881, 1.5847, 1.5428, 1.5232, 1.5206, 1.5048, 1.504, 1.5033, 1.4388, 1.4325, 1.4238, 1.4206, 1.4073, 1.3797, 1.3718, 1.3631, 1.3538, 1.3446, 1.3375, 1.3322, 1.3318, 1.3271, 1.3252, 1.3195, 1.3106, 1.2969, 1.2855, 1.2743, 1.2224, 1.1994, 1.2048, 1.0333, 0.6453, 1.1562, 0.7997, 0.5837, 0.7539, 1.0619, 0.9349, 0.2197, 0.7076, -0.1598, 0.9421, -0.1801, -0.2362, 0.2732, 0.6442, 0.6356, 0.3438, 0.0846, -0.067, 0.5569, 2.0062, 1.9708, 1.9392, 1.795, 1.7786, 1.7756, 1.7501, 1.719, 1.7068, 1.7012, 1.6961, 1.6952, 1.6435, 1.6364, 1.6161, 1.5696, 1.5282, 1.4945, 1.4621, 1.4491, 1.4374, 1.4357, 1.4338, 1.4283, 1.4126, 1.4073, 1.3835, 1.3754, 1.3475, 1.3353, 1.3323, 1.2764, 1.1677, 1.1395, 1.1927, 1.0848, 1.0924, 1.2534, 1.0091, 0.7005, 0.7054, 1.1604, 0.3905, 0.615, 0.9355, 0.0352, 0.9851, 0.6529, 0.9015, 0.6172, 0.2327, 0.5162, 2.0089, 1.9858, 1.947, 1.8926, 1.8099, 1.7695, 1.7684, 1.6792, 1.6054, 1.5717, 1.566, 1.5119, 1.5019, 1.4835, 1.4789, 1.4689, 1.4532, 1.397, 1.3901, 1.3876, 1.3759, 1.371, 1.3636, 1.3574, 1.3312, 1.2795, 1.2782, 1.2644, 1.2486, 1.2292, 1.2254, 1.1636, 1.1822, 1.0581, 0.911, 0.8898, 1.0627, 0.9222, 1.1076, 0.6962, 0.6035, 0.9263, 0.675, 0.0405, 0.9815, 0.2054, 0.4109, -0.5779, 0.1518, -0.3484, 0.5028, 0.6492, 2.136, 2.1104, 1.9158, 1.9095, 1.8819, 1.8724, 1.8388, 1.7903, 1.7419, 1.727, 1.6809, 1.6347, 1.6321, 1.5968, 1.5888, 1.5855, 1.5839, 1.5752, 1.572, 1.5672, 1.5517, 1.5269, 1.4728, 1.4537, 1.4502, 1.4311, 1.4285, 1.38, 1.3393, 1.3266, 1.2865, 1.2557, 1.0386, 1.3, 0.7195, 0.951, 0.9418, 1.1822, 0.2915, 0.732, 1.0057, -0.0345, 0.5012, 0.6781, 0.808, 0.6248, 0.8088, -0.5105, -0.8488, -0.6603, -0.0747]}, \"token.table\": {\"Topic\": [2, 3, 4, 1, 4, 1, 5, 2, 3, 1, 2, 5, 1, 2, 3, 4, 5, 6, 7, 1, 4, 4, 5, 7, 2, 5, 1, 4, 1, 3, 4, 5, 6, 7, 1, 2, 3, 4, 5, 6, 7, 1, 2, 4, 5, 7, 2, 3, 4, 5, 6, 7, 2, 3, 5, 7, 1, 4, 5, 7, 3, 4, 7, 2, 3, 4, 3, 4, 3, 5, 7, 2, 1, 2, 4, 5, 6, 7, 1, 2, 3, 4, 5, 6, 7, 1, 2, 4, 5, 6, 1, 3, 5, 6, 7, 1, 2, 4, 5, 6, 7, 1, 3, 1, 3, 6, 1, 3, 4, 5, 1, 3, 4, 5, 7, 1, 3, 4, 5, 6, 2, 3, 5, 7, 1, 2, 4, 1, 2, 3, 5, 7, 1, 2, 3, 4, 5, 6, 7, 2, 7, 3, 4, 5, 6, 2, 4, 7, 1, 2, 3, 6, 7, 2, 4, 2, 3, 1, 7, 4, 5, 7, 1, 2, 4, 5, 6, 1, 3, 4, 5, 7, 1, 3, 4, 5, 7, 1, 2, 4, 3, 6, 1, 3, 5, 6, 7, 1, 3, 5, 7, 1, 2, 4, 5, 6, 2, 4, 7, 4, 5, 2, 3, 3, 5, 1, 2, 3, 7, 1, 5, 6, 3, 6, 3, 4, 7, 1, 2, 3, 5, 2, 4, 1, 2, 4, 5, 6, 7, 2, 4, 6, 1, 2, 1, 2, 3, 4, 6, 7, 5, 1, 2, 3, 6, 1, 2, 7, 1, 2, 4, 1, 3, 4, 6, 1, 2, 5, 1, 2, 3, 4, 5, 6, 7, 1, 3, 5, 6, 7, 1, 4, 6, 1, 2, 4, 5, 6, 1, 5, 2, 3, 5, 7, 1, 3, 6, 2, 4, 5, 7, 1, 3, 1, 4, 5, 6, 2, 4, 1, 2, 3, 4, 5, 6, 7, 1, 2, 5, 7, 1, 2, 5, 6, 1, 3, 4, 7, 5, 2, 5, 7, 1, 5, 1, 5, 7, 1, 6, 3, 4, 5, 6, 1, 5, 6, 2, 4, 4, 1, 4, 7, 3, 4, 1, 2, 3, 4, 5, 1, 7, 3, 5, 6, 1, 3, 5, 3, 4, 6, 4, 7, 1, 2, 6, 7, 2, 5, 7, 1, 2, 3, 3, 6, 2, 1, 7, 1, 2, 7, 1, 2, 3, 4, 6, 7, 1, 2, 3, 4, 6, 2, 3, 4, 5, 6, 7, 2, 5, 6, 7, 1, 2, 3, 1, 2, 3, 5, 3, 6, 1, 2, 3, 6, 7, 1, 2, 3, 5, 7, 1, 3, 4, 5, 6, 2, 4, 5, 6, 2, 4, 6, 1, 2, 3, 4, 5, 6, 7, 1, 2, 3, 4, 5, 6, 7, 3, 5, 1, 3, 4, 5, 6, 7, 1, 7, 1, 2, 3, 4, 6, 7, 1, 4, 1, 2, 3, 4, 6, 7, 1, 2, 7, 2, 3, 4, 1, 2, 6, 7, 1, 5, 1, 6, 7, 2, 3, 5, 1, 3, 5, 4, 7, 2, 3, 2, 4, 1, 2, 3, 4, 6, 7, 1, 2, 3, 4, 6, 7, 2, 3, 4, 6, 7, 1, 2, 3, 5, 6, 7, 5, 6, 7, 1, 3, 5, 6, 7, 1, 2, 3, 4, 6, 3, 6, 1, 2, 3, 4, 5, 6, 7, 1, 3, 4, 7, 1, 2, 3, 6, 5, 6, 1, 3, 4, 5, 6, 7, 1, 2, 4, 7, 3, 6, 1, 2, 3, 4, 5, 6, 7, 2, 6, 7, 3, 4, 6, 7, 1, 4, 6, 7, 2, 3, 4, 1, 1, 2, 4, 7, 1, 2, 4, 3, 4, 1, 2, 5, 6, 7, 2, 5, 1, 2, 6, 1, 4, 7, 2, 3, 3, 5, 7, 1, 2, 6, 1, 2, 7, 2, 5, 6, 7, 4, 5, 6, 1, 5, 7, 1, 3, 4, 7, 1, 4, 5, 6, 7, 4, 6, 1, 3, 1, 2, 3, 4, 5, 7, 1, 6, 1, 2, 1, 3, 6, 7, 1, 3, 4, 5, 6, 7, 2, 6, 7, 1, 2, 4, 5, 6, 7, 1, 2, 4, 5, 6, 7, 1, 2, 7, 1, 2, 3, 4, 5, 6, 7, 1, 2, 3, 4, 5, 6, 1, 2, 2, 5, 1, 4, 1, 2, 3, 4, 5, 6, 7, 4, 5, 6, 1, 2, 4, 1, 4, 1, 2, 3, 5, 6, 1, 2, 3, 4, 6, 7, 1, 2, 5, 2, 5, 6, 1, 3, 5, 6, 1, 3, 5, 6, 1, 7, 1, 3, 4, 6, 1, 2, 6, 7, 1, 2, 3, 4, 5, 6, 7, 1, 7, 1, 5, 6, 3, 4, 2, 3, 4, 5, 6, 7, 1, 2, 3, 4, 5, 6, 7, 1, 2, 6, 3, 4, 7, 1, 2, 3, 4, 5, 6, 7, 1, 2, 4, 1, 6, 1, 2, 3, 6, 7, 2, 3, 5, 1, 3, 4, 5, 6, 1, 3, 4, 7, 1, 2, 7, 2, 3, 5, 2, 4, 5, 2, 3, 4, 1, 4, 3, 7, 1, 3, 4, 5, 6, 1, 4, 1, 4, 2, 1, 7, 1, 2, 4, 5, 1, 2, 3, 5, 6, 7, 1, 5, 1, 2, 5, 6, 7, 1, 3, 1, 7, 4, 6, 1, 5, 7, 1, 2, 3, 4, 5, 3, 6, 7, 1, 5, 6, 1, 2, 4, 1, 5, 1, 2, 3, 4, 5, 6, 7, 1, 2, 3, 4, 5, 7, 1, 2, 3, 4, 5, 6, 7, 1, 4, 4, 5, 7, 1, 7, 2, 4, 6, 1, 2, 3, 4, 5, 6, 7, 3, 7, 4, 2, 3, 4, 6, 3, 5, 2, 3, 4, 6, 2, 3, 4, 5, 6, 7, 1, 3, 4, 5, 6, 1, 3, 7, 1, 2, 3, 6, 7, 1, 2, 3, 5, 6, 1, 3, 5, 2, 3, 4, 7, 1, 3, 6, 7, 1, 7, 3, 5, 6, 3, 7, 1, 2, 3, 5, 6, 7, 1, 2, 3, 4, 6, 2, 4, 5, 6, 7, 4, 6, 1, 2, 3, 5, 3, 1, 2, 3, 6, 7, 2, 4, 1, 2, 3, 5, 6, 7, 1, 2, 3, 4, 5, 6, 7, 1, 2, 5, 1, 2, 5, 3, 4, 6, 3, 7], \"Freq\": [0.09625958095957597, 0.7700766476766078, 0.09625958095957597, 0.15389335470529833, 0.7694667735264916, 0.17540724720437598, 0.7016289888175039, 0.7072123622296871, 0.17680309055742177, 0.37318045199102134, 0.37318045199102134, 0.2132459725662979, 0.07876716622930822, 0.19691791557327054, 0.19691791557327054, 0.03938358311465411, 0.03938358311465411, 0.11815074934396233, 0.23630149868792466, 0.360007851875941, 0.6000130864599017, 0.2110778627566951, 0.3166167941350427, 0.4221557255133902, 0.3932140044836727, 0.5242853393115636, 0.2696171077912191, 0.5392342155824382, 0.317676190842458, 0.08663896113885218, 0.17327792227770436, 0.17327792227770436, 0.028879653712950728, 0.2021575759906551, 0.024697669685205613, 0.24697669685205612, 0.12348834842602806, 0.2222790271668505, 0.12348834842602806, 0.049395339370411226, 0.2222790271668505, 0.08175076249450765, 0.1635015249890153, 0.08175076249450765, 0.08175076249450765, 0.49050457496704586, 0.11621889076717441, 0.09297511261373953, 0.4183880067618279, 0.046487556306869765, 0.23243778153434883, 0.06973133446030465, 0.11739865626765356, 0.5869932813382678, 0.11739865626765356, 0.2347973125353071, 0.6153506895108324, 0.1538376723777081, 0.1538376723777081, 0.07691883618885405, 0.199344243243037, 0.2657923243240493, 0.5315846486480986, 0.2140065310718306, 0.1070032655359153, 0.5350163276795765, 0.532759291169871, 0.355172860779914, 0.17513505774873586, 0.5254051732462076, 0.17513505774873586, 0.909701254853877, 0.09385972771118455, 0.056315836626710726, 0.5631583662671072, 0.15017556433789528, 0.07508778216894764, 0.03754389108447382, 0.11815786725635058, 0.4081817232492111, 0.10741624296031871, 0.12889949155238245, 0.12889949155238245, 0.06444974577619123, 0.04833730933214342, 0.5379931549378164, 0.03842808249555831, 0.07685616499111662, 0.15371232998223325, 0.11528424748667493, 0.4879430884909913, 0.06296039851496661, 0.25184159405986645, 0.12592079702993322, 0.06296039851496661, 0.02521634458848079, 0.05043268917696158, 0.3278124796502503, 0.40346151341569264, 0.20173075670784632, 0.02521634458848079, 0.26609414741074655, 0.6652353685268664, 0.6764907238852775, 0.1352981447770555, 0.1352981447770555, 0.16291028571149468, 0.488730857134484, 0.08145514285574734, 0.244365428567242, 0.151694786309049, 0.6674570597598156, 0.0758473931545245, 0.0910168717854294, 0.0151694786309049, 0.11867168547373749, 0.23734337094747499, 0.11867168547373749, 0.11867168547373749, 0.43512951340370415, 0.13179377182352883, 0.5271750872941153, 0.17572502909803844, 0.13179377182352883, 0.5869612545654453, 0.15446348804353827, 0.21624888326095357, 0.16989945913485094, 0.4459860802289837, 0.1274245943511382, 0.14866202674299456, 0.08494972956742547, 0.229470545997359, 0.020860958727032634, 0.33377533963252215, 0.285099769269446, 0.020860958727032634, 0.04172191745406527, 0.06258287618109791, 0.530289462267129, 0.3181736773602774, 0.46536167628616576, 0.1329604789389045, 0.06648023946945225, 0.265920957877809, 0.5914603072378773, 0.23658412289515093, 0.11829206144757547, 0.14204106300701014, 0.4261231890210304, 0.07102053150350507, 0.14204106300701014, 0.2130615945105152, 0.5928105572114333, 0.35568633432686, 0.6057529027666824, 0.3028764513833412, 0.3566579059942681, 0.5349868589914021, 0.6673841734251929, 0.13347683468503857, 0.13347683468503857, 0.16525485930838654, 0.08262742965419327, 0.5783920075793528, 0.08262742965419327, 0.1239411444812899, 0.27586018815512847, 0.07881719661575098, 0.23645158984725298, 0.31526878646300394, 0.07881719661575098, 0.12448084461590449, 0.18672126692385674, 0.062240422307952244, 0.24896168923180897, 0.3734425338477135, 0.8025788942380068, 0.047210523190470984, 0.14163156957141296, 0.10722607506065962, 0.857808600485277, 0.23602926085871612, 0.3835475488954137, 0.23602926085871612, 0.11801463042935806, 0.029503657607339515, 0.06537610011347424, 0.06537610011347424, 0.6537610011347424, 0.13075220022694847, 0.039077253317215635, 0.1953862665860782, 0.1953862665860782, 0.4689270398065876, 0.07815450663443127, 0.14178595940039646, 0.21267893910059468, 0.638036817301784, 0.17461723122832265, 0.6984689249132906, 0.39725071135298984, 0.5296676151373199, 0.3493166207325897, 0.5239749310988845, 0.09665836228860165, 0.289975086865805, 0.04832918114430083, 0.5316209925873091, 0.16517794158862037, 0.08258897079431018, 0.6607117663544815, 0.8466448893516494, 0.10583061116895617, 0.47165714177560397, 0.11791428544390099, 0.23582857088780199, 0.16659407347302568, 0.2221254312973676, 0.2221254312973676, 0.3887195047703933, 0.30579455880572265, 0.6115891176114453, 0.17752140361408691, 0.17752140361408691, 0.05917380120469564, 0.11834760240939128, 0.05917380120469564, 0.35504280722817383, 0.10741687783945446, 0.6445012670367267, 0.10741687783945446, 0.7204235851752662, 0.18010589629381654, 0.24622280326537258, 0.041037133877562096, 0.5745198742858694, 0.041037133877562096, 0.041037133877562096, 0.041037133877562096, 0.9107430055018934, 0.11838895913913568, 0.5919447956956784, 0.11838895913913568, 0.11838895913913568, 0.15228754995835017, 0.6091501998334007, 0.15228754995835017, 0.08894406470321214, 0.622608452922485, 0.1778881294064243, 0.08933532634560391, 0.17867065269120783, 0.17867065269120783, 0.4466766317280196, 0.13214962388333873, 0.5285984955333549, 0.26429924776667746, 0.10328452880441122, 0.10328452880441122, 0.2409972338769595, 0.2754254101450966, 0.06885635253627415, 0.06885635253627415, 0.1377127050725483, 0.1598480986648348, 0.05328269955494493, 0.10656539910988987, 0.21313079821977973, 0.37297889688461455, 0.38621242077767415, 0.5406973890887438, 0.7664059565694168, 0.6327629526692113, 0.3349921514131119, 0.03722135015701243, 0.7465762948802136, 0.14931525897604273, 0.7185161522105198, 0.17962903805262995, 0.1905633417009091, 0.1905633417009091, 0.4764083542522728, 0.09528167085045455, 0.26690219195208087, 0.5338043839041617, 0.06672554798802022, 0.5287165333343289, 0.08811942222238815, 0.1762388444447763, 0.1762388444447763, 0.7195102218196152, 0.1798775554549038, 0.30724003873323324, 0.5120667312220554, 0.10241334624441108, 0.05120667312220554, 0.7588034782410105, 0.15176069564820208, 0.1770926770619528, 0.3035874463919191, 0.02529895386599326, 0.12649476932996628, 0.2276905847939393, 0.05059790773198652, 0.07589686159797977, 0.8544116413104831, 0.02083930832464593, 0.08335723329858372, 0.02083930832464593, 0.27920051349668346, 0.23266709458056956, 0.13960025674834173, 0.32573393241279736, 0.10734454963178859, 0.10734454963178859, 0.6440672977907316, 0.10734454963178859, 0.9097556980015964, 0.1321176628312579, 0.1321176628312579, 0.6605883141562895, 0.6448689546064637, 0.21495631820215455, 0.5723123190822995, 0.14307807977057488, 0.2146171196558623, 0.8147851500347575, 0.09053168333719527, 0.1520386225413554, 0.1520386225413554, 0.1520386225413554, 0.4561158676240662, 0.5366386597426228, 0.17887955324754096, 0.17887955324754096, 0.3059257107008899, 0.6118514214017798, 0.8803879885360437, 0.617020961423873, 0.15425524035596824, 0.15425524035596824, 0.7076981254268694, 0.17692453135671735, 0.1275643922609088, 0.3401717126957568, 0.3401717126957568, 0.1275643922609088, 0.0850429281739392, 0.6067791893072791, 0.33709954961515504, 0.2625223586472929, 0.5250447172945858, 0.13126117932364645, 0.26360785626341865, 0.197705892197564, 0.5272157125268373, 0.28181533713168283, 0.6199937416897022, 0.056363067426336566, 0.7146605340237082, 0.17866513350592705, 0.08692723666636273, 0.11590298222181698, 0.6954178933309019, 0.08692723666636273, 0.47037058975086726, 0.11759264743771682, 0.23518529487543363, 0.2130115501979381, 0.10650577509896905, 0.5325288754948453, 0.8957345903337398, 0.08143041730306726, 0.8845044173400757, 0.4769173189159449, 0.4769173189159449, 0.3574822509965364, 0.5362233764948046, 0.9417581922789181, 0.24966906169492614, 0.11523187462842745, 0.07682124975228496, 0.15364249950456993, 0.38410624876142485, 0.01920531243807124, 0.16975250202785863, 0.16975250202785863, 0.05658416734261955, 0.5658416734261955, 0.05658416734261955, 0.11505408669164305, 0.20134465171037533, 0.028763521672910762, 0.11505408669164305, 0.48897986843948293, 0.057527043345821524, 0.531122733857585, 0.13278068346439625, 0.13278068346439625, 0.13278068346439625, 0.26663441860928894, 0.5332688372185779, 0.13331720930464447, 0.21350006506578667, 0.7116668835526223, 0.7017088523745936, 0.23390295079153117, 0.11910919324214396, 0.8337643526950077, 0.4674850810480896, 0.09349701620961792, 0.14024552431442688, 0.14024552431442688, 0.18699403241923584, 0.05295240406236758, 0.10590480812473516, 0.31771442437420544, 0.05295240406236758, 0.4236192324989406, 0.33260655924386945, 0.06652131184877388, 0.13304262369754777, 0.3658672151682564, 0.09978196777316084, 0.12257348994090535, 0.4902939597636214, 0.32686263984241426, 0.04085782998030178, 0.26773914861705017, 0.13386957430852509, 0.5354782972341003, 0.1777253677874611, 0.13329402584059583, 0.13329402584059583, 0.04443134194686527, 0.04443134194686527, 0.1777253677874611, 0.3110193936280569, 0.1518153790740825, 0.030363075814816495, 0.12145230325926598, 0.09108922744444949, 0.1518153790740825, 0.030363075814816495, 0.42508306140743096, 0.1896890398703822, 0.7587561594815287, 0.09680859793257247, 0.09680859793257247, 0.14521289689885872, 0.19361719586514495, 0.29042579379771744, 0.09680859793257247, 0.6735538753302523, 0.26942155013210095, 0.09739519071019961, 0.19479038142039923, 0.04869759535509981, 0.09739519071019961, 0.4869759535509981, 0.04869759535509981, 0.13459291838038237, 0.8075575102822942, 0.15259590308510246, 0.4577877092553074, 0.050865301028367484, 0.050865301028367484, 0.15259590308510246, 0.10173060205673497, 0.11826475246618173, 0.23652950493236347, 0.5913237623309087, 0.19473991877577376, 0.09736995938788688, 0.5842197563273213, 0.1529843518074235, 0.1529843518074235, 0.45895305542227055, 0.1529843518074235, 0.6857048400530273, 0.19591566858657924, 0.2830166624444484, 0.5094299924000071, 0.16980999746666903, 0.6786006555300598, 0.07540007283667331, 0.22620021851001992, 0.151206494673127, 0.604825978692508, 0.151206494673127, 0.3549058461345991, 0.5323587692018986, 0.7077016639962768, 0.1769254159990692, 0.23813431873226315, 0.5953357968306578, 0.042588159456779774, 0.4173639626764418, 0.18738790160983101, 0.12776447837033933, 0.11924684647898337, 0.10221158269627147, 0.12765554489275016, 0.17020739319033354, 0.46807033127341724, 0.042551848297583385, 0.042551848297583385, 0.17020739319033354, 0.4423533383420773, 0.29490222556138485, 0.05898044511227697, 0.08847066766841546, 0.11796089022455394, 0.019604857108983353, 0.15683885687186683, 0.05881457132695007, 0.03920971421796671, 0.019604857108983353, 0.7057748559234007, 0.30342063638177974, 0.4551309545726696, 0.15171031819088987, 0.5038047011135135, 0.02963557065373609, 0.35562684784483306, 0.05927114130747218, 0.02963557065373609, 0.30405814414027943, 0.21050179209711653, 0.023389088010790725, 0.11694544005395363, 0.3274472321510702, 0.17828836308691953, 0.7131534523476781, 0.054621320871136164, 0.21848528348454466, 0.08193198130670425, 0.1365533021778404, 0.1365533021778404, 0.3004172647912489, 0.08193198130670425, 0.041208119006479006, 0.16483247602591602, 0.6181217850971851, 0.12362435701943701, 0.05693369745705584, 0.09488949576175973, 0.6262706720276142, 0.20875689067587141, 0.6985253613828364, 0.23284178712761214, 0.10826597620368573, 0.1701322483200776, 0.2629316564946654, 0.09279940817458777, 0.13919911226188167, 0.21653195240737147, 0.2930437960636467, 0.04884063267727445, 0.3907250614181956, 0.2930437960636467, 0.35520378997881036, 0.5328056849682155, 0.1406558596796205, 0.1687870316155446, 0.1406558596796205, 0.3094428912951651, 0.0562623438718482, 0.0843935158077723, 0.1406558596796205, 0.11834350432185564, 0.3550305129655669, 0.47337401728742257, 0.36945638641715384, 0.36945638641715384, 0.12315212880571794, 0.08210141920381196, 0.1533425923524522, 0.1533425923524522, 0.46002777705735665, 0.1533425923524522, 0.14205340144593473, 0.4261602043378042, 0.35513350361483687, 0.9739272025511978, 0.10681983795491293, 0.10681983795491293, 0.21363967590982585, 0.4272793518196517, 0.2818779444795227, 0.5637558889590454, 0.16912676668771362, 0.2380347521932274, 0.7141042565796822, 0.18366077783348375, 0.3214063612085966, 0.41323675012533845, 0.04591519445837094, 0.04591519445837094, 0.7039458914893768, 0.1759864728723442, 0.2137445566633194, 0.5343613916582985, 0.1068722783316597, 0.17801615846962146, 0.17801615846962146, 0.5340484754088644, 0.6057833805198867, 0.30289169025994334, 0.17594228907576084, 0.17594228907576084, 0.5278268672272826, 0.17900690254824808, 0.17900690254824808, 0.5370207076447442, 0.23705021550420544, 0.11852510775210272, 0.5926255387605136, 0.2963366549199306, 0.059267330983986115, 0.533405978855875, 0.059267330983986115, 0.09578171694082144, 0.5746903016449286, 0.2873451508224643, 0.1756646574437542, 0.5269939723312626, 0.1756646574437542, 0.5079418527447442, 0.12698546318618606, 0.2539709263723721, 0.06349273159309303, 0.5364464465722967, 0.0487678587792997, 0.1950714351171988, 0.0487678587792997, 0.1463035763378991, 0.30681008474022387, 0.6136201694804477, 0.35643394692718583, 0.5346509203907788, 0.06238662997525015, 0.31193314987625076, 0.4990930398020012, 0.031193314987625075, 0.031193314987625075, 0.06238662997525015, 0.32335433800552066, 0.6467086760110413, 0.8689677771321664, 0.07241398142768053, 0.11818128250855148, 0.5909064125427573, 0.11818128250855148, 0.11818128250855148, 0.1851232110186838, 0.020569245668742644, 0.20569245668742642, 0.1439847196811985, 0.287969439362397, 0.1851232110186838, 0.2654814966455834, 0.1327407483227917, 0.5309629932911668, 0.03199292098792184, 0.12797168395168737, 0.12797168395168737, 0.35192213086714025, 0.06398584197584369, 0.2879362888912966, 0.12246822037067989, 0.040822740123559964, 0.040822740123559964, 0.16329096049423986, 0.12246822037067989, 0.5306956216062795, 0.7878690524475487, 0.04924181577797179, 0.14772544733391538, 0.06460092172420268, 0.12920184344840535, 0.09690138258630401, 0.1615023043105067, 0.03230046086210134, 0.22610322603470936, 0.29070414775891207, 0.03373661281504343, 0.06747322563008686, 0.1349464512601737, 0.10120983844513029, 0.6747322563008685, 0.03373661281504343, 0.1777238080424082, 0.7108952321696328, 0.1491097936644768, 0.7455489683223839, 0.15390238452300234, 0.6156095380920094, 0.10006523194092717, 0.06671015462728477, 0.06671015462728477, 0.2668406185091391, 0.06671015462728477, 0.16677538656821195, 0.3001956958227815, 0.5103469836358658, 0.23197590165266627, 0.23197590165266627, 0.6173020312299076, 0.1543255078074769, 0.1543255078074769, 0.6194327813131948, 0.1548581953282987, 0.32122947876432484, 0.16061473938216242, 0.18738386261252282, 0.08030736969108121, 0.21415298584288323, 0.3763352530558726, 0.17106147866176027, 0.01710614786617603, 0.13684918292940823, 0.2908045137249925, 0.01710614786617603, 0.8114528248595632, 0.0901614249843959, 0.0901614249843959, 0.13146242129041552, 0.5258496851616621, 0.26292484258083104, 0.028075034872483733, 0.028075034872483733, 0.9264761507919632, 0.028075034872483733, 0.10491799067996134, 0.15737698601994202, 0.6295079440797681, 0.10491799067996134, 0.2129602154955738, 0.7453607542345083, 0.14672749007854732, 0.09781832671903155, 0.5380007969546735, 0.1956366534380631, 0.10189954469250179, 0.10189954469250179, 0.509497723462509, 0.2547488617312545, 0.34587825769730435, 0.10376347730919132, 0.2680556497154109, 0.12105739019405654, 0.02594086932729783, 0.07782260798189349, 0.06052869509702827, 0.40152565842772664, 0.5353675445703022, 0.7754182932847591, 0.6010890517271814, 0.3005445258635907, 0.5323829748140346, 0.3194297848884207, 0.3271608322785505, 0.16358041613927524, 0.08179020806963762, 0.04089510403481881, 0.24537062420891284, 0.16358041613927524, 0.29467667893450333, 0.16159688844795345, 0.16159688844795345, 0.0190113986409357, 0.18060828708888915, 0.0380227972818714, 0.14258548980701774, 0.21449890958502937, 0.32174836437754406, 0.42899781917005875, 0.24016670448738675, 0.27447623369987056, 0.4460238797622897, 0.2376343322463544, 0.297042915307943, 0.21783147122582486, 0.13862002714370675, 0.019802861020529534, 0.0594085830615886, 0.03960572204105907, 0.5402474601512589, 0.20259279755672208, 0.20259279755672208, 0.3597623369993294, 0.3597623369993294, 0.29801332669452074, 0.1192053306778083, 0.05960266533890415, 0.3576159920334249, 0.17880799601671246, 0.2623805745549996, 0.1311902872774998, 0.5247611491099992, 0.26760222604622175, 0.026760222604622175, 0.13380111302311087, 0.2140817808369774, 0.37464311646471044, 0.1894960414995789, 0.1894960414995789, 0.5053227773322104, 0.0631653471665263, 0.7401180336377557, 0.02846607821683676, 0.22772862573469407, 0.13101102434280756, 0.2620220486856151, 0.5240440973712303, 0.6189602688834098, 0.22105723888693207, 0.13263434333215923, 0.6071063954020204, 0.1517765988505051, 0.1517765988505051, 0.17949433932854397, 0.7179773573141759, 0.5293211889883953, 0.35288079265893024, 0.17861355676385873, 0.17861355676385873, 0.08930677838192937, 0.08930677838192937, 0.4465338919096468, 0.3234509805148884, 0.539084967524814, 0.2697753460911288, 0.6744383652278221, 0.9433388574668897, 0.1997581112914669, 0.732446408068712, 0.3766292810469798, 0.0538041830067114, 0.4304334640536912, 0.1076083660134228, 0.1419811996615018, 0.03549529991537545, 0.319457699238379, 0.0709905998307509, 0.2129717994922527, 0.2129717994922527, 0.46597164932394586, 0.46597164932394586, 0.5358517640827387, 0.04871379673479442, 0.22733105142904064, 0.09742759346958885, 0.09742759346958885, 0.35620029687858146, 0.5936671614643024, 0.7202583199668581, 0.18006457999171452, 0.7527118014806214, 0.21506051470874898, 0.08719122548393765, 0.6975298038715012, 0.08719122548393765, 0.10040041070558607, 0.1506006160583791, 0.10040041070558607, 0.1506006160583791, 0.4518018481751373, 0.15240224550779496, 0.4572067365233849, 0.30480449101558993, 0.6161456835789687, 0.15403642089474218, 0.15403642089474218, 0.09777743625746203, 0.09777743625746203, 0.6844420538022342, 0.3014906290987357, 0.6029812581974714, 0.4670562848435654, 0.19231729375911516, 0.16484339465067013, 0.027473899108445023, 0.1098955964337801, 0.027473899108445023, 0.027473899108445023, 0.10650329519899913, 0.3905120823963302, 0.23963241419774806, 0.18638076659824848, 0.044376372999582976, 0.026625823799749784, 0.18314981196477845, 0.14651984957182276, 0.07325992478591138, 0.03662996239295569, 0.18314981196477845, 0.07325992478591138, 0.25640973675068984, 0.30840217495225014, 0.6168043499045003, 0.31622698124359655, 0.5270449687393276, 0.10540899374786551, 0.17709222148078882, 0.7083688859231553, 0.48506577585534244, 0.19402631034213697, 0.19402631034213697, 0.1086860424255355, 0.2608465018212852, 0.1521604593957497, 0.1521604593957497, 0.1304232509106426, 0.1738976678808568, 0.0434744169702142, 0.8461324992977228, 0.07051104160814357, 0.8957885238806665, 0.09744125206938527, 0.048720626034692634, 0.048720626034692634, 0.7795300165550821, 0.14932717256729008, 0.7466358628364504, 0.10690236074183752, 0.21380472148367505, 0.21380472148367505, 0.4276094429673501, 0.06619886090758992, 0.06619886090758992, 0.2647954436303597, 0.3309943045379496, 0.1654971522689748, 0.09929829136138488, 0.20071420167555618, 0.11469382952888924, 0.11469382952888924, 0.40142840335111235, 0.17204074429333385, 0.15169857448641746, 0.45509572345925237, 0.37924643621604365, 0.042622265004546495, 0.3836003850409185, 0.21311132502273247, 0.2983558550318255, 0.042622265004546495, 0.42861773012134896, 0.09524838447141089, 0.30955724953208535, 0.07143628835355817, 0.09524838447141089, 0.6136204771618599, 0.15340511929046496, 0.15340511929046496, 0.19334605533902968, 0.09667302766951484, 0.19334605533902968, 0.4833651383475742, 0.11194572238280678, 0.6716743342968408, 0.22389144476561357, 0.896331034794391, 0.29643430570974205, 0.7114423337033808, 0.5288137461565805, 0.17627124871886019, 0.17627124871886019, 0.17657636246411804, 0.7063054498564721, 0.42885381541966705, 0.0428853815419667, 0.0857707630839334, 0.1286561446259001, 0.1715415261678668, 0.1286561446259001, 0.0892312558523182, 0.1784625117046364, 0.1338468837784773, 0.2230781396307955, 0.3569250234092728, 0.5058183055847355, 0.1011636611169471, 0.05058183055847355, 0.15174549167542065, 0.15174549167542065, 0.6138098583380106, 0.3069049291690053, 0.1499670137105174, 0.09997800914034494, 0.04998900457017247, 0.649857059412242, 0.9256084966396444, 0.04273114013473315, 0.12819342040419943, 0.0854622802694663, 0.5555048217515309, 0.1709245605389326, 0.07169994791841686, 0.8603993750210023, 0.1507540618383251, 0.18844257729790637, 0.037688515459581275, 0.45226218551497527, 0.07537703091916255, 0.11306554637874382, 0.2091055820673042, 0.18296738430889117, 0.15682918655047814, 0.3397965708593693, 0.026138197758413025, 0.026138197758413025, 0.05227639551682605, 0.2130351891966746, 0.6391055675900238, 0.1065175945983373, 0.23697850547984506, 0.4739570109596901, 0.11848925273992253, 0.08253432808775456, 0.41267164043877275, 0.41267164043877275, 0.7057117966517792, 0.1764279491629448], \"Term\": [\"acabado\", \"acabado\", \"acabado\", \"aceptable\", \"aceptable\", \"acierto\", \"acierto\", \"adapta\", \"adapta\", \"adem\\u00e1s\", \"adem\\u00e1s\", \"adem\\u00e1s\", \"ahora\", \"ahora\", \"ahora\", \"ahora\", \"ahora\", \"ahora\", \"ahora\", \"ajusta\", \"ajusta\", \"alguna\", \"alguna\", \"alguna\", \"alg\\u00fan\", \"alg\\u00fan\", \"alta\", \"alta\", \"amazon\", \"amazon\", \"amazon\", \"amazon\", \"amazon\", \"amazon\", \"as\\u00ed\", \"as\\u00ed\", \"as\\u00ed\", \"as\\u00ed\", \"as\\u00ed\", \"as\\u00ed\", \"as\\u00ed\", \"aun\", \"aun\", \"aun\", \"aun\", \"aun\", \"aunque\", \"aunque\", \"aunque\", \"aunque\", \"aunque\", \"aunque\", \"auriculares\", \"auriculares\", \"auriculares\", \"auriculares\", \"a\\u00f1os\", \"a\\u00f1os\", \"a\\u00f1os\", \"a\\u00f1os\", \"a\\u00fan\", \"a\\u00fan\", \"a\\u00fan\", \"baja\", \"baja\", \"baja\", \"bajo\", \"bajo\", \"baratos\", \"baratos\", \"baratos\", \"base\", \"bastante\", \"bastante\", \"bastante\", \"bastante\", \"bastante\", \"bastante\", \"bien\", \"bien\", \"bien\", \"bien\", \"bien\", \"bien\", \"bien\", \"bonita\", \"bonita\", \"bonita\", \"bonita\", \"bonita\", \"bonito\", \"bonito\", \"bonito\", \"bonito\", \"bonito\", \"bonitos\", \"bonitos\", \"bonitos\", \"bonitos\", \"bonitos\", \"bonitos\", \"bot\\u00f3n\", \"bot\\u00f3n\", \"brillo\", \"brillo\", \"brillo\", \"buen\", \"buen\", \"buen\", \"buen\", \"buena\", \"buena\", \"buena\", \"buena\", \"buena\", \"bueno\", \"bueno\", \"bueno\", \"bueno\", \"bueno\", \"cable\", \"cable\", \"cable\", \"cable\", \"cadena\", \"cadena\", \"cadena\", \"caja\", \"caja\", \"caja\", \"caja\", \"caja\", \"calidad\", \"calidad\", \"calidad\", \"calidad\", \"calidad\", \"calidad\", \"calidad\", \"cambiar\", \"cambiar\", \"carga\", \"carga\", \"carga\", \"carga\", \"cargar\", \"cargar\", \"cargar\", \"casi\", \"casi\", \"casi\", \"casi\", \"casi\", \"castellano\", \"castellano\", \"cd\", \"cd\", \"certificado\", \"certificado\", \"cierra\", \"cierra\", \"cierra\", \"cierre\", \"cierre\", \"cierre\", \"cierre\", \"cierre\", \"colgante\", \"colgante\", \"colgante\", \"colgante\", \"colgante\", \"collar\", \"collar\", \"collar\", \"collar\", \"collar\", \"color\", \"color\", \"color\", \"colores\", \"colores\", \"compra\", \"compra\", \"compra\", \"compra\", \"compra\", \"comprado\", \"comprado\", \"comprado\", \"comprado\", \"comprar\", \"comprar\", \"comprar\", \"comprar\", \"comprar\", \"compre\", \"compre\", \"compre\", \"compro\", \"compro\", \"condiciones\", \"condiciones\", \"conjunto\", \"conjunto\", \"consola\", \"consola\", \"consola\", \"consola\", \"contenta\", \"contenta\", \"contenta\", \"contento\", \"contento\", \"correctamente\", \"correctamente\", \"correctamente\", \"correcto\", \"correcto\", \"correcto\", \"correcto\", \"corta\", \"corta\", \"cosa\", \"cosa\", \"cosa\", \"cosa\", \"cosa\", \"cosa\", \"cualquier\", \"cualquier\", \"cualquier\", \"cuello\", \"cuello\", \"cumple\", \"cumple\", \"cumple\", \"cumple\", \"cumple\", \"cumple\", \"c\\u00f3modos\", \"deber\\u00eda\", \"deber\\u00eda\", \"deber\\u00eda\", \"deber\\u00eda\", \"deber\\u00edan\", \"deber\\u00edan\", \"deber\\u00edan\", \"decepci\\u00f3n\", \"decepci\\u00f3n\", \"decepci\\u00f3n\", \"deja\", \"deja\", \"deja\", \"deja\", \"dejado\", \"dejado\", \"dejado\", \"demasiado\", \"demasiado\", \"demasiado\", \"demasiado\", \"demasiado\", \"demasiado\", \"demasiado\", \"dentro\", \"dentro\", \"dentro\", \"dentro\", \"dentro\", \"descripci\\u00f3n\", \"descripci\\u00f3n\", \"desear\", \"despu\\u00e9s\", \"despu\\u00e9s\", \"despu\\u00e9s\", \"detalle\", \"detalle\", \"devolver\", \"devolver\", \"devuelto\", \"devuelto\", \"devuelto\", \"devuelto\", \"dia\", \"dia\", \"dia\", \"dice\", \"dice\", \"dice\", \"dice\", \"dio\", \"dio\", \"dise\\u00f1o\", \"dise\\u00f1o\", \"dise\\u00f1o\", \"dise\\u00f1o\", \"divertido\", \"divertido\", \"dos\", \"dos\", \"dos\", \"dos\", \"dos\", \"dos\", \"dos\", \"d\\u00eda\", \"d\\u00eda\", \"d\\u00eda\", \"d\\u00eda\", \"d\\u00edas\", \"d\\u00edas\", \"d\\u00edas\", \"d\\u00edas\", \"edici\\u00f3n\", \"edici\\u00f3n\", \"edici\\u00f3n\", \"edici\\u00f3n\", \"elegantes\", \"encajan\", \"encajan\", \"encajan\", \"encantada\", \"encantada\", \"encantado\", \"encantado\", \"encantado\", \"encant\\u00f3\", \"encant\\u00f3\", \"encima\", \"encima\", \"encima\", \"encima\", \"encontr\\u00e9\", \"encontr\\u00e9\", \"encontr\\u00e9\", \"enga\\u00f1o\", \"enga\\u00f1o\", \"enseguida\", \"entiendo\", \"entiendo\", \"entiendo\", \"entra\", \"entra\", \"entrega\", \"entrega\", \"entrega\", \"entrega\", \"entrega\", \"entregado\", \"entregado\", \"entretenido\", \"entretenido\", \"entretenido\", \"envio\", \"envio\", \"envio\", \"espa\\u00f1ol\", \"espa\\u00f1ol\", \"espa\\u00f1ol\", \"espa\\u00f1ola\", \"espa\\u00f1ola\", \"esperaba\", \"esperaba\", \"esperaba\", \"esperaba\", \"esperado\", \"esperado\", \"esperado\", \"esperar\", \"esperar\", \"esperar\", \"expectativas\", \"expectativas\", \"familia\", \"fatal\", \"fatal\", \"fin\", \"fin\", \"fino\", \"foto\", \"foto\", \"foto\", \"foto\", \"foto\", \"foto\", \"fotos\", \"fotos\", \"fotos\", \"fotos\", \"fotos\", \"funciona\", \"funciona\", \"funciona\", \"funciona\", \"funciona\", \"funciona\", \"funcionan\", \"funcionan\", \"funcionan\", \"funcionan\", \"funcionar\", \"funcionar\", \"funcionar\", \"funda\", \"funda\", \"general\", \"general\", \"genial\", \"genial\", \"gracias\", \"gracias\", \"gracias\", \"gracias\", \"gracias\", \"gran\", \"gran\", \"gran\", \"gran\", \"gran\", \"grande\", \"grande\", \"grande\", \"grande\", \"grande\", \"grandes\", \"grandes\", \"grandes\", \"grandes\", \"gr\\u00e1ficos\", \"gr\\u00e1ficos\", \"gr\\u00e1ficos\", \"gusta\", \"gusta\", \"gusta\", \"gusta\", \"gusta\", \"gusta\", \"gusta\", \"gustado\", \"gustado\", \"gustado\", \"gustado\", \"gustado\", \"gustado\", \"gustado\", \"gustan\", \"gustan\", \"gusto\", \"gusto\", \"gusto\", \"gusto\", \"gusto\", \"gusto\", \"gust\\u00f3\", \"gust\\u00f3\", \"hace\", \"hace\", \"hace\", \"hace\", \"hace\", \"hace\", \"hacen\", \"hacen\", \"hacer\", \"hacer\", \"hacer\", \"hacer\", \"hacer\", \"hacer\", \"hija\", \"hija\", \"hija\", \"historia\", \"historia\", \"historia\", \"hola\", \"hola\", \"hola\", \"hola\", \"hoy\", \"hoy\", \"igual\", \"igual\", \"igual\", \"imagen\", \"imagen\", \"imagen\", \"imposible\", \"imposible\", \"imposible\", \"ingl\\u00e9s\", \"ingl\\u00e9s\", \"instrucciones\", \"instrucciones\", \"italiano\", \"italiano\", \"juego\", \"juego\", \"juego\", \"juego\", \"juego\", \"juego\", \"juegos\", \"juegos\", \"juegos\", \"juegos\", \"juegos\", \"juegos\", \"jugar\", \"jugar\", \"jugar\", \"jugar\", \"jugar\", \"llegado\", \"llegado\", \"llegado\", \"llegado\", \"llegado\", \"llegado\", \"llegaron\", \"llegaron\", \"llegaron\", \"llego\", \"llego\", \"llego\", \"llego\", \"llego\", \"lleg\\u00f3\", \"lleg\\u00f3\", \"lleg\\u00f3\", \"lleg\\u00f3\", \"lleg\\u00f3\", \"luces\", \"luces\", \"mal\", \"mal\", \"mal\", \"mal\", \"mal\", \"mal\", \"mal\", \"mala\", \"mala\", \"mala\", \"mala\", \"mando\", \"mando\", \"mando\", \"mando\", \"marca\", \"marca\", \"mas\", \"mas\", \"mas\", \"mas\", \"mas\", \"mas\", \"material\", \"material\", \"material\", \"material\", \"media\", \"media\", \"mejor\", \"mejor\", \"mejor\", \"mejor\", \"mejor\", \"mejor\", \"mejor\", \"mejores\", \"mejores\", \"mejores\", \"menos\", \"menos\", \"menos\", \"menos\", \"merece\", \"merece\", \"merece\", \"merece\", \"mes\", \"mes\", \"mes\", \"meses\", \"misma\", \"misma\", \"misma\", \"misma\", \"mismo\", \"mismo\", \"mismo\", \"modo\", \"modo\", \"momento\", \"momento\", \"momento\", \"momento\", \"momento\", \"mont\\u00f3n\", \"mont\\u00f3n\", \"mucha\", \"mucha\", \"mucha\", \"mu\\u00f1eca\", \"mu\\u00f1eca\", \"mu\\u00f1eca\", \"m\\u00f3viles\", \"m\\u00f3viles\", \"nadie\", \"nadie\", \"nadie\", \"negra\", \"negra\", \"negra\", \"ninguna\", \"ninguna\", \"ninguna\", \"nintendo\", \"nintendo\", \"nintendo\", \"nintendo\", \"ni\\u00f1as\", \"ni\\u00f1as\", \"ni\\u00f1as\", \"ni\\u00f1os\", \"ni\\u00f1os\", \"ni\\u00f1os\", \"nuevo\", \"nuevo\", \"nuevo\", \"nuevo\", \"nunca\", \"nunca\", \"nunca\", \"nunca\", \"nunca\", \"one\", \"one\", \"opinar\", \"opinar\", \"original\", \"original\", \"original\", \"original\", \"original\", \"original\", \"pandora\", \"pandora\", \"paquete\", \"paquete\", \"par\", \"par\", \"par\", \"par\", \"parece\", \"parece\", \"parece\", \"parece\", \"parece\", \"parece\", \"parecido\", \"parecido\", \"parecido\", \"parte\", \"parte\", \"parte\", \"parte\", \"parte\", \"parte\", \"pedido\", \"pedido\", \"pedido\", \"pedido\", \"pedido\", \"pedido\", \"pedir\", \"pedir\", \"pedir\", \"pena\", \"pena\", \"pena\", \"pena\", \"pena\", \"pena\", \"pena\", \"pendientes\", \"pendientes\", \"pendientes\", \"pendientes\", \"pendientes\", \"pendientes\", \"pensaba\", \"pensaba\", \"peor\", \"peor\", \"peque\\u00f1as\", \"peque\\u00f1as\", \"peque\\u00f1o\", \"peque\\u00f1o\", \"peque\\u00f1o\", \"peque\\u00f1o\", \"peque\\u00f1o\", \"peque\\u00f1o\", \"peque\\u00f1o\", \"peque\\u00f1os\", \"peque\\u00f1os\", \"peque\\u00f1os\", \"perdido\", \"perdido\", \"perdido\", \"perdi\\u00f3\", \"perdi\\u00f3\", \"perfectamente\", \"perfectamente\", \"perfectamente\", \"perfectamente\", \"perfectamente\", \"perfecto\", \"perfecto\", \"perfecto\", \"perfecto\", \"perfecto\", \"perfecto\", \"persona\", \"persona\", \"persona\", \"pesan\", \"pesan\", \"pesan\", \"plata\", \"plata\", \"plata\", \"plata\", \"pl\\u00e1stico\", \"pl\\u00e1stico\", \"pl\\u00e1stico\", \"pl\\u00e1stico\", \"poca\", \"poca\", \"pone\", \"pone\", \"pone\", \"pone\", \"poner\", \"poner\", \"poner\", \"poner\", \"precio\", \"precio\", \"precio\", \"precio\", \"precio\", \"precio\", \"precio\", \"precioso\", \"precioso\", \"prime\", \"primera\", \"primera\", \"principio\", \"principio\", \"problema\", \"problema\", \"problema\", \"problema\", \"problema\", \"problema\", \"producto\", \"producto\", \"producto\", \"producto\", \"producto\", \"producto\", \"producto\", \"pronto\", \"pronto\", \"pronto\", \"ps\", \"ps\", \"ps\", \"puede\", \"puede\", \"puede\", \"puede\", \"puede\", \"puede\", \"puede\", \"pues\", \"pues\", \"pues\", \"puesta\", \"puesta\", \"puesto\", \"puesto\", \"puesto\", \"puesto\", \"puesto\", \"puestos\", \"puestos\", \"puestos\", \"pulsera\", \"pulsera\", \"pulsera\", \"pulsera\", \"pulsera\", \"q\", \"q\", \"q\", \"q\", \"queda\", \"queda\", \"queda\", \"quedado\", \"quedado\", \"quedado\", \"quedan\", \"quedan\", \"quedan\", \"quieres\", \"quieres\", \"quieres\", \"quiz\\u00e1\", \"quiz\\u00e1\", \"rapidez\", \"rapidez\", \"rapido\", \"rapido\", \"rapido\", \"rapido\", \"rapido\", \"rat\\u00f3n\", \"rat\\u00f3n\", \"realidad\", \"realidad\", \"realmente\", \"recibido\", \"recibido\", \"recomendable\", \"recomendable\", \"recomendable\", \"recomendable\", \"recomiendo\", \"recomiendo\", \"recomiendo\", \"recomiendo\", \"recomiendo\", \"recomiendo\", \"regalar\", \"regalar\", \"regalo\", \"regalo\", \"regalo\", \"regalo\", \"regalo\", \"relaci\\u00f3n\", \"relaci\\u00f3n\", \"repartidor\", \"repartidor\", \"rompi\\u00f3\", \"rompi\\u00f3\", \"rota\", \"rota\", \"rota\", \"roto\", \"roto\", \"roto\", \"roto\", \"roto\", \"ruido\", \"ruido\", \"ruido\", \"seg\\u00fan\", \"seg\\u00fan\", \"seg\\u00fan\", \"semana\", \"semana\", \"semana\", \"semanas\", \"semanas\", \"ser\", \"ser\", \"ser\", \"ser\", \"ser\", \"ser\", \"ser\", \"si\", \"si\", \"si\", \"si\", \"si\", \"si\", \"sido\", \"sido\", \"sido\", \"sido\", \"sido\", \"sido\", \"sido\", \"siendo\", \"siendo\", \"sigue\", \"sigue\", \"sigue\", \"simplemente\", \"simplemente\", \"sitio\", \"sitio\", \"sitio\", \"solo\", \"solo\", \"solo\", \"solo\", \"solo\", \"solo\", \"solo\", \"sonido\", \"sonido\", \"super\", \"switch\", \"switch\", \"switch\", \"switch\", \"s\\u00e9\", \"s\\u00e9\", \"tacto\", \"tacto\", \"tacto\", \"tacto\", \"tal\", \"tal\", \"tal\", \"tal\", \"tal\", \"tal\", \"tama\\u00f1o\", \"tama\\u00f1o\", \"tama\\u00f1o\", \"tama\\u00f1o\", \"tama\\u00f1o\", \"tampoco\", \"tampoco\", \"tampoco\", \"tan\", \"tan\", \"tan\", \"tan\", \"tan\", \"tiempo\", \"tiempo\", \"tiempo\", \"tiempo\", \"tiempo\", \"tipo\", \"tipo\", \"tipo\", \"toda\", \"toda\", \"toda\", \"toda\", \"todas\", \"todas\", \"todas\", \"todav\\u00eda\", \"trae\", \"trae\", \"tra\\u00eda\", \"tra\\u00eda\", \"tra\\u00eda\", \"usado\", \"usado\", \"uso\", \"uso\", \"uso\", \"uso\", \"uso\", \"uso\", \"va\", \"va\", \"va\", \"va\", \"va\", \"vale\", \"vale\", \"vale\", \"vale\", \"vale\", \"ven\", \"ven\", \"vendedor\", \"vendedor\", \"vendedor\", \"vendedor\", \"venia\", \"verdad\", \"verdad\", \"verdad\", \"verdad\", \"verdad\", \"versi\\u00f3n\", \"versi\\u00f3n\", \"vez\", \"vez\", \"vez\", \"vez\", \"vez\", \"vez\", \"viene\", \"viene\", \"viene\", \"viene\", \"viene\", \"viene\", \"viene\", \"vino\", \"vino\", \"vino\", \"visto\", \"visto\", \"visto\", \"xbox\", \"xbox\", \"xbox\", \"\\u00fanica\", \"\\u00fanica\"]}, \"R\": 30, \"lambda.step\": 0.01, \"plot.opts\": {\"xlab\": \"PC1\", \"ylab\": \"PC2\"}, \"topic.order\": [4, 6, 7, 3, 1, 2, 5]};\n",
              "\n",
              "function LDAvis_load_lib(url, callback){\n",
              "  var s = document.createElement('script');\n",
              "  s.src = url;\n",
              "  s.async = true;\n",
              "  s.onreadystatechange = s.onload = callback;\n",
              "  s.onerror = function(){console.warn(\"failed to load library \" + url);};\n",
              "  document.getElementsByTagName(\"head\")[0].appendChild(s);\n",
              "}\n",
              "\n",
              "if(typeof(LDAvis) !== \"undefined\"){\n",
              "   // already loaded: just create the visualization\n",
              "   !function(LDAvis){\n",
              "       new LDAvis(\"#\" + \"ldavis_el57926736143124963199174707\", ldavis_el57926736143124963199174707_data);\n",
              "   }(LDAvis);\n",
              "}else if(typeof define === \"function\" && define.amd){\n",
              "   // require.js is available: use it to load d3/LDAvis\n",
              "   require.config({paths: {d3: \"https://d3js.org/d3.v5\"}});\n",
              "   require([\"d3\"], function(d3){\n",
              "      window.d3 = d3;\n",
              "      LDAvis_load_lib(\"https://cdn.jsdelivr.net/gh/bmabey/pyLDAvis@3.3.1/pyLDAvis/js/ldavis.v3.0.0.js\", function(){\n",
              "        new LDAvis(\"#\" + \"ldavis_el57926736143124963199174707\", ldavis_el57926736143124963199174707_data);\n",
              "      });\n",
              "    });\n",
              "}else{\n",
              "    // require.js not available: dynamically load d3 & LDAvis\n",
              "    LDAvis_load_lib(\"https://d3js.org/d3.v5.js\", function(){\n",
              "         LDAvis_load_lib(\"https://cdn.jsdelivr.net/gh/bmabey/pyLDAvis@3.3.1/pyLDAvis/js/ldavis.v3.0.0.js\", function(){\n",
              "                 new LDAvis(\"#\" + \"ldavis_el57926736143124963199174707\", ldavis_el57926736143124963199174707_data);\n",
              "            })\n",
              "         });\n",
              "}\n",
              "</script>"
            ],
            "text/plain": [
              "<IPython.core.display.HTML object>"
            ]
          },
          "metadata": {
            "tags": []
          },
          "execution_count": 12
        }
      ]
    },
    {
      "cell_type": "markdown",
      "metadata": {
        "id": "sN0dM9iJukOF"
      },
      "source": [
        "## ¿Qué conclusiones puede sacar de los resultados de los últimos tres talleres, usando diferentes modelos pero los mismos datos?"
      ]
    },
    {
      "cell_type": "code",
      "metadata": {
        "id": "gSi6leU7ukOF"
      },
      "source": [
        ""
      ],
      "execution_count": null,
      "outputs": []
    },
    {
      "cell_type": "markdown",
      "metadata": {
        "id": "6TN75oHwukOG"
      },
      "source": [
        "En el taller No. 7 se utilizó el modelo de regresión logística, con este modelo lo que se obtiene es identificar las palabras que más influyen por cada categoría, y busca predecir que si las palabras dentro de la base pertenecen a que categoría.\n",
        "\n",
        "Con el taller No. 8 se utilizó el metodo del algoritmo k-means para agrupar por clusters y de esta manera agrupar las palabras clasificando de forma que cada objeto dentro de los datos pertenece al centroide mas cercano de su cluster.\n",
        "\n",
        "Para este ultimo taller No.9 se utilizó el algoritmo de Linear Discriminant Analysis (LDA) este modelo asume que las clases  de los predictores se distribuyen de forma normal, y al igual que el modelo de regresión logistica son los dos modelos que obtienen los resultados mas precisos, por que identifican y predicen la categoria a la que pertenece cada elemento, mientras que en k-means clasifica basado en los proporcion que esta pertenece a una clase y con ello predice el nuevo elemento a la clase mas frecuente. Sin embargo los tres modelos tienen resultados parecidos."
      ]
    },
    {
      "cell_type": "code",
      "metadata": {
        "id": "9cn-6Lm5ukOG"
      },
      "source": [
        ""
      ],
      "execution_count": null,
      "outputs": []
    },
    {
      "cell_type": "code",
      "metadata": {
        "id": "UdeZggKFukOG"
      },
      "source": [
        ""
      ],
      "execution_count": null,
      "outputs": []
    },
    {
      "cell_type": "code",
      "metadata": {
        "id": "jPmx0U2hukOH"
      },
      "source": [
        ""
      ],
      "execution_count": null,
      "outputs": []
    },
    {
      "cell_type": "code",
      "metadata": {
        "id": "D6vpn230ukOH"
      },
      "source": [
        ""
      ],
      "execution_count": null,
      "outputs": []
    },
    {
      "cell_type": "code",
      "metadata": {
        "id": "Q6cluO0JukOH"
      },
      "source": [
        ""
      ],
      "execution_count": null,
      "outputs": []
    },
    {
      "cell_type": "code",
      "metadata": {
        "id": "iaW1wvhLukOH"
      },
      "source": [
        ""
      ],
      "execution_count": null,
      "outputs": []
    },
    {
      "cell_type": "code",
      "metadata": {
        "id": "2kJZBjpvukOH"
      },
      "source": [
        ""
      ],
      "execution_count": null,
      "outputs": []
    },
    {
      "cell_type": "code",
      "metadata": {
        "id": "0vS_h9ztukOI"
      },
      "source": [
        ""
      ],
      "execution_count": null,
      "outputs": []
    },
    {
      "cell_type": "code",
      "metadata": {
        "id": "eUHEwOcHukOI"
      },
      "source": [
        ""
      ],
      "execution_count": null,
      "outputs": []
    },
    {
      "cell_type": "code",
      "metadata": {
        "id": "EgntxiRZukOI"
      },
      "source": [
        ""
      ],
      "execution_count": null,
      "outputs": []
    },
    {
      "cell_type": "code",
      "metadata": {
        "id": "kPPJOZKXukOI"
      },
      "source": [
        ""
      ],
      "execution_count": null,
      "outputs": []
    },
    {
      "cell_type": "code",
      "metadata": {
        "id": "XAjF2Ii2ukOI"
      },
      "source": [
        ""
      ],
      "execution_count": null,
      "outputs": []
    },
    {
      "cell_type": "code",
      "metadata": {
        "id": "PY44rQZcukOJ"
      },
      "source": [
        ""
      ],
      "execution_count": null,
      "outputs": []
    },
    {
      "cell_type": "code",
      "metadata": {
        "id": "0REY2LHeukOJ"
      },
      "source": [
        ""
      ],
      "execution_count": null,
      "outputs": []
    },
    {
      "cell_type": "code",
      "metadata": {
        "id": "b2rPlmyfukOJ"
      },
      "source": [
        ""
      ],
      "execution_count": null,
      "outputs": []
    },
    {
      "cell_type": "code",
      "metadata": {
        "id": "iYrPDsUpukOJ"
      },
      "source": [
        ""
      ],
      "execution_count": null,
      "outputs": []
    }
  ]
}