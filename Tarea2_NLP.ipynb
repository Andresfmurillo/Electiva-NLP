{
 "cells": [
  {
   "cell_type": "code",
   "execution_count": 2,
   "metadata": {},
   "outputs": [
    {
     "name": "stdout",
     "output_type": "stream",
     "text": [
      "Collecting PyMuPDF\n",
      "  Downloading PyMuPDF-1.18.9-cp38-cp38-win_amd64.whl (5.3 MB)\n",
      "Installing collected packages: PyMuPDF\n",
      "Successfully installed PyMuPDF-1.18.9\n",
      "Note: you may need to restart the kernel to use updated packages.\n"
     ]
    }
   ],
   "source": [
    "# instalar la librería PyMuPDF para poder leer y contar las palabras en cada archivo\n",
    "\n",
    "pip install PyMuPDF"
   ]
  },
  {
   "cell_type": "code",
   "execution_count": 55,
   "metadata": {},
   "outputs": [],
   "source": [
    "import pandas as pd\n",
    "import fitz\n",
    "import os\n",
    "from zipfile import ZipFile"
   ]
  },
  {
   "cell_type": "code",
   "execution_count": 56,
   "metadata": {},
   "outputs": [],
   "source": [
    "# 1. Descomprimir los archivos contenidos en el Zip\n",
    "\n",
    "Zip_Tarea2_NLP = \"C:/Users/AndresFelipe/Downloads/tarea #2 NLP/python_books.zip\"\n",
    "\n",
    "# Descomprimir el archivo ZIP\n",
    "with ZipFile(Zip_Tarea2_NLP) as archivo:\n",
    "    archivo.extractall(\"C:/Users/AndresFelipe/Downloads/tarea #2 NLP/\")"
   ]
  },
  {
   "cell_type": "code",
   "execution_count": 57,
   "metadata": {},
   "outputs": [
    {
     "name": "stdout",
     "output_type": "stream",
     "text": [
      "('C:/Users/AndresFelipe/Downloads/tarea #2 NLP/python_books', [], ['Python  Data Science Cookbook.pdf', 'Python - AWS.pdf', 'Python - Finance.pdf'])\n"
     ]
    }
   ],
   "source": [
    "for archivo in os.walk(\"C:/Users/AndresFelipe/Downloads/tarea #2 NLP/python_books\"):\n",
    "    print(archivo)"
   ]
  },
  {
   "cell_type": "code",
   "execution_count": 58,
   "metadata": {},
   "outputs": [
    {
     "name": "stdout",
     "output_type": "stream",
     "text": [
      "Python  Data Science Cookbook.pdf\n",
      "Python - AWS.pdf\n",
      "Python - Finance.pdf\n"
     ]
    }
   ],
   "source": [
    "#Imprimir en pantalla el listado de archivos contenidos en el ZIP\n",
    "\n",
    "for raiz, dirs, archivos in os.walk(\"C:/Users/AndresFelipe/Downloads/tarea #2 NLP/python_books\"):\n",
    "    # print(raiz, dirs, archivos)\n",
    "    for a in archivos: \n",
    "        print(a)"
   ]
  },
  {
   "cell_type": "code",
   "execution_count": 59,
   "metadata": {},
   "outputs": [
    {
     "name": "stdout",
     "output_type": "stream",
     "text": [
      "Número de páginas: 1\n",
      "Número de caracteres en el archivo Data Science Cookbook: 3371\n",
      "Número de palabras en el archivo Data Science Cookbook: 535\n"
     ]
    }
   ],
   "source": [
    "# 2. Leer cada archivo despues de descomprimirlos del archivo zip\n",
    "\n",
    "\n",
    "# Leer el archivo de Data Science Cookbook\n",
    "\n",
    "documento1 = fitz.open(\"C:/Users/AndresFelipe/Downloads/tarea #2 NLP/python_books/Python  Data Science Cookbook.pdf\")\n",
    "print(\"Número de páginas:\", documento1.pageCount)\n",
    "pagina_PythonDataScienceCookbook = documento1.loadPage(0)\n",
    "text_PythonDataScienceCookbook = pagina_PythonDataScienceCookbook.getText()\n",
    "words_PythonDataScienceCookbook = text_PythonDataScienceCookbook.split()\n",
    "print('Número de caracteres en el archivo Data Science Cookbook:', len(text_PythonDataScienceCookbook))\n",
    "print('Número de palabras en el archivo Data Science Cookbook:', len(words_PythonDataScienceCookbook))"
   ]
  },
  {
   "cell_type": "code",
   "execution_count": 60,
   "metadata": {},
   "outputs": [
    {
     "name": "stdout",
     "output_type": "stream",
     "text": [
      "Número de páginas: 1\n",
      "Número de caracteres en el archivo Python - AWS: 1820\n",
      "Número de palabras en el archivo Python - AWS: 254\n"
     ]
    }
   ],
   "source": [
    "# Leer el archivo de Python - AWS\n",
    "\n",
    "documento2 = fitz.open(\"C:/Users/AndresFelipe/Downloads/tarea #2 NLP/python_books/Python - AWS.pdf\")\n",
    "print(\"Número de páginas:\", documento2.pageCount)\n",
    "pagina_Python_AWS = documento2.loadPage(0)\n",
    "text_Python_AWS = pagina_Python_AWS.getText()\n",
    "words_Python_AWS = text_Python_AWS.split()\n",
    "print('Número de caracteres en el archivo Python - AWS:', len(text_Python_AWS))\n",
    "print('Número de palabras en el archivo Python - AWS:', len(words_Python_AWS))"
   ]
  },
  {
   "cell_type": "code",
   "execution_count": 61,
   "metadata": {},
   "outputs": [
    {
     "name": "stdout",
     "output_type": "stream",
     "text": [
      "Número de páginas: 1\n",
      "Número de caracteres en el archivo Python - Finance: 1345\n",
      "Número de palabras en el archivo Python - Finance: 226\n"
     ]
    }
   ],
   "source": [
    "# Leer el archivo de Python - Finance\n",
    "\n",
    "\n",
    "documento3 = fitz.open(\"C:/Users/AndresFelipe/Downloads/tarea #2 NLP/python_books/Python - Finance.pdf\")\n",
    "print(\"Número de páginas:\", documento3.pageCount)\n",
    "pagina_Python_Finance = documento3.loadPage(0)\n",
    "text_Python_Finance = pagina_Python_Finance.getText(\"text\")\n",
    "words_Python_Finance = text_Python_Finance.split()\n",
    "print('Número de caracteres en el archivo Python - Finance:', len(text_Python_Finance))\n",
    "print('Número de palabras en el archivo Python - Finance:', len(words_Python_Finance))"
   ]
  },
  {
   "cell_type": "code",
   "execution_count": null,
   "metadata": {},
   "outputs": [],
   "source": []
  },
  {
   "cell_type": "code",
   "execution_count": 62,
   "metadata": {},
   "outputs": [],
   "source": [
    "# 3. ¿Cuál archivo tiene el mayor número de palabras?\n",
    "\n",
    "## El archivo que tiene mayor numero de palabras es Data Science Cookbook con 535."
   ]
  }
 ],
 "metadata": {
  "kernelspec": {
   "display_name": "Python 3",
   "language": "python",
   "name": "python3"
  },
  "language_info": {
   "codemirror_mode": {
    "name": "ipython",
    "version": 3
   },
   "file_extension": ".py",
   "mimetype": "text/x-python",
   "name": "python",
   "nbconvert_exporter": "python",
   "pygments_lexer": "ipython3",
   "version": "3.8.5"
  }
 },
 "nbformat": 4,
 "nbformat_minor": 4
}
