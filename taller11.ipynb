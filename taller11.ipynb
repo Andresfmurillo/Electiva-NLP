{
  "nbformat": 4,
  "nbformat_minor": 0,
  "metadata": {
    "kernelspec": {
      "display_name": "Python 3",
      "language": "python",
      "name": "python3"
    },
    "language_info": {
      "codemirror_mode": {
        "name": "ipython",
        "version": 3
      },
      "file_extension": ".py",
      "mimetype": "text/x-python",
      "name": "python",
      "nbconvert_exporter": "python",
      "pygments_lexer": "ipython3",
      "version": "3.8.5"
    },
    "colab": {
      "name": "taller11.ipynb",
      "provenance": [],
      "collapsed_sections": []
    }
  },
  "cells": [
    {
      "cell_type": "markdown",
      "metadata": {
        "id": "zGpFn1e46es4"
      },
      "source": [
        "<img src='https://encrypted-tbn0.gstatic.com/images?q=tbn%3AANd9GcQ-VfNtOyJbsaxu43Kztf_cv1mgBG6ZIQZEVw&usqp=CAU'>\n",
        "\n",
        "# Procesamiento de Lenguage Natural\n",
        "\n",
        "## Taller #11: Twitter\n",
        "`Fecha de entrega: Mayo 20, 2021 (Antes del inicio de la próxima clase).`\n",
        "\n",
        "`Modo de entrega: Subir link de GitHub al aula virtual.`\n",
        "\n",
        "\n",
        "## Presentado por: Andrés Felipe Murillo"
      ]
    },
    {
      "cell_type": "markdown",
      "metadata": {
        "id": "tvmBlzea6es7"
      },
      "source": [
        "###  `[25 pts]` Punto 1: Extraer Tuits\n",
        "Extraer mínimo 100 tuits de Twitter usando la API\n",
        "\n",
        "❌ No escoger un tema de los que hicimos en clase (día de las madres, Giro de Italia, #EraGoldeYepes)"
      ]
    },
    {
      "cell_type": "code",
      "metadata": {
        "id": "19_bT8Lr6es8"
      },
      "source": [
        "import pandas as pd\n",
        "import tweepy"
      ],
      "execution_count": null,
      "outputs": []
    },
    {
      "cell_type": "code",
      "metadata": {
        "id": "XVTV3-zM7xKs"
      },
      "source": [
        ""
      ],
      "execution_count": null,
      "outputs": []
    },
    {
      "cell_type": "code",
      "metadata": {
        "id": "rzZUXTz76es8",
        "outputId": "6e46addb-f46c-40eb-fe67-1d520f32917d"
      },
      "source": [
        "#leer las llaves\n",
        "keys = pd.read_csv(\"C:/Users/AndresFelipe/Documents/Talleres NLP/Taller 10 twitter/mis_llaves.csv\", header=None)\n",
        "keys = dict(zip(keys[0],keys[1]))\n",
        "keys.keys()"
      ],
      "execution_count": null,
      "outputs": [
        {
          "output_type": "execute_result",
          "data": {
            "text/plain": [
              "dict_keys(['api_key', 'api_secret_key', 'access_token', 'access_token_secret', 'bearer_token'])"
            ]
          },
          "metadata": {
            "tags": []
          },
          "execution_count": 2
        }
      ]
    },
    {
      "cell_type": "code",
      "metadata": {
        "id": "xhJ9b6z56es-"
      },
      "source": [
        "# Autenticar a través de la API \n",
        "auth = tweepy.OAuthHandler(keys['api_key'], keys['api_secret_key'])\n",
        "auth.set_access_token(keys['access_token'], keys['access_token_secret'])\n",
        "api = tweepy.API(auth, wait_on_rate_limit=True)"
      ],
      "execution_count": null,
      "outputs": []
    },
    {
      "cell_type": "code",
      "metadata": {
        "id": "dmEKFFag6es-"
      },
      "source": [
        "### Escogí los tuits referentes a Steph Curry\n",
        "### ingrese las coordenadas de San Francisco - California - USA\n",
        "tweets = tweepy.Cursor(api.search,\n",
        "                       q=['Steph Curry -RT'],\n",
        "                       lang='es',\n",
        "                       geocode='37.7272,-123.032,5000km',\n",
        "                       tweet_mode='extended',\n",
        "                       include_rts=False,\n",
        "                       ).items(2000)"
      ],
      "execution_count": null,
      "outputs": []
    },
    {
      "cell_type": "code",
      "metadata": {
        "id": "44vUc3rS6es_"
      },
      "source": [
        "# Objeto generador\n",
        "t = [tweet for tweet in tweets]"
      ],
      "execution_count": null,
      "outputs": []
    },
    {
      "cell_type": "code",
      "metadata": {
        "id": "ep6lWgLY6es_",
        "outputId": "3c8147ae-98bb-4024-d38c-0f4dc8856e8d"
      },
      "source": [
        "t[0]"
      ],
      "execution_count": null,
      "outputs": [
        {
          "output_type": "execute_result",
          "data": {
            "text/plain": [
              "Status(_api=<tweepy.api.API object at 0x000000D14B019520>, _json={'created_at': 'Thu May 20 15:53:43 +0000 2021', 'id': 1395407398957944838, 'id_str': '1395407398957944838', 'full_text': 'Todos se quedaron con la última jugada de su majestad Lebron anoche, pero que partidazo de Steph Curry, uno más, nada nuevo!', 'truncated': False, 'display_text_range': [0, 124], 'entities': {'hashtags': [], 'symbols': [], 'user_mentions': [], 'urls': []}, 'metadata': {'iso_language_code': 'es', 'result_type': 'recent'}, 'source': '<a href=\"http://twitter.com/download/android\" rel=\"nofollow\">Twitter for Android</a>', 'in_reply_to_status_id': None, 'in_reply_to_status_id_str': None, 'in_reply_to_user_id': None, 'in_reply_to_user_id_str': None, 'in_reply_to_screen_name': None, 'user': {'id': 362867631, 'id_str': '362867631', 'name': '*Carlos Barros*', 'screen_name': 'ElCarly95', 'location': 'Barranquilla, Colombia', 'description': 'JUNIOR DEL ALMA.', 'url': None, 'entities': {'description': {'urls': []}}, 'protected': False, 'followers_count': 410, 'friends_count': 91, 'listed_count': 0, 'created_at': 'Sat Aug 27 03:32:15 +0000 2011', 'favourites_count': 2380, 'utc_offset': None, 'time_zone': None, 'geo_enabled': True, 'verified': False, 'statuses_count': 18633, 'lang': None, 'contributors_enabled': False, 'is_translator': False, 'is_translation_enabled': False, 'profile_background_color': '131516', 'profile_background_image_url': 'http://abs.twimg.com/images/themes/theme14/bg.gif', 'profile_background_image_url_https': 'https://abs.twimg.com/images/themes/theme14/bg.gif', 'profile_background_tile': True, 'profile_image_url': 'http://pbs.twimg.com/profile_images/1390880696831520771/RztpFeAg_normal.jpg', 'profile_image_url_https': 'https://pbs.twimg.com/profile_images/1390880696831520771/RztpFeAg_normal.jpg', 'profile_banner_url': 'https://pbs.twimg.com/profile_banners/362867631/1620757526', 'profile_link_color': '5EAB1F', 'profile_sidebar_border_color': 'FFFFFF', 'profile_sidebar_fill_color': 'EFEFEF', 'profile_text_color': '333333', 'profile_use_background_image': True, 'has_extended_profile': True, 'default_profile': False, 'default_profile_image': False, 'following': False, 'follow_request_sent': False, 'notifications': False, 'translator_type': 'none', 'withheld_in_countries': []}, 'geo': None, 'coordinates': None, 'place': None, 'contributors': None, 'is_quote_status': False, 'retweet_count': 0, 'favorite_count': 0, 'favorited': False, 'retweeted': False, 'lang': 'es'}, created_at=datetime.datetime(2021, 5, 20, 15, 53, 43), id=1395407398957944838, id_str='1395407398957944838', full_text='Todos se quedaron con la última jugada de su majestad Lebron anoche, pero que partidazo de Steph Curry, uno más, nada nuevo!', truncated=False, display_text_range=[0, 124], entities={'hashtags': [], 'symbols': [], 'user_mentions': [], 'urls': []}, metadata={'iso_language_code': 'es', 'result_type': 'recent'}, source='Twitter for Android', source_url='http://twitter.com/download/android', in_reply_to_status_id=None, in_reply_to_status_id_str=None, in_reply_to_user_id=None, in_reply_to_user_id_str=None, in_reply_to_screen_name=None, author=User(_api=<tweepy.api.API object at 0x000000D14B019520>, _json={'id': 362867631, 'id_str': '362867631', 'name': '*Carlos Barros*', 'screen_name': 'ElCarly95', 'location': 'Barranquilla, Colombia', 'description': 'JUNIOR DEL ALMA.', 'url': None, 'entities': {'description': {'urls': []}}, 'protected': False, 'followers_count': 410, 'friends_count': 91, 'listed_count': 0, 'created_at': 'Sat Aug 27 03:32:15 +0000 2011', 'favourites_count': 2380, 'utc_offset': None, 'time_zone': None, 'geo_enabled': True, 'verified': False, 'statuses_count': 18633, 'lang': None, 'contributors_enabled': False, 'is_translator': False, 'is_translation_enabled': False, 'profile_background_color': '131516', 'profile_background_image_url': 'http://abs.twimg.com/images/themes/theme14/bg.gif', 'profile_background_image_url_https': 'https://abs.twimg.com/images/themes/theme14/bg.gif', 'profile_background_tile': True, 'profile_image_url': 'http://pbs.twimg.com/profile_images/1390880696831520771/RztpFeAg_normal.jpg', 'profile_image_url_https': 'https://pbs.twimg.com/profile_images/1390880696831520771/RztpFeAg_normal.jpg', 'profile_banner_url': 'https://pbs.twimg.com/profile_banners/362867631/1620757526', 'profile_link_color': '5EAB1F', 'profile_sidebar_border_color': 'FFFFFF', 'profile_sidebar_fill_color': 'EFEFEF', 'profile_text_color': '333333', 'profile_use_background_image': True, 'has_extended_profile': True, 'default_profile': False, 'default_profile_image': False, 'following': False, 'follow_request_sent': False, 'notifications': False, 'translator_type': 'none', 'withheld_in_countries': []}, id=362867631, id_str='362867631', name='*Carlos Barros*', screen_name='ElCarly95', location='Barranquilla, Colombia', description='JUNIOR DEL ALMA.', url=None, entities={'description': {'urls': []}}, protected=False, followers_count=410, friends_count=91, listed_count=0, created_at=datetime.datetime(2011, 8, 27, 3, 32, 15), favourites_count=2380, utc_offset=None, time_zone=None, geo_enabled=True, verified=False, statuses_count=18633, lang=None, contributors_enabled=False, is_translator=False, is_translation_enabled=False, profile_background_color='131516', profile_background_image_url='http://abs.twimg.com/images/themes/theme14/bg.gif', profile_background_image_url_https='https://abs.twimg.com/images/themes/theme14/bg.gif', profile_background_tile=True, profile_image_url='http://pbs.twimg.com/profile_images/1390880696831520771/RztpFeAg_normal.jpg', profile_image_url_https='https://pbs.twimg.com/profile_images/1390880696831520771/RztpFeAg_normal.jpg', profile_banner_url='https://pbs.twimg.com/profile_banners/362867631/1620757526', profile_link_color='5EAB1F', profile_sidebar_border_color='FFFFFF', profile_sidebar_fill_color='EFEFEF', profile_text_color='333333', profile_use_background_image=True, has_extended_profile=True, default_profile=False, default_profile_image=False, following=False, follow_request_sent=False, notifications=False, translator_type='none', withheld_in_countries=[]), user=User(_api=<tweepy.api.API object at 0x000000D14B019520>, _json={'id': 362867631, 'id_str': '362867631', 'name': '*Carlos Barros*', 'screen_name': 'ElCarly95', 'location': 'Barranquilla, Colombia', 'description': 'JUNIOR DEL ALMA.', 'url': None, 'entities': {'description': {'urls': []}}, 'protected': False, 'followers_count': 410, 'friends_count': 91, 'listed_count': 0, 'created_at': 'Sat Aug 27 03:32:15 +0000 2011', 'favourites_count': 2380, 'utc_offset': None, 'time_zone': None, 'geo_enabled': True, 'verified': False, 'statuses_count': 18633, 'lang': None, 'contributors_enabled': False, 'is_translator': False, 'is_translation_enabled': False, 'profile_background_color': '131516', 'profile_background_image_url': 'http://abs.twimg.com/images/themes/theme14/bg.gif', 'profile_background_image_url_https': 'https://abs.twimg.com/images/themes/theme14/bg.gif', 'profile_background_tile': True, 'profile_image_url': 'http://pbs.twimg.com/profile_images/1390880696831520771/RztpFeAg_normal.jpg', 'profile_image_url_https': 'https://pbs.twimg.com/profile_images/1390880696831520771/RztpFeAg_normal.jpg', 'profile_banner_url': 'https://pbs.twimg.com/profile_banners/362867631/1620757526', 'profile_link_color': '5EAB1F', 'profile_sidebar_border_color': 'FFFFFF', 'profile_sidebar_fill_color': 'EFEFEF', 'profile_text_color': '333333', 'profile_use_background_image': True, 'has_extended_profile': True, 'default_profile': False, 'default_profile_image': False, 'following': False, 'follow_request_sent': False, 'notifications': False, 'translator_type': 'none', 'withheld_in_countries': []}, id=362867631, id_str='362867631', name='*Carlos Barros*', screen_name='ElCarly95', location='Barranquilla, Colombia', description='JUNIOR DEL ALMA.', url=None, entities={'description': {'urls': []}}, protected=False, followers_count=410, friends_count=91, listed_count=0, created_at=datetime.datetime(2011, 8, 27, 3, 32, 15), favourites_count=2380, utc_offset=None, time_zone=None, geo_enabled=True, verified=False, statuses_count=18633, lang=None, contributors_enabled=False, is_translator=False, is_translation_enabled=False, profile_background_color='131516', profile_background_image_url='http://abs.twimg.com/images/themes/theme14/bg.gif', profile_background_image_url_https='https://abs.twimg.com/images/themes/theme14/bg.gif', profile_background_tile=True, profile_image_url='http://pbs.twimg.com/profile_images/1390880696831520771/RztpFeAg_normal.jpg', profile_image_url_https='https://pbs.twimg.com/profile_images/1390880696831520771/RztpFeAg_normal.jpg', profile_banner_url='https://pbs.twimg.com/profile_banners/362867631/1620757526', profile_link_color='5EAB1F', profile_sidebar_border_color='FFFFFF', profile_sidebar_fill_color='EFEFEF', profile_text_color='333333', profile_use_background_image=True, has_extended_profile=True, default_profile=False, default_profile_image=False, following=False, follow_request_sent=False, notifications=False, translator_type='none', withheld_in_countries=[]), geo=None, coordinates=None, place=None, contributors=None, is_quote_status=False, retweet_count=0, favorite_count=0, favorited=False, retweeted=False, lang='es')"
            ]
          },
          "metadata": {
            "tags": []
          },
          "execution_count": 24
        }
      ]
    },
    {
      "cell_type": "code",
      "metadata": {
        "id": "bwuoPllM6etA"
      },
      "source": [
        "t_processed = []\n",
        "\n",
        "for tweet in t: \n",
        "    temp = []\n",
        "    temp.append(tweet.full_text)\n",
        "    temp.append(tweet.created_at)\n",
        "    temp.append('Bogotá')\n",
        "    temp.append(tweet.user.location)\n",
        "    temp.append(tweet.id)\n",
        "    temp.append(f\"https://twitter.com/i/web/stuatus/{tweet.id}\")\n",
        "    \n",
        "    t_processed.append(temp)"
      ],
      "execution_count": null,
      "outputs": []
    },
    {
      "cell_type": "code",
      "metadata": {
        "id": "TeFHOlcZ6etA",
        "outputId": "fda2d845-a5d9-4605-a4c1-2b8f37f5c122"
      },
      "source": [
        "data = pd.DataFrame(t_processed)\n",
        "data.columns = ['tweets', 'date', 'city', 'user_location', 'id', 'link']\n",
        "data.head()"
      ],
      "execution_count": null,
      "outputs": [
        {
          "output_type": "execute_result",
          "data": {
            "text/html": [
              "<div>\n",
              "<style scoped>\n",
              "    .dataframe tbody tr th:only-of-type {\n",
              "        vertical-align: middle;\n",
              "    }\n",
              "\n",
              "    .dataframe tbody tr th {\n",
              "        vertical-align: top;\n",
              "    }\n",
              "\n",
              "    .dataframe thead th {\n",
              "        text-align: right;\n",
              "    }\n",
              "</style>\n",
              "<table border=\"1\" class=\"dataframe\">\n",
              "  <thead>\n",
              "    <tr style=\"text-align: right;\">\n",
              "      <th></th>\n",
              "      <th>tweets</th>\n",
              "      <th>date</th>\n",
              "      <th>city</th>\n",
              "      <th>user_location</th>\n",
              "      <th>id</th>\n",
              "      <th>link</th>\n",
              "    </tr>\n",
              "  </thead>\n",
              "  <tbody>\n",
              "    <tr>\n",
              "      <th>0</th>\n",
              "      <td>Todos se quedaron con la última jugada de su m...</td>\n",
              "      <td>2021-05-20 15:53:43</td>\n",
              "      <td>Bogotá</td>\n",
              "      <td>Barranquilla, Colombia</td>\n",
              "      <td>1395407398957944838</td>\n",
              "      <td>https://twitter.com/i/web/stuatus/139540739895...</td>\n",
              "    </tr>\n",
              "    <tr>\n",
              "      <th>1</th>\n",
              "      <td>Me van a bardear pero Steph Curry se preocupó ...</td>\n",
              "      <td>2021-05-20 13:54:53</td>\n",
              "      <td>Bogotá</td>\n",
              "      <td>Argentina</td>\n",
              "      <td>1395377490466643968</td>\n",
              "      <td>https://twitter.com/i/web/stuatus/139537749046...</td>\n",
              "    </tr>\n",
              "    <tr>\n",
              "      <th>2</th>\n",
              "      <td>Hay que identificar la diferencia entre un jug...</td>\n",
              "      <td>2021-05-20 13:19:30</td>\n",
              "      <td>Bogotá</td>\n",
              "      <td>Ecuador</td>\n",
              "      <td>1395368585325842436</td>\n",
              "      <td>https://twitter.com/i/web/stuatus/139536858532...</td>\n",
              "    </tr>\n",
              "    <tr>\n",
              "      <th>3</th>\n",
              "      <td>Mención aparte a Steph Curry. Un MVP por todo ...</td>\n",
              "      <td>2021-05-20 12:58:36</td>\n",
              "      <td>Bogotá</td>\n",
              "      <td>Guayaquil, Guayas, Ecuador.</td>\n",
              "      <td>1395363326343921669</td>\n",
              "      <td>https://twitter.com/i/web/stuatus/139536332634...</td>\n",
              "    </tr>\n",
              "    <tr>\n",
              "      <th>4</th>\n",
              "      <td>están ni cerca de contar su impacto en el part...</td>\n",
              "      <td>2021-05-20 06:39:55</td>\n",
              "      <td>Bogotá</td>\n",
              "      <td>Los Angeles, CA</td>\n",
              "      <td>1395268028565123077</td>\n",
              "      <td>https://twitter.com/i/web/stuatus/139526802856...</td>\n",
              "    </tr>\n",
              "  </tbody>\n",
              "</table>\n",
              "</div>"
            ],
            "text/plain": [
              "                                              tweets                date  \\\n",
              "0  Todos se quedaron con la última jugada de su m... 2021-05-20 15:53:43   \n",
              "1  Me van a bardear pero Steph Curry se preocupó ... 2021-05-20 13:54:53   \n",
              "2  Hay que identificar la diferencia entre un jug... 2021-05-20 13:19:30   \n",
              "3  Mención aparte a Steph Curry. Un MVP por todo ... 2021-05-20 12:58:36   \n",
              "4  están ni cerca de contar su impacto en el part... 2021-05-20 06:39:55   \n",
              "\n",
              "     city                user_location                   id  \\\n",
              "0  Bogotá       Barranquilla, Colombia  1395407398957944838   \n",
              "1  Bogotá                    Argentina  1395377490466643968   \n",
              "2  Bogotá                      Ecuador  1395368585325842436   \n",
              "3  Bogotá  Guayaquil, Guayas, Ecuador.  1395363326343921669   \n",
              "4  Bogotá              Los Angeles, CA  1395268028565123077   \n",
              "\n",
              "                                                link  \n",
              "0  https://twitter.com/i/web/stuatus/139540739895...  \n",
              "1  https://twitter.com/i/web/stuatus/139537749046...  \n",
              "2  https://twitter.com/i/web/stuatus/139536858532...  \n",
              "3  https://twitter.com/i/web/stuatus/139536332634...  \n",
              "4  https://twitter.com/i/web/stuatus/139526802856...  "
            ]
          },
          "metadata": {
            "tags": []
          },
          "execution_count": 26
        }
      ]
    },
    {
      "cell_type": "code",
      "metadata": {
        "id": "cqoIqcgW6etB",
        "outputId": "a92fd1c3-8569-4d24-ed63-200f04c6177b"
      },
      "source": [
        "data.shape"
      ],
      "execution_count": null,
      "outputs": [
        {
          "output_type": "execute_result",
          "data": {
            "text/plain": [
              "(119, 6)"
            ]
          },
          "metadata": {
            "tags": []
          },
          "execution_count": 27
        }
      ]
    },
    {
      "cell_type": "code",
      "metadata": {
        "id": "ReLhzlIA6etC"
      },
      "source": [
        ""
      ],
      "execution_count": null,
      "outputs": []
    },
    {
      "cell_type": "code",
      "metadata": {
        "id": "PnEreq7Q6etC"
      },
      "source": [
        "import re"
      ],
      "execution_count": null,
      "outputs": []
    },
    {
      "cell_type": "code",
      "metadata": {
        "id": "g1PEtSju6etD"
      },
      "source": [
        "pattern1 = '?P<pic>pic.twitter.com/[^\\s]+'\n",
        "pattern2 = '?P<url>https?://[^\\s]+'"
      ],
      "execution_count": null,
      "outputs": []
    },
    {
      "cell_type": "code",
      "metadata": {
        "id": "SOqMwamL6etD"
      },
      "source": [
        "def text_clean(row):\n",
        "    text = row['tweets']\n",
        "    \n",
        "    links = [tuple(j for j in i if j)[-1] for i in re.findall(f\"({pattern1})|({pattern2})\",text)]\n",
        "    for link in links:\n",
        "        text = text.replace(link,\"\")\n",
        "    \n",
        "    hashtags = [interaction for interaction in text.split() if interaction.startswith(\"#\")]\n",
        "    for hashtag in hashtags:\n",
        "        text = text.replace(hashtag, \"\")\n",
        "        \n",
        "    mentions = [interaction for interaction in text.split() if interaction.startswith(\"@\")]\n",
        "    for mention in mentions:\n",
        "        text = text.replace(mention, \"\")\n",
        "        \n",
        "    return text, links, hashtags, mentions"
      ],
      "execution_count": null,
      "outputs": []
    },
    {
      "cell_type": "code",
      "metadata": {
        "id": "B4e7bXZF6etD",
        "outputId": "e9b6f83a-2c79-4760-fd24-a61a60440cc6"
      },
      "source": [
        "data[['texto_limpio', 'links', 'hashtags', 'mentions']] = data.apply(text_clean, axis=1, result_type='expand')\n",
        "data"
      ],
      "execution_count": null,
      "outputs": [
        {
          "output_type": "execute_result",
          "data": {
            "text/html": [
              "<div>\n",
              "<style scoped>\n",
              "    .dataframe tbody tr th:only-of-type {\n",
              "        vertical-align: middle;\n",
              "    }\n",
              "\n",
              "    .dataframe tbody tr th {\n",
              "        vertical-align: top;\n",
              "    }\n",
              "\n",
              "    .dataframe thead th {\n",
              "        text-align: right;\n",
              "    }\n",
              "</style>\n",
              "<table border=\"1\" class=\"dataframe\">\n",
              "  <thead>\n",
              "    <tr style=\"text-align: right;\">\n",
              "      <th></th>\n",
              "      <th>tweets</th>\n",
              "      <th>date</th>\n",
              "      <th>city</th>\n",
              "      <th>user_location</th>\n",
              "      <th>id</th>\n",
              "      <th>link</th>\n",
              "      <th>texto_limpio</th>\n",
              "      <th>links</th>\n",
              "      <th>hashtags</th>\n",
              "      <th>mentions</th>\n",
              "    </tr>\n",
              "  </thead>\n",
              "  <tbody>\n",
              "    <tr>\n",
              "      <th>0</th>\n",
              "      <td>Todos se quedaron con la última jugada de su m...</td>\n",
              "      <td>2021-05-20 15:53:43</td>\n",
              "      <td>Bogotá</td>\n",
              "      <td>Barranquilla, Colombia</td>\n",
              "      <td>1395407398957944838</td>\n",
              "      <td>https://twitter.com/i/web/stuatus/139540739895...</td>\n",
              "      <td>Todos se quedaron con la última jugada de su m...</td>\n",
              "      <td>[]</td>\n",
              "      <td>[]</td>\n",
              "      <td>[]</td>\n",
              "    </tr>\n",
              "    <tr>\n",
              "      <th>1</th>\n",
              "      <td>Me van a bardear pero Steph Curry se preocupó ...</td>\n",
              "      <td>2021-05-20 13:54:53</td>\n",
              "      <td>Bogotá</td>\n",
              "      <td>Argentina</td>\n",
              "      <td>1395377490466643968</td>\n",
              "      <td>https://twitter.com/i/web/stuatus/139537749046...</td>\n",
              "      <td>Me van a bardear pero Steph Curry se preocupó ...</td>\n",
              "      <td>[https://t.co/xo5XHWFnqS]</td>\n",
              "      <td>[]</td>\n",
              "      <td>[]</td>\n",
              "    </tr>\n",
              "    <tr>\n",
              "      <th>2</th>\n",
              "      <td>Hay que identificar la diferencia entre un jug...</td>\n",
              "      <td>2021-05-20 13:19:30</td>\n",
              "      <td>Bogotá</td>\n",
              "      <td>Ecuador</td>\n",
              "      <td>1395368585325842436</td>\n",
              "      <td>https://twitter.com/i/web/stuatus/139536858532...</td>\n",
              "      <td>Hay que identificar la diferencia entre un jug...</td>\n",
              "      <td>[]</td>\n",
              "      <td>[]</td>\n",
              "      <td>[]</td>\n",
              "    </tr>\n",
              "    <tr>\n",
              "      <th>3</th>\n",
              "      <td>Mención aparte a Steph Curry. Un MVP por todo ...</td>\n",
              "      <td>2021-05-20 12:58:36</td>\n",
              "      <td>Bogotá</td>\n",
              "      <td>Guayaquil, Guayas, Ecuador.</td>\n",
              "      <td>1395363326343921669</td>\n",
              "      <td>https://twitter.com/i/web/stuatus/139536332634...</td>\n",
              "      <td>Mención aparte a Steph Curry. Un MVP por todo ...</td>\n",
              "      <td>[]</td>\n",
              "      <td>[]</td>\n",
              "      <td>[]</td>\n",
              "    </tr>\n",
              "    <tr>\n",
              "      <th>4</th>\n",
              "      <td>están ni cerca de contar su impacto en el part...</td>\n",
              "      <td>2021-05-20 06:39:55</td>\n",
              "      <td>Bogotá</td>\n",
              "      <td>Los Angeles, CA</td>\n",
              "      <td>1395268028565123077</td>\n",
              "      <td>https://twitter.com/i/web/stuatus/139526802856...</td>\n",
              "      <td>están ni cerca de contar su impacto en el part...</td>\n",
              "      <td>[]</td>\n",
              "      <td>[]</td>\n",
              "      <td>[]</td>\n",
              "    </tr>\n",
              "    <tr>\n",
              "      <th>...</th>\n",
              "      <td>...</td>\n",
              "      <td>...</td>\n",
              "      <td>...</td>\n",
              "      <td>...</td>\n",
              "      <td>...</td>\n",
              "      <td>...</td>\n",
              "      <td>...</td>\n",
              "      <td>...</td>\n",
              "      <td>...</td>\n",
              "      <td>...</td>\n",
              "    </tr>\n",
              "    <tr>\n",
              "      <th>114</th>\n",
              "      <td>Último minuto le doy el balón a Steph Curry… S...</td>\n",
              "      <td>2021-05-15 01:57:44</td>\n",
              "      <td>Bogotá</td>\n",
              "      <td>Piura</td>\n",
              "      <td>1393385074658271233</td>\n",
              "      <td>https://twitter.com/i/web/stuatus/139338507465...</td>\n",
              "      <td>Último minuto le doy el balón a Steph Curry… S...</td>\n",
              "      <td>[]</td>\n",
              "      <td>[#NBAxESPN]</td>\n",
              "      <td>[]</td>\n",
              "    </tr>\n",
              "    <tr>\n",
              "      <th>115</th>\n",
              "      <td>Steve Kerr dice que Steph Curry ha estado juga...</td>\n",
              "      <td>2021-05-14 23:53:09</td>\n",
              "      <td>Bogotá</td>\n",
              "      <td>Oakland, CA</td>\n",
              "      <td>1393353724840579073</td>\n",
              "      <td>https://twitter.com/i/web/stuatus/139335372484...</td>\n",
              "      <td>Steve Kerr dice que Steph Curry ha estado juga...</td>\n",
              "      <td>[https://t.co/40cy66X76J]</td>\n",
              "      <td>[]</td>\n",
              "      <td>[]</td>\n",
              "    </tr>\n",
              "    <tr>\n",
              "      <th>116</th>\n",
              "      <td>@GSWarriorsLATAM Fue lo más ridículo que leí d...</td>\n",
              "      <td>2021-05-14 16:38:51</td>\n",
              "      <td>Bogotá</td>\n",
              "      <td>Panamá</td>\n",
              "      <td>1393244427318087686</td>\n",
              "      <td>https://twitter.com/i/web/stuatus/139324442731...</td>\n",
              "      <td>Fue lo más ridículo que leí de ESPN y si cons...</td>\n",
              "      <td>[]</td>\n",
              "      <td>[]</td>\n",
              "      <td>[@GSWarriorsLATAM]</td>\n",
              "    </tr>\n",
              "    <tr>\n",
              "      <th>117</th>\n",
              "      <td>Tenemos una discusión corriendo en el grupo de...</td>\n",
              "      <td>2021-05-14 14:23:42</td>\n",
              "      <td>Bogotá</td>\n",
              "      <td>Miami, FL</td>\n",
              "      <td>1393210414553522182</td>\n",
              "      <td>https://twitter.com/i/web/stuatus/139321041455...</td>\n",
              "      <td>Tenemos una discusión corriendo en el grupo de...</td>\n",
              "      <td>[]</td>\n",
              "      <td>[]</td>\n",
              "      <td>[]</td>\n",
              "    </tr>\n",
              "    <tr>\n",
              "      <th>118</th>\n",
              "      <td>@DallasMavsLATAM Es que no se parece en nada, ...</td>\n",
              "      <td>2021-05-13 18:01:14</td>\n",
              "      <td>Bogotá</td>\n",
              "      <td>Nueva York, USA</td>\n",
              "      <td>1392902770475274242</td>\n",
              "      <td>https://twitter.com/i/web/stuatus/139290277047...</td>\n",
              "      <td>Es que no se parece en nada, aparte de ser in...</td>\n",
              "      <td>[]</td>\n",
              "      <td>[]</td>\n",
              "      <td>[@DallasMavsLATAM]</td>\n",
              "    </tr>\n",
              "  </tbody>\n",
              "</table>\n",
              "<p>119 rows × 10 columns</p>\n",
              "</div>"
            ],
            "text/plain": [
              "                                                tweets                date  \\\n",
              "0    Todos se quedaron con la última jugada de su m... 2021-05-20 15:53:43   \n",
              "1    Me van a bardear pero Steph Curry se preocupó ... 2021-05-20 13:54:53   \n",
              "2    Hay que identificar la diferencia entre un jug... 2021-05-20 13:19:30   \n",
              "3    Mención aparte a Steph Curry. Un MVP por todo ... 2021-05-20 12:58:36   \n",
              "4    están ni cerca de contar su impacto en el part... 2021-05-20 06:39:55   \n",
              "..                                                 ...                 ...   \n",
              "114  Último minuto le doy el balón a Steph Curry… S... 2021-05-15 01:57:44   \n",
              "115  Steve Kerr dice que Steph Curry ha estado juga... 2021-05-14 23:53:09   \n",
              "116  @GSWarriorsLATAM Fue lo más ridículo que leí d... 2021-05-14 16:38:51   \n",
              "117  Tenemos una discusión corriendo en el grupo de... 2021-05-14 14:23:42   \n",
              "118  @DallasMavsLATAM Es que no se parece en nada, ... 2021-05-13 18:01:14   \n",
              "\n",
              "       city                user_location                   id  \\\n",
              "0    Bogotá       Barranquilla, Colombia  1395407398957944838   \n",
              "1    Bogotá                    Argentina  1395377490466643968   \n",
              "2    Bogotá                      Ecuador  1395368585325842436   \n",
              "3    Bogotá  Guayaquil, Guayas, Ecuador.  1395363326343921669   \n",
              "4    Bogotá              Los Angeles, CA  1395268028565123077   \n",
              "..      ...                          ...                  ...   \n",
              "114  Bogotá                        Piura  1393385074658271233   \n",
              "115  Bogotá                  Oakland, CA  1393353724840579073   \n",
              "116  Bogotá                       Panamá  1393244427318087686   \n",
              "117  Bogotá                    Miami, FL  1393210414553522182   \n",
              "118  Bogotá              Nueva York, USA  1392902770475274242   \n",
              "\n",
              "                                                  link  \\\n",
              "0    https://twitter.com/i/web/stuatus/139540739895...   \n",
              "1    https://twitter.com/i/web/stuatus/139537749046...   \n",
              "2    https://twitter.com/i/web/stuatus/139536858532...   \n",
              "3    https://twitter.com/i/web/stuatus/139536332634...   \n",
              "4    https://twitter.com/i/web/stuatus/139526802856...   \n",
              "..                                                 ...   \n",
              "114  https://twitter.com/i/web/stuatus/139338507465...   \n",
              "115  https://twitter.com/i/web/stuatus/139335372484...   \n",
              "116  https://twitter.com/i/web/stuatus/139324442731...   \n",
              "117  https://twitter.com/i/web/stuatus/139321041455...   \n",
              "118  https://twitter.com/i/web/stuatus/139290277047...   \n",
              "\n",
              "                                          texto_limpio  \\\n",
              "0    Todos se quedaron con la última jugada de su m...   \n",
              "1    Me van a bardear pero Steph Curry se preocupó ...   \n",
              "2    Hay que identificar la diferencia entre un jug...   \n",
              "3    Mención aparte a Steph Curry. Un MVP por todo ...   \n",
              "4    están ni cerca de contar su impacto en el part...   \n",
              "..                                                 ...   \n",
              "114  Último minuto le doy el balón a Steph Curry… S...   \n",
              "115  Steve Kerr dice que Steph Curry ha estado juga...   \n",
              "116   Fue lo más ridículo que leí de ESPN y si cons...   \n",
              "117  Tenemos una discusión corriendo en el grupo de...   \n",
              "118   Es que no se parece en nada, aparte de ser in...   \n",
              "\n",
              "                         links     hashtags            mentions  \n",
              "0                           []           []                  []  \n",
              "1    [https://t.co/xo5XHWFnqS]           []                  []  \n",
              "2                           []           []                  []  \n",
              "3                           []           []                  []  \n",
              "4                           []           []                  []  \n",
              "..                         ...          ...                 ...  \n",
              "114                         []  [#NBAxESPN]                  []  \n",
              "115  [https://t.co/40cy66X76J]           []                  []  \n",
              "116                         []           []  [@GSWarriorsLATAM]  \n",
              "117                         []           []                  []  \n",
              "118                         []           []  [@DallasMavsLATAM]  \n",
              "\n",
              "[119 rows x 10 columns]"
            ]
          },
          "metadata": {
            "tags": []
          },
          "execution_count": 31
        }
      ]
    },
    {
      "cell_type": "code",
      "metadata": {
        "id": "yzT0d5LU6etE"
      },
      "source": [
        ""
      ],
      "execution_count": null,
      "outputs": []
    },
    {
      "cell_type": "markdown",
      "metadata": {
        "id": "gSpV20-26etE"
      },
      "source": [
        "###  `[25 pts]` Punto 2: Hacer una visualización sobre esos tuits"
      ]
    },
    {
      "cell_type": "code",
      "metadata": {
        "id": "5L9LeKdq6etF"
      },
      "source": [
        "#Series de tiempo"
      ],
      "execution_count": null,
      "outputs": []
    },
    {
      "cell_type": "code",
      "metadata": {
        "id": "AQdii5M_6etF",
        "outputId": "14cc558d-6e79-424e-88b8-ab631f2895db"
      },
      "source": [
        "data['hora'] = data['date'].dt.floor('T').dt.time\n",
        "temp = pd.DataFrame(data.hora.value_counts()).reset_index()\n",
        "temp.columns = ['hora', 'cnt']\n",
        "temp = temp.sort_values('hora')\n",
        "temp"
      ],
      "execution_count": null,
      "outputs": [
        {
          "output_type": "execute_result",
          "data": {
            "text/html": [
              "<div>\n",
              "<style scoped>\n",
              "    .dataframe tbody tr th:only-of-type {\n",
              "        vertical-align: middle;\n",
              "    }\n",
              "\n",
              "    .dataframe tbody tr th {\n",
              "        vertical-align: top;\n",
              "    }\n",
              "\n",
              "    .dataframe thead th {\n",
              "        text-align: right;\n",
              "    }\n",
              "</style>\n",
              "<table border=\"1\" class=\"dataframe\">\n",
              "  <thead>\n",
              "    <tr style=\"text-align: right;\">\n",
              "      <th></th>\n",
              "      <th>hora</th>\n",
              "      <th>cnt</th>\n",
              "    </tr>\n",
              "  </thead>\n",
              "  <tbody>\n",
              "    <tr>\n",
              "      <th>80</th>\n",
              "      <td>00:59:00</td>\n",
              "      <td>1</td>\n",
              "    </tr>\n",
              "    <tr>\n",
              "      <th>88</th>\n",
              "      <td>01:19:00</td>\n",
              "      <td>1</td>\n",
              "    </tr>\n",
              "    <tr>\n",
              "      <th>41</th>\n",
              "      <td>01:30:00</td>\n",
              "      <td>1</td>\n",
              "    </tr>\n",
              "    <tr>\n",
              "      <th>76</th>\n",
              "      <td>01:57:00</td>\n",
              "      <td>1</td>\n",
              "    </tr>\n",
              "    <tr>\n",
              "      <th>62</th>\n",
              "      <td>02:02:00</td>\n",
              "      <td>1</td>\n",
              "    </tr>\n",
              "    <tr>\n",
              "      <th>...</th>\n",
              "      <td>...</td>\n",
              "      <td>...</td>\n",
              "    </tr>\n",
              "    <tr>\n",
              "      <th>86</th>\n",
              "      <td>23:10:00</td>\n",
              "      <td>1</td>\n",
              "    </tr>\n",
              "    <tr>\n",
              "      <th>71</th>\n",
              "      <td>23:11:00</td>\n",
              "      <td>1</td>\n",
              "    </tr>\n",
              "    <tr>\n",
              "      <th>45</th>\n",
              "      <td>23:29:00</td>\n",
              "      <td>1</td>\n",
              "    </tr>\n",
              "    <tr>\n",
              "      <th>4</th>\n",
              "      <td>23:40:00</td>\n",
              "      <td>3</td>\n",
              "    </tr>\n",
              "    <tr>\n",
              "      <th>28</th>\n",
              "      <td>23:53:00</td>\n",
              "      <td>1</td>\n",
              "    </tr>\n",
              "  </tbody>\n",
              "</table>\n",
              "<p>91 rows × 2 columns</p>\n",
              "</div>"
            ],
            "text/plain": [
              "        hora  cnt\n",
              "80  00:59:00    1\n",
              "88  01:19:00    1\n",
              "41  01:30:00    1\n",
              "76  01:57:00    1\n",
              "62  02:02:00    1\n",
              "..       ...  ...\n",
              "86  23:10:00    1\n",
              "71  23:11:00    1\n",
              "45  23:29:00    1\n",
              "4   23:40:00    3\n",
              "28  23:53:00    1\n",
              "\n",
              "[91 rows x 2 columns]"
            ]
          },
          "metadata": {
            "tags": []
          },
          "execution_count": 33
        }
      ]
    },
    {
      "cell_type": "code",
      "metadata": {
        "id": "qPbAtorA6etG"
      },
      "source": [
        "import plotly.io as pio\n",
        "import plotly.express as px\n",
        "import plotly.graph_objs as go\n",
        "from plotly.offline import download_plotlyjs, init_notebook_mode, plot, iplot"
      ],
      "execution_count": null,
      "outputs": []
    },
    {
      "cell_type": "code",
      "metadata": {
        "id": "OuYfokya6etG",
        "outputId": "a199093a-8482-4883-bf92-5e450d2e5c67"
      },
      "source": [
        "import matplotlib.pyplot as plt\n",
        "%matplotlib inline\n",
        "init_notebook_mode(connected=True)"
      ],
      "execution_count": null,
      "outputs": [
        {
          "output_type": "display_data",
          "data": {
            "text/html": [
              "        <script type=\"text/javascript\">\n",
              "        window.PlotlyConfig = {MathJaxConfig: 'local'};\n",
              "        if (window.MathJax) {MathJax.Hub.Config({SVG: {font: \"STIX-Web\"}});}\n",
              "        if (typeof require !== 'undefined') {\n",
              "        require.undef(\"plotly\");\n",
              "        requirejs.config({\n",
              "            paths: {\n",
              "                'plotly': ['https://cdn.plot.ly/plotly-latest.min']\n",
              "            }\n",
              "        });\n",
              "        require(['plotly'], function(Plotly) {\n",
              "            window._Plotly = Plotly;\n",
              "        });\n",
              "        }\n",
              "        </script>\n",
              "        "
            ]
          },
          "metadata": {
            "tags": []
          }
        }
      ]
    },
    {
      "cell_type": "code",
      "metadata": {
        "id": "3yastyQ_6etG",
        "outputId": "2d45edeb-b665-44e1-df8f-49ff1fc8d072"
      },
      "source": [
        "trace = go.Scatter(x=temp.hora.values,\n",
        "                   y=temp.cnt.values,\n",
        "                   text=[f\"Fecha: {f}<br>Tuits: {c}\" for f,c in zip(temp.hora.values,temp.cnt.values)],\n",
        "                   hoverinfo='text',\n",
        "                   mode='lines+markers',\n",
        "                   name='Horas',\n",
        "                   line={'color': 'blue'})\n",
        "\n",
        "layout = go.Layout(title=\"Número de tuits por hora\")\n",
        "\n",
        "fig = go.Figure(data=[trace], layout=layout)\n",
        "iplot(fig)"
      ],
      "execution_count": null,
      "outputs": [
        {
          "output_type": "display_data",
          "data": {
            "application/vnd.plotly.v1+json": {
              "config": {
                "linkText": "Export to plot.ly",
                "plotlyServerURL": "https://plot.ly",
                "showLink": false
              },
              "data": [
                {
                  "hoverinfo": "text",
                  "line": {
                    "color": "blue"
                  },
                  "mode": "lines+markers",
                  "name": "Horas",
                  "text": [
                    "Fecha: 00:59:00<br>Tuits: 1",
                    "Fecha: 01:19:00<br>Tuits: 1",
                    "Fecha: 01:30:00<br>Tuits: 1",
                    "Fecha: 01:57:00<br>Tuits: 1",
                    "Fecha: 02:02:00<br>Tuits: 1",
                    "Fecha: 02:18:00<br>Tuits: 1",
                    "Fecha: 02:28:00<br>Tuits: 1",
                    "Fecha: 02:37:00<br>Tuits: 1",
                    "Fecha: 02:39:00<br>Tuits: 1",
                    "Fecha: 02:43:00<br>Tuits: 2",
                    "Fecha: 03:07:00<br>Tuits: 2",
                    "Fecha: 03:14:00<br>Tuits: 4",
                    "Fecha: 03:15:00<br>Tuits: 3",
                    "Fecha: 03:16:00<br>Tuits: 1",
                    "Fecha: 03:17:00<br>Tuits: 4",
                    "Fecha: 03:19:00<br>Tuits: 3",
                    "Fecha: 03:22:00<br>Tuits: 3",
                    "Fecha: 03:24:00<br>Tuits: 1",
                    "Fecha: 03:56:00<br>Tuits: 1",
                    "Fecha: 04:16:00<br>Tuits: 1",
                    "Fecha: 04:20:00<br>Tuits: 1",
                    "Fecha: 04:24:00<br>Tuits: 1",
                    "Fecha: 04:26:00<br>Tuits: 1",
                    "Fecha: 04:27:00<br>Tuits: 2",
                    "Fecha: 04:35:00<br>Tuits: 1",
                    "Fecha: 04:40:00<br>Tuits: 2",
                    "Fecha: 04:41:00<br>Tuits: 2",
                    "Fecha: 04:42:00<br>Tuits: 2",
                    "Fecha: 04:43:00<br>Tuits: 2",
                    "Fecha: 04:59:00<br>Tuits: 2",
                    "Fecha: 05:00:00<br>Tuits: 1",
                    "Fecha: 05:02:00<br>Tuits: 1",
                    "Fecha: 05:09:00<br>Tuits: 1",
                    "Fecha: 05:22:00<br>Tuits: 1",
                    "Fecha: 05:31:00<br>Tuits: 1",
                    "Fecha: 05:32:00<br>Tuits: 1",
                    "Fecha: 05:38:00<br>Tuits: 1",
                    "Fecha: 05:57:00<br>Tuits: 1",
                    "Fecha: 06:39:00<br>Tuits: 1",
                    "Fecha: 12:04:00<br>Tuits: 1",
                    "Fecha: 12:18:00<br>Tuits: 1",
                    "Fecha: 12:23:00<br>Tuits: 1",
                    "Fecha: 12:58:00<br>Tuits: 1",
                    "Fecha: 13:19:00<br>Tuits: 1",
                    "Fecha: 13:21:00<br>Tuits: 1",
                    "Fecha: 13:27:00<br>Tuits: 1",
                    "Fecha: 13:54:00<br>Tuits: 1",
                    "Fecha: 13:59:00<br>Tuits: 1",
                    "Fecha: 14:17:00<br>Tuits: 1",
                    "Fecha: 14:23:00<br>Tuits: 1",
                    "Fecha: 15:13:00<br>Tuits: 1",
                    "Fecha: 15:20:00<br>Tuits: 1",
                    "Fecha: 15:28:00<br>Tuits: 1",
                    "Fecha: 15:30:00<br>Tuits: 1",
                    "Fecha: 15:34:00<br>Tuits: 1",
                    "Fecha: 15:53:00<br>Tuits: 1",
                    "Fecha: 15:54:00<br>Tuits: 1",
                    "Fecha: 16:00:00<br>Tuits: 1",
                    "Fecha: 16:38:00<br>Tuits: 1",
                    "Fecha: 16:44:00<br>Tuits: 1",
                    "Fecha: 17:25:00<br>Tuits: 1",
                    "Fecha: 17:43:00<br>Tuits: 1",
                    "Fecha: 18:01:00<br>Tuits: 1",
                    "Fecha: 18:54:00<br>Tuits: 1",
                    "Fecha: 19:07:00<br>Tuits: 2",
                    "Fecha: 19:54:00<br>Tuits: 1",
                    "Fecha: 19:59:00<br>Tuits: 2",
                    "Fecha: 20:04:00<br>Tuits: 1",
                    "Fecha: 20:13:00<br>Tuits: 2",
                    "Fecha: 20:26:00<br>Tuits: 1",
                    "Fecha: 21:02:00<br>Tuits: 1",
                    "Fecha: 21:05:00<br>Tuits: 2",
                    "Fecha: 21:12:00<br>Tuits: 1",
                    "Fecha: 21:22:00<br>Tuits: 1",
                    "Fecha: 21:42:00<br>Tuits: 1",
                    "Fecha: 21:51:00<br>Tuits: 1",
                    "Fecha: 21:54:00<br>Tuits: 2",
                    "Fecha: 22:01:00<br>Tuits: 1",
                    "Fecha: 22:21:00<br>Tuits: 1",
                    "Fecha: 22:38:00<br>Tuits: 1",
                    "Fecha: 22:39:00<br>Tuits: 1",
                    "Fecha: 22:44:00<br>Tuits: 1",
                    "Fecha: 22:58:00<br>Tuits: 2",
                    "Fecha: 22:59:00<br>Tuits: 1",
                    "Fecha: 23:08:00<br>Tuits: 1",
                    "Fecha: 23:09:00<br>Tuits: 1",
                    "Fecha: 23:10:00<br>Tuits: 1",
                    "Fecha: 23:11:00<br>Tuits: 1",
                    "Fecha: 23:29:00<br>Tuits: 1",
                    "Fecha: 23:40:00<br>Tuits: 3",
                    "Fecha: 23:53:00<br>Tuits: 1"
                  ],
                  "type": "scatter",
                  "x": [
                    "00:59:00",
                    "01:19:00",
                    "01:30:00",
                    "01:57:00",
                    "02:02:00",
                    "02:18:00",
                    "02:28:00",
                    "02:37:00",
                    "02:39:00",
                    "02:43:00",
                    "03:07:00",
                    "03:14:00",
                    "03:15:00",
                    "03:16:00",
                    "03:17:00",
                    "03:19:00",
                    "03:22:00",
                    "03:24:00",
                    "03:56:00",
                    "04:16:00",
                    "04:20:00",
                    "04:24:00",
                    "04:26:00",
                    "04:27:00",
                    "04:35:00",
                    "04:40:00",
                    "04:41:00",
                    "04:42:00",
                    "04:43:00",
                    "04:59:00",
                    "05:00:00",
                    "05:02:00",
                    "05:09:00",
                    "05:22:00",
                    "05:31:00",
                    "05:32:00",
                    "05:38:00",
                    "05:57:00",
                    "06:39:00",
                    "12:04:00",
                    "12:18:00",
                    "12:23:00",
                    "12:58:00",
                    "13:19:00",
                    "13:21:00",
                    "13:27:00",
                    "13:54:00",
                    "13:59:00",
                    "14:17:00",
                    "14:23:00",
                    "15:13:00",
                    "15:20:00",
                    "15:28:00",
                    "15:30:00",
                    "15:34:00",
                    "15:53:00",
                    "15:54:00",
                    "16:00:00",
                    "16:38:00",
                    "16:44:00",
                    "17:25:00",
                    "17:43:00",
                    "18:01:00",
                    "18:54:00",
                    "19:07:00",
                    "19:54:00",
                    "19:59:00",
                    "20:04:00",
                    "20:13:00",
                    "20:26:00",
                    "21:02:00",
                    "21:05:00",
                    "21:12:00",
                    "21:22:00",
                    "21:42:00",
                    "21:51:00",
                    "21:54:00",
                    "22:01:00",
                    "22:21:00",
                    "22:38:00",
                    "22:39:00",
                    "22:44:00",
                    "22:58:00",
                    "22:59:00",
                    "23:08:00",
                    "23:09:00",
                    "23:10:00",
                    "23:11:00",
                    "23:29:00",
                    "23:40:00",
                    "23:53:00"
                  ],
                  "y": [
                    1,
                    1,
                    1,
                    1,
                    1,
                    1,
                    1,
                    1,
                    1,
                    2,
                    2,
                    4,
                    3,
                    1,
                    4,
                    3,
                    3,
                    1,
                    1,
                    1,
                    1,
                    1,
                    1,
                    2,
                    1,
                    2,
                    2,
                    2,
                    2,
                    2,
                    1,
                    1,
                    1,
                    1,
                    1,
                    1,
                    1,
                    1,
                    1,
                    1,
                    1,
                    1,
                    1,
                    1,
                    1,
                    1,
                    1,
                    1,
                    1,
                    1,
                    1,
                    1,
                    1,
                    1,
                    1,
                    1,
                    1,
                    1,
                    1,
                    1,
                    1,
                    1,
                    1,
                    1,
                    2,
                    1,
                    2,
                    1,
                    2,
                    1,
                    1,
                    2,
                    1,
                    1,
                    1,
                    1,
                    2,
                    1,
                    1,
                    1,
                    1,
                    1,
                    2,
                    1,
                    1,
                    1,
                    1,
                    1,
                    1,
                    3,
                    1
                  ]
                }
              ],
              "layout": {
                "template": {
                  "data": {
                    "bar": [
                      {
                        "error_x": {
                          "color": "#2a3f5f"
                        },
                        "error_y": {
                          "color": "#2a3f5f"
                        },
                        "marker": {
                          "line": {
                            "color": "#E5ECF6",
                            "width": 0.5
                          }
                        },
                        "type": "bar"
                      }
                    ],
                    "barpolar": [
                      {
                        "marker": {
                          "line": {
                            "color": "#E5ECF6",
                            "width": 0.5
                          }
                        },
                        "type": "barpolar"
                      }
                    ],
                    "carpet": [
                      {
                        "aaxis": {
                          "endlinecolor": "#2a3f5f",
                          "gridcolor": "white",
                          "linecolor": "white",
                          "minorgridcolor": "white",
                          "startlinecolor": "#2a3f5f"
                        },
                        "baxis": {
                          "endlinecolor": "#2a3f5f",
                          "gridcolor": "white",
                          "linecolor": "white",
                          "minorgridcolor": "white",
                          "startlinecolor": "#2a3f5f"
                        },
                        "type": "carpet"
                      }
                    ],
                    "choropleth": [
                      {
                        "colorbar": {
                          "outlinewidth": 0,
                          "ticks": ""
                        },
                        "type": "choropleth"
                      }
                    ],
                    "contour": [
                      {
                        "colorbar": {
                          "outlinewidth": 0,
                          "ticks": ""
                        },
                        "colorscale": [
                          [
                            0,
                            "#0d0887"
                          ],
                          [
                            0.1111111111111111,
                            "#46039f"
                          ],
                          [
                            0.2222222222222222,
                            "#7201a8"
                          ],
                          [
                            0.3333333333333333,
                            "#9c179e"
                          ],
                          [
                            0.4444444444444444,
                            "#bd3786"
                          ],
                          [
                            0.5555555555555556,
                            "#d8576b"
                          ],
                          [
                            0.6666666666666666,
                            "#ed7953"
                          ],
                          [
                            0.7777777777777778,
                            "#fb9f3a"
                          ],
                          [
                            0.8888888888888888,
                            "#fdca26"
                          ],
                          [
                            1,
                            "#f0f921"
                          ]
                        ],
                        "type": "contour"
                      }
                    ],
                    "contourcarpet": [
                      {
                        "colorbar": {
                          "outlinewidth": 0,
                          "ticks": ""
                        },
                        "type": "contourcarpet"
                      }
                    ],
                    "heatmap": [
                      {
                        "colorbar": {
                          "outlinewidth": 0,
                          "ticks": ""
                        },
                        "colorscale": [
                          [
                            0,
                            "#0d0887"
                          ],
                          [
                            0.1111111111111111,
                            "#46039f"
                          ],
                          [
                            0.2222222222222222,
                            "#7201a8"
                          ],
                          [
                            0.3333333333333333,
                            "#9c179e"
                          ],
                          [
                            0.4444444444444444,
                            "#bd3786"
                          ],
                          [
                            0.5555555555555556,
                            "#d8576b"
                          ],
                          [
                            0.6666666666666666,
                            "#ed7953"
                          ],
                          [
                            0.7777777777777778,
                            "#fb9f3a"
                          ],
                          [
                            0.8888888888888888,
                            "#fdca26"
                          ],
                          [
                            1,
                            "#f0f921"
                          ]
                        ],
                        "type": "heatmap"
                      }
                    ],
                    "heatmapgl": [
                      {
                        "colorbar": {
                          "outlinewidth": 0,
                          "ticks": ""
                        },
                        "colorscale": [
                          [
                            0,
                            "#0d0887"
                          ],
                          [
                            0.1111111111111111,
                            "#46039f"
                          ],
                          [
                            0.2222222222222222,
                            "#7201a8"
                          ],
                          [
                            0.3333333333333333,
                            "#9c179e"
                          ],
                          [
                            0.4444444444444444,
                            "#bd3786"
                          ],
                          [
                            0.5555555555555556,
                            "#d8576b"
                          ],
                          [
                            0.6666666666666666,
                            "#ed7953"
                          ],
                          [
                            0.7777777777777778,
                            "#fb9f3a"
                          ],
                          [
                            0.8888888888888888,
                            "#fdca26"
                          ],
                          [
                            1,
                            "#f0f921"
                          ]
                        ],
                        "type": "heatmapgl"
                      }
                    ],
                    "histogram": [
                      {
                        "marker": {
                          "colorbar": {
                            "outlinewidth": 0,
                            "ticks": ""
                          }
                        },
                        "type": "histogram"
                      }
                    ],
                    "histogram2d": [
                      {
                        "colorbar": {
                          "outlinewidth": 0,
                          "ticks": ""
                        },
                        "colorscale": [
                          [
                            0,
                            "#0d0887"
                          ],
                          [
                            0.1111111111111111,
                            "#46039f"
                          ],
                          [
                            0.2222222222222222,
                            "#7201a8"
                          ],
                          [
                            0.3333333333333333,
                            "#9c179e"
                          ],
                          [
                            0.4444444444444444,
                            "#bd3786"
                          ],
                          [
                            0.5555555555555556,
                            "#d8576b"
                          ],
                          [
                            0.6666666666666666,
                            "#ed7953"
                          ],
                          [
                            0.7777777777777778,
                            "#fb9f3a"
                          ],
                          [
                            0.8888888888888888,
                            "#fdca26"
                          ],
                          [
                            1,
                            "#f0f921"
                          ]
                        ],
                        "type": "histogram2d"
                      }
                    ],
                    "histogram2dcontour": [
                      {
                        "colorbar": {
                          "outlinewidth": 0,
                          "ticks": ""
                        },
                        "colorscale": [
                          [
                            0,
                            "#0d0887"
                          ],
                          [
                            0.1111111111111111,
                            "#46039f"
                          ],
                          [
                            0.2222222222222222,
                            "#7201a8"
                          ],
                          [
                            0.3333333333333333,
                            "#9c179e"
                          ],
                          [
                            0.4444444444444444,
                            "#bd3786"
                          ],
                          [
                            0.5555555555555556,
                            "#d8576b"
                          ],
                          [
                            0.6666666666666666,
                            "#ed7953"
                          ],
                          [
                            0.7777777777777778,
                            "#fb9f3a"
                          ],
                          [
                            0.8888888888888888,
                            "#fdca26"
                          ],
                          [
                            1,
                            "#f0f921"
                          ]
                        ],
                        "type": "histogram2dcontour"
                      }
                    ],
                    "mesh3d": [
                      {
                        "colorbar": {
                          "outlinewidth": 0,
                          "ticks": ""
                        },
                        "type": "mesh3d"
                      }
                    ],
                    "parcoords": [
                      {
                        "line": {
                          "colorbar": {
                            "outlinewidth": 0,
                            "ticks": ""
                          }
                        },
                        "type": "parcoords"
                      }
                    ],
                    "pie": [
                      {
                        "automargin": true,
                        "type": "pie"
                      }
                    ],
                    "scatter": [
                      {
                        "marker": {
                          "colorbar": {
                            "outlinewidth": 0,
                            "ticks": ""
                          }
                        },
                        "type": "scatter"
                      }
                    ],
                    "scatter3d": [
                      {
                        "line": {
                          "colorbar": {
                            "outlinewidth": 0,
                            "ticks": ""
                          }
                        },
                        "marker": {
                          "colorbar": {
                            "outlinewidth": 0,
                            "ticks": ""
                          }
                        },
                        "type": "scatter3d"
                      }
                    ],
                    "scattercarpet": [
                      {
                        "marker": {
                          "colorbar": {
                            "outlinewidth": 0,
                            "ticks": ""
                          }
                        },
                        "type": "scattercarpet"
                      }
                    ],
                    "scattergeo": [
                      {
                        "marker": {
                          "colorbar": {
                            "outlinewidth": 0,
                            "ticks": ""
                          }
                        },
                        "type": "scattergeo"
                      }
                    ],
                    "scattergl": [
                      {
                        "marker": {
                          "colorbar": {
                            "outlinewidth": 0,
                            "ticks": ""
                          }
                        },
                        "type": "scattergl"
                      }
                    ],
                    "scattermapbox": [
                      {
                        "marker": {
                          "colorbar": {
                            "outlinewidth": 0,
                            "ticks": ""
                          }
                        },
                        "type": "scattermapbox"
                      }
                    ],
                    "scatterpolar": [
                      {
                        "marker": {
                          "colorbar": {
                            "outlinewidth": 0,
                            "ticks": ""
                          }
                        },
                        "type": "scatterpolar"
                      }
                    ],
                    "scatterpolargl": [
                      {
                        "marker": {
                          "colorbar": {
                            "outlinewidth": 0,
                            "ticks": ""
                          }
                        },
                        "type": "scatterpolargl"
                      }
                    ],
                    "scatterternary": [
                      {
                        "marker": {
                          "colorbar": {
                            "outlinewidth": 0,
                            "ticks": ""
                          }
                        },
                        "type": "scatterternary"
                      }
                    ],
                    "surface": [
                      {
                        "colorbar": {
                          "outlinewidth": 0,
                          "ticks": ""
                        },
                        "colorscale": [
                          [
                            0,
                            "#0d0887"
                          ],
                          [
                            0.1111111111111111,
                            "#46039f"
                          ],
                          [
                            0.2222222222222222,
                            "#7201a8"
                          ],
                          [
                            0.3333333333333333,
                            "#9c179e"
                          ],
                          [
                            0.4444444444444444,
                            "#bd3786"
                          ],
                          [
                            0.5555555555555556,
                            "#d8576b"
                          ],
                          [
                            0.6666666666666666,
                            "#ed7953"
                          ],
                          [
                            0.7777777777777778,
                            "#fb9f3a"
                          ],
                          [
                            0.8888888888888888,
                            "#fdca26"
                          ],
                          [
                            1,
                            "#f0f921"
                          ]
                        ],
                        "type": "surface"
                      }
                    ],
                    "table": [
                      {
                        "cells": {
                          "fill": {
                            "color": "#EBF0F8"
                          },
                          "line": {
                            "color": "white"
                          }
                        },
                        "header": {
                          "fill": {
                            "color": "#C8D4E3"
                          },
                          "line": {
                            "color": "white"
                          }
                        },
                        "type": "table"
                      }
                    ]
                  },
                  "layout": {
                    "annotationdefaults": {
                      "arrowcolor": "#2a3f5f",
                      "arrowhead": 0,
                      "arrowwidth": 1
                    },
                    "autotypenumbers": "strict",
                    "coloraxis": {
                      "colorbar": {
                        "outlinewidth": 0,
                        "ticks": ""
                      }
                    },
                    "colorscale": {
                      "diverging": [
                        [
                          0,
                          "#8e0152"
                        ],
                        [
                          0.1,
                          "#c51b7d"
                        ],
                        [
                          0.2,
                          "#de77ae"
                        ],
                        [
                          0.3,
                          "#f1b6da"
                        ],
                        [
                          0.4,
                          "#fde0ef"
                        ],
                        [
                          0.5,
                          "#f7f7f7"
                        ],
                        [
                          0.6,
                          "#e6f5d0"
                        ],
                        [
                          0.7,
                          "#b8e186"
                        ],
                        [
                          0.8,
                          "#7fbc41"
                        ],
                        [
                          0.9,
                          "#4d9221"
                        ],
                        [
                          1,
                          "#276419"
                        ]
                      ],
                      "sequential": [
                        [
                          0,
                          "#0d0887"
                        ],
                        [
                          0.1111111111111111,
                          "#46039f"
                        ],
                        [
                          0.2222222222222222,
                          "#7201a8"
                        ],
                        [
                          0.3333333333333333,
                          "#9c179e"
                        ],
                        [
                          0.4444444444444444,
                          "#bd3786"
                        ],
                        [
                          0.5555555555555556,
                          "#d8576b"
                        ],
                        [
                          0.6666666666666666,
                          "#ed7953"
                        ],
                        [
                          0.7777777777777778,
                          "#fb9f3a"
                        ],
                        [
                          0.8888888888888888,
                          "#fdca26"
                        ],
                        [
                          1,
                          "#f0f921"
                        ]
                      ],
                      "sequentialminus": [
                        [
                          0,
                          "#0d0887"
                        ],
                        [
                          0.1111111111111111,
                          "#46039f"
                        ],
                        [
                          0.2222222222222222,
                          "#7201a8"
                        ],
                        [
                          0.3333333333333333,
                          "#9c179e"
                        ],
                        [
                          0.4444444444444444,
                          "#bd3786"
                        ],
                        [
                          0.5555555555555556,
                          "#d8576b"
                        ],
                        [
                          0.6666666666666666,
                          "#ed7953"
                        ],
                        [
                          0.7777777777777778,
                          "#fb9f3a"
                        ],
                        [
                          0.8888888888888888,
                          "#fdca26"
                        ],
                        [
                          1,
                          "#f0f921"
                        ]
                      ]
                    },
                    "colorway": [
                      "#636efa",
                      "#EF553B",
                      "#00cc96",
                      "#ab63fa",
                      "#FFA15A",
                      "#19d3f3",
                      "#FF6692",
                      "#B6E880",
                      "#FF97FF",
                      "#FECB52"
                    ],
                    "font": {
                      "color": "#2a3f5f"
                    },
                    "geo": {
                      "bgcolor": "white",
                      "lakecolor": "white",
                      "landcolor": "#E5ECF6",
                      "showlakes": true,
                      "showland": true,
                      "subunitcolor": "white"
                    },
                    "hoverlabel": {
                      "align": "left"
                    },
                    "hovermode": "closest",
                    "mapbox": {
                      "style": "light"
                    },
                    "paper_bgcolor": "white",
                    "plot_bgcolor": "#E5ECF6",
                    "polar": {
                      "angularaxis": {
                        "gridcolor": "white",
                        "linecolor": "white",
                        "ticks": ""
                      },
                      "bgcolor": "#E5ECF6",
                      "radialaxis": {
                        "gridcolor": "white",
                        "linecolor": "white",
                        "ticks": ""
                      }
                    },
                    "scene": {
                      "xaxis": {
                        "backgroundcolor": "#E5ECF6",
                        "gridcolor": "white",
                        "gridwidth": 2,
                        "linecolor": "white",
                        "showbackground": true,
                        "ticks": "",
                        "zerolinecolor": "white"
                      },
                      "yaxis": {
                        "backgroundcolor": "#E5ECF6",
                        "gridcolor": "white",
                        "gridwidth": 2,
                        "linecolor": "white",
                        "showbackground": true,
                        "ticks": "",
                        "zerolinecolor": "white"
                      },
                      "zaxis": {
                        "backgroundcolor": "#E5ECF6",
                        "gridcolor": "white",
                        "gridwidth": 2,
                        "linecolor": "white",
                        "showbackground": true,
                        "ticks": "",
                        "zerolinecolor": "white"
                      }
                    },
                    "shapedefaults": {
                      "line": {
                        "color": "#2a3f5f"
                      }
                    },
                    "ternary": {
                      "aaxis": {
                        "gridcolor": "white",
                        "linecolor": "white",
                        "ticks": ""
                      },
                      "baxis": {
                        "gridcolor": "white",
                        "linecolor": "white",
                        "ticks": ""
                      },
                      "bgcolor": "#E5ECF6",
                      "caxis": {
                        "gridcolor": "white",
                        "linecolor": "white",
                        "ticks": ""
                      }
                    },
                    "title": {
                      "x": 0.05
                    },
                    "xaxis": {
                      "automargin": true,
                      "gridcolor": "white",
                      "linecolor": "white",
                      "ticks": "",
                      "title": {
                        "standoff": 15
                      },
                      "zerolinecolor": "white",
                      "zerolinewidth": 2
                    },
                    "yaxis": {
                      "automargin": true,
                      "gridcolor": "white",
                      "linecolor": "white",
                      "ticks": "",
                      "title": {
                        "standoff": 15
                      },
                      "zerolinecolor": "white",
                      "zerolinewidth": 2
                    }
                  }
                },
                "title": {
                  "text": "Número de tuits por hora"
                }
              }
            },
            "text/html": [
              "<div>                            <div id=\"82a3a92e-5f74-4068-a4bd-7cb712a9feda\" class=\"plotly-graph-div\" style=\"height:525px; width:100%;\"></div>            <script type=\"text/javascript\">                require([\"plotly\"], function(Plotly) {                    window.PLOTLYENV=window.PLOTLYENV || {};                                    if (document.getElementById(\"82a3a92e-5f74-4068-a4bd-7cb712a9feda\")) {                    Plotly.newPlot(                        \"82a3a92e-5f74-4068-a4bd-7cb712a9feda\",                        [{\"hoverinfo\": \"text\", \"line\": {\"color\": \"blue\"}, \"mode\": \"lines+markers\", \"name\": \"Horas\", \"text\": [\"Fecha: 00:59:00<br>Tuits: 1\", \"Fecha: 01:19:00<br>Tuits: 1\", \"Fecha: 01:30:00<br>Tuits: 1\", \"Fecha: 01:57:00<br>Tuits: 1\", \"Fecha: 02:02:00<br>Tuits: 1\", \"Fecha: 02:18:00<br>Tuits: 1\", \"Fecha: 02:28:00<br>Tuits: 1\", \"Fecha: 02:37:00<br>Tuits: 1\", \"Fecha: 02:39:00<br>Tuits: 1\", \"Fecha: 02:43:00<br>Tuits: 2\", \"Fecha: 03:07:00<br>Tuits: 2\", \"Fecha: 03:14:00<br>Tuits: 4\", \"Fecha: 03:15:00<br>Tuits: 3\", \"Fecha: 03:16:00<br>Tuits: 1\", \"Fecha: 03:17:00<br>Tuits: 4\", \"Fecha: 03:19:00<br>Tuits: 3\", \"Fecha: 03:22:00<br>Tuits: 3\", \"Fecha: 03:24:00<br>Tuits: 1\", \"Fecha: 03:56:00<br>Tuits: 1\", \"Fecha: 04:16:00<br>Tuits: 1\", \"Fecha: 04:20:00<br>Tuits: 1\", \"Fecha: 04:24:00<br>Tuits: 1\", \"Fecha: 04:26:00<br>Tuits: 1\", \"Fecha: 04:27:00<br>Tuits: 2\", \"Fecha: 04:35:00<br>Tuits: 1\", \"Fecha: 04:40:00<br>Tuits: 2\", \"Fecha: 04:41:00<br>Tuits: 2\", \"Fecha: 04:42:00<br>Tuits: 2\", \"Fecha: 04:43:00<br>Tuits: 2\", \"Fecha: 04:59:00<br>Tuits: 2\", \"Fecha: 05:00:00<br>Tuits: 1\", \"Fecha: 05:02:00<br>Tuits: 1\", \"Fecha: 05:09:00<br>Tuits: 1\", \"Fecha: 05:22:00<br>Tuits: 1\", \"Fecha: 05:31:00<br>Tuits: 1\", \"Fecha: 05:32:00<br>Tuits: 1\", \"Fecha: 05:38:00<br>Tuits: 1\", \"Fecha: 05:57:00<br>Tuits: 1\", \"Fecha: 06:39:00<br>Tuits: 1\", \"Fecha: 12:04:00<br>Tuits: 1\", \"Fecha: 12:18:00<br>Tuits: 1\", \"Fecha: 12:23:00<br>Tuits: 1\", \"Fecha: 12:58:00<br>Tuits: 1\", \"Fecha: 13:19:00<br>Tuits: 1\", \"Fecha: 13:21:00<br>Tuits: 1\", \"Fecha: 13:27:00<br>Tuits: 1\", \"Fecha: 13:54:00<br>Tuits: 1\", \"Fecha: 13:59:00<br>Tuits: 1\", \"Fecha: 14:17:00<br>Tuits: 1\", \"Fecha: 14:23:00<br>Tuits: 1\", \"Fecha: 15:13:00<br>Tuits: 1\", \"Fecha: 15:20:00<br>Tuits: 1\", \"Fecha: 15:28:00<br>Tuits: 1\", \"Fecha: 15:30:00<br>Tuits: 1\", \"Fecha: 15:34:00<br>Tuits: 1\", \"Fecha: 15:53:00<br>Tuits: 1\", \"Fecha: 15:54:00<br>Tuits: 1\", \"Fecha: 16:00:00<br>Tuits: 1\", \"Fecha: 16:38:00<br>Tuits: 1\", \"Fecha: 16:44:00<br>Tuits: 1\", \"Fecha: 17:25:00<br>Tuits: 1\", \"Fecha: 17:43:00<br>Tuits: 1\", \"Fecha: 18:01:00<br>Tuits: 1\", \"Fecha: 18:54:00<br>Tuits: 1\", \"Fecha: 19:07:00<br>Tuits: 2\", \"Fecha: 19:54:00<br>Tuits: 1\", \"Fecha: 19:59:00<br>Tuits: 2\", \"Fecha: 20:04:00<br>Tuits: 1\", \"Fecha: 20:13:00<br>Tuits: 2\", \"Fecha: 20:26:00<br>Tuits: 1\", \"Fecha: 21:02:00<br>Tuits: 1\", \"Fecha: 21:05:00<br>Tuits: 2\", \"Fecha: 21:12:00<br>Tuits: 1\", \"Fecha: 21:22:00<br>Tuits: 1\", \"Fecha: 21:42:00<br>Tuits: 1\", \"Fecha: 21:51:00<br>Tuits: 1\", \"Fecha: 21:54:00<br>Tuits: 2\", \"Fecha: 22:01:00<br>Tuits: 1\", \"Fecha: 22:21:00<br>Tuits: 1\", \"Fecha: 22:38:00<br>Tuits: 1\", \"Fecha: 22:39:00<br>Tuits: 1\", \"Fecha: 22:44:00<br>Tuits: 1\", \"Fecha: 22:58:00<br>Tuits: 2\", \"Fecha: 22:59:00<br>Tuits: 1\", \"Fecha: 23:08:00<br>Tuits: 1\", \"Fecha: 23:09:00<br>Tuits: 1\", \"Fecha: 23:10:00<br>Tuits: 1\", \"Fecha: 23:11:00<br>Tuits: 1\", \"Fecha: 23:29:00<br>Tuits: 1\", \"Fecha: 23:40:00<br>Tuits: 3\", \"Fecha: 23:53:00<br>Tuits: 1\"], \"type\": \"scatter\", \"x\": [\"00:59:00\", \"01:19:00\", \"01:30:00\", \"01:57:00\", \"02:02:00\", \"02:18:00\", \"02:28:00\", \"02:37:00\", \"02:39:00\", \"02:43:00\", \"03:07:00\", \"03:14:00\", \"03:15:00\", \"03:16:00\", \"03:17:00\", \"03:19:00\", \"03:22:00\", \"03:24:00\", \"03:56:00\", \"04:16:00\", \"04:20:00\", \"04:24:00\", \"04:26:00\", \"04:27:00\", \"04:35:00\", \"04:40:00\", \"04:41:00\", \"04:42:00\", \"04:43:00\", \"04:59:00\", \"05:00:00\", \"05:02:00\", \"05:09:00\", \"05:22:00\", \"05:31:00\", \"05:32:00\", \"05:38:00\", \"05:57:00\", \"06:39:00\", \"12:04:00\", \"12:18:00\", \"12:23:00\", \"12:58:00\", \"13:19:00\", \"13:21:00\", \"13:27:00\", \"13:54:00\", \"13:59:00\", \"14:17:00\", \"14:23:00\", \"15:13:00\", \"15:20:00\", \"15:28:00\", \"15:30:00\", \"15:34:00\", \"15:53:00\", \"15:54:00\", \"16:00:00\", \"16:38:00\", \"16:44:00\", \"17:25:00\", \"17:43:00\", \"18:01:00\", \"18:54:00\", \"19:07:00\", \"19:54:00\", \"19:59:00\", \"20:04:00\", \"20:13:00\", \"20:26:00\", \"21:02:00\", \"21:05:00\", \"21:12:00\", \"21:22:00\", \"21:42:00\", \"21:51:00\", \"21:54:00\", \"22:01:00\", \"22:21:00\", \"22:38:00\", \"22:39:00\", \"22:44:00\", \"22:58:00\", \"22:59:00\", \"23:08:00\", \"23:09:00\", \"23:10:00\", \"23:11:00\", \"23:29:00\", \"23:40:00\", \"23:53:00\"], \"y\": [1, 1, 1, 1, 1, 1, 1, 1, 1, 2, 2, 4, 3, 1, 4, 3, 3, 1, 1, 1, 1, 1, 1, 2, 1, 2, 2, 2, 2, 2, 1, 1, 1, 1, 1, 1, 1, 1, 1, 1, 1, 1, 1, 1, 1, 1, 1, 1, 1, 1, 1, 1, 1, 1, 1, 1, 1, 1, 1, 1, 1, 1, 1, 1, 2, 1, 2, 1, 2, 1, 1, 2, 1, 1, 1, 1, 2, 1, 1, 1, 1, 1, 2, 1, 1, 1, 1, 1, 1, 3, 1]}],                        {\"template\": {\"data\": {\"bar\": [{\"error_x\": {\"color\": \"#2a3f5f\"}, \"error_y\": {\"color\": \"#2a3f5f\"}, \"marker\": {\"line\": {\"color\": \"#E5ECF6\", \"width\": 0.5}}, \"type\": \"bar\"}], \"barpolar\": [{\"marker\": {\"line\": {\"color\": \"#E5ECF6\", \"width\": 0.5}}, \"type\": \"barpolar\"}], \"carpet\": [{\"aaxis\": {\"endlinecolor\": \"#2a3f5f\", \"gridcolor\": \"white\", \"linecolor\": \"white\", \"minorgridcolor\": \"white\", \"startlinecolor\": \"#2a3f5f\"}, \"baxis\": {\"endlinecolor\": \"#2a3f5f\", \"gridcolor\": \"white\", \"linecolor\": \"white\", \"minorgridcolor\": \"white\", \"startlinecolor\": \"#2a3f5f\"}, \"type\": \"carpet\"}], \"choropleth\": [{\"colorbar\": {\"outlinewidth\": 0, \"ticks\": \"\"}, \"type\": \"choropleth\"}], \"contour\": [{\"colorbar\": {\"outlinewidth\": 0, \"ticks\": \"\"}, \"colorscale\": [[0.0, \"#0d0887\"], [0.1111111111111111, \"#46039f\"], [0.2222222222222222, \"#7201a8\"], [0.3333333333333333, \"#9c179e\"], [0.4444444444444444, \"#bd3786\"], [0.5555555555555556, \"#d8576b\"], [0.6666666666666666, \"#ed7953\"], [0.7777777777777778, \"#fb9f3a\"], [0.8888888888888888, \"#fdca26\"], [1.0, \"#f0f921\"]], \"type\": \"contour\"}], \"contourcarpet\": [{\"colorbar\": {\"outlinewidth\": 0, \"ticks\": \"\"}, \"type\": \"contourcarpet\"}], \"heatmap\": [{\"colorbar\": {\"outlinewidth\": 0, \"ticks\": \"\"}, \"colorscale\": [[0.0, \"#0d0887\"], [0.1111111111111111, \"#46039f\"], [0.2222222222222222, \"#7201a8\"], [0.3333333333333333, \"#9c179e\"], [0.4444444444444444, \"#bd3786\"], [0.5555555555555556, \"#d8576b\"], [0.6666666666666666, \"#ed7953\"], [0.7777777777777778, \"#fb9f3a\"], [0.8888888888888888, \"#fdca26\"], [1.0, \"#f0f921\"]], \"type\": \"heatmap\"}], \"heatmapgl\": [{\"colorbar\": {\"outlinewidth\": 0, \"ticks\": \"\"}, \"colorscale\": [[0.0, \"#0d0887\"], [0.1111111111111111, \"#46039f\"], [0.2222222222222222, \"#7201a8\"], [0.3333333333333333, \"#9c179e\"], [0.4444444444444444, \"#bd3786\"], [0.5555555555555556, \"#d8576b\"], [0.6666666666666666, \"#ed7953\"], [0.7777777777777778, \"#fb9f3a\"], [0.8888888888888888, \"#fdca26\"], [1.0, \"#f0f921\"]], \"type\": \"heatmapgl\"}], \"histogram\": [{\"marker\": {\"colorbar\": {\"outlinewidth\": 0, \"ticks\": \"\"}}, \"type\": \"histogram\"}], \"histogram2d\": [{\"colorbar\": {\"outlinewidth\": 0, \"ticks\": \"\"}, \"colorscale\": [[0.0, \"#0d0887\"], [0.1111111111111111, \"#46039f\"], [0.2222222222222222, \"#7201a8\"], [0.3333333333333333, \"#9c179e\"], [0.4444444444444444, \"#bd3786\"], [0.5555555555555556, \"#d8576b\"], [0.6666666666666666, \"#ed7953\"], [0.7777777777777778, \"#fb9f3a\"], [0.8888888888888888, \"#fdca26\"], [1.0, \"#f0f921\"]], \"type\": \"histogram2d\"}], \"histogram2dcontour\": [{\"colorbar\": {\"outlinewidth\": 0, \"ticks\": \"\"}, \"colorscale\": [[0.0, \"#0d0887\"], [0.1111111111111111, \"#46039f\"], [0.2222222222222222, \"#7201a8\"], [0.3333333333333333, \"#9c179e\"], [0.4444444444444444, \"#bd3786\"], [0.5555555555555556, \"#d8576b\"], [0.6666666666666666, \"#ed7953\"], [0.7777777777777778, \"#fb9f3a\"], [0.8888888888888888, \"#fdca26\"], [1.0, \"#f0f921\"]], \"type\": \"histogram2dcontour\"}], \"mesh3d\": [{\"colorbar\": {\"outlinewidth\": 0, \"ticks\": \"\"}, \"type\": \"mesh3d\"}], \"parcoords\": [{\"line\": {\"colorbar\": {\"outlinewidth\": 0, \"ticks\": \"\"}}, \"type\": \"parcoords\"}], \"pie\": [{\"automargin\": true, \"type\": \"pie\"}], \"scatter\": [{\"marker\": {\"colorbar\": {\"outlinewidth\": 0, \"ticks\": \"\"}}, \"type\": \"scatter\"}], \"scatter3d\": [{\"line\": {\"colorbar\": {\"outlinewidth\": 0, \"ticks\": \"\"}}, \"marker\": {\"colorbar\": {\"outlinewidth\": 0, \"ticks\": \"\"}}, \"type\": \"scatter3d\"}], \"scattercarpet\": [{\"marker\": {\"colorbar\": {\"outlinewidth\": 0, \"ticks\": \"\"}}, \"type\": \"scattercarpet\"}], \"scattergeo\": [{\"marker\": {\"colorbar\": {\"outlinewidth\": 0, \"ticks\": \"\"}}, \"type\": \"scattergeo\"}], \"scattergl\": [{\"marker\": {\"colorbar\": {\"outlinewidth\": 0, \"ticks\": \"\"}}, \"type\": \"scattergl\"}], \"scattermapbox\": [{\"marker\": {\"colorbar\": {\"outlinewidth\": 0, \"ticks\": \"\"}}, \"type\": \"scattermapbox\"}], \"scatterpolar\": [{\"marker\": {\"colorbar\": {\"outlinewidth\": 0, \"ticks\": \"\"}}, \"type\": \"scatterpolar\"}], \"scatterpolargl\": [{\"marker\": {\"colorbar\": {\"outlinewidth\": 0, \"ticks\": \"\"}}, \"type\": \"scatterpolargl\"}], \"scatterternary\": [{\"marker\": {\"colorbar\": {\"outlinewidth\": 0, \"ticks\": \"\"}}, \"type\": \"scatterternary\"}], \"surface\": [{\"colorbar\": {\"outlinewidth\": 0, \"ticks\": \"\"}, \"colorscale\": [[0.0, \"#0d0887\"], [0.1111111111111111, \"#46039f\"], [0.2222222222222222, \"#7201a8\"], [0.3333333333333333, \"#9c179e\"], [0.4444444444444444, \"#bd3786\"], [0.5555555555555556, \"#d8576b\"], [0.6666666666666666, \"#ed7953\"], [0.7777777777777778, \"#fb9f3a\"], [0.8888888888888888, \"#fdca26\"], [1.0, \"#f0f921\"]], \"type\": \"surface\"}], \"table\": [{\"cells\": {\"fill\": {\"color\": \"#EBF0F8\"}, \"line\": {\"color\": \"white\"}}, \"header\": {\"fill\": {\"color\": \"#C8D4E3\"}, \"line\": {\"color\": \"white\"}}, \"type\": \"table\"}]}, \"layout\": {\"annotationdefaults\": {\"arrowcolor\": \"#2a3f5f\", \"arrowhead\": 0, \"arrowwidth\": 1}, \"autotypenumbers\": \"strict\", \"coloraxis\": {\"colorbar\": {\"outlinewidth\": 0, \"ticks\": \"\"}}, \"colorscale\": {\"diverging\": [[0, \"#8e0152\"], [0.1, \"#c51b7d\"], [0.2, \"#de77ae\"], [0.3, \"#f1b6da\"], [0.4, \"#fde0ef\"], [0.5, \"#f7f7f7\"], [0.6, \"#e6f5d0\"], [0.7, \"#b8e186\"], [0.8, \"#7fbc41\"], [0.9, \"#4d9221\"], [1, \"#276419\"]], \"sequential\": [[0.0, \"#0d0887\"], [0.1111111111111111, \"#46039f\"], [0.2222222222222222, \"#7201a8\"], [0.3333333333333333, \"#9c179e\"], [0.4444444444444444, \"#bd3786\"], [0.5555555555555556, \"#d8576b\"], [0.6666666666666666, \"#ed7953\"], [0.7777777777777778, \"#fb9f3a\"], [0.8888888888888888, \"#fdca26\"], [1.0, \"#f0f921\"]], \"sequentialminus\": [[0.0, \"#0d0887\"], [0.1111111111111111, \"#46039f\"], [0.2222222222222222, \"#7201a8\"], [0.3333333333333333, \"#9c179e\"], [0.4444444444444444, \"#bd3786\"], [0.5555555555555556, \"#d8576b\"], [0.6666666666666666, \"#ed7953\"], [0.7777777777777778, \"#fb9f3a\"], [0.8888888888888888, \"#fdca26\"], [1.0, \"#f0f921\"]]}, \"colorway\": [\"#636efa\", \"#EF553B\", \"#00cc96\", \"#ab63fa\", \"#FFA15A\", \"#19d3f3\", \"#FF6692\", \"#B6E880\", \"#FF97FF\", \"#FECB52\"], \"font\": {\"color\": \"#2a3f5f\"}, \"geo\": {\"bgcolor\": \"white\", \"lakecolor\": \"white\", \"landcolor\": \"#E5ECF6\", \"showlakes\": true, \"showland\": true, \"subunitcolor\": \"white\"}, \"hoverlabel\": {\"align\": \"left\"}, \"hovermode\": \"closest\", \"mapbox\": {\"style\": \"light\"}, \"paper_bgcolor\": \"white\", \"plot_bgcolor\": \"#E5ECF6\", \"polar\": {\"angularaxis\": {\"gridcolor\": \"white\", \"linecolor\": \"white\", \"ticks\": \"\"}, \"bgcolor\": \"#E5ECF6\", \"radialaxis\": {\"gridcolor\": \"white\", \"linecolor\": \"white\", \"ticks\": \"\"}}, \"scene\": {\"xaxis\": {\"backgroundcolor\": \"#E5ECF6\", \"gridcolor\": \"white\", \"gridwidth\": 2, \"linecolor\": \"white\", \"showbackground\": true, \"ticks\": \"\", \"zerolinecolor\": \"white\"}, \"yaxis\": {\"backgroundcolor\": \"#E5ECF6\", \"gridcolor\": \"white\", \"gridwidth\": 2, \"linecolor\": \"white\", \"showbackground\": true, \"ticks\": \"\", \"zerolinecolor\": \"white\"}, \"zaxis\": {\"backgroundcolor\": \"#E5ECF6\", \"gridcolor\": \"white\", \"gridwidth\": 2, \"linecolor\": \"white\", \"showbackground\": true, \"ticks\": \"\", \"zerolinecolor\": \"white\"}}, \"shapedefaults\": {\"line\": {\"color\": \"#2a3f5f\"}}, \"ternary\": {\"aaxis\": {\"gridcolor\": \"white\", \"linecolor\": \"white\", \"ticks\": \"\"}, \"baxis\": {\"gridcolor\": \"white\", \"linecolor\": \"white\", \"ticks\": \"\"}, \"bgcolor\": \"#E5ECF6\", \"caxis\": {\"gridcolor\": \"white\", \"linecolor\": \"white\", \"ticks\": \"\"}}, \"title\": {\"x\": 0.05}, \"xaxis\": {\"automargin\": true, \"gridcolor\": \"white\", \"linecolor\": \"white\", \"ticks\": \"\", \"title\": {\"standoff\": 15}, \"zerolinecolor\": \"white\", \"zerolinewidth\": 2}, \"yaxis\": {\"automargin\": true, \"gridcolor\": \"white\", \"linecolor\": \"white\", \"ticks\": \"\", \"title\": {\"standoff\": 15}, \"zerolinecolor\": \"white\", \"zerolinewidth\": 2}}}, \"title\": {\"text\": \"N\\u00famero de tuits por hora\"}},                        {\"responsive\": true}                    ).then(function(){\n",
              "                            \n",
              "var gd = document.getElementById('82a3a92e-5f74-4068-a4bd-7cb712a9feda');\n",
              "var x = new MutationObserver(function (mutations, observer) {{\n",
              "        var display = window.getComputedStyle(gd).display;\n",
              "        if (!display || display === 'none') {{\n",
              "            console.log([gd, 'removed!']);\n",
              "            Plotly.purge(gd);\n",
              "            observer.disconnect();\n",
              "        }}\n",
              "}});\n",
              "\n",
              "// Listen for the removal of the full notebook cells\n",
              "var notebookContainer = gd.closest('#notebook-container');\n",
              "if (notebookContainer) {{\n",
              "    x.observe(notebookContainer, {childList: true});\n",
              "}}\n",
              "\n",
              "// Listen for the clearing of the current output cell\n",
              "var outputEl = gd.closest('.output');\n",
              "if (outputEl) {{\n",
              "    x.observe(outputEl, {childList: true});\n",
              "}}\n",
              "\n",
              "                        })                };                });            </script>        </div>"
            ]
          },
          "metadata": {
            "tags": []
          }
        }
      ]
    },
    {
      "cell_type": "code",
      "metadata": {
        "id": "ljm6ZHCO6etH"
      },
      "source": [
        ""
      ],
      "execution_count": null,
      "outputs": []
    }
  ]
}