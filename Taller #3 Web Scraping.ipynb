{
 "cells": [
  {
   "cell_type": "code",
   "execution_count": null,
   "metadata": {},
   "outputs": [],
   "source": []
  },
  {
   "cell_type": "code",
   "execution_count": 3,
   "metadata": {},
   "outputs": [],
   "source": [
    "from bs4 import BeautifulSoup\n",
    "import requests\n",
    "import pandas as pd"
   ]
  },
  {
   "cell_type": "code",
   "execution_count": 4,
   "metadata": {},
   "outputs": [
    {
     "name": "stdout",
     "output_type": "stream",
     "text": [
      "Número de animales: 10\n",
      "Encabezado: Canis familiaris  \n",
      "Perro\n",
      "Encabezado: Felis silvestris catus  \n",
      "Gato\n",
      "Encabezado: Chiroptera  \n",
      "Murciélagos\n",
      "Encabezado: Ailuropoda melanoleuca  \n",
      "Panda gigante\n",
      "Encabezado: Serpiente de coral  \n",
      "Serpiente de coral\n",
      "Encabezado: Equus ferus caballus  \n",
      "Caballo\n",
      "Encabezado: Selachimorpha  \n",
      "Tiburones\n",
      "Encabezado: Balaenoptera musculus  \n",
      "Ballena azul\n",
      "Encabezado: Gruidae  \n",
      "Grullas\n",
      "Encabezado: Panthera onca  \n",
      "Jaguar\n"
     ]
    }
   ],
   "source": [
    "#1 Hacer Web Scraping de 10 animales en wikipedia\n",
    "#  Obtener el encabezado de cada animal\n",
    "\n",
    "urls = [\"https://es.wikipedia.org/wiki/Canis_familiaris\", \"https://es.wikipedia.org/wiki/Felis_silvestris_catus\", \"https://es.wikipedia.org/wiki/Chiroptera\", \"https://es.wikipedia.org/wiki/Ailuropoda_melanoleuca\", \"https://es.wikipedia.org/wiki/Serpiente_de_coral\", \"https://es.wikipedia.org/wiki/Equus_ferus_caballus\", \"https://es.wikipedia.org/wiki/Selachimorpha\", \"https://es.wikipedia.org/wiki/Balaenoptera_musculus\", \"https://es.wikipedia.org/wiki/Gruidae\", \"https://es.wikipedia.org/wiki/Panthera_onca\"]\n",
    "print(\"Número de animales:\", +len(urls))\n",
    "\n",
    "for url in urls:\n",
    "    response = requests.get(url)\n",
    "    soup = BeautifulSoup(response.content, \"html.parser\")\n",
    "    \n",
    "    h1 = soup.find(class_= \"firstHeading\").text\n",
    "    h2 = soup.find(class_= \"cabecera\").text\n",
    "    \n",
    "    print('Encabezado:', h1, h2)"
   ]
  },
  {
   "cell_type": "code",
   "execution_count": 5,
   "metadata": {},
   "outputs": [],
   "source": [
    "import numpy as np"
   ]
  },
  {
   "cell_type": "code",
   "execution_count": 12,
   "metadata": {},
   "outputs": [
    {
     "name": "stdout",
     "output_type": "stream",
     "text": [
      "Palabras en Negrilla: [<b>gato doméstico</b>, <b>Felis silvestris catus</b>, <b>gato</b>, <b>minino</b>, <b>michino</b>, <b>michi</b>, <b>micho</b>, <b>mizo</b>, <b>miz</b>, <b>morroño</b>, <b>morrongo</b>]\n"
     ]
    }
   ],
   "source": [
    "# 2. Obtener todos los textos que están en las etiquetas de negrilla del primer parrafo\n",
    "\n",
    "url2 = [\"https://es.wikipedia.org/wiki/Felis_silvestris_catus\"]\n",
    "\n",
    "for url in url2:\n",
    "    response = requests.get(url)\n",
    "    soup = BeautifulSoup(response.content, \"html.parser\")\n",
    "    \n",
    "    negrilla = soup.find(\"p\").find_all(\"b\")\n",
    "    \n",
    "    print( \"Palabras en Negrilla:\", negrilla)"
   ]
  },
  {
   "cell_type": "code",
   "execution_count": 11,
   "metadata": {},
   "outputs": [
    {
     "name": "stdout",
     "output_type": "stream",
     "text": [
      "[['gato doméstico']\n",
      " ['Felis silvestris catus']\n",
      " ['gato']\n",
      " ['minino']\n",
      " ['michino']\n",
      " ['michi']\n",
      " ['micho']\n",
      " ['mizo']\n",
      " ['miz']\n",
      " ['morroño']\n",
      " ['morrongo']]\n"
     ]
    }
   ],
   "source": [
    "lista_negrilla = np.asarray(negrilla)\n",
    "# printing my_array\n",
    "print(lista_negrilla)"
   ]
  },
  {
   "cell_type": "code",
   "execution_count": 20,
   "metadata": {},
   "outputs": [
    {
     "name": "stdout",
     "output_type": "stream",
     "text": [
      "(array(['gato doméstico'], dtype='<U22'), array(['Felis silvestris catus'], dtype='<U22'), array(['gato'], dtype='<U22'), array(['minino'], dtype='<U22'), array(['michino'], dtype='<U22'), array(['michi'], dtype='<U22'), array(['micho'], dtype='<U22'), array(['mizo'], dtype='<U22'), array(['miz'], dtype='<U22'), array(['morroño'], dtype='<U22'), array(['morrongo'], dtype='<U22'))\n"
     ]
    }
   ],
   "source": [
    " prueba = print(tuple(lista_negrilla))"
   ]
  },
  {
   "cell_type": "code",
   "execution_count": 10,
   "metadata": {},
   "outputs": [],
   "source": [
    "import regex\n",
    "import re"
   ]
  },
  {
   "cell_type": "code",
   "execution_count": 23,
   "metadata": {},
   "outputs": [],
   "source": [
    "prueba_negrilla = prueba"
   ]
  },
  {
   "cell_type": "code",
   "execution_count": 24,
   "metadata": {},
   "outputs": [],
   "source": [
    "patron = r\"[^a-zA-Z\\s]\""
   ]
  },
  {
   "cell_type": "raw",
   "metadata": {},
   "source": [
    "re.search(patron, prueba)"
   ]
  },
  {
   "cell_type": "code",
   "execution_count": 25,
   "metadata": {},
   "outputs": [
    {
     "ename": "TypeError",
     "evalue": "expected string or bytes-like object",
     "output_type": "error",
     "traceback": [
      "\u001b[1;31m---------------------------------------------------------------------------\u001b[0m",
      "\u001b[1;31mTypeError\u001b[0m                                 Traceback (most recent call last)",
      "\u001b[1;32m<ipython-input-25-2fa993475dfe>\u001b[0m in \u001b[0;36m<module>\u001b[1;34m\u001b[0m\n\u001b[1;32m----> 1\u001b[1;33m \u001b[0mprint\u001b[0m\u001b[1;33m(\u001b[0m\u001b[0mre\u001b[0m\u001b[1;33m.\u001b[0m\u001b[0msub\u001b[0m\u001b[1;33m(\u001b[0m\u001b[1;34mr\"[^a-zA-Z\\s]\"\u001b[0m\u001b[1;33m,\u001b[0m \u001b[1;34m\"*\"\u001b[0m\u001b[1;33m,\u001b[0m \u001b[0mprueba\u001b[0m\u001b[1;33m)\u001b[0m\u001b[1;33m)\u001b[0m\u001b[1;33m\u001b[0m\u001b[1;33m\u001b[0m\u001b[0m\n\u001b[0m",
      "\u001b[1;32m~\\anaconda3\\lib\\re.py\u001b[0m in \u001b[0;36msub\u001b[1;34m(pattern, repl, string, count, flags)\u001b[0m\n\u001b[0;32m    208\u001b[0m     \u001b[0ma\u001b[0m \u001b[0mcallable\u001b[0m\u001b[1;33m,\u001b[0m \u001b[0mit\u001b[0m\u001b[0;31m'\u001b[0m\u001b[0ms\u001b[0m \u001b[0mpassed\u001b[0m \u001b[0mthe\u001b[0m \u001b[0mMatch\u001b[0m \u001b[0mobject\u001b[0m \u001b[1;32mand\u001b[0m \u001b[0mmust\u001b[0m \u001b[1;32mreturn\u001b[0m\u001b[1;33m\u001b[0m\u001b[1;33m\u001b[0m\u001b[0m\n\u001b[0;32m    209\u001b[0m     a replacement string to be used.\"\"\"\n\u001b[1;32m--> 210\u001b[1;33m     \u001b[1;32mreturn\u001b[0m \u001b[0m_compile\u001b[0m\u001b[1;33m(\u001b[0m\u001b[0mpattern\u001b[0m\u001b[1;33m,\u001b[0m \u001b[0mflags\u001b[0m\u001b[1;33m)\u001b[0m\u001b[1;33m.\u001b[0m\u001b[0msub\u001b[0m\u001b[1;33m(\u001b[0m\u001b[0mrepl\u001b[0m\u001b[1;33m,\u001b[0m \u001b[0mstring\u001b[0m\u001b[1;33m,\u001b[0m \u001b[0mcount\u001b[0m\u001b[1;33m)\u001b[0m\u001b[1;33m\u001b[0m\u001b[1;33m\u001b[0m\u001b[0m\n\u001b[0m\u001b[0;32m    211\u001b[0m \u001b[1;33m\u001b[0m\u001b[0m\n\u001b[0;32m    212\u001b[0m \u001b[1;32mdef\u001b[0m \u001b[0msubn\u001b[0m\u001b[1;33m(\u001b[0m\u001b[0mpattern\u001b[0m\u001b[1;33m,\u001b[0m \u001b[0mrepl\u001b[0m\u001b[1;33m,\u001b[0m \u001b[0mstring\u001b[0m\u001b[1;33m,\u001b[0m \u001b[0mcount\u001b[0m\u001b[1;33m=\u001b[0m\u001b[1;36m0\u001b[0m\u001b[1;33m,\u001b[0m \u001b[0mflags\u001b[0m\u001b[1;33m=\u001b[0m\u001b[1;36m0\u001b[0m\u001b[1;33m)\u001b[0m\u001b[1;33m:\u001b[0m\u001b[1;33m\u001b[0m\u001b[1;33m\u001b[0m\u001b[0m\n",
      "\u001b[1;31mTypeError\u001b[0m: expected string or bytes-like object"
     ]
    }
   ],
   "source": [
    "print(re.sub(r\"[^a-zA-Z\\s]\", \"*\", prueba))"
   ]
  },
  {
   "cell_type": "code",
   "execution_count": null,
   "metadata": {},
   "outputs": [],
   "source": [
    "### Este ultimo punto no pude realizarlo ### no logro volver mi array a texto y no hace la sustitución de tíldes por *"
   ]
  }
 ],
 "metadata": {
  "kernelspec": {
   "display_name": "Python 3",
   "language": "python",
   "name": "python3"
  },
  "language_info": {
   "codemirror_mode": {
    "name": "ipython",
    "version": 3
   },
   "file_extension": ".py",
   "mimetype": "text/x-python",
   "name": "python",
   "nbconvert_exporter": "python",
   "pygments_lexer": "ipython3",
   "version": "3.8.3"
  }
 },
 "nbformat": 4,
 "nbformat_minor": 4
}
