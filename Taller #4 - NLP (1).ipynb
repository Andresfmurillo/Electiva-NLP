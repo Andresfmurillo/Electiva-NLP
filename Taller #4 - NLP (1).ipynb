{
 "cells": [
  {
   "cell_type": "code",
   "execution_count": 53,
   "metadata": {},
   "outputs": [],
   "source": [
    "import re"
   ]
  },
  {
   "cell_type": "code",
   "execution_count": 54,
   "metadata": {},
   "outputs": [],
   "source": [
    "import pandas as pd\n",
    "from pandas import DataFrame"
   ]
  },
  {
   "cell_type": "code",
   "execution_count": 55,
   "metadata": {},
   "outputs": [],
   "source": [
    "from collections import Counter"
   ]
  },
  {
   "cell_type": "code",
   "execution_count": 56,
   "metadata": {},
   "outputs": [],
   "source": [
    "from nltk.corpus import stopwords"
   ]
  },
  {
   "cell_type": "code",
   "execution_count": 57,
   "metadata": {},
   "outputs": [],
   "source": [
    "stopwords_sp = stopwords.words(\"spanish\")"
   ]
  },
  {
   "cell_type": "code",
   "execution_count": 58,
   "metadata": {},
   "outputs": [],
   "source": [
    "from sklearn.feature_extraction.text import CountVectorizer"
   ]
  },
  {
   "cell_type": "markdown",
   "metadata": {},
   "source": [
    "## Punto 1: Pre-procesamiento"
   ]
  },
  {
   "cell_type": "code",
   "execution_count": 59,
   "metadata": {},
   "outputs": [
    {
     "data": {
      "text/html": [
       "<div>\n",
       "<style scoped>\n",
       "    .dataframe tbody tr th:only-of-type {\n",
       "        vertical-align: middle;\n",
       "    }\n",
       "\n",
       "    .dataframe tbody tr th {\n",
       "        vertical-align: top;\n",
       "    }\n",
       "\n",
       "    .dataframe thead th {\n",
       "        text-align: right;\n",
       "    }\n",
       "</style>\n",
       "<table border=\"1\" class=\"dataframe\">\n",
       "  <thead>\n",
       "    <tr style=\"text-align: right;\">\n",
       "      <th></th>\n",
       "      <th>Locución</th>\n",
       "    </tr>\n",
       "  </thead>\n",
       "  <tbody>\n",
       "    <tr>\n",
       "      <th>0</th>\n",
       "      <td>Francamente no</td>\n",
       "    </tr>\n",
       "    <tr>\n",
       "      <th>1</th>\n",
       "      <td>Lo del canadiense. Por favor, como que vosotro...</td>\n",
       "    </tr>\n",
       "    <tr>\n",
       "      <th>2</th>\n",
       "      <td>Tienes razón. A lo mejor así te liberas de tu ...</td>\n",
       "    </tr>\n",
       "    <tr>\n",
       "      <th>3</th>\n",
       "      <td>Pues, tú sabrás</td>\n",
       "    </tr>\n",
       "    <tr>\n",
       "      <th>4</th>\n",
       "      <td>Para mí que fue Krieger</td>\n",
       "    </tr>\n",
       "    <tr>\n",
       "      <th>...</th>\n",
       "      <td>...</td>\n",
       "    </tr>\n",
       "    <tr>\n",
       "      <th>954</th>\n",
       "      <td>Yo qué sé, digo yo qué será</td>\n",
       "    </tr>\n",
       "    <tr>\n",
       "      <th>955</th>\n",
       "      <td>Lo han entendido mal. Las joyas que venden en ...</td>\n",
       "    </tr>\n",
       "    <tr>\n",
       "      <th>956</th>\n",
       "      <td>Oooo... Me llamo Vivian</td>\n",
       "    </tr>\n",
       "    <tr>\n",
       "      <th>957</th>\n",
       "      <td>¿De dónde? ¿Del coño de tu madre?</td>\n",
       "    </tr>\n",
       "    <tr>\n",
       "      <th>958</th>\n",
       "      <td>Ah, sí esto podría funcionar</td>\n",
       "    </tr>\n",
       "  </tbody>\n",
       "</table>\n",
       "<p>959 rows × 1 columns</p>\n",
       "</div>"
      ],
      "text/plain": [
       "                                              Locución\n",
       "0                                       Francamente no\n",
       "1    Lo del canadiense. Por favor, como que vosotro...\n",
       "2    Tienes razón. A lo mejor así te liberas de tu ...\n",
       "3                                      Pues, tú sabrás\n",
       "4                              Para mí que fue Krieger\n",
       "..                                                 ...\n",
       "954                        Yo qué sé, digo yo qué será\n",
       "955  Lo han entendido mal. Las joyas que venden en ...\n",
       "956                            Oooo... Me llamo Vivian\n",
       "957                  ¿De dónde? ¿Del coño de tu madre?\n",
       "958                       Ah, sí esto podría funcionar\n",
       "\n",
       "[959 rows x 1 columns]"
      ]
     },
     "execution_count": 59,
     "metadata": {},
     "output_type": "execute_result"
    }
   ],
   "source": [
    "pd.read_csv(\"C:/Users/AndresFelipe/Downloads/dialogos.csv\", sep=\",\", encoding = \"utf-8\", header=0)"
   ]
  },
  {
   "cell_type": "code",
   "execution_count": 65,
   "metadata": {},
   "outputs": [],
   "source": [
    "locucion = pd.read_csv(\"C:/Users/AndresFelipe/Downloads/dialogos.csv\", sep=\",\", encoding = \"utf-8\", header=0)\n",
    "locucion2 = locucion"
   ]
  },
  {
   "cell_type": "code",
   "execution_count": null,
   "metadata": {},
   "outputs": [],
   "source": []
  },
  {
   "cell_type": "code",
   "execution_count": 66,
   "metadata": {},
   "outputs": [
    {
     "name": "stdout",
     "output_type": "stream",
     "text": [
      "                                              Locución\n",
      "0                                       francamente no\n",
      "1    lo del canadiense. por favor, como que vosotro...\n",
      "2    tienes razón. a lo mejor así te liberas de tu ...\n",
      "3                                      pues, tú sabrás\n",
      "4                              para mí que fue krieger\n",
      "..                                                 ...\n",
      "954                        yo qué sé, digo yo qué será\n",
      "955  lo han entendido mal. las joyas que venden en ...\n",
      "956                            oooo... me llamo vivian\n",
      "957                  ¿de dónde? ¿del coño de tu madre?\n",
      "958                       ah, sí esto podría funcionar\n",
      "\n",
      "[959 rows x 1 columns]\n"
     ]
    }
   ],
   "source": [
    "## Minúsculas\n",
    "df = DataFrame(locucion)\n",
    "locucion[\"Locución\"] = df.Locución.astype(str).str.lower()\n",
    "print(locucion)"
   ]
  },
  {
   "cell_type": "code",
   "execution_count": 68,
   "metadata": {},
   "outputs": [
    {
     "data": {
      "text/plain": [
       "['Locución',\n",
       " 'francamente',\n",
       " 'no',\n",
       " 'lo',\n",
       " 'del',\n",
       " 'canadiense',\n",
       " 'por',\n",
       " 'favor',\n",
       " 'como',\n",
       " 'que',\n",
       " 'vosotro',\n",
       " 'tienes',\n",
       " 'razón',\n",
       " 'a',\n",
       " 'lo',\n",
       " 'mejor',\n",
       " 'así',\n",
       " 'te',\n",
       " 'liberas',\n",
       " 'de',\n",
       " 'tu',\n",
       " 'pues',\n",
       " 'tú',\n",
       " 'sabrás',\n",
       " 'para',\n",
       " 'mí',\n",
       " 'que',\n",
       " 'fue',\n",
       " 'krieger',\n",
       " 'yo',\n",
       " 'qué',\n",
       " 'sé',\n",
       " 'digo',\n",
       " 'yo',\n",
       " 'qué',\n",
       " 'será',\n",
       " 'lo',\n",
       " 'han',\n",
       " 'entendido',\n",
       " 'mal',\n",
       " 'las',\n",
       " 'joyas',\n",
       " 'que',\n",
       " 'venden',\n",
       " 'en',\n",
       " 'oooo',\n",
       " 'me',\n",
       " 'llamo',\n",
       " 'vivian',\n",
       " 'de',\n",
       " 'dónde',\n",
       " 'del',\n",
       " 'coño',\n",
       " 'de',\n",
       " 'tu',\n",
       " 'madre',\n",
       " 'ah',\n",
       " 'sí',\n",
       " 'esto',\n",
       " 'podría',\n",
       " 'funcionar',\n",
       " 'rows',\n",
       " 'x',\n",
       " 'columns']"
      ]
     },
     "execution_count": 68,
     "metadata": {},
     "output_type": "execute_result"
    }
   ],
   "source": [
    "## dejar solo letras\n",
    "locucion = re.sub(r\"[\\W\\d]\", \" \", str(locucion))\n",
    "locucion = locucion.strip()\n",
    "# tokenizar\n",
    "locucion = locucion.split()\n",
    "locucion"
   ]
  },
  {
   "cell_type": "code",
   "execution_count": 74,
   "metadata": {},
   "outputs": [
    {
     "data": {
      "text/plain": [
       "[('Locución', 0),\n",
       " ('francamente', 1),\n",
       " ('no', 2),\n",
       " ('lo', 3),\n",
       " ('del', 4),\n",
       " ('canadiense', 5),\n",
       " ('por', 6),\n",
       " ('favor', 7),\n",
       " ('como', 8),\n",
       " ('que', 9),\n",
       " ('vosotro', 10),\n",
       " ('tienes', 11),\n",
       " ('razón', 12),\n",
       " ('a', 13),\n",
       " ('lo', 14),\n",
       " ('mejor', 15),\n",
       " ('así', 16),\n",
       " ('te', 17),\n",
       " ('liberas', 18),\n",
       " ('de', 19),\n",
       " ('tu', 20),\n",
       " ('pues', 21),\n",
       " ('tú', 22),\n",
       " ('sabrás', 23),\n",
       " ('para', 24),\n",
       " ('mí', 25),\n",
       " ('que', 26),\n",
       " ('fue', 27),\n",
       " ('krieger', 28),\n",
       " ('yo', 29),\n",
       " ('qué', 30),\n",
       " ('sé', 31),\n",
       " ('digo', 32),\n",
       " ('yo', 33),\n",
       " ('qué', 34),\n",
       " ('será', 35),\n",
       " ('lo', 36),\n",
       " ('han', 37),\n",
       " ('entendido', 38),\n",
       " ('mal', 39),\n",
       " ('las', 40),\n",
       " ('joyas', 41),\n",
       " ('que', 42),\n",
       " ('venden', 43),\n",
       " ('en', 44),\n",
       " ('oooo', 45),\n",
       " ('me', 46),\n",
       " ('llamo', 47),\n",
       " ('vivian', 48),\n",
       " ('de', 49),\n",
       " ('dónde', 50),\n",
       " ('del', 51),\n",
       " ('coño', 52),\n",
       " ('de', 53),\n",
       " ('tu', 54),\n",
       " ('madre', 55),\n",
       " ('ah', 56),\n",
       " ('sí', 57),\n",
       " ('esto', 58),\n",
       " ('podría', 59),\n",
       " ('funcionar', 60),\n",
       " ('rows', 61),\n",
       " ('x', 62),\n",
       " ('columns', 63)]"
      ]
     },
     "execution_count": 74,
     "metadata": {},
     "output_type": "execute_result"
    }
   ],
   "source": [
    "# Sin palabras vacias\n",
    "locucion = [palabra for palabra in locucion if palabra not in stopwords_sp]\n",
    "locucion"
   ]
  },
  {
   "cell_type": "code",
   "execution_count": 75,
   "metadata": {},
   "outputs": [
    {
     "name": "stdout",
     "output_type": "stream",
     "text": [
      "('Locución', 0) : 1\n",
      "('francamente', 1) : 1\n",
      "('no', 2) : 1\n",
      "('lo', 3) : 1\n",
      "('del', 4) : 1\n",
      "('canadiense', 5) : 1\n",
      "('por', 6) : 1\n",
      "('favor', 7) : 1\n",
      "('como', 8) : 1\n",
      "('que', 9) : 1\n",
      "('vosotro', 10) : 1\n",
      "('tienes', 11) : 1\n",
      "('razón', 12) : 1\n",
      "('a', 13) : 1\n",
      "('lo', 14) : 1\n",
      "('mejor', 15) : 1\n",
      "('así', 16) : 1\n",
      "('te', 17) : 1\n",
      "('liberas', 18) : 1\n",
      "('de', 19) : 1\n",
      "('tu', 20) : 1\n",
      "('pues', 21) : 1\n",
      "('tú', 22) : 1\n",
      "('sabrás', 23) : 1\n",
      "('para', 24) : 1\n",
      "('mí', 25) : 1\n",
      "('que', 26) : 1\n",
      "('fue', 27) : 1\n",
      "('krieger', 28) : 1\n",
      "('yo', 29) : 1\n",
      "('qué', 30) : 1\n",
      "('sé', 31) : 1\n",
      "('digo', 32) : 1\n",
      "('yo', 33) : 1\n",
      "('qué', 34) : 1\n",
      "('será', 35) : 1\n",
      "('lo', 36) : 1\n",
      "('han', 37) : 1\n",
      "('entendido', 38) : 1\n",
      "('mal', 39) : 1\n",
      "('las', 40) : 1\n",
      "('joyas', 41) : 1\n",
      "('que', 42) : 1\n",
      "('venden', 43) : 1\n",
      "('en', 44) : 1\n",
      "('oooo', 45) : 1\n",
      "('me', 46) : 1\n",
      "('llamo', 47) : 1\n",
      "('vivian', 48) : 1\n",
      "('de', 49) : 1\n",
      "('dónde', 50) : 1\n",
      "('del', 51) : 1\n",
      "('coño', 52) : 1\n",
      "('de', 53) : 1\n",
      "('tu', 54) : 1\n",
      "('madre', 55) : 1\n",
      "('ah', 56) : 1\n",
      "('sí', 57) : 1\n",
      "('esto', 58) : 1\n",
      "('podría', 59) : 1\n",
      "('funcionar', 60) : 1\n",
      "('rows', 61) : 1\n",
      "('x', 62) : 1\n",
      "('columns', 63) : 1\n"
     ]
    }
   ],
   "source": [
    "# crear un diccionario vacio\n",
    "locu = dict()\n",
    "\n",
    "for palabra in locucion:\n",
    "    if palabra in locu:\n",
    "        locu[palabra] = locu[palabra] +1\n",
    "    else:\n",
    "        locu[palabra] = 1\n",
    "        \n",
    "# imprimir el conteo\n",
    "for key in list(locu.keys()):\n",
    "    print(key, \":\", locu[key])"
   ]
  },
  {
   "cell_type": "code",
   "execution_count": 76,
   "metadata": {},
   "outputs": [
    {
     "data": {
      "text/plain": [
       "[(('Locución', 0), 0),\n",
       " (('francamente', 1), 1),\n",
       " (('no', 2), 2),\n",
       " (('lo', 3), 3),\n",
       " (('del', 4), 4),\n",
       " (('canadiense', 5), 5),\n",
       " (('por', 6), 6),\n",
       " (('favor', 7), 7),\n",
       " (('como', 8), 8),\n",
       " (('que', 9), 9),\n",
       " (('vosotro', 10), 10),\n",
       " (('tienes', 11), 11),\n",
       " (('razón', 12), 12),\n",
       " (('a', 13), 13),\n",
       " (('lo', 14), 14),\n",
       " (('mejor', 15), 15),\n",
       " (('así', 16), 16),\n",
       " (('te', 17), 17),\n",
       " (('liberas', 18), 18),\n",
       " (('de', 19), 19),\n",
       " (('tu', 20), 20),\n",
       " (('pues', 21), 21),\n",
       " (('tú', 22), 22),\n",
       " (('sabrás', 23), 23),\n",
       " (('para', 24), 24),\n",
       " (('mí', 25), 25),\n",
       " (('que', 26), 26),\n",
       " (('fue', 27), 27),\n",
       " (('krieger', 28), 28),\n",
       " (('yo', 29), 29),\n",
       " (('qué', 30), 30),\n",
       " (('sé', 31), 31),\n",
       " (('digo', 32), 32),\n",
       " (('yo', 33), 33),\n",
       " (('qué', 34), 34),\n",
       " (('será', 35), 35),\n",
       " (('lo', 36), 36),\n",
       " (('han', 37), 37),\n",
       " (('entendido', 38), 38),\n",
       " (('mal', 39), 39),\n",
       " (('las', 40), 40),\n",
       " (('joyas', 41), 41),\n",
       " (('que', 42), 42),\n",
       " (('venden', 43), 43),\n",
       " (('en', 44), 44),\n",
       " (('oooo', 45), 45),\n",
       " (('me', 46), 46),\n",
       " (('llamo', 47), 47),\n",
       " (('vivian', 48), 48),\n",
       " (('de', 49), 49),\n",
       " (('dónde', 50), 50),\n",
       " (('del', 51), 51),\n",
       " (('coño', 52), 52),\n",
       " (('de', 53), 53),\n",
       " (('tu', 54), 54),\n",
       " (('madre', 55), 55),\n",
       " (('ah', 56), 56),\n",
       " (('sí', 57), 57),\n",
       " (('esto', 58), 58),\n",
       " (('podría', 59), 59),\n",
       " (('funcionar', 60), 60),\n",
       " (('rows', 61), 61),\n",
       " (('x', 62), 62),\n",
       " (('columns', 63), 63)]"
      ]
     },
     "execution_count": 76,
     "metadata": {},
     "output_type": "execute_result"
    }
   ],
   "source": [
    "### 10 palabras mas usadas\n",
    "locucion = [(palabra, i) for i, palabra in enumerate(locucion)]\n",
    "locucion"
   ]
  },
  {
   "cell_type": "markdown",
   "metadata": {},
   "source": [
    "## Punto 2"
   ]
  },
  {
   "cell_type": "code",
   "execution_count": 50,
   "metadata": {},
   "outputs": [],
   "source": [
    "import pandas as pd\n",
    "import numpy as np"
   ]
  },
  {
   "cell_type": "code",
   "execution_count": 51,
   "metadata": {
    "scrolled": true
   },
   "outputs": [
    {
     "data": {
      "text/html": [
       "<div>\n",
       "<style scoped>\n",
       "    .dataframe tbody tr th:only-of-type {\n",
       "        vertical-align: middle;\n",
       "    }\n",
       "\n",
       "    .dataframe tbody tr th {\n",
       "        vertical-align: top;\n",
       "    }\n",
       "\n",
       "    .dataframe thead th {\n",
       "        text-align: right;\n",
       "    }\n",
       "</style>\n",
       "<table border=\"1\" class=\"dataframe\">\n",
       "  <thead>\n",
       "    <tr style=\"text-align: right;\">\n",
       "      <th></th>\n",
       "      <th>Locución</th>\n",
       "    </tr>\n",
       "  </thead>\n",
       "  <tbody>\n",
       "    <tr>\n",
       "      <th>0</th>\n",
       "      <td>Francamente no</td>\n",
       "    </tr>\n",
       "    <tr>\n",
       "      <th>1</th>\n",
       "      <td>Lo del canadiense. Por favor, como que vosotro...</td>\n",
       "    </tr>\n",
       "    <tr>\n",
       "      <th>2</th>\n",
       "      <td>Tienes razón. A lo mejor así te liberas de tu ...</td>\n",
       "    </tr>\n",
       "    <tr>\n",
       "      <th>3</th>\n",
       "      <td>Pues, tú sabrás</td>\n",
       "    </tr>\n",
       "    <tr>\n",
       "      <th>4</th>\n",
       "      <td>Para mí que fue Krieger</td>\n",
       "    </tr>\n",
       "    <tr>\n",
       "      <th>...</th>\n",
       "      <td>...</td>\n",
       "    </tr>\n",
       "    <tr>\n",
       "      <th>954</th>\n",
       "      <td>Yo qué sé, digo yo qué será</td>\n",
       "    </tr>\n",
       "    <tr>\n",
       "      <th>955</th>\n",
       "      <td>Lo han entendido mal. Las joyas que venden en ...</td>\n",
       "    </tr>\n",
       "    <tr>\n",
       "      <th>956</th>\n",
       "      <td>Oooo... Me llamo Vivian</td>\n",
       "    </tr>\n",
       "    <tr>\n",
       "      <th>957</th>\n",
       "      <td>¿De dónde? ¿Del coño de tu madre?</td>\n",
       "    </tr>\n",
       "    <tr>\n",
       "      <th>958</th>\n",
       "      <td>Ah, sí esto podría funcionar</td>\n",
       "    </tr>\n",
       "  </tbody>\n",
       "</table>\n",
       "<p>959 rows × 1 columns</p>\n",
       "</div>"
      ],
      "text/plain": [
       "                                              Locución\n",
       "0                                       Francamente no\n",
       "1    Lo del canadiense. Por favor, como que vosotro...\n",
       "2    Tienes razón. A lo mejor así te liberas de tu ...\n",
       "3                                      Pues, tú sabrás\n",
       "4                              Para mí que fue Krieger\n",
       "..                                                 ...\n",
       "954                        Yo qué sé, digo yo qué será\n",
       "955  Lo han entendido mal. Las joyas que venden en ...\n",
       "956                            Oooo... Me llamo Vivian\n",
       "957                  ¿De dónde? ¿Del coño de tu madre?\n",
       "958                       Ah, sí esto podría funcionar\n",
       "\n",
       "[959 rows x 1 columns]"
      ]
     },
     "execution_count": 51,
     "metadata": {},
     "output_type": "execute_result"
    }
   ],
   "source": [
    "corpus = pd.read_csv(\"C:/Users/AndresFelipe/Downloads/dialogos.csv\", sep=\",\", encoding = \"utf-8\", header=0)\n",
    "corpus"
   ]
  },
  {
   "cell_type": "code",
   "execution_count": 52,
   "metadata": {},
   "outputs": [
    {
     "name": "stdout",
     "output_type": "stream",
     "text": [
      "[('Clyde,', 0), ('suerte', 1), ('y', 2), ('lucen', 3), ('ventas', 4), ('homófoba', 5), ('bajos', 6), ('Esto', 7), ('club', 8), ('Creo,', 9), ('estableció', 10), ('siquiera', 11), ('¿Y', 12), ('necesidad', 13), ('tutora', 14), ('voto', 15), ('Dios,', 16), ('durante', 17), ('sino', 18), ('cuatro', 19), ('oro\"\"', 20), ('dices?', 21), ('aptece', 22), ('puedes', 23), ('Estó', 24), ('vuelva', 25), ('Quiero', 26), ('Apunta', 27), ('jugadores', 28), ('menos', 29), ('Lana.', 30), ('sedes', 31), ('nuestro', 32), ('hermosa', 33), ('cena', 34), ('parecen', 35), ('fuerte!', 36), ('vale,', 37), ('dispararan,', 38), ('un', 39), ('hijos?', 40), ('De', 41), ('deciendo', 42), ('ver', 43), ('ridículo.', 44), ('creemos', 45), ('cerca', 46), ('seguimos', 47), ('intentado', 48), ('básicamente', 49), ('amabilidad', 50), ('pena', 51), ('todos.', 52), ('hielo.', 53), ('fuerte', 54), ('Tu', 55), ('contra', 56), ('sabía', 57), ('darle', 58), ('conseguir', 59), ('amables', 60), ('había', 61), ('fascinante,', 62), ('crear', 63), ('paquistaní.', 64), ('puñalara', 65), ('patos', 66), ('molar', 67), ('Stillers,', 68), ('Brasil', 69), ('trece?', 70), ('feliz', 71), ('dije,', 72), ('¿ya', 73), ('Cago', 74), ('juro', 75), ('espalda', 76), ('yo.', 77), ('eso!', 78), ('Bien', 79), ('Espera,', 80), ('fuertemente', 81), ('sacad', 82), ('pateamos', 83), ('Jhonsson!', 84), ('ganas', 85), ('relativo', 86), ('conducir', 87), ('minutos', 88), ('muy', 89), ('Mucha', 90), ('dispararme?', 91), ('llevas', 92), ('puede', 93), ('Intento', 94), ('después.', 95), ('viernes', 96), ('quilates,', 97), ('cinco', 98), ('Miren', 99), ('niña', 100), ('¿quién', 101), ('harás', 102), ('parte', 103), ('todavía', 104), ('esa', 105), ('presidencia.', 106), ('sucia,', 107), ('detuvo', 108), ('valor', 109), ('tenía', 110), ('corbatíta,', 111), ('ojo', 112), ('paciente', 113), ('abrazar', 114), ('Tenemos', 115), ('Cállate!', 116), ('¿Entendido?', 117), ('haciendo', 118), ('significaba', 119), ('fundir', 120), ('juegen', 121), ('negó,', 122), ('quere', 123), ('efectivo', 124), ('ciencia', 125), ('hará', 126), ('alias', 127), ('Mejor', 128), ('sola', 129), ('¿Juegas', 130), ('dos', 131), ('después', 132), ('Llamé', 133), ('mansiones', 134), ('Son', 135), ('querré', 136), ('hablar', 137), ('olvidarme', 138), ('aprovecharse', 139), ('papel?', 140), ('AJ?', 141), ('cúbreme', 142), ('nuestras.', 143), ('experiencia', 144), ('Tac', 145), ('disfrutamos', 146), ('compasión!', 147), ('genéticas,', 148), ('dicho?', 149), ('asustar,', 150), ('prometo', 151), ('auto,', 152), ('jerez', 153), ('Cómo,', 154), ('terminar?', 155), ('falsa', 156), ('tienda', 157), ('Amo', 158), ('improbable', 159), ('millones', 160), ('sujetes', 161), ('alquimistas', 162), ('victoria!', 163), ('bastante', 164), ('trajera', 165), ('Puede', 166), ('ayer', 167), ('tragado', 168), ('¡Qué', 169), ('¿Bien,', 170), ('criar', 171), ('adreza', 172), ('Ah', 173), ('globo,', 174), ('materna?', 175), ('Mani', 176), ('realista', 177), ('arrancaste', 178), ('cantante', 179), ('Malin', 180), ('descansan', 181), ('cosa?', 182), ('sacas', 183), ('gente.', 184), ('ordenador', 185), ('cabrones', 186), ('siento', 187), ('es?', 188), ('Ley', 189), ('Dios!', 190), ('Jim,', 191), ('pisos', 192), ('quede', 193), ('escuelas', 194), ('dijeron', 195), ('aprendimos', 196), ('paso,', 197), ('cuestan', 198), ('principal', 199), ('estemos', 200), ('difícil', 201), ('placer', 202), ('miles', 203), ('Butters.', 204), ('eráis', 205), ('fin,', 206), ('mis', 207), ('jordana', 208), ('partir', 209), ('ocurren', 210), ('¡Eso', 211), ('diez', 212), ('haciendo?', 213), ('último', 214), ('esperma?', 215), ('sofá', 216), ('buena', 217), ('Ya,', 218), ('estuviera', 219), ('¿Ahora', 220), ('cállate!', 221), ('tener', 222), ('sostén', 223), ('terminarse', 224), ('Porque', 225), ('argentio', 226), ('pasarlo', 227), ('tuve', 228), ('favor', 229), ('doritos', 230), ('siguen', 231), ('no.', 232), ('eres.', 233), ('mal', 234), ('Debo', 235), ('Ven', 236), ('siempre.', 237), ('lamentamos', 238), ('pierde', 239), ('envían', 240), ('confidencial', 241), ('uno', 242), ('aprendiendo', 243), ('negors', 244), ('relación', 245), ('aquí?', 246), ('viejo', 247), ('di', 248), ('cincuenta', 249), ('preparamos', 250), ('árbitro', 251), ('traicionó,', 252), ('entrenador', 253), ('ayudarémos', 254), ('cagar?', 255), ('hermana?', 256), ('yo?', 257), ('Á', 258), ('conoce', 259), ('mí,', 260), ('lecciones', 261), ('\"\"mai', 262), ('en', 263), ('sabían', 264), ('anuales.', 265), ('pagar.', 266), ('Pagar', 267), ('Pues', 268), ('oro\"', 269), ('alguien', 270), ('iban', 271), ('clavado', 272), ('salió.', 273), ('Solo', 274), ('Oh', 275), ('liberas', 276), ('Pam', 277), ('Mmm,', 278), ('quién?', 279), ('preocupes,', 280), ('Vagamente.', 281), ('llama', 282), ('pico.', 283), ('Quieres', 284), ('precio,', 285), ('Pero', 286), ('canales', 287), ('maneja', 288), ('¿Randy,', 289), ('implicaré', 290), ('decir,', 291), ('carácter', 292), ('cena?', 293), ('torpe?', 294), ('frecuente', 295), ('urdu?', 296), ('dónde?', 297), ('tú.', 298), ('Eric.', 299), ('¿Vender', 300), ('Hijos', 301), ('parado', 302), ('espera,', 303), ('leccion', 304), ('idea', 305), ('notaria', 306), ('importa,', 307), ('pongas', 308), ('llamado', 309), ('Country', 310), ('claramente', 311), ('venido', 312), ('¿Porque', 313), ('preocupación', 314), ('irme', 315), ('ayúdame', 316), ('intentaron', 317), ('Ah,', 318), ('Literalmente', 319), ('llevo', 320), ('campo.', 321), ('Somos', 322), ('Levanta', 323), ('secuestrado', 324), ('momento', 325), ('Vivian,', 326), ('muchos', 327), ('Stern.', 328), ('¿A', 329), ('\"\"Oh,', 330), ('regalo.', 331), ('burbón?', 332), ('tirarte', 333), ('Oye,', 334), ('cuánto', 335), ('dejarme', 336), ('mejor,', 337), ('gas', 338), ('lunes', 339), ('ocurrió,', 340), ('escansará', 341), ('Hagámoslo.', 342), ('supergay', 343), ('Cal..', 344), ('cremoso', 345), ('habrá', 346), ('dije', 347), ('réplica', 348), ('modo', 349), ('están.', 350), ('nombre', 351), ('recuerdo', 352), ('gracias', 353), ('profesional', 354), ('nervioso?', 355), ('Lleva', 356), ('algúno.', 357), ('noventa', 358), ('debo', 359), ('¿Lo', 360), ('¿Se', 361), ('Cyril!', 362), ('J?', 363), ('Los', 364), ('deja', 365), ('¿Practicar', 366), ('acaba', 367), ('Deje', 368), ('compasivos', 369), ('Broncos.', 370), ('Muy', 371), ('geniales.', 372), ('seguridad', 373), ('ella?', 374), ('terminado', 375), ('colarnos', 376), ('papel', 377), ('investigaciones', 378), ('idiota', 379), ('niños', 380), ('Bret', 381), ('dispares,', 382), ('Dios', 383), ('Está', 384), ('Ray,', 385), ('corbata', 386), ('coño', 387), ('con', 388), ('atleta', 389), ('persona?', 390), ('Oooo...', 391), ('queremos', 392), ('nada', 393), ('sosténes.', 394), ('sangrientas', 395), (\"día'\", 396), ('nevera', 397), ('Maní', 398), ('daño', 399), ('Villy.', 400), ('veas', 401), ('sesiones', 402), ('45', 403), ('central', 404), ('Uh', 405), ('Eric', 406), ('cagando', 407), ('crezcas', 408), ('pudieseis', 409), ('avisárselo.', 410), ('llámame', 411), ('cin…', 412), ('hija', 413), ('abrazos', 414), ('identidad', 415), ('víctimas', 416), ('casa.', 417), ('idiota,', 418), ('su', 419), ('traidor.', 420), ('que', 421), ('nunca', 422), ('caríta', 423), ('conté', 424), ('emocionante.', 425), ('fácil,', 426), ('Llévanos', 427), ('cargar', 428), ('pruebas', 429), ('pinta', 430), ('pelo', 431), ('cuentas', 432), ('parar,', 433), ('lleves', 434), ('vestidos?', 435), ('¡Llévanos', 436), ('ultramoderna', 437), ('Quién?', 438), ('¡Hijo', 439), ('limusina', 440), ('terríble', 441), ('felices,', 442), ('prueba,', 443), ('corbatas', 444), ('relajar.', 445), ('proviene', 446), ('sácale', 447), ('hacernos', 448), ('práctica', 449), ('sincero?', 450), ('buenos', 451), ('asiáticas\"', 452), ('Abuelo?', 453), ('tan', 454), ('Enfestar', 455), ('bébe', 456), ('por...', 457), ('francesa,', 458), ('negocio.', 459), ('Amigo,', 460), ('Marchando', 461), ('él.', 462), ('cabecíta', 463), ('turquesa', 464), ('traicioneros.', 465), ('Riders', 466), ('cabeza', 467), ('ridículo', 468), ('mucha', 469), ('Baruk', 470), ('Conway,', 471), ('ganando', 472), ('asta', 473), ('abuelo,', 474), ('escuche,', 475), ('ridículo,', 476), ('quieto,', 477), ('¡Increíble!', 478), ('Hmm…', 479), ('lógico,', 480), ('creía', 481), ('trabajamos', 482), ('llamarás', 483), ('todavía?', 484), ('Demostrando', 485), ('dijo?', 486), ('¡Justo', 487), ('Desde', 488), ('escoria', 489), ('permiten', 490), ('ponerte', 491), ('felices', 492), ('caray,', 493), ('sarcasmobol', 494), ('¿Sí,', 495), ('futból', 496), ('clave?', 497), ('aqui?', 498), ('¿a', 499), ('están', 500), ('¿Pero', 501), ('tenerla', 502), ('escupieras', 503), ('cinquenta', 504), ('tenga', 505), ('serio', 506), ('parecerse', 507), ('dices', 508), ('como', 509), ('parece', 510), ('Quería', 511), ('estuve', 512), ('cojínes', 513), ('amable', 514), ('toman', 515), ('quilates', 516), ('¿Necesitas', 517), ('cago', 518), ('ganador', 519), ('adentro', 520), ('fuimos', 521), ('gracias.', 522), ('resto', 523), ('pachata', 524), ('Dan', 525), ('esposa', 526), ('Goodell.', 527), ('serio?', 528), ('puerta', 529), ('¿Que', 530), ('duró', 531), ('siendo', 532), ('¿son', 533), ('ojos,', 534), ('negociar,', 535), ('escocés', 536), ('pasar', 537), ('podemos', 538), ('gritar', 539), ('legal', 540), ('Maritin', 541), ('mano?', 542), ('casa', 543), ('¿Acaso', 544), ('hacerte', 545), ('perdón,', 546), ('Llamen', 547), ('creciente', 548), ('genial,', 549), ('convertir', 550), ('Eres', 551), ('parezcas', 552), ('serio.', 553), ('tiro', 554), ('porque', 555), ('comisionato', 556), ('mano,', 557), ('realmente.', 558), ('Lando.', 559), ('jugar.', 560), ('estudo', 561), ('Cristi', 562), ('osíto', 563), ('tequila', 564), ('varios', 565), ('sucia.', 566), ('Verdad', 567), ('no,', 568), ('fallecer', 569), ('pillarte', 570), ('joderme', 571), ('determinen', 572), ('tuya?', 573), ('Bourbon?', 574), ('fuego', 575), ('saca,', 576), ('hasta', 577), ('bebas', 578), ('balón.', 579), ('comodines', 580), ('resumiendo', 581), ('chinos?', 582), ('va!', 583), ('dentro,', 584), ('divertiste', 585), ('Yo', 586), ('dio', 587), ('improvisable?', 588), ('¿crees', 589), ('hola', 590), ('pasarse', 591), ('conchabados?', 592), ('interior', 593), ('abracen', 594), ('litros', 595), ('elegir', 596), ('80', 597), ('aqui', 598), ('ti,', 599), ('amabilidad,', 600), ('jugadas.', 601), ('Tú', 602), ('cola,', 603), ('interesante.', 604), ('pasa?', 605), ('se', 606), ('India,', 607), ('resolverlo', 608), ('agradezca', 609), ('quedarás', 610), ('boca', 611), ('decirte', 612), ('subid', 613), ('brasileño?', 614), ('entrenador,', 615), ('altura.', 616), ('veo', 617), ('victoria', 618), ('Argentina', 619), ('sentimientos,', 620), ('cerramos', 621), ('ocupe', 622), ('Primero,', 623), ('correrá', 624), ('costó', 625), ('puedo', 626), ('pidió', 627), ('Verás', 628), ('provocar.', 629), ('edad', 630), ('tomándose', 631), ('especiales', 632), ('Un', 633), ('sopearte', 634), ('ofrecer', 635), ('Además', 636), ('Lexington...', 637), ('violencia?', 638), ('murió', 639), ('contrario', 640), ('entendido', 641), ('A', 642), ('coronel', 643), ('conmoción.', 644), ('inventó', 645), ('cíborg,', 646), ('yurta', 647), ('Krieger', 648), ('Todavía', 649), ('símbolo', 650), ('playa', 651), ('oído', 652), ('pegas?', 653), ('cogerla?', 654), ('padres', 655), ('vamos,', 656), ('especial,', 657), ('ocurrir.', 658), ('¿Alguién', 659), ('bebemos', 660), ('luego,', 661), ('algunos', 662), ('acceder', 663), ('genios.', 664), ('esta', 665), ('pudiera', 666), ('Norths', 667), ('usando', 668), ('éxito', 669), ('veía', 670), ('ir', 671), ('Venga,', 672), ('Vuélvete', 673), ('Cilo', 674), ('estaré', 675), ('otros,', 676), ('igualíto', 677), ('inicial', 678), ('avergonzarse', 679), ('dura', 680), ('37', 681), ('te', 682), ('cosa', 683), ('igual?', 684), ('favor.', 685), ('enmendarlo,', 686), ('actuante', 687), ('cuestión.', 688), ('minuto?', 689), ('verás', 690), ('verbo,', 691), ('Están', 692), ('multicampo', 693), ('puñalarme,', 694), ('Archerizar', 695), ('necesitamos,', 696), ('palmadas', 697), ('gusta', 698), ('presionar', 699), ('yo,', 700), ('prestame', 701), ('¿Os', 702), ('sombreros', 703), ('inteligencia,', 704), ('directamente', 705), ('pues,', 706), ('descaradamente.', 707), ('cargando', 708), ('agradecerte', 709), ('robot?', 710), ('hacer.', 711), ('por', 712), ('comprará', 713), ('ya!', 714), ('serás', 715), ('Acepta', 716), ('hagas', 717), ('Tendría', 718), ('bueno', 719), ('horneando', 720), ('Enrique', 721), ('tío', 722), ('parar', 723), ('oídos,', 724), ('enfermedad', 725), ('hable', 726), ('franco,', 727), ('miente.', 728), ('cráneo', 729), ('recuerdas?', 730), ('llamó', 731), ('sarcásticos', 732), ('hacerlo', 733), ('lleva', 734), ('hermosa,', 735), ('horas', 736), ('super', 737), ('heróico,', 738), ('apoyo', 739), ('castaña,', 740), ('eres?', 741), ('¿Sabe', 742), ('amenazar', 743), ('Como', 744), ('juego', 745), ('cierra', 746), ('quizás', 747), ('craqueoso', 748), ('no', 749), ('hizo', 750), ('usado', 751), ('patadas', 752), ('tú?', 753), ('acompaña', 754), ('moda!', 755), ('robando', 756), ('quidaras', 757), ('aburato', 758), ('líderes', 759), ('reales', 760), ('botellitas', 761), ('suelo,', 762), ('capas?', 763), ('negativo', 764), ('Gracias', 765), ('mientras', 766), ('QUETE', 767), ('Broncos', 768), ('saludarás', 769), ('balas', 770), ('bárbaros,', 771), ('falsa.', 772), ('¿Más', 773), ('Calrissiano,', 774), ('conduce', 775), ('Gente,', 776), ('¿La', 777), ('normal', 778), ('ocultarlo', 779), ('Bueno', 780), ('seguro,', 781), ('sentimientos', 782), ('miren', 783), ('ropa,', 784), ('levanta', 785), ('amable,', 786), ('maquillaron', 787), ('grande?', 788), ('quise', 789), ('Claudia', 790), ('mí.', 791), ('darte...', 792), ('¿Qué', 793), ('joyas?', 794), ('significa', 795), ('licores', 796), ('enfrentamiento', 797), ('Nadie', 798), ('Aquí', 799), ('cabrearme?', 800), ('nadie', 801), ('Acabo', 802), ('cuentan', 803), ('grande', 804), ('conmociones', 805), ('novatos', 806), ('malpinas.', 807), ('deportaran', 808), ('lograr,', 809), ('Dónde', 810), ('esto...', 811), ('vienes', 812), ('deseas', 813), ('mí?', 814), ('mismo', 815), ('explicar', 816), ('licor', 817), ('sé,', 818), ('quedo', 819), ('¿Solo', 820), ('intento', 821), ('Nuestra', 822), ('tío.', 823), ('hacer,', 824), ('mover', 825), ('agentes', 826), ('seguiste', 827), ('siguiera', 828), ('rico.', 829), ('Cyril,', 830), ('ningún', 831), ('hoy.', 832), ('entendemos', 833), ('no!', 834), ('cero,', 835), ('pedido', 836), ('problema?', 837), ('canadiense.', 838), ('usa', 839), ('Joder,', 840), ('nueva', 841), ('hecho.', 842), ('peletero,', 843), ('sólo', 844), ('cubrirlo', 845), ('bueno,', 846), ('mío.', 847), ('dos,', 848), ('emociona', 849), ('Comisionato,', 850), ('sí!', 851), ('mejora', 852), ('dice:', 853), ('Randy?', 854), ('vuelta', 855), ('pesadilla.', 856), ('lineación', 857), ('ibas', 858), ('ellos', 859), ('algo.', 860), ('Martín', 861), ('garage,', 862), ('acuerdo', 863), ('oso', 864), ('pegado', 865), ('cabrón', 866), ('abogada', 867), ('¡Papá!', 868), ('Woodly.', 869), ('información?', 870), ('tantos', 871), ('Shelly', 872), ('llamas?', 873), ('¿Muchachos,', 874), ('estés', 875), ('costoso', 876), ('Qué?', 877), ('más.', 878), ('jodo', 879), ('cabras', 880), ('ser', 881), ('transmisión', 882), ('ex', 883), ('pensé', 884), ('matar', 885), ('incluida', 886), ('algo,', 887), ('mí', 888), ('apuntado', 889), ('buscarán', 890), ('Bien.', 891), ('refiere', 892), ('Mali', 893), ('comida', 894), ('perro,', 895), ('señal', 896), ('robot', 897), ('visita', 898), ('atrapa', 899), ('Toda,', 900), ('dólares', 901), ('Sí', 902), ('vacía!', 903), ('\"\"compramos', 904), ('pueden', 905), ('estudiando', 906), ('brazos...', 907), ('aretes.', 908), ('dos?', 909), ('tontería', 910), ('aplauso', 911), ('grite', 912), ('hombre', 913), ('Oh,', 914), ('Key,', 915), ('otras', 916), ('multiracial', 917), ('servidor', 918), ('cuál', 919), ('ochenta', 920), ('dejadme', 921), ('¡Genial!', 922), ('niñera', 923), ('24', 924), ('Jesús', 925), ('ofrecerías', 926), ('Creía', 927), ('Aunque', 928), ('información', 929), ('real,', 930), ('reventa,', 931), ('sarcasmobol,', 932), ('ya', 933), ('locos', 934), ('eleve', 935), ('sol', 936), ('¡Joder!', 937), ('Perfecto!', 938), ('campo', 939), ('salidos', 940), ('tiempo', 941), ('cría', 942), ('licencia', 943), ('tapadera,', 944), ('jubilación', 945), ('¿Su', 946), ('zona', 947), ('patear.', 948), ('Busca', 949), ('cosquillas,', 950), ('usas,', 951), ('mía!', 952), ('volveré', 953), ('esperando', 954), ('Rayos,', 955), ('alumnos', 956), ('eso,', 957), ('kilítos', 958), ('esperad', 959), ('excusa?', 960), ('dice', 961), ('nueve', 962), ('hace', 963), ('¿Argentina', 964), ('callas?', 965), ('llave?', 966), ('juntos?', 967), ('Hora', 968), ('hicimos', 969), ('¡Sterling!', 970), ('operan', 971), ('abrochame', 972), ('todavía.', 973), ('avisarme', 974), ('retribución', 975), ('SkyNet?', 976), ('saltar,', 977), ('impresionar', 978), ('sigues', 979), ('sabes.', 980), ('compasivo?', 981), ('algo', 982), ('movimiento', 983), ('salchichas', 984), ('gustan', 985), ('pilas', 986), ('idea,', 987), ('tres.', 988), ('comerciales', 989), ('lamernos', 990), ('papá,', 991), ('Ray.', 992), ('lógica', 993), ('papá', 994), ('Cielos,', 995), ('estás', 996), ('podía', 997), ('nuevo.', 998), ('puede…', 999), ('todos', 1000), ('misión?', 1001), ('robo', 1002), ('piensas?', 1003), ('burdel', 1004), ('la', 1005), ('encantaría', 1006), ('tiempo.', 1007), ('compasiva,', 1008), ('correcto,', 1009), ('hablando', 1010), ('gruño', 1011), ('hablar,', 1012), ('disparar', 1013), ('luego', 1014), ('traficante', 1015), ('sacarlo', 1016), ('puta', 1017), ('joventud', 1018), ('Crees', 1019), ('línea', 1020), ('última', 1021), ('punto', 1022), ('¿Un', 1023), ('poco?', 1024), ('¡Bien', 1025), ('carajos!', 1026), ('animal', 1027), ('estadísticas', 1028), ('canguro,', 1029), ('odia', 1030), ('cierto,', 1031), ('llevaré', 1032), ('testamento', 1033), ('darme', 1034), ('hijo,', 1035), ('pillar', 1036), ('una', 1037), ('es,', 1038), ('muchas', 1039), ('¡Madre', 1040), ('quiero', 1041), ('¿Has', 1042), ('hablamos', 1043), ('Sí,', 1044), ('conmigo', 1045), ('fastidiarse', 1046), ('desangras', 1047), ('genial.', 1048), ('hacer!', 1049), ('equipo', 1050), ('ganan', 1051), ('atrás.', 1052), ('acercarse,', 1053), ('preocupado', 1054), ('cualquiera', 1055), ('Sea', 1056), ('huecos.', 1057), ('Paquistán?', 1058), ('Oye', 1059), ('comprador.', 1060), ('necesita?', 1061), ('caballero', 1062), ('Que', 1063), ('leído', 1064), ('domésticos', 1065), ('dejar', 1066), ('provoca', 1067), ('resuelven', 1068), ('venta', 1069), ('tanto', 1070), ('qué?', 1071), ('toda', 1072), ('Tecnología', 1073), ('urdu', 1074), ('nuevas,', 1075), ('tobillos.', 1076), ('padre.', 1077), ('veces.', 1078), ('viene', 1079), ('poker', 1080), ('hora', 1081), ('idiotas', 1082), ('hospitalidad', 1083), ('armado,', 1084), ('cubrirá', 1085), ('apta', 1086), ('robaron', 1087), ('Chúpamela', 1088), ('solo.', 1089), ('siesta,', 1090), ('jodedor', 1091), ('necesitas', 1092), ('mujer,', 1093), ('Tres', 1094), ('traidor,', 1095), ('Sterling,', 1096), ('boca,', 1097), ('cerramos,', 1098), ('mejorarlo', 1099), ('contar', 1100), ('mexicanos', 1101), ('jueguen', 1102), ('faux', 1103), ('veces', 1104), ('tomen', 1105), ('es..', 1106), ('golpe?', 1107), ('Tengo', 1108), ('equación', 1109), ('escolares,', 1110), ('empezar?', 1111), ('van', 1112), ('pequeña', 1113), ('Rey', 1114), ('creo', 1115), ('Esperé', 1116), ('tendrá', 1117), ('tanto?', 1118), ('Las', 1119), ('florecente', 1120), ('encantará', 1121), ('escapan.', 1122), ('hombre,', 1123), ('Ciertamente', 1124), ('encontrarán', 1125), ('regalo,', 1126), ('jugadas', 1127), ('Franco', 1128), ('té.', 1129), ('Ayúdame,', 1130), ('evitar', 1131), ('cosas', 1132), ('ausencia', 1133), ('programa', 1134), ('acorazada', 1135), ('Espere,', 1136), ('viejos', 1137), ('ponle', 1138), ('acuerdas', 1139), ('informático', 1140), ('lentamente', 1141), ('pensando', 1142), ('dice,', 1143), ('vieja', 1144), ('Cheryl', 1145), ('saluda', 1146), ('quedaríamos', 1147), ('x', 1148), ('elección', 1149), ('Kyle', 1150), ('permanente', 1151), ('Tendríamos', 1152), ('gustarán,', 1153), ('\"Por', 1154), ('corazón', 1155), ('noche.', 1156), ('recibir', 1157), ('cambios?', 1158), ('fondo', 1159), ('amenaza…', 1160), ('sarcástico?', 1161), ('sale', 1162), ('palabra', 1163), ('buenas', 1164), ('joyas', 1165), ('fotos', 1166), ('¿Vieron', 1167), ('para...', 1168), ('Una', 1169), ('gustarán', 1170), ('Villy', 1171), ('jugarlo', 1172), ('empezar,', 1173), ('sabía,', 1174), ('V', 1175), ('concozco', 1176), ('Buenos', 1177), ('fiarme', 1178), ('fastidies,', 1179), ('cómo...', 1180), ('¿Perdona,', 1181), ('averiguarémos', 1182), ('Villy?', 1183), ('flecha', 1184), ('¡Suéltalas!', 1185), ('Uy,', 1186), ('nuestro?', 1187), ('poco', 1188), ('sitio', 1189), ('hambre?', 1190), ('noche,', 1191), ('llamar', 1192), ('compañeros', 1193), ('perdido.', 1194), ('alegre.', 1195), ('meneara', 1196), ('usted', 1197), ('Intentan', 1198), ('2006', 1199), ('encantan', 1200), ('quítate', 1201), ('\"\"no', 1202), ('cutre?', 1203), ('monstruo.', 1204), ('excusado,', 1205), ('futbol.', 1206), ('aseguro', 1207), ('armas', 1208), ('cartel', 1209), ('descubra', 1210), ('vender', 1211), ('mire,', 1212), ('estrella', 1213), ('queda', 1214), ('creo,', 1215), ('mundo.', 1216), ('allí', 1217), ('noches', 1218), ('lo', 1219), ('mirándolo', 1220), ('AJ', 1221), ('unas', 1222), ('cállate,', 1223), ('Para,', 1224), ('4568111.', 1225), ('tal?', 1226), ('piso', 1227), ('que...', 1228), ('canguro', 1229), ('siempre', 1230), ('mejoró', 1231), ('bolas,', 1232), ('oigan.', 1233), ('¡Es', 1234), ('cartas', 1235), ('chupe', 1236), ('Mire', 1237), ('vida', 1238), ('botiquín', 1239), ('jodas', 1240), ('¡Wohoo!', 1241), ('cremoso.', 1242), ('bolsa', 1243), ('contexto,', 1244), ('saco', 1245), ('Woodhouse,', 1246), ('litro', 1247), ('¿Sostenes?', 1248), ('decirémos', 1249), ('este?', 1250), ('puedas', 1251), ('nagativa', 1252), ('llamaría', 1253), ('oficial', 1254), ('23', 1255), ('recuperar', 1256), ('gente,', 1257), ('¡Cállate!', 1258), ('hacen', 1259), ('felizidad.', 1260), ('bebé?', 1261), ('acerca', 1262), ('camaradería.', 1263), ('inventor', 1264), ('deberíamos', 1265), ('rescatarte', 1266), ('salto', 1267), ('podrías', 1268), ('dar', 1269), ('diste', 1270), ('nosotros', 1271), ('lado?', 1272), ('cordón.', 1273), ('culos!', 1274), ('identificación,', 1275), ('tenéis', 1276), ('guapa,', 1277), ('hacer?', 1278), ('comisionado.', 1279), ('dices,', 1280), ('Volvió', 1281), ('economía', 1282), ('algún', 1283), ('¿te', 1284), ('quatorce', 1285), ('enormes', 1286), ('ah...', 1287), ('sarcasmo', 1288), ('mamada,', 1289), ('pidiera', 1290), ('La', 1291), ('¿Te', 1292), ('sostenes?', 1293), ('decidíamos', 1294), ('quiere', 1295), ('Archer,', 1296), ('estudian', 1297), ('NFL', 1298), ('cree', 1299), ('canguros', 1300), ('roba', 1301), ('Tiene', 1302), ('No,', 1303), ('presidente', 1304), ('hablaste?', 1305), ('¿Eh,', 1306), ('wohoo!', 1307), ('auto', 1308), ('Cartman,', 1309), ('cerrado', 1310), ('familia.', 1311), ('¡Al', 1312), ('precio', 1313), ('excusa...', 1314), ('rato?', 1315), ('tejido', 1316), ('Hoy', 1317), ('rojo', 1318), ('manera', 1319), ('sí?', 1320), ('mercado', 1321), ('bien.', 1322), ('Cuarenta', 1323), ('Bell,', 1324), ('ayuda', 1325), ('¿Eh', 1326), ('bien!', 1327), ('Pam,', 1328), ('deporte?', 1329), ('dijiste', 1330), ('burlarse', 1331), ('tipo', 1332), ('sólidas', 1333), ('calvos,', 1334), ('ponedlas', 1335), ('robotizado.', 1336), ('joderla\"\".', 1337), ('Al', 1338), ('armas?', 1339), ('deportes', 1340), ('Racista', 1341), ('Literalmente,', 1342), ('¿Oh?', 1343), ('Oblígame!', 1344), ('jode', 1345), ('Cállate,', 1346), ('ellos,', 1347), ('globo', 1348), ('ofrecerte', 1349), ('hablar?', 1350), ('felicitaciones', 1351), ('adiós', 1352), ('Quiénes', 1353), ('veamos', 1354), ('Intenta', 1355), ('meta', 1356), ('perder', 1357), ('¿Por', 1358), ('digo', 1359), ('sentido', 1360), ('Perdón', 1361), ('baño', 1362), ('hombro,', 1363), ('mega', 1364), ('madre?', 1365), ('vuelve', 1366), ('Mira', 1367), ('llegar', 1368), ('pagó', 1369), ('conmocionado', 1370), ('yo', 1371), ('pibe,', 1372), ('romper', 1373), ('tercera', 1374), ('Gaylandia', 1375), ('Aires', 1376), ('mil.', 1377), ('caña', 1378), ('programa.', 1379), ('¿Osíto?', 1380), ('entiende', 1381), ('hermanita?', 1382), ('perfil', 1383), ('mierda', 1384), ('producto', 1385), ('dicho', 1386), ('Stines', 1387), ('jamontillado', 1388), ('Rondie?', 1389), ('gastar', 1390), ('debemos', 1391), ('pipa?', 1392), ('usted,', 1393), ('ojo!', 1394), ('notación,', 1395), ('trata', 1396), ('desempeño', 1397), ('venden', 1398), ('Maní?', 1399), ('sirven', 1400), ('autorizada.', 1401), ('encantará.', 1402), ('rimó,', 1403), ('botella', 1404), ('ojos', 1405), ('cascos,', 1406), ('número', 1407), ('actos', 1408), ('gustará', 1409), ('cambio', 1410), ('hija?', 1411), ('Les', 1412), ('antimatéria', 1413), ('cuatrao', 1414), ('verla', 1415), ('generoso', 1416), ('infierno', 1417), ('afortunados?', 1418), ('pusiste', 1419), ('¿Slater?', 1420), ('papás', 1421), ('Token', 1422), ('Butters,', 1423), ('safiros', 1424), ('pistol', 1425), ('Stan', 1426), ('pondría', 1427), ('encragaré', 1428), ('dejarlo', 1429), ('haberle', 1430), ('coños', 1431), ('¡A', 1432), ('ojalá', 1433), ('suelo', 1434), ('¿El', 1435), ('Pues,', 1436), ('militar', 1437), ('enojemos', 1438), ('venir?', 1439), ('Jim', 1440), ('Nada', 1441), ('falta', 1442), ('chica', 1443), ('necesites,', 1444), ('jugo', 1445), ('gusto', 1446), ('ido,', 1447), ('controles', 1448), ('seguridad,', 1449), ('AJ.', 1450), ('confunden', 1451), ('¿le', 1452), ('preocupada?', 1453), ('cáncer', 1454), (\"M'key,\", 1455), ('¡Ay,', 1456), ('violadores', 1457), ('pobrecito', 1458), ('Seguro', 1459), ('guardar', 1460), ('retiramos', 1461), ('esperad,', 1462), ('verte', 1463), ('descubierto.', 1464), ('Hablemos', 1465), ('Estáis', 1466), ('ISIS', 1467), ('monstruo', 1468), ('sangre', 1469), ('iluminarse,', 1470), ('detenernos', 1471), ('arma.', 1472), ('haya', 1473), ('hijos', 1474), ('gordado', 1475), ('hace\"', 1476), ('masticaras', 1477), ('collar', 1478), ('mandaste', 1479), ('crédito?', 1480), ('efectos', 1481), ('jugador', 1482), ('billones!', 1483), ('batir', 1484), ('dejado', 1485), ('Practicamos', 1486), ('estáte', 1487), ('cansamos', 1488), ('pido', 1489), ('mira', 1490), ('bebés?', 1491), ('ofertas?', 1492), ('Entonces,', 1493), ('dispararé', 1494), ('pensarlo', 1495), ('llega', 1496), ('abracense,', 1497), ('posan', 1498), ('busca', 1499), ('mucho...', 1500), ('Broncos,', 1501), ('Os', 1502), ('aliado', 1503), ('puse', 1504), ('peluche', 1505), ('parió', 1506), ('oigo.', 1507), ('despierto', 1508), ('decide', 1509), ('Estoy', 1510), ('vendrá', 1511), ('daba', 1512), ('necesita:', 1513), ('sentir', 1514), ('globo.', 1515), ('abastecido', 1516), ('¡Vamos', 1517), ('primero', 1518), ('decirme', 1519), ('otra', 1520), ('latino', 1521), ('fuma', 1522), ('Stern', 1523), ('guardarla', 1524), ('Rondie,', 1525), ('pago', 1526), ('negamos', 1527), ('vida,', 1528), ('mucho.', 1529), ('aquí.', 1530), ('amigo', 1531), ('avión,', 1532), ('Roger', 1533), ('ti', 1534), ('padre?', 1535), ('color', 1536), ('analogía', 1537), ('sentaré', 1538), ('Y,', 1539), ('cara', 1540), ('e', 1541), ('soluciona,', 1542), ('rayo', 1543), ('conmociones,', 1544), ('mamada', 1545), ('mata', 1546), ('está?', 1547), ('nuestra', 1548), ('qué...?', 1549), ('jodiendo', 1550), ('pantalones', 1551), ('azúcar', 1552), ('par', 1553), ('espere', 1554), ('amenaza', 1555), ('venimos', 1556), ('cremosidad', 1557), ('Tendrían', 1558), ('barra,', 1559), ('cuarto', 1560), ('wow.', 1561), ('son', 1562), ('Porcuro', 1563), ('pasó', 1564), ('oye', 1565), ('Necesitaré', 1566), ('Muchachos,', 1567), ('arriba,', 1568), ('quería', 1569), ('venganza', 1570), ('importantes', 1571), ('Felicitaciones', 1572), ('ciberosíto', 1573), ('proteger', 1574), ('nada.', 1575), ('empiezo', 1576), ('Sí.', 1577), ('chisme', 1578), ('avión', 1579), ('servicios', 1580), ('él!', 1581), ('rebalsa', 1582), ('Mi?', 1583), ('ocurrió', 1584), ('árbitros', 1585), ('salirse', 1586), ('felicidad', 1587), ('alguna', 1588), ('Harrys.', 1589), ('año', 1590), ('Cuánto', 1591), ('victoria?', 1592), ('tengo.', 1593), ('brújula', 1594), ('representante', 1595), ('pistola?', 1596), ('aviso', 1597), ('intenten', 1598), ('tengo', 1599), ('bebida', 1600), ('estado', 1601), ('papá.', 1602), ('ahora', 1603), ('acompañar', 1604), ('manos?', 1605), ('¿Hablando', 1606), ('Sucios', 1607), ('señor', 1608), ('Antes', 1609), ('ahora.', 1610), ('Canadá,', 1611), ('muchísimo', 1612), ('sueños', 1613), ('aluminio,', 1614), ('cuadras', 1615), ('duda', 1616), ('habernos', 1617), ('Quince', 1618), ('todo?', 1619), ('mato', 1620), ('Uno,', 1621), ('allí?', 1622), ('¿Dónde', 1623), ('patear', 1624), ('salid', 1625), ('compasíbles', 1626), ('favor!', 1627), ('Hace', 1628), ('esqueleto', 1629), ('Baruk?', 1630), ('sinceridad', 1631), ('estúpido.', 1632), ('ancha', 1633), ('usan', 1634), ('iba', 1635), ('hico', 1636), ('Slater.', 1637), ('Conway?', 1638), ('¿Tenéis', 1639), ('Ojalá', 1640), ('Quien', 1641), ('otro', 1642), ('listos', 1643), ('delantera', 1644), ('turquesa.', 1645), ('puñalada', 1646), ('David,', 1647), ('Sudamérica.', 1648), ('ver,', 1649), ('CIA?', 1650), ('joder', 1651), ('América', 1652), ('oro', 1653), ('sesos', 1654), ('muchachos.', 1655), ('ventana?', 1656), ('sosténes', 1657), ('cambiará', 1658), ('contado', 1659), ('qué', 1660), ('pistola!', 1661), ('Claro', 1662), ('¡Sí,', 1663), ('niño,', 1664), ('Sabías', 1665), ('Stanley,', 1666), ('veintiquatro', 1667), ('Linda', 1668), ('decírselo,', 1669), ('rimó', 1670), ('robado,', 1671), ('las', 1672), ('Horatio', 1673), ('culpa', 1674), ('¡Contentísimo!', 1675), ('valiosas', 1676), ('esclavizados', 1677), ('K', 1678), ('Ascani', 1679), ('puede,', 1680), ('mate', 1681), ('que…', 1682), ('Hagámos', 1683), ('compran', 1684), ('Buena', 1685), ('cerveza?', 1686), ('televisión!', 1687), ('hermana', 1688), ('cabra', 1689), ('conocéis', 1690), ('calor', 1691), ('lugares', 1692), ('investigación', 1693), ('madre,', 1694), ('cañero', 1695), ('prometer', 1696), ('donde', 1697), ('nosotros?', 1698), ('gramo', 1699), ('intentar', 1700), ('digan:', 1701), ('\"\"quien', 1702), ('Randy', 1703), ('somos', 1704), ('puta,', 1705), ('pañales,', 1706), ('formar', 1707), ('órdenes', 1708), ('vale', 1709), ('pasta', 1710), ('matemática?', 1711), ('serio,', 1712), ('regresando', 1713), ('carambola', 1714), ('golpes?', 1715), ('llevara', 1716), ('felicidad.', 1717), ('idea.', 1718), ('esfuerzo,', 1719), ('rendirse.', 1720), ('decir:', 1721), ('existen', 1722), ('¡Muy', 1723), ('inteligencia', 1724), ('O', 1725), ('puesto,', 1726), ('Baruk,', 1727), ('supongo', 1728), ('contarle', 1729), ('momento,', 1730), ('reformar', 1731), ('escaleras', 1732), ('corriendo', 1733), ('sufras', 1734), ('comisionado', 1735), ('disfrutar', 1736), ('Recordadme', 1737), ('puerta?', 1738), ('podemos.', 1739), ('ocurrir', 1740), ('llamativo', 1741), ('un…', 1742), ('adentro.', 1743), ('deberían', 1744), ('¿Entonces,', 1745), ('los', 1746), ('pidiendo', 1747), ('cuidar', 1748), ('noches,', 1749), ('haces', 1750), ('despeché', 1751), ('esprema', 1752), ('Nosotros', 1753), ('favor,', 1754), ('hoy', 1755), ('Todo', 1756), ('robó', 1757), ('Iba', 1758), ('platos.', 1759), ('mundo!', 1760), ('¿eh?', 1761), ('persona', 1762), ('más', 1763), ('Recuerdenlo', 1764), ('bien,', 1765), ('amigos', 1766), ('llamen', 1767), ('jodiéndola', 1768), ('gustaría', 1769), ('haz', 1770), ('antes,', 1771), ('suya', 1772), ('marca', 1773), ('blindado', 1774), ('Intente', 1775), ('¿Del', 1776), ('¿Hmmm?', 1777), ('Eso', 1778), ('oro?', 1779), ('hacéis', 1780), ('también.', 1781), ('cabras\"\"?\"', 1782), ('Krieger,', 1783), ('Lo', 1784), ('mueras', 1785), ('Lana', 1786), ('mediante', 1787), ('sujeto', 1788), ('En', 1789), ('río', 1790), ('disco.', 1791), ('malísima', 1792), ('récien', 1793), ('caja', 1794), ('¿Butters,', 1795), ('cientos', 1796), ('extrañará', 1797), ('despechada,', 1798), ('pelígro', 1799), ('caemos', 1800), ('fuera', 1801), ('relleno', 1802), ('exagera', 1803), ('compra,', 1804), ('ve', 1805), ('manos.', 1806), ('decir?', 1807), ('cero', 1808), ('puesto', 1809), ('Ves', 1810), ('Faux', 1811), ('animadoras', 1812), ('voz', 1813), ('crees', 1814), ('os', 1815), ('imbéciles!', 1816), ('?', 1817), ('15', 1818), ('esa?', 1819), ('Deberíamos', 1820), ('harémos', 1821), ('mentirosa', 1822), ('tí', 1823), ('esos', 1824), ('dicho,', 1825), ('conseguido', 1826), ('vosotros', 1827), ('asustado?', 1828), ('pistola', 1829), ('salvo', 1830), ('pan.', 1831), ('doy', 1832), ('libre.', 1833), ('gracias,', 1834), ('hermosos', 1835), ('habría', 1836), ('guardas', 1837), ('Siguiente', 1838), ('algunas', 1839), ('desgraciado', 1840), ('Ellos', 1841), ('agradecernos', 1842), ('lastimen', 1843), ('maravilloso,', 1844), ('amo', 1845), ('Genial,', 1846), ('maldíto', 1847), ('siguiente', 1848), ('entrando', 1849), ('beba', 1850), ('¿De', 1851), ('hago,', 1852), ('Corten,', 1853), ('collares', 1854), ('liga', 1855), ('mesas', 1856), ('ido.', 1857), ('ciego,', 1858), ('despistar.', 1859), ('acceso', 1860), ('paralelo', 1861), ('traumas', 1862), ('Pásalo', 1863), ('haya,', 1864), ('intención', 1865), ('azotea', 1866), ('conversación', 1867), ('domingo.', 1868), ('¿Quién', 1869), ('herir', 1870), ('mierda!', 1871), ('uuh.', 1872), ('trece', 1873), ('alzheimer,', 1874), ('eso?', 1875), ('niveles', 1876), ('CIA,', 1877), ('sin', 1878), ('broma,', 1879), ('intermediarios.', 1880), ('foto', 1881), ('pasando', 1882), ('venga', 1883), ('comprador,', 1884), ('vacía?', 1885), ('esperándome', 1886), ('Nos', 1887), ('beber', 1888), ('amenazado...', 1889), ('dejarle', 1890), ('país', 1891), ('le', 1892), ('biónica?', 1893), ('Marsh.', 1894), ('sábado', 1895), ('Slater', 1896), ('pérdida', 1897), ('salchicha', 1898), ('puedo,', 1899), ('mostrar', 1900), ('negro?', 1901), ('fuera?', 1902), ('aunque', 1903), ('Tranquilo.', 1904), ('Streling', 1905), ('cámara', 1906), ('preocupación,', 1907), ('imbécil.', 1908), ('Uno', 1909), ('es', 1910), ('generó', 1911), ('¡Amor', 1912), ('Mirad,', 1913), ('haces?', 1914), ('Olvidémonos', 1915), ('consultemos', 1916), ('Woodhouse', 1917), ('tienen', 1918), ('¡Wow,', 1919), ('¿En', 1920), ('preocupes', 1921), ('¿Qué?', 1922), ('apuesto', 1923), ('\"Así', 1924), ('espectadores,', 1925), ('grupo', 1926), ('Saben', 1927), ('socios', 1928), ('poder', 1929), ('¿Vuelvo', 1930), ('subir', 1931), ('estabáis', 1932), ('rusos', 1933), ('madre', 1934), ('estas', 1935), ('tú,', 1936), ('Eh', 1937), ('Deberías', 1938), ('té', 1939), ('coge', 1940), ('disco?', 1941), ('armería', 1942), ('Estos', 1943), ('Pero,', 1944), ('cambiar', 1945), ('lastimen.', 1946), ('vez', 1947), (\"'hola,\", 1948), ('ese', 1949), ('siento,', 1950), ('Vas', 1951), ('acero,', 1952), ('fundió,', 1953), ('jóven?', 1954), ('amor', 1955), ('Mi', 1956), ('Vamos', 1957), ('genial', 1958), ('¿Féliz?', 1959), ('gicante', 1960), ('trabajo', 1961), ('pocos', 1962), ('accidentes', 1963), ('Creo', 1964), ('competitividad', 1965), ('química', 1966), ('reunión', 1967), ('comprar', 1968), ('Woodhouse?', 1969), ('Esta', 1970), ('cochecíto,', 1971), ('peso', 1972), ('Paties?', 1973), ('tremendo', 1974), ('franco', 1975), ('finde,', 1976), ('convertirlo', 1977), ('hayas', 1978), ('transferencia,', 1979), ('crearla', 1980), ('nuevos', 1981), ('sentiría', 1982), ('terminar', 1983), ('siquera', 1984), ('Méxicano', 1985), ('esto?', 1986), ('entre', 1987), ('Callados', 1988), ('Calrissiano', 1989), ('CIA', 1990), ('fui', 1991), ('acepta', 1992), ('ves', 1993), ('producen', 1994), ('debilidad.', 1995), ('menudo', 1996), ('sobre', 1997), ('¿Pero,', 1998), ('Sterling?', 1999), ('bikini', 2000), ('dobles', 2001), ('perstigioso?', 2002), ('café', 2003), ('arrancó', 2004), ('Gustof?', 2005), ('jugo,', 2006), ('ustedes', 2007), ('recuerdos?', 2008), ('Eh?', 2009), ('ésa', 2010), ('Token,', 2011), ('tu', 2012), ('habrías', 2013), ('¿Verdad', 2014), ('vendría', 2015), ('compren', 2016), ('mente,', 2017), ('Espera', 2018), ('abra', 2019), ('realidad', 2020), ('NFL,', 2021), ('sacaste', 2022), ('¡Eh!', 2023), ('materna', 2024), ('segura.', 2025), ('razón,', 2026), ('Este', 2027), ('voluntad', 2028), ('hubiera', 2029), ('%', 2030), ('jilibollas', 2031), ('Cierrate', 2032), ('colocar', 2033), ('hablamos.', 2034), ('necesarias', 2035), ('futbol', 2036), ('cierto.', 2037), ('cosa,', 2038), ('fue', 2039), ('teléfonos', 2040), ('supuestos', 2041), ('Para', 2042), ('necesitamos', 2043), ('disparado!', 2044), ('parecemos', 2045), ('jugando', 2046), ('igual', 2047), ('pensamientos', 2048), ('interesantes,', 2049), ('Recuerda', 2050), ('Brasilia', 2051), ('importa?', 2052), ('pregunta?\"', 2053), ('olvídense', 2054), ('hagamos', 2055), ('alta', 2056), ('tono', 2057), ('ancianos', 2058), ('Suelen', 2059), ('pueda', 2060), ('tecnología', 2061), ('estás?', 2062), ('ninguna', 2063), ('Esas', 2064), ('coronel,', 2065), ('puñado', 2066), ('cada', 2067), ('Algún', 2068), ('mismo.', 2069), ('ocupado', 2070), ('todo.', 2071), ('oiga,', 2072), ('bárbaros', 2073), ('quilates.', 2074), ('bromista,', 2075), ('Pagué', 2076), ('dame', 2077), ('medio', 2078), ('pensar:', 2079), ('vendemos', 2080), ('barra', 2081), ('funcionar', 2082), ('dijo:', 2083), ('junto', 2084), ('llamarlos', 2085), ('abracense.', 2086), ('beba,', 2087), ('pasa', 2088), ('acuerdo,', 2089), ('buena?', 2090), ('bondad', 2091), ('contárselo', 2092), ('mes', 2093), ('imponentes', 2094), ('Tóma', 2095), ('cañero.', 2096), ('temas', 2097), ('puto', 2098), ('nuevo', 2099), ('dispares.', 2100), ('allí,', 2101), ('cubierto!', 2102), ('El', 2103), ('Cheryl,', 2104), ('¿Qué,', 2105), ('refranes', 2106), ('poniendo', 2107), ('venir.', 2108), ('preocupados', 2109), ('aquella', 2110), ('excesivo', 2111), ('aún', 2112), ('existe', 2113), ('Estaba', 2114), ('carrachi', 2115), ('aquí,', 2116), ('energía?', 2117), ('sucedido.', 2118), ('asunto', 2119), ('bendíto', 2120), ('dividimos', 2121), (\"'No\", 2122), ('sus', 2123), ('jugador.', 2124), ('señora,', 2125), ('gran', 2126), ('tú', 2127), ('hayan', 2128), ('refuerzos', 2129), ('dos.', 2130), ('ello,', 2131), ('pibe', 2132), ('cuija', 2133), ('están?', 2134), ('buen', 2135), ('increíble', 2136), ('Esperad.', 2137), ('completamete', 2138), ('tarjeta', 2139), ('brazos', 2140), ('favor?', 2141), ('interpretar', 2142), ('Ay,', 2143), ('quien', 2144), ('buscar', 2145), ('él,', 2146), ('tenías', 2147), ('directa', 2148), ('concentrémonos', 2149), ('come', 2150), ('preocupa', 2151), ('juego.', 2152), ('urgencia,', 2153), ('Aunque,', 2154), ('¿qué', 2155), ('Vale,', 2156), ('bando', 2157), ('señala', 2158), ('llames', 2159), ('pego,', 2160), ('mucho', 2161), ('quedaría', 2162), ('jugar', 2163), ('teniendo', 2164), ('tí.', 2165), ('mujeres', 2166), ('quisiera,', 2167), ('vayas', 2168), ('trabajo.', 2169), ('Sharon', 2170), ('Sube', 2171), ('aire', 2172), ('despeto', 2173), ('violencia', 2174), ('sacado', 2175), ('camradería', 2176), ('abrazas', 2177), ('limón', 2178), ('regalo', 2179), ('esto,', 2180), ('ser.', 2181), ('vamos', 2182), ('comienzan', 2183), ('lleguen', 2184), ('sabrán', 2185), ('al', 2186), ('ayudarían', 2187), ('unos', 2188), ('viviría', 2189), ('Quizá', 2190), ('Haber', 2191), ('asiática', 2192), ('humanidad', 2193), ('vuelvas', 2194), ('asustó', 2195), ('ten', 2196), ('simulacro.', 2197), ('llamo', 2198), ('literalmente', 2199), ('burrito', 2200), ('memoria', 2201), ('alegra', 2202), ('cerebro', 2203), ('matas?', 2204), ('¡Duro', 2205), ('Le', 2206), ('duelen', 2207), ('inteligencia.', 2208), ('cristal', 2209), ('parecido', 2210), ('cielos.', 2211), ('esto', 2212), ('deben', 2213), ('hablando?', 2214), ('tomar', 2215), ('\"La', 2216), ('Protesto', 2217), ('Cómo?', 2218), ('ninguno', 2219), ('debe', 2220), ('pelotas,', 2221), ('nuestros,', 2222), ('Conway', 2223), ('padres,', 2224), ('sabes', 2225), ('sarcasmobol.', 2226), ('timarnos', 2227), ('encima?', 2228), ('refiero', 2229), ('trece,', 2230), ('Momento,', 2231), ('todo', 2232), ('limón.', 2233), ('repente', 2234), ('veímos', 2235), ('Eric,', 2236), ('ira,', 2237), ('Lana,', 2238), ('loco.', 2239), ('refrán', 2240), ('podría', 2241), ('imbécil,', 2242), ('mamá', 2243), ('Bebe,', 2244), ('lleno', 2245), ('sabrás', 2246), ('sólidos!', 2247), ('Verdad?', 2248), ('Patches', 2249), ('escáneo', 2250), ('quizá', 2251), ('Ni', 2252), ('sarcástico.', 2253), ('pero', 2254), ('Bellici', 2255), ('Parece', 2256), ('Coño', 2257), ('misión', 2258), ('Alguién', 2259), ('importa', 2260), ('¿Tienes', 2261), ('eran', 2262), ('tendríais', 2263), ('cuanto', 2264), ('Stan,', 2265), ('comprarles', 2266), ('Bourbon', 2267), ('chicos', 2268), ('escuchen,', 2269), ('archerizar?', 2270), ('sé', 2271), ('él?', 2272), ('lógico', 2273), ('confiar', 2274), ('mala', 2275), ('Vivian', 2276), ('Aún', 2277), ('conductos', 2278), ('tuviera.', 2279), ('sagrado', 2280), ('Archer', 2281), ('Ustedes', 2282), ('Debería', 2283), ('golpe', 2284), ('practicar', 2285), ('estoy', 2286), ('si', 2287), ('tocado', 2288), ('entregarte', 2289), ('sepa', 2290), ('Idiota,', 2291), ('notación.', 2292), ('familia', 2293), ('tirado', 2294), ('¿Eh?', 2295), ('Desintoxicándose', 2296), ('has', 2297), ('Sobre', 2298), ('Argentina?', 2299), ('listo!', 2300), ('quedará', 2301), ('retina,', 2302), ('disco', 2303), ('llevaría', 2304), ('dólar', 2305), ('Oro', 2306), ('joyas,', 2307), ('Washington', 2308), ('está,', 2309), ('Perdón,', 2310), ('oye,', 2311), ('toda?', 2312), ('todas', 2313), ('sea', 2314), ('Hay', 2315), ('mil', 2316), ('Denver', 2317), ('freelance.', 2318), ('genitalios.', 2319), ('totalmente', 2320), ('proveyó', 2321), ('dudo', 2322), ('violador', 2323), ('líamos', 2324), ('quiera', 2325), ('usar', 2326), ('diarrea', 2327), ('decir', 2328), ('casi', 2329), ('secas,', 2330), ('Ken,', 2331), ('esperé.', 2332), ('excusas', 2333), ('Stan.', 2334), ('Muchas', 2335), ('distinguir', 2336), ('cantidades', 2337), ('exceso', 2338), ('escuchen', 2339), ('mercado,', 2340), ('dispararan', 2341), ('confianza!', 2342), ('Mal', 2343), ('hacer', 2344), ('Jackson', 2345), ('\"\"una', 2346), ('aquel', 2347), ('sorpresas', 2348), ('inaugural', 2349), ('usarla', 2350), ('Stern!', 2351), ('Necesita', 2352), ('metería', 2353), ('continúe', 2354), ('alegría', 2355), ('rancasteis', 2356), ('asiáticas', 2357), ('¿Alguna', 2358), ('nervioso', 2359), ('equipo.', 2360), ('archivo', 2361), ('Vale?', 2362), ('freelance,', 2363), ('Comprenlo', 2364), ('cierto', 2365), ('deberías', 2366), ('Ella', 2367), ('paquistaní', 2368), ('actor?', 2369), ('esperamos', 2370), ('claro,', 2371), ('negro', 2372), ('llaves,', 2373), ('golpeen', 2374), ('batido', 2375), ('semana', 2376), ('mentía', 2377), ('aquí', 2378), ('¡Que', 2379), ('bien', 2380), ('mentiste', 2381), ('día', 2382), ('refería', 2383), ('tendrémos', 2384), ('Vosotros', 2385), ('futuro', 2386), ('tipi?', 2387), ('tengas', 2388), ('lugar', 2389), ('¿Cómo', 2390), ('¿Preguntas?', 2391), ('improvisaciones', 2392), ('chúpalas', 2393), ('volar', 2394), ('prioridad', 2395), ('Slater?', 2396), ('línea.', 2397), ('tuviera', 2398), ('joder,', 2399), ('maldita', 2400), ('imigración', 2401), ('esperar.', 2402), ('Dan.', 2403), ('justo', 2404), ('NFL.', 2405), ('laboral', 2406), ('demás,', 2407), ('claro', 2408), ('pai', 2409), ('regla', 2410), ('cuesta', 2411), ('chicos,', 2412), ('crecido,', 2413), ('acabe', 2414), ('empleado', 2415), ('Por', 2416), ('así', 2417), ('¡ah!', 2418), ('enémigo', 2419), ('tarde,', 2420), ('himno', 2421), ('emocionante', 2422), ('negocio', 2423), ('balas.', 2424), ('alzheimer', 2425), ('compra', 2426), ('¡Conway', 2427), ('navegantes?', 2428), ('sacará', 2429), ('uah?', 2430), ('¿por', 2431), ('libres', 2432), ('¿Es', 2433), ('Mis', 2434), ('comer', 2435), ('No?', 2436), ('damos', 2437), ('quitado', 2438), ('país.', 2439), ('North', 2440), ('llevando', 2441), ('todo,', 2442), ('entusiasma', 2443), ('¿Puedo', 2444), ('ponerme', 2445), ('mal.', 2446), ('entrega', 2447), ('platos', 2448), ('semejante?', 2449), ('Prefiero', 2450), ('Entrenador,', 2451), ('positivo,', 2452), ('esperar', 2453), ('primera', 2454), ('Rome,', 2455), ('skymal', 2456), ('sarcasmobol?', 2457), ('Tomemos', 2458), ('seguridad.', 2459), ('sevidor?', 2460), ('leches', 2461), ('diamantes', 2462), ('conocido.', 2463), ('descortéz', 2464), ('solo', 2465), ('sarcástico', 2466), ('acabado', 2467), ('Comenzó', 2468), ('estaba', 2469), ('hai\"\"\"', 2470), ('Stan?', 2471), ('dios', 2472), ('Idiotas,', 2473), ('seaís', 2474), ('Y', 2475), ('¡Vamos,', 2476), ('Si', 2477), ('Caballeros,', 2478), ('preguntado', 2479), ('decirle', 2480), ('buscad', 2481), ('saber', 2482), ('tenido', 2483), ('Oakland.', 2484), ('área,', 2485), ('frente', 2486), ('cómo', 2487), ('encuentren', 2488), ('dado', 2489), ('sí.', 2490), ('andabamos', 2491), ('vestidor,', 2492), ('espermas?\"\"', 2493), ('joden', 2494), ('a…', 2495), ('enfermedades', 2496), ('¿Tu', 2497), ('diez,', 2498), ('esmeralda', 2499), ('¡Ah,', 2500), ('recuerdas', 2501), ('Kenny,', 2502), ('Cilo!', 2503), ('indica', 2504), ('acerca.', 2505), ('habitación', 2506), ('equivocado.', 2507), ('miel', 2508), ('hindu', 2509), ('hola.', 2510), ('libros', 2511), ('aceptarlo.', 2512), ('quince', 2513), ('compasión.', 2514), ('bueno.', 2515), ('hecho,', 2516), ('Disculpe', 2517), ('calle', 2518), ('pedir', 2519), ('gastaste', 2520), ('Disculpe,', 2521), ('salvo,', 2522), ('golpes', 2523), ('eres', 2524), ('intentar.', 2525), ('fuego,', 2526), ('innecesariamente', 2527), ('decía', 2528), ('¡qué', 2529), ('Marsh', 2530), ('partida', 2531), ('féliz', 2532), ('Park?', 2533), ('Cánada', 2534), ('pensaba', 2535), ('sigo', 2536), ('Ha', 2537), ('molesta', 2538), ('oro.', 2539), ('seis', 2540), ('defensor', 2541), ('llevaba', 2542), ('dense', 2543), ('divertido', 2544), ('lleve', 2545), ('y…', 2546), ('de', 2547), ('mejorar', 2548), ('soy', 2549), ('mano', 2550), ('terminen', 2551), ('irónico', 2552), ('Soy', 2553), ('sabe', 2554), ('ocasión', 2555), ('plan', 2556), ('cuidado.', 2557), ('confundirme', 2558), ('contento.', 2559), ('Así', 2560), ('fuerzas', 2561), ('promoción', 2562), ('felizidad', 2563), ('derrotar', 2564), ('desangrando', 2565), ('\"Y', 2566), ('podido', 2567), ('maldítas', 2568), ('deseado', 2569), ('auténticos', 2570), ('fresco', 2571), ('Bienvenidos', 2572), ('ayuda.', 2573), ('cremoso,', 2574), ('consigo', 2575), ('¡Dícelo', 2576), ('ellos!', 2577), ('disparan', 2578), ('encuentra', 2579), ('ofrezco', 2580), ('vamos.', 2581), ('amigo,', 2582), ('muchachas', 2583), ('maestros.', 2584), ('quiero.', 2585), ('única', 2586), ('enviarlo', 2587), ('verá,', 2588), ('diré', 2589), ('cuenta', 2590), ('bigotón', 2591), ('sí,', 2592), ('poner', 2593), ('verdad', 2594), ('antes', 2595), ('razón.', 2596), ('Todos', 2597), ('listo.', 2598), ('haría', 2599), ('provienen', 2600), ('doctor?', 2601), ('paracaigas', 2602), ('Lucen', 2603), ('¡Venganza!', 2604), ('necesario', 2605), ('energía', 2606), ('voy', 2607), ('prácticamente', 2608), ('atreven', 2609), ('de…', 2610), ('reemplazar', 2611), ('copa,', 2612), ('Francamente', 2613), ('moda,', 2614), ('ofensiva', 2615), ('frivolidades.', 2616), ('nube', 2617), ('Deberían', 2618), ('perdón', 2619), ('Joder', 2620), ('Alguien', 2621), ('pedirnos', 2622), ('hago?', 2623), ('dan', 2624), ('misión,', 2625), ('laboralista,', 2626), ('sabemos', 2627), ('genuinos.', 2628), ('véte,', 2629), ('tal', 2630), ('Puedo', 2631), ('cogerlas.', 2632), ('No', 2633), ('secreto', 2634), ('Han', 2635), ('también', 2636), ('leche', 2637), ('Cómo', 2638), ('será?', 2639), ('sabor', 2640), ('venganza.', 2641), ('Lana?', 2642), ('haga', 2643), ('lastimado,', 2644), ('yo!', 2645), ('está', 2646), ('único', 2647), ('perder.', 2648), ('duro?', 2649), ('genial!', 2650), ('mamá,', 2651), ('entrenador?', 2652), ('guardaré', 2653), ('volver', 2654), ('apellido,', 2655), ('cartél,', 2656), ('hay,', 2657), ('hago', 2658), ('hable!', 2659), ('miro', 2660), ('Papá', 2661), ('suficientes', 2662), ('verdadera', 2663), ('hijo', 2664), ('Nueve', 2665), (\"cerebro'.\", 2666), ('pondré', 2667), ('desde', 2668), ('bebé', 2669), ('ido', 2670), ('canal', 2671), ('peor', 2672), ('Da', 2673), ('¿Ah?', 2674), ('debería', 2675), ('permiteme', 2676), ('Sé', 2677), ('datos...', 2678), ('niño', 2679), ('camisa', 2680), ('tiempos,', 2681), ('puntos', 2682), ('comprendemos', 2683), ('han', 2684), ('pasado', 2685), ('no?', 2686), ('secuencia', 2687), ('Keith,', 2688), ('Has', 2689), ('amamos', 2690), ('ocho', 2691), ('timó', 2692), ('juega', 2693), ('amabilidad.', 2694), ('aprovechen', 2695), ('ido?', 2696), ('pienso', 2697), ('gane', 2698), ('guardadas?', 2699), ('tuyos', 2700), ('pregunto', 2701), ('perdidio', 2702), ('calla.', 2703), ('AJ,', 2704), ('demos', 2705), ('saldrémos', 2706), ('sacarte', 2707), ('buscando', 2708), ('estaba.', 2709), ('inventaron', 2710), ('¿vale?', 2711), ('Podría', 2712), ('llevar', 2713), ('Bienvenido,', 2714), ('South', 2715), ('Mike', 2716), ('malo', 2717), ('portado', 2718), ('dama', 2719), ('acabas', 2720), ('entrenarlos', 2721), ('decirles', 2722), ('haber', 2723), ('Decías', 2724), ('Me', 2725), ('\"Nosotros', 2726), ('ayudarme', 2727), ('topo', 2728), ('hecho', 2729), ('feas', 2730), ('Caray,', 2731), ('capas', 2732), ('complicado?', 2733), ('disculpas', 2734), ('reforzada', 2735), ('leche.', 2736), ('frase!', 2737), ('Bourbon,', 2738), ('ella', 2739), ('ciber', 2740), ('envidia', 2741), ('Seis', 2742), ('que,', 2743), ('mujer', 2744), ('quedaba', 2745), ('procura', 2746), ('China', 2747), ('racista', 2748), ('verte.', 2749), ('terminó', 2750), ('guardarlo', 2751), ('recuerda', 2752), ('segura', 2753), ('ti.', 2754), ('copas', 2755), ('aprovechar', 2756), ('majo!', 2757), ('acabó.', 2758), ('importante', 2759), ('división', 2760), ('santo,', 2761), ('busco', 2762), ('sientes', 2763), ('tradicional.', 2764), ('esmeraldas', 2765), ('¡Por', 2766), ('fanático', 2767), ('...Hay', 2768), ('Kenny', 2769), ('o', 2770), ('Estarás', 2771), ('era...', 2772), ('hacemos?', 2773), ('sede', 2774), ('prohibe', 2775), ('venganza,', 2776), ('eso', 2777), ('gorda', 2778), ('ábrelo,', 2779), ('Bien,', 2780), ('matáis', 2781), ('hecho!', 2782), ('uniformes.', 2783), ('saquen,', 2784), ('primo,', 2785), ('bordado', 2786), ('homofóbico,', 2787), ('verdadero', 2788), ('definitivamente', 2789), ('¿No', 2790), ('Cuando', 2791), ('secas', 2792), ('toquecíto', 2793), ('recibe', 2794), ('joderme.', 2795), ('Díle', 2796), ('escuchar,', 2797), ('Oy,', 2798), ('Después', 2799), ('mío,', 2800), ('mi', 2801), ('precios', 2802), ('peligroso', 2803), ('culpable', 2804), ('indicado', 2805), ('necesito', 2806), ('mundo', 2807), ('doctor,', 2808), ('hablarémos', 2809), ('abrazan', 2810), ('mirad,', 2811), ('hacia', 2812), ('seré', 2813), ('familiares', 2814), ('clavos,', 2815), ('capitán.', 2816), ('miles,', 2817), ('¿Cree', 2818), ('desaparecido', 2819), ('cuántas', 2820), ('atención', 2821), ('falsos', 2822), ('demasiado', 2823), ('primer', 2824), ('formas,', 2825), ('¿Para', 2826), ('real', 2827), ('hija,', 2828), ('señora', 2829), ('funcionará', 2830), ('Sharon,', 2831), ('cadena?', 2832), ('mierda,', 2833), ('marcador', 2834), ('cabo', 2835), ('pastel', 2836), ('Aubuelo,', 2837), ('Villy,', 2838), ('me', 2839), ('quieres', 2840), ('Esos', 2841), ('carajo!', 2842), ('¿Crees', 2843), ('sosténes?', 2844), ('Durante', 2845), ('sentido,', 2846), ('luces', 2847), ('hermosura,', 2848), ('les', 2849), ('cuatorce', 2850), ('amistad.', 2851), ('Perdón?', 2852), ('cien', 2853), ('móvil,', 2854), ('suyas', 2855), ('¡Jolín!', 2856), ('Ya', 2857), ('cálido', 2858), ('terraza', 2859), ('funciona', 2860), ('Randy,', 2861), ('¡Te', 2862), ('empanada', 2863), ('Cielo', 2864), ('aprovecha', 2865), ('brazaletes', 2866), ('tomo', 2867), ('visto', 2868), ('Escuchen', 2869), ('Es', 2870), ('sido', 2871), ('resulta', 2872), ('reunión,', 2873), ('Te', 2874), ('personas', 2875), ('mexicano', 2876), ('noche', 2877), ('a', 2878), ('encargados', 2879), ('relleníta', 2880), ('regla,', 2881), ('montar', 2882), ('Claro,', 2883), ('dólares?', 2884), ('capitán', 2885), ('bienvenido', 2886), ('pongamoslo', 2887), ('capas,', 2888), ('disparado', 2889), ('mayor', 2890), ('triste,', 2891), ('amenazado', 2892), ('Se', 2893), ('ejemplo.', 2894), ('empeño.', 2895), ('infromación', 2896), ('sueño', 2897), ('¿es', 2898), ('Vuelvo', 2899), ('da', 2900), ('ocurrido.', 2901), ('misma', 2902), ('¡Boom!', 2903), ('estamos', 2904), ('ríe', 2905), ('seguidores.', 2906), ('porquería.', 2907), ('¿Podríamos', 2908), ('elección.', 2909), ('tiraríais', 2910), ('fórmula', 2911), ('hacemos', 2912), ('escuela', 2913), ('montado', 2914), ('capaz', 2915), ('gritan', 2916), ('regalado', 2917), ('literalmente,', 2918), ('oferta', 2919), ('pronuncia.', 2920), ('tus', 2921), ('ahora,', 2922), ('propulsor', 2923), ('del', 2924), ('pensar', 2925), ('modificando', 2926), ('vas', 2927), ('preocupado,', 2928), ('deportiva', 2929), ('TB-800', 2930), ('fondos', 2931), ('Romperé', 2932), ('Quieren', 2933), ('avanzan', 2934), ('Eh,', 2935), ('oro,', 2936), ('aspirante', 2937), ('sospechábamos', 2938), ('ligas', 2939), ('Vale', 2940), ('corazón,', 2941), ('va', 2942), ('sí', 2943), ('servicio', 2944), ('Allí', 2945), ('consiento', 2946), ('llamamos', 2947), ('pendiente?', 2948), ('oro\"\".', 2949), (\"'¡No!'\", 2950), ('Espero', 2951), ('entiendo', 2952), ('dinero', 2953), ('Tienes', 2954), ('Ben', 2955), ('tacos?', 2956), ('nosotros.', 2957), ('entiendes', 2958), ('jodas,', 2959), ('Bueno,', 2960), ('Gregors', 2961), ('Mientras', 2962), ('Su', 2963), ('echar', 2964), ('llamara', 2965), ('Denver,', 2966), ('J,', 2967), ('devolvemos', 2968), ('era', 2969), ('muchísimas', 2970), ('jodemos', 2971), ('Más', 2972), ('quienquiera', 2973), ('seamos', 2974), ('ya?', 2975), ('jode.', 2976), ('aceptamos', 2977), ('Señor', 2978), ('ofrece', 2979), ('Llevan', 2980), ('gentil', 2981), ('generó\"\"\"', 2982), ('niña?', 2983), ('fundimos', 2984), ('disfrutando', 2985), ('sacamos', 2986), ('narices', 2987), ('jodía', 2988), ('intenta', 2989), ('Qué', 2990), ('traer', 2991), ('dentro', 2992), ('dijo', 2993), ('hablas', 2994), ('puta!', 2995), ('profesionales', 2996), ('cruzado', 2997), ('vinieramos', 2998), ('Vaya,', 2999), ('salir', 3000), ('Sharon.', 3001), ('mucho,', 3002), ('lado', 3003), ('mil?', 3004), ('hacerle', 3005), ('dispararon', 3006), ('capital', 3007), ('peligrosas', 3008), ('¿Eso', 3009), ('poker?', 3010), ('sólo,', 3011), ('comunicamos', 3012), ('Payton,', 3013), ('años', 3014), ('diamantes,', 3015), ('Coronel', 3016), ('bebé.', 3017), ('Aha,', 3018), ('golpe.', 3019), ('hueca', 3020), ('invito', 3021), ('extra', 3022), ('maldíta', 3023), ('oigo', 3024), ('nuestros', 3025), ('cojones', 3026), ('strip', 3027), ('cenar,', 3028), ('asiáticas?', 3029), ('humo', 3030), ('vamos!', 3031), ('nieto.', 3032), ('serías', 3033), ('días', 3034), ('cloro', 3035), ('insultos.', 3036), ('siglos,', 3037), ('todos,', 3038), ('pareczo', 3039), ('agotado,', 3040), ('hay', 3041), ('frase', 3042), ('Butters', 3043), ('siete', 3044), ('Así,', 3045), ('ni', 3046), ('menos,', 3047), ('queríamos', 3048), ('laboratorio', 3049), ('Chicos,', 3050), ('advierto', 3051), ('Kane', 3052), ('para', 3053), ('espía', 3054), ('quién', 3055), ('amigos,', 3056), ('tiros', 3057), ('venga,', 3058), ('Marsh,', 3059), ('Sería', 3060), ('Papá,', 3061), ('Cartman', 3062), ('mejor', 3063), ('hagámos', 3064), ('varias', 3065), ('término', 3066), ('ven.', 3067), ('trabaja', 3068), ('he', 3069), ('Mucho,', 3070), ('veinte', 3071), ('visto.', 3072), ('va?', 3073), ('ocurriendo', 3074), ('inmaduro.', 3075), ('sonreirémos', 3076), ('compañeros.', 3077), ('barbaridades', 3078), ('durmiendo,', 3079), ('custodiada', 3080), ('idiotas.', 3081), ('crece', 3082), ('pipa,', 3083), ('Ese', 3084), ('basa', 3085), ('preparas', 3086), ('caso', 3087), ('ha', 3088), ('regresemos', 3089), ('explotan', 3090), ('corazón?', 3091), ('aretes', 3092), ('Gracias,', 3093), ('tres', 3094), ('burbón.', 3095), ('nacional', 3096), ('compasión', 3097), ('mañana', 3098), ('ya,', 3099), ('excelente', 3100), ('creer', 3101), ('interrupciones', 3102), ('problema', 3103), ('hablemos', 3104), (\"m'kay\", 3105), ('el', 3106), ('Ley?', 3107), ('confundido', 3108), ('Recargando,', 3109), ('niña.', 3110), ('figuro', 3111), ('tranquila,', 3112), ('sigas', 3113), ('centro', 3114), ('Amaba', 3115), ('espalda,', 3116), ('deportes.', 3117), ('ves?', 3118), ('listo', 3119), ('tome', 3120), ('grandes', 3121), ('virgen.', 3122), ('jefe', 3123), ('mitade', 3124), ('tienes', 3125), ('tenemos', 3126), ('campo,', 3127), ('quieren', 3128), ('Así?', 3129), ('Esa', 3130), ('Voy', 3131), ('selector', 3132), ('pastor', 3133), ('Lando', 3134), ('siento.', 3135), ('clave', 3136), ('Butters!', 3137), ('Sumamos', 3138), ('atrape', 3139), ('comenzar', 3140), ('maldito', 3141), ('Volveré', 3142), ('deporte', 3143), ('tanzanita', 3144), ('pobre', 3145), ('llevarse', 3146), ('llevamos', 3147), ('chovinista', 3148), ('esposa.', 3149), ('Fue', 3150), ('brazaleta', 3151), ('este', 3152), ('qué,', 3153), ('vergón?', 3154), ('Europa', 3155), ('sufro', 3156), ('abuelo', 3157), ('realmente', 3158), ('volvería', 3159), ('lindas', 3160), ('bando?', 3161), ('lindo.', 3162), ('importante,', 3163), ('genuinos,', 3164), ('excuso', 3165), ('cuarenta', 3166), ('verdad?', 3167), ('lunes?', 3168), ('matar!', 3169), ('cargo', 3170), ('pasado.', 3171), ('literalment', 3172), ('vase', 3173), ('mejor.', 3174), ('Mierda,', 3175), ('Detrás', 3176), ('balón', 3177), ('pues', 3178), ('médica', 3179), ('gentil.', 3180), ('nos', 3181), ('fundidor', 3182), ('domingo', 3183), ('cara,', 3184), ('Tetfield', 3185), ('Hola,', 3186), ('Cállaos', 3187), ('Ahora', 3188), ('beberé', 3189), ('padre', 3190), ('misión.', 3191), ('G', 3192), ('Vamos,', 3193), ('\"Que', 3194), ('copas?', 3195), ('contratado', 3196), ('nombre.', 3197), ('culebrón', 3198), ('Con', 3199), ('estar', 3200), ('carteles', 3201), ('¡Oh!', 3202), ('fácilmente', 3203), ('dólares.', 3204), ('motél', 3205), ('seguro', 3206), ('dónde', 3207), ('sistema,', 3208), ('salgan', 3209), ('espaldas', 3210), ('gente', 3211), ('llamemos', 3212), ('operación', 3213), ('él', 3214), ('Que,', 3215), ('familiar', 3216), ('váter', 3217), ('crucial,', 3218), ('cuándo?', 3219), ('grámos.', 3220), ('hielo,', 3221), ('He', 3222), ('estos', 3223), ('dando', 3224), ('perdón.', 3225), ('compromiso,', 3226), ('tiene', 3227), ('tíos.', 3228), ('nosotras', 3229), ('Craig,', 3230), ('Dice', 3231), ('bienvenida', 3232), ('será', 3233), ('sufriendo', 3234), ('Mentía.', 3235), ('creerlo.', 3236), ('vimos?', 3237), ('Browns', 3238), ('imaginario', 3239), ('cuando', 3240), ('hablo', 3241)]\n"
     ]
    }
   ],
   "source": [
    "## Bag of words\n",
    "vocabulario = corpus[\"Locución\"].str.cat(sep=\" \")\n",
    "vocabulario = set(vocabulario.split())\n",
    "vocabulario = [(palabra, i) for i, palabra in enumerate(vocabulario)]\n",
    "print(vocabulario)"
   ]
  },
  {
   "cell_type": "code",
   "execution_count": 53,
   "metadata": {},
   "outputs": [],
   "source": [
    "## Bag of Words\n",
    "def bow(frase):\n",
    "    frase_bow = [0]*len(vocabulario)\n",
    "    for palabra, i in vocabulario:\n",
    "        if palabra in frase.split():\n",
    "            frase_bow[i] = 1\n",
    "        print(frase_bow)"
   ]
  },
  {
   "cell_type": "code",
   "execution_count": null,
   "metadata": {},
   "outputs": [],
   "source": []
  },
  {
   "cell_type": "code",
   "execution_count": 54,
   "metadata": {},
   "outputs": [
    {
     "name": "stdout",
     "output_type": "stream",
     "text": [
      "Vocabulario: {'francamente': 879, 'no': 1433, 'lo': 1253, 'del': 590, 'canadiense': 288, 'por': 1649, 'favor': 860, 'como': 392, 'que': 1731, 'vosotros': 2252, 'os': 1497, 'tiraríais': 2093, 'allí': 76, 'si': 1940, 'pudieseis': 1708, 'tienes': 2086, 'razón': 1774, 'mejor': 1318, 'así': 147, 'te': 2045, 'liberas': 1194, 'de': 558, 'tu': 2138, 'energía': 723, 'nagativa': 1401, 'pues': 1716, 'tú': 2152, 'sabrás': 1856, 'para': 1528, 'mí': 1394, 'fue': 888, 'krieger': 1167, 'qué': 1764, 'un': 2156, 'bebé': 198, 'lando': 1177, 'en': 713, 'serio': 1922, 'randy': 1769, 'creo': 491, 'este': 811, 'deporte': 600, 'le': 1182, 'hizo': 1033, 'algo': 66, 'daño': 557, 'cerebro': 329, 'estáte': 826, 'quieto': 1754, 'esperad': 786, 'ha': 965, 'parecido': 1537, 'archer': 124, 'poco': 1629, 'asustado': 144, 'usted': 2171, 'me': 1314, 'jode': 1127, 'al': 62, 'carajo': 302, 'dios': 645, 'pibe': 1605, 'ya': 2270, 'oigo': 1485, 'claro': 363, 'él': 2278, 'fuma': 896, 'junto': 1155, 'la': 1169, 'niña': 1429, 'decir': 571, 'robotizado': 1835, 'dónde': 691, 'coño': 475, 'has': 1009, 'sacado': 1862, 'una': 2157, 'mano': 1291, 'biónica': 211, 'venga': 2201, 'subid': 1999, 'atrás': 153, 'tengo': 2063, 'avión': 166, 'esperando': 788, 'recordadme': 1784, 'ese': 774, 'desgraciado': 616, 'mata': 1304, 'todos': 2102, 'haga': 995, 'yo': 2271, 'jodas': 1126, 'cyril': 533, 'haces': 991, 'ventana': 2207, 'existe': 841, 'refrán': 1798, 'hindu': 1032, 'dice': 632, 'quien': 1747, 'fundió': 903, 'generó': 922, 'corten': 468, 'perdón': 1592, 'voy': 2254, 'nuevo': 1455, 'intento': 1100, 'deberíamos': 563, 'tener': 2059, 'diez': 635, 'ligas': 1202, 'sarcasmobol': 1892, 'pueden': 1712, 'jugar': 1152, 'ah': 56, 'mierda': 1342, 'es': 757, 'todo': 2101, 'ella': 703, 'muy': 1390, 'bien': 204, 'disculpe': 651, 'ustedes': 2172, 'lucen': 1258, 'geniales': 924, 'wow': 2269, 'juego': 1146, 'genial': 923, 'callas': 275, 'coronel': 464, 'calrissiano': 278, 'importa': 1070, 'oro': 1496, 'quatorce': 1730, 'quilates': 1755, 'con': 415, 'turquesa': 2139, 'diamantes': 630, 'reales': 1776, 'entonces': 737, 'el': 699, 'plan': 1624, 'conway': 456, 'parece': 1533, 'innecesariamente': 1089, 'complicado': 402, 'sabes': 1853, 'intenta': 1093, 'llegar': 1234, 'zona': 2273, 'notación': 1443, 'pero': 1598, 'mucha': 1375, 'amabilidad': 84, 'sí': 2028, 'globo': 932, 'entrenador': 742, 'marsh': 1301, 'ahora': 58, 'hago': 998, 'lógico': 1268, 'han': 1003, 'disparado': 655, 'voto': 2253, 'madre': 1269, 'woodhouse': 2267, 'ocurrido': 1468, 'puedes': 1713, 'dejar': 585, 'ser': 1921, 'sarcástico': 1893, 'oiga': 1483, 'son': 1979, 'necesarias': 1404, 'las': 1178, 'armas': 132, 'pregunto': 1664, 'totalmente': 2116, 'oh': 1482, 'está': 822, 'ocurriendo': 1469, 'siento': 1945, 'chicos': 336, 'mi': 1338, 'papá': 1523, 'ocupado': 1465, 'los': 1257, 'broncos': 232, 'tiene': 2084, 'tiempo': 2081, 'oye': 1505, 'llámame': 1251, 'va': 2175, 'cría': 501, 'crees': 488, 'parecemos': 1534, 'récien': 1845, 'salidos': 1878, 'culebrón': 523, 'brasileño': 224, 'dicho': 634, 'cómo': 541, 'ayudarían': 172, 'sosténes': 1986, 'sombreros': 1977, 'papel': 1522, 'puede': 1711, 'necesitaré': 1409, 'collares': 380, 'brazaletes': 227, 'esmeraldas': 777, 'espera': 785, 'hablas': 974, 'urdu': 2162, 'porque': 1651, 'imbécil': 1065, 'resumiendo': 1818, 'nos': 1440, 'cerrado': 331, 'limusina': 1203, 'narices': 1402, 'eh': 697, 'oigan': 1484, 'puedo': 1714, 'creer': 486, 'practicamos': 1656, 'preparamos': 1671, 'quieren': 1751, 'rendirse': 1810, 'soy': 1988, 'preocupes': 1670, 'haber': 966, 'otro': 1502, 'lugar': 1261, 'donde': 673, 'compren': 410, 'cerca': 328, 'criar': 494, 'hija': 1028, 'estás': 825, 'aquí': 123, 'cuentas': 516, 'cuál': 529, 'misión': 1357, 'esta': 800, 'lana': 1176, 'mira': 1350, 'montar': 1370, 'esto': 813, 'solo': 1975, 'llamara': 1219, 'pidiera': 1608, 'ayuda': 169, 'slater': 1969, 'sangre': 1887, 'falsa': 849, 'pena': 1578, 'da': 543, 'pobre': 1627, 'literalmente': 1212, 'nada': 1399, 'ver': 2210, 'sólo': 2032, 'estoy': 815, 'disfrutando': 653, 'mucho': 1379, 'sarcasmo': 1891, 'debo': 567, 'buscar': 247, 'excusas': 839, 'guardaré': 956, 'después': 623, 'sospechábamos': 1983, 'tres': 2136, 'dólares': 690, 'suelo': 2006, 'mire': 1352, 'uy': 2174, 'estaba': 801, 'haciendo': 993, 'simulacro': 1957, 'les': 1189, 'poniendo': 1647, 'prueba': 1703, 'buen': 235, 'trabajo': 2119, 'cuando': 504, 'agotado': 52, 'único': 2285, 'hace': 983, 'subir': 2000, 'compasión': 397, 'vuelta': 2256, 'campo': 286, 'miren': 1353, 'eso': 778, 'corbata': 460, 'cordón': 463, 'hermosa': 1021, 'stan': 1989, 'muchas': 1378, 'decías': 578, 'acerca': 34, 'vas': 2185, 'mal': 1273, 'equipo': 750, 'tenía': 2067, 'delantera': 591, 'tan': 2037, 'ofensiva': 1473, 'asustó': 146, 'hay': 1011, 'idiotas': 1059, 'hijos': 1030, 'puta': 1722, 'conmigo': 428, 'presidente': 1674, 'brasil': 223, 'su': 1997, 'esposa': 796, 'mirad': 1351, 'sucia': 2002, 'toda': 2098, 'todas': 2099, 'se': 1895, 'producen': 1685, '80': 7, 'accidentes': 30, 'domésticos': 672, 'méxicano': 1393, 'negro': 1418, 'bueno': 238, 'gracias': 939, 'ayudarme': 170, 'pillar': 1615, 'disco': 649, 'rusos': 1844, 'van': 2182, 'dar': 551, 'pasta': 1552, 'ancha': 98, 'importante': 1071, 'isis': 1117, 'podemos': 1631, 'enfestar': 726, 'chupe': 341, 'hacer': 986, 'carambola': 304, 'doctor': 670, 'tendríamos': 2056, 'habernos': 968, 'ido': 1060, 'antes': 103, 'buena': 236, 'esa': 758, 'montado': 1369, 'dispararan': 658, 'oooo': 1492, 'recuerdo': 1788, 'vez': 2223, 'podido': 1633, 'acabado': 22, 'habría': 980, 'visto': 2243, 'sopearte': 1981, 'veinte': 2193, 'copas': 458, 'haría': 1008, 'falta': 851, 'meneara': 1324, 'cierto': 356, 'eric': 755, 'debería': 562, 'mujer': 1384, 'malo': 1282, 'idiota': 1058, 'paquistaní': 1525, 'he': 1016, 'oído': 1506, 'pienso': 1612, 'mover': 1373, 'hasta': 1010, 'pongas': 1646, 'verdad': 2212, 'seguro': 1910, 'secuestrado': 1902, 'más': 1391, 'terraza': 2076, 'iba': 1052, 'excesivo': 835, 'acercarse': 35, 'tendrémos': 2053, 'esfuerzo': 775, 'nuestro': 1450, 'centro': 327, 'cremoso': 490, 'tenemos': 2058, 'adentro': 46, 'encuentra': 721, 'amor': 95, 'felizidad': 866, 'debemos': 560, 'usar': 2168, 'jugadores': 1150, 'amables': 86, 'compasivos': 396, 'mundo': 1388, 'haya': 1012, 'sabrán': 1855, 'caemos': 266, 'fácilmente': 908, 'preocupa': 1665, 'usado': 2165, 'palabra': 1517, 'vida': 2227, 'otras': 1501, 'mesas': 1333, 'practicar': 1657, 'lunes': 1263, 'luego': 1260, 'victoria': 2226, 'cállaos': 535, 'dos': 675, 'aviso': 164, 'navegantes': 1403, 'grande': 942, 'hola': 1036, 'mexicano': 1336, 'jóven': 1159, 'torpe': 2115, 'bellici': 201, 'dijo': 642, 'derrotar': 603, 'duró': 684, 'casi': 319, 'día': 685, 'vale': 2178, 'quisiera': 1758, 'digo': 638, 'estudo': 819, 'mercado': 1331, 'tb': 2044, '800': 8, 'alias': 75, 'ciberosíto': 346, 'peluche': 1576, 'hermana': 1019, 'pierde': 1613, 'creía': 493, 'era': 752, 'racista': 1767, 'seis': 1911, 'mil': 1344, 'pedir': 1566, 'refuerzos': 1799, 'crucial': 497, 'asta': 142, 'ayer': 168, 'baruk': 185, 'ciber': 345, 'espía': 798, 'inteligencia': 1091, 'quere': 1740, 'pasarse': 1550, 'bando': 182, 'abuelo': 19, 'mandaste': 1287, 'seguiste': 1907, 'futbol': 904, 'sus': 2021, 'padre': 1510, 'preocupado': 1668, 'comenzó': 385, 'movimiento': 1374, 'reformar': 1795, 'cientos': 352, 'seguidores': 1905, 'david': 556, 'key': 1165, 'keith': 1162, 'kenny': 1164, 'niño': 1431, 'problema': 1683, 'sistema': 1965, 'equivocado': 751, 'fundimos': 901, 'envían': 747, 'lugares': 1262, 'compra': 403, 'ojalá': 1486, 'siguiera': 1956, 'entre': 739, 'nosotros': 1442, 'podría': 1634, 'parado': 1530, 'algunas': 70, 'balas': 180, 'fin': 869, 'ocho': 1463, 'incluida': 1078, 'hombro': 1038, 'irme': 1115, 'sin': 1958, 'descortéz': 609, 'tenéis': 2066, 'somos': 1978, 'negamos': 1413, 'verdadero': 2214, 'valor': 2180, 'joyas': 1141, 'realidad': 1777, 'mai': 1271, 'pai': 1516, 'pachata': 1508, 'hai': 1001, 'descubra': 611, 'tejido': 2047, 'oso': 1498, 'cubrirlo': 512, 'nuestra': 1448, 'sobre': 1970, 'improvisaciones': 1076, 'hacerte': 990, 'verbo': 2211, 'consiento': 437, 'fastidiarse': 857, 'eres': 754, 'jefe': 1120, 'pueda': 1709, 'romper': 1840, 'maquillaron': 1295, 'cia': 344, 'queda': 1732, 'realista': 1778, 'esas': 759, 'corbatas': 461, 'están': 824, 'moda': 1362, 'suerte': 2007, 'tenerla': 2060, 'decía': 577, 'amaba': 83, 'perro': 1599, 'hico': 1026, 'feliz': 865, 'siempre': 1942, 'murió': 1389, 'quise': 1757, 'ponerme': 1643, 'demasiado': 592, 'triste': 2137, 'pensé': 1585, 'quedaría': 1736, 'caríta': 316, 'alegre': 64, 'cara': 301, 'villy': 2235, 'bolsa': 215, 'ropa': 1843, 'pañales': 1564, 'nevera': 1421, 'leche': 1185, 'materna': 1309, 'excuso': 840, 'tí': 2148, 'gente': 927, 'escuchen': 769, 'deben': 561, 'saber': 1852, 'super': 2017, 'cada': 264, 'país': 1563, 'jugarlo': 1153, 'traidor': 2126, 'hijo': 1029, 'beba': 191, 'trece': 2134, 'archivo': 126, 'servidor': 1925, 'principal': 1681, 'servicio': 1923, 'secreto': 1900, 'argentio': 129, 'apuntado': 119, 'pistola': 1622, 'fui': 894, 'arrancó': 135, 'momento': 1367, 'cuánto': 532, 'pagó': 1515, 'estas': 810, 'hecho': 1017, 'encragaré': 720, 'actor': 40, 'niñera': 1430, 'pasado': 1546, 'vacía': 2176, 'buenas': 237, 'necesitamos': 1408, 'jugo': 1154, 'butters': 250, 'amenaza': 88, 'implicaré': 1068, 'dispararé': 661, 'genitalios': 926, 'sentaré': 1915, 'beber': 195, 'jerez': 1121, 'jamontillado': 1119, 'mientras': 1341, 'desangras': 605, 'ciertamente': 355, 'existen': 842, 'estadísticas': 805, 'interesantes': 1102, 'dan': 549, 'estamos': 806, 'preocupados': 1669, 'relación': 1805, 'directa': 646, 'futból': 905, 'traumas': 2133, 'cráneo': 499, 'casa': 317, 'segura': 1908, 'bebés': 199, 'pam': 1519, 'hmm': 1034, 'seguimos': 1906, 'señor': 1936, 'escuche': 768, 'sé': 2027, 'tremendo': 2135, 'jugador': 1149, 'cosquillas': 471, 'ríe': 1847, 'carácter': 315, 'féliz': 909, 'contentísimo': 444, 'mejoró': 1322, 'contar': 441, 'dices': 633, 'muchachos': 1377, 'posan': 1654, 'maldíta': 1277, 'foto': 877, 'quedará': 1734, 'memoria': 1323, 'aha': 57, 'necesitas': 1410, 'quieres': 1752, 'llamar': 1218, 'vienes': 2232, 'pedirnos': 1567, 'quiero': 1753, 'bebas': 192, 'pidió': 1609, 'vinieramos': 2237, 'rescatarte': 1813, 'estuviera': 821, 'vamos': 2181, 'patear': 1559, 'jugadas': 1148, 'especiales': 783, 'importantes': 1072, 'quiere': 1750, 'luces': 1259, 'kane': 1160, 'sino': 1961, 'cuarto': 507, 'baño': 190, 'cansamos': 294, 'nuestros': 1451, 'niños': 1432, 'golpeen': 934, 'lastimen': 1180, 'hagámos': 999, 'oficial': 1476, 'escuelas': 771, 'azotea': 174, 'primer': 1677, 'sitio': 1966, 'buscarán': 248, 'puñalara': 1726, 'espalda': 780, 'harás': 1006, 'ninguna': 1425, 'tontería': 2112, 'venganza': 2202, 'abra': 11, 'puerta': 1715, 'marchando': 1299, 'empanada': 708, 'familiar': 853, 'martín': 1302, 'decírselo': 579, 'jackson': 1118, 'cree': 484, 'auto': 157, 'regresando': 1803, 'esperamos': 787, 'alegra': 63, 'poder': 1632, 'recibir': 1783, 'comisionato': 391, 'nfl': 1422, 'roger': 1837, 'goodell': 936, 'aburato': 20, 'conmociones': 430, 'año': 176, 'maneja': 1288, 'liga': 1201, 'ibas': 1054, 'convertir': 454, 'robot': 1834, 'unas': 2158, 'veces': 2192, 'rebalsa': 1780, 'intenten': 1099, 'agradecernos': 53, 'clavos': 367, 'decirémos': 576, 'agradezca': 55, 'hicimos': 1025, 'correcto': 465, 'sonreirémos': 1980, 'sentido': 1916, 'aj': 61, 'pasa': 1545, 'vayas': 2188, 'loco': 1254, 'coños': 476, 'acuerdo': 44, 'tienen': 2085, 'acuerdas': 43, 'arrancaste': 134, 'kyle': 1168, 'viernes': 2233, 'noche': 1434, 'aqui': 122, 'todavía': 2100, 'maldítas': 1278, 'animadoras': 101, 'denver': 598, 'regalo': 1801, 'costó': 473, 'dinero': 643, 'gusta': 958, 'aprovechen': 114, 'fuimos': 895, 'india': 1080, 'nunca': 1457, 'había': 982, 'aprendimos': 110, 'negó': 1419, 'rimó': 1828, 'proveyó': 1698, 'lleno': 1236, 'atleta': 149, 'necesita': 1407, 'compromiso': 413, 'camaradería': 280, 'también': 2036, 'viene': 2231, 'vase': 2186, 'litro': 1213, 'mis': 1356, 'compañeros': 399, 'inventaron': 1107, 'llevara': 1243, 'trajera': 2127, 'monstruo': 1368, 'sido': 1941, 'aplauso': 107, 'volveré': 2249, 'usarla': 2169, 'cuesta': 517, 'cinquenta': 361, 'dijeron': 640, 'canal': 290, 'ventas': 2208, 'cámara': 537, 'acorazada': 39, 'reforzada': 1796, 'acceso': 29, 'mediante': 1315, 'tarjeta': 2043, 'escáneo': 773, 'retina': 1819, 'último': 2283, 'piso': 1619, 'sede': 1903, 'fuertemente': 892, 'custodiada': 527, 'puntos': 1719, 'fuerzas': 893, 'órdenes': 2281, 'disparar': 657, 'matar': 1305, 'persona': 1600, 'autorizada': 158, 'fresco': 886, 'pensaba': 1580, 'romperé': 1841, 'cristal': 495, 'porcuro': 1650, 'sorpresas': 1982, 'cero': 330, 'stillers': 1993, 'debe': 559, 'sentir': 1918, 'ganador': 911, 'sácale': 2026, 'ojos': 1488, 'tendríais': 2055, 'supongo': 2019, 'tarde': 2042, 'salirse': 1880, 'suya': 2022, 'stern': 1992, 'poker': 1638, 'violencia': 2240, 'cheryl': 334, 'única': 2284, 'frase': 882, 'cabrón': 263, 'violador': 2238, 'cabras': 260, 'deseado': 613, 'hubiera': 1047, 'regalado': 1800, 'bendíto': 203, 'saca': 1860, 'necesito': 1412, 'cuatrao': 509, 'finde': 870, 'gaylandia': 920, 'sabías': 1859, 'mentía': 1329, 'olvídense': 1491, 'libre': 1195, 'mañana': 1313, 'ni': 1423, 'siquiera': 1963, 'entendemos': 732, 'juega': 1143, 'sucios': 2003, 'traicioneros': 2124, 'dejarme': 588, 'fuera': 890, 'robaron': 1832, 'fórmula': 910, 'intentaron': 1097, 'joderme': 1133, 'significa': 1950, 'sacas': 1867, 'lógica': 1267, 'llamo': 1228, 'resuelven': 1816, 'topo': 2113, 'lleves': 1249, 'franco': 881, 'ésa': 2279, 'llevas': 1247, 'dentro': 597, 'saltar': 1882, 'llevo': 1250, 'paracaigas': 1529, 'acepta': 31, 'idea': 1055, 'paso': 1551, 'cúbreme': 542, 'doy': 676, 'quince': 1756, 'esprema': 797, 'hablo': 978, 'parar': 1532, 'indicado': 1082, 'dije': 639, 'ocurrió': 1471, 'venimos': 2204, 'cosas': 470, 'cogerlas': 374, 'maní': 1294, 'teniendo': 2065, 'sueño': 2008, 'chica': 335, 'puesto': 1717, 'pensarlo': 1584, 'culos': 524, 'ganas': 914, 'salto': 1883, 'oy': 1504, 'maravilloso': 1296, 'pondría': 1640, 'contento': 443, 'quiénes': 1763, 'divertiste': 666, 'dícelo': 687, 'explicar': 844, 'entiendo': 736, 'alguien': 67, 'sinceridad': 1959, 'hablarémos': 973, 'crezcas': 492, 'llevar': 1242, 'saco': 1869, 'símbolo': 2029, 'dólar': 689, 'hablando': 971, 'cago': 270, 'significaba': 1951, 've': 2189, 'aquella': 121, 'burdel': 241, 'carrachi': 309, 'pasó': 1555, 'repente': 1811, 'malísima': 1284, 'peor': 1586, 'quería': 1743, 'podía': 1637, 'fiarme': 867, 'quidaras': 1746, 'controles': 450, 'joder': 1131, 'dudo': 678, 'tenga': 2061, 'bourbon': 222, 'aptece': 116, 'uno': 2160, 'cola': 377, 'menos': 1325, 'malpinas': 1283, 'cielos': 349, 'algúno': 73, 'ocurrir': 1470, 'semejante': 1914, 'podríamos': 1635, 'dejarlo': 587, 'adreza': 48, 'quienquiera': 1748, 'preguntado': 1662, 'golpe': 933, 'recuerdenlo': 1787, 'práctica': 1705, 'unos': 2161, 'kilítos': 1166, 'literalment': 1211, 'miles': 1345, 'darle': 552, 'homófoba': 1040, 'ofrecer': 1478, 'copa': 457, 'tequila': 2069, 'licor': 1199, 'café': 267, 'minuto': 1348, 'pásalo': 1728, 'saluda': 1884, 'animal': 102, 'puñalada': 1725, 'investigaciones': 1110, 'determinen': 625, 'efectos': 696, 'hacemos': 984, 'acompañar': 38, 'familia': 852, 'cena': 324, 'dio': 644, 'costoso': 472, 'aceptarlo': 33, 'prefiero': 1660, 'efectivo': 695, 'bolas': 214, 'chúpalas': 342, 'juegas': 1144, 'duro': 683, 'bebida': 197, 'deportiva': 602, 'deportes': 601, 'hoy': 1046, 'amable': 85, 'mejora': 1319, 'desempeño': 615, 'estarás': 808, 'buenos': 239, 'sentimientos': 1917, 'serás': 1927, 'gentil': 928, 'rayo': 1772, 'sol': 1973, 'sirven': 1964, 'tendría': 2054, 'enviarlo': 745, 'fundidor': 900, 'ocupe': 1466, 'fundir': 902, 'quizás': 1761, 'gane': 915, 'vieja': 2228, 'mismo': 1359, 'perdidio': 1589, 'peso': 1604, 'llames': 1227, 'cabrones': 262, 'violadores': 2239, 'pelo': 1574, 'comodines': 393, 'herir': 1018, 'tus': 2140, 'viviría': 2245, 'padres': 1511, 'refiere': 1793, 'nueve': 1454, 'envidia': 746, 'vergón': 2215, 'parió': 1540, 'ábrelo': 2274, 'armado': 131, 'procura': 1684, 'parecerse': 1536, 'presidencia': 1673, 'parezcas': 1539, 'señora': 1937, 'gordado': 938, 'sufras': 2011, 'jolín': 1138, 'sujetes': 2014, 'carteles': 312, 'compramos': 405, 'compran': 406, 'porquería': 1652, 'sumamos': 2016, 'canales': 291, 'dividimos': 667, 'viejos': 2230, 'mente': 1326, 'harémos': 1007, 'siguiente': 1955, 'consultemos': 439, 'cuija': 522, 'cabeza': 257, 'pagar': 1512, 'pidiendo': 1607, 'maldita': 1275, 'retribución': 1821, 'maldito': 1276, 'busco': 249, 'canguro': 292, 'identificación': 1057, 'llama': 1215, 'operación': 1493, 'quete': 1745, 'gustaría': 962, 'hablar': 972, 'nueva': 1452, 'regla': 1802, 'prohibe': 1690, 'patadas': 1556, 'aún': 178, 'tomemos': 2107, 'fondos': 874, 'investigación': 1111, 'cáncer': 539, 'enfermedades': 725, 'genéticas': 930, 'hagamos': 996, 'comerciales': 387, 'digan': 637, 'espectadores': 784, 'concozco': 418, 'tal': 2035, 'provocar': 1702, 'feas': 861, 'enojemos': 729, 'gruño': 949, 'negativo': 1414, 'creerlo': 487, 'eleve': 702, 'niveles': 1428, 'humanidad': 1050, 'bondad': 216, 'majo': 1272, 'bastante': 187, 'tenías': 2068, 'tirarte': 2092, 'acero': 36, 'comprenlo': 412, 'tomen': 2108, 'vuelve': 2259, 'poner': 1642, 'siete': 1947, 'portado': 1653, 'dado': 545, 'dispararme': 659, 'caso': 320, 'parecen': 1535, 'insultos': 1090, 'multiracial': 1387, 'atención': 148, 'gritan': 945, 'encargados': 717, 'pegas': 1569, 'auténticos': 159, 'disculpas': 650, 'médica': 1392, 'urgencia': 2163, 'culpa': 525, 'cállate': 536, 'sacad': 1861, 'dejadme': 583, 'resto': 1815, 'listo': 1209, 'aprovecha': 111, 'precios': 1659, 'bajos': 179, 'igual': 1061, 'sterling': 1991, 'stanley': 1990, 'busca': 244, 'increíble': 1079, 'nadie': 1400, 'sale': 1875, 'lastimado': 1179, 'aprendiendo': 109, 'lecciones': 1184, 'valiosas': 2179, 'abrazos': 17, 'seguridad': 1909, 'trata': 2132, 'necesario': 1405, 'bigotón': 208, 'cutre': 528, 'conversación': 453, 'sagrado': 1871, 'nosotras': 1441, 'ayudarémos': 171, 'pequeña': 1587, 'cin': 358, 'cuarenta': 506, 'minutos': 1349, 'quién': 1762, 'gustof': 964, 'mío': 1396, 'llamas': 1223, 'di': 629, 'cartman': 313, 'calle': 276, 'sigues': 1954, 'manos': 1292, 'heróico': 1024, 'guardas': 957, 'jodemos': 1129, 'ti': 2080, 'ellos': 705, 'jodiendo': 1134, 'eran': 753, 'botellitas': 220, 'refiero': 1794, 'cuidar': 521, 'masticaras': 1303, 'primero': 1679, 'escupieras': 772, 'boca': 213, 'cierra': 353, 'pico': 1606, 'ponerte': 1644, 'tranquila': 2128, 'beberé': 196, 'ausencia': 156, 'tomo': 2109, 'cíborg': 540, 'clave': 366, 'pipa': 1618, 'hombre': 1037, 'durante': 681, 'siglos': 1949, 'alquimistas': 77, 'intentado': 1094, 'crear': 479, 'pudiera': 1707, 'crearla': 480, 'volvería': 2250, 'rico': 1825, 'equación': 749, 'química': 1765, 'frente': 885, 'skymal': 1967, 'aunque': 155, 'hueca': 1048, 'resulta': 1817, 'conocéis': 434, 'cuestión': 519, 'nuevos': 1456, 'tiempos': 2082, 'ciencia': 351, 'pocos': 1630, 'comprendemos': 411, 'mamada': 1285, 'confiar': 423, 'refería': 1792, 'volar': 2246, 'llega': 1233, 'estrella': 816, 'estó': 828, 'tendrá': 2052, 'resolverlo': 1814, 'grupo': 948, 'negocio': 1416, 'botiquín': 221, 'barra': 184, 'deberías': 565, 'edad': 694, 'molesta': 1366, 'verás': 2219, 'pasarlo': 1549, 'leccion': 1183, 'llamado': 1216, 'contrario': 448, 'hayan': 1013, 'burbón': 240, 'fastidies': 858, 'ay': 167, 'tragado': 2123, 'marcador': 1298, 'stines': 1994, 'avanzan': 160, 'detrás': 626, 'deja': 582, 'gritar': 946, 'dense': 596, 'palmadas': 1518, 'espaldas': 781, 'interior': 1103, 'hablaste': 975, 'creemos': 485, 'seamos': 1897, 'decirme': 574, 'lleva': 1237, 'encima': 718, 'vaya': 2187, 'ridículo': 1827, 'gustan': 959, 'sostenes': 1984, 'mamá': 1286, 'jodía': 1137, 'matemática': 1308, 'disfrutar': 654, 'sea': 1896, 'dame': 547, 'señal': 1934, 'pondré': 1639, 'tío': 2149, 'salid': 1877, 'corriendo': 467, 'buscad': 245, 'ponedlas': 1641, 'salvo': 1886, 'lleguen': 1235, 'jilibollas': 1124, 'informático': 1085, 'identidad': 1056, 'verdadera': 2213, 'agentes': 51, 'operan': 1494, 'sudamérica': 2004, 'argentina': 128, 'usa': 2164, 'presionar': 1675, 'amenazar': 90, 'contárselo': 451, 'exagera': 833, 'enfermedad': 724, 'muchísimo': 1382, 'tirado': 2091, 'cadena': 265, 'comienzan': 389, 'burlarse': 242, 'siendo': 1943, 'pareczo': 1538, 'gorda': 937, 'bikini': 209, 'florecente': 872, 'playa': 1626, 'té': 2146, 'vendría': 2200, 'miel': 1339, 'limón': 1204, 'vuelvas': 2258, 'asustar': 145, 'disparan': 656, 'llévanos': 1252, 'garage': 916, 'llevaré': 1245, 'estabáis': 803, 'conchabados': 417, 'comenzar': 384, 'reunión': 1822, 'maestros': 1270, 'alguién': 68, 'asunto': 143, 'pendiente': 1579, 'normal': 1437, 'hmmm': 1035, 'saldrémos': 1874, 'contra': 447, 'norths': 1439, 'vestidos': 2222, 'south': 1987, 'park': 1541, 'sólidas': 2030, 'averiguarémos': 162, 'domingo': 671, 'pago': 1513, 'nieto': 1424, 'ven': 2195, 'crecido': 482, 'hora': 1041, 'tengas': 2062, 'llamativo': 1224, 'impresionar': 1073, 'muchachas': 1376, 'echar': 692, 'ojo': 1487, 'pasando': 1547, 'deberían': 564, 'avergonzarse': 161, 'explotan': 845, 'atreven': 152, 'aprovecharse': 113, 'afortunados': 50, 'primera': 1678, 'línea': 1266, 'cubrirá': 513, 'huecos': 1049, 'díle': 688, 'uniformes': 2159, 'clyde': 370, 'token': 2103, 'abracen': 12, 'esos': 779, 'caray': 305, 'fallecer': 848, 'serías': 1930, 'tutora': 2141, 'legal': 1187, 'pastel': 1553, 'quizá': 1760, 'pan': 1520, 'definitivamente': 581, 'horneando': 1044, 'hacéis': 994, 'esperé': 795, 'ganando': 913, 'amigos': 92, 'rancasteis': 1768, 'cuenta': 514, 'barbaridades': 183, 'hayas': 1014, 'realmente': 1779, 'contexto': 445, 'prácticamente': 1706, 'medio': 1316, 'cañero': 323, 'tuviera': 2143, 'amenazado': 89, 'encantan': 714, 'noches': 1435, 'empezar': 709, 'guardar': 953, 'pistol': 1621, 'caja': 271, 'fuerte': 891, 'acabe': 24, 'partida': 1543, 'saben': 1851, 'mía': 1395, 'dispararon': 660, 'felices': 862, 'hablemos': 977, 'decirle': 572, 'cosa': 469, 'mate': 1307, 'golpes': 935, 'hable': 976, 'información': 1084, 'sacará': 1866, 'hagámoslo': 1000, 'abrochame': 18, 'sostén': 1985, 'cambios': 284, 'bordado': 218, 'traicionó': 2125, 'aspirante': 141, 'cantante': 295, 'country': 474, 'mentirosa': 1327, 'freelance': 884, 'haz': 1015, 'sacarlo': 1864, 'capital': 299, 'rojo': 1838, 'pensamientos': 1581, 'oblígame': 1460, 'atrapa': 150, 'balón': 181, 'meta': 1334, 'uuh': 2173, 'cal': 272, 'espere': 790, 'algunos': 71, 'ex': 832, 'entrando': 738, 'maritin': 1300, 'gregors': 944, 'defensor': 580, 'jim': 1125, 'harrys': 1004, 'pantalones': 1521, 'tobillos': 2096, 'avisárselo': 165, 'excelente': 834, 'mike': 1343, 'tetfield': 2079, 'estar': 807, 'imaginario': 1064, 'sería': 1929, 'dejarle': 586, 'ciego': 347, 'pobrecito': 1628, 'provienen': 1700, 'felicidad': 863, 'intentan': 1095, 'paralelo': 1531, 'virgen': 2241, 'escansará': 761, 'estemos': 812, 'esclavizados': 763, 'skynet': 1968, 'fuego': 889, 'ejemplo': 698, 'guardadas': 952, 'placer': 1623, 'volver': 2248, 'verte': 2217, 'quedaríamos': 1737, 'cenar': 325, 'comida': 388, 'provoca': 1701, 'diarrea': 631, 'sharon': 1938, 'tenido': 2064, 'lamentamos': 1174, 'queremos': 1741, 'sigas': 1948, 'jugando': 1151, 'algún': 72, 'terminado': 2071, 'archerizar': 125, 'menudo': 1330, 'sabía': 1857, 'pasar': 1548, 'latino': 1181, 'colarnos': 378, 'duelen': 679, 'brazos': 228, 'papás': 1524, 'cremosidad': 489, 'funcionará': 899, 'otra': 1500, 'puñado': 1724, 'vender': 2198, 'tecnología': 2046, 'militar': 1346, 'confidencial': 424, 'chinos': 338, 'líamos': 1264, 'última': 2282, 'trabajamos': 2118, 'juntos': 1156, 'marca': 1297, 'mayor': 1312, 'altura': 79, 'profesionales': 1688, 'invito': 1112, 'lamernos': 1175, 'pelotas': 1575, 'miente': 1340, 'venido': 2203, 'ley': 1192, 'verla': 2216, 'además': 45, 'pegado': 1568, 'tiro': 2094, 'desaparecido': 606, 'llamemos': 1225, 'decirles': 573, 'retiramos': 1820, 'wohoo': 2266, 'confundirme': 427, 'será': 1926, 'rayos': 1773, 'terríble': 2077, 'joden': 1130, 'mujeres': 1385, 'asiáticas': 140, 'vagamente': 2177, 'matas': 1306, 'sientes': 1944, 'cálido': 534, 'compasivo': 395, 'transferencia': 2130, 'prestame': 1676, 'camisa': 285, 'hagas': 997, 'llamen': 1226, 'división': 668, 'tercera': 2070, 'aliado': 74, 'tranquilo': 2129, 'testamento': 2078, 'notaria': 1444, 'abogada': 10, 'laboralista': 1171, 'proteger': 1696, 'ningún': 1427, 'confianza': 422, 'caballeros': 255, 'confunden': 425, 'hospitalidad': 1045, 'debilidad': 566, 'precio': 1658, 'negociar': 1415, 'hacerlo': 988, 'socios': 1971, 'terminar': 2072, 'ray': 1771, 'cánada': 538, 'funciona': 897, 'estúpido': 829, 'salir': 1879, 'programa': 1689, 'conduce': 419, 'veamos': 2190, 'regresemos': 1804, 'amigo': 91, 'encantará': 715, 'llamamos': 1217, 'tono': 2111, 'irónico': 1116, 'robado': 1830, 'amo': 94, 'emocionante': 707, 'extra': 846, 'botella': 219, 'gran': 941, 'sábado': 2025, 'mani': 1290, 'bébe': 253, 'desde': 612, 'promoción': 1693, '2006': 1, 'licencia': 1198, 'conducir': 420, 'vuelvo': 2260, 'llamarás': 1221, 'queríamos': 1744, 'china': 337, 'llevan': 1240, 'años': 177, 'estudiando': 818, 'propulsor': 1695, 'antimatéria': 104, 'demostrando': 594, 'lograr': 1256, 'terminó': 2075, 'líderes': 1265, 'washington': 2265, 'recuerda': 1785, 'hablamos': 970, 'relleno': 1808, 'crece': 481, 'permanente': 1595, 'craqueoso': 478, 'encontrarán': 719, 'yurta': 2272, 'maldíto': 1279, 'multicampo': 1386, 'siesta': 1946, 'adiós': 47, 'robó': 1836, 'estableció': 802, 'europa': 830, 'traficante': 2122, 'perfil': 1594, 'caballero': 254, 'entiende': 734, 'juro': 1157, 'vuelva': 2257, 'pillarte': 1616, 'deseas': 614, 'cielo': 348, 'santo': 1889, 'encantaría': 716, 'ancianos': 99, 'linda': 1205, 'corbatíta': 462, 'cilo': 357, 'televisión': 2048, 'mmm': 1361, 'guapa': 951, 'relleníta': 1809, 'entregarte': 741, 'cascos': 318, 'aluminio': 80, 'futuro': 906, 'bárbaros': 251, 'básicamente': 252, 'matáis': 1311, 'otros': 1503, 'shelly': 1939, 'alguna': 69, 'conté': 452, 'tuve': 2142, 'pastor': 1554, 'escocés': 764, 'paties': 1560, 'levanta': 1190, 'puto': 1723, 'cartél': 314, 'quedarás': 1735, 'habitación': 969, 'pensando': 1582, 'acabas': 23, 'quiera': 1749, 'modificando': 1363, 'puedas': 1710, 'pensar': 1583, 'bebemos': 194, 'espermas': 792, 'homofóbico': 1039, 'chovinista': 340, 'completamete': 401, 'inmaduro': 1088, 'pregunta': 1661, 'cantidades': 296, 'enormes': 730, 'mostrar': 1371, 'apoyo': 108, 'modo': 1364, 'mejorarlo': 1321, 'usan': 2166, '24': 3, 'horas': 1042, 'cierrate': 354, 'generoso': 921, 'producto': 1686, 'número': 1458, '4568111': 6, 'estos': 814, 'imponentes': 1069, 'aretes': 127, 'faux': 859, 'genuinos': 929, 'cuatorce': 508, 'safiros': 1870, 'ochenta': 1462, 'francesa': 880, 'pronuncia': 1694, 'perstigioso': 1602, 'cuestan': 518, 'millones': 1347, 'vendemos': 2196, 'teléfonos': 2049, 'iluminarse': 1063, 'comprador': 404, 'pongamoslo': 1645, 'gusto': 963, 'comprará': 409, 'paquistán': 1526, 'interpretar': 1105, 'himno': 1031, 'bienvenidos': 207, 'inaugural': 1077, 'nacional': 1398, 'enfrentamiento': 727, 'riders': 1826, 'oakland': 1459, 'pateamos': 1558, 'protesto': 1697, 'término': 2147, 'claramente': 362, 'preocupación': 1666, 'advierto': 49, 'peligroso': 1573, 'figuro': 868, 'mato': 1310, 'gicante': 931, 'cambiará': 282, 'selector': 1912, 'mega': 1317, 'preocupada': 1667, 'llamaría': 1222, 'éxito': 2280, 'relativo': 1807, 'cuentan': 515, 'cambio': 283, 'cubierto': 511, 'conductos': 421, 'aire': 59, 'siguen': 1953, 'gas': 917, 'nervioso': 1420, 'estuve': 820, 'mirándolo': 1355, 'siquera': 1962, 'hacen': 985, 'burrito': 243, 'capas': 297, 'basa': 186, 'camradería': 287, 'miro': 1354, 'vestidor': 2221, 'veo': 2209, 'compasíbles': 398, 'conocido': 433, 'ken': 1163, 'cualquiera': 503, 'abrazas': 16, 'ir': 1113, 'armería': 133, 'véte': 2263, 'leído': 1193, 'libros': 1197, 'club': 369, 'canguros': 293, 'blindado': 212, 'sigo': 1952, 'cargar': 307, 'aubuelo': 154, 'gastaste': 919, 'streling': 1995, 'ascani': 137, 'motél': 1372, 'váter': 2262, 'cargando': 306, 'sevidor': 1933, 'distinguir': 664, 'craig': 477, 'apuesto': 117, 'extrañará': 847, 'perder': 1588, 'bebe': 193, 'ofrezco': 1481, 'falsos': 850, 'darte': 554, 'carajos': 303, 'semana': 1913, 'acaba': 21, 'pido': 1610, 'desintoxicándose': 617, 'prometer': 1691, 'igualíto': 1062, 'cristi': 496, 'toquecíto': 2114, 'claudia': 364, 'tienda': 2083, 'asiática': 139, 'joderla': 1132, 'jodedor': 1128, 'broma': 230, 'días': 686, 'libres': 1196, 'anuales': 105, 'suelen': 2005, 'dejado': 584, 'recuperar': 1790, 'odia': 1472, 'partir': 1544, 'capitán': 300, 'rondie': 1842, 'ayúdame': 173, 'quede': 1738, 'licores': 1200, 'veas': 2191, 'empleado': 712, 'vendrá': 2199, 'avisarme': 163, 'secas': 1899, 'perdona': 1591, 'ves': 2220, 'vivian': 2244, 'comunicamos': 414, 'representante': 1812, 'saludarás': 1885, 'comprar': 407, 'felicitaciones': 864, 'robo': 1833, 'cabrearme': 261, 'rato': 1770, 'recuerdas': 1786, 'crédito': 500, 'justo': 1158, 'payton': 1562, 'mejorar': 1320, 'sabor': 1854, 'humo': 1051, 'cloro': 368, 'réplica': 1846, 'rey': 1824, 'enrique': 731, 'grite': 947, 'perdido': 1590, 'intente': 1098, 'patos': 1561, 'jodiéndola': 1135, 'sabe': 1849, 'dobles': 669, 'cartas': 310, 'sangrientas': 1888, 'jordana': 1139, 'laboral': 1170, 'sesiones': 1931, 'interrupciones': 1106, 'cagar': 269, 'excusa': 837, 'escoria': 766, 'víctimas': 2264, 'venta': 2206, 'descansan': 607, 'mansiones': 1293, 'ganan': 912, 'billones': 210, 'cinco': 359, 'hacerle': 987, 'pruebas': 1704, 'reemplazar': 1791, 'atrape': 151, 'correrá': 466, 'abrazan': 14, 'sujeto': 2015, 'timarnos': 2087, 'lado': 1173, 'traer': 2121, 'cerveza': 333, 'varias': 2183, 'sacamos': 1863, 'secuencia': 1901, 'datos': 555, 'esmeralda': 776, 'preguntas': 1663, 'sentiría': 1919, 'recuerdos': 1789, 'ninguno': 1426, 'familiares': 854, 'sufriendo': 2012, 'alzheimer': 82, 'comisionado': 390, 'entusiasma': 744, 'joventud': 1140, 'tradicional': 2120, 'detenernos': 624, 'cambiar': 281, 'demos': 593, 'bienvenida': 205, 'hambre': 1002, 'tipi': 2089, 'bienvenido': 206, 'despeto': 620, 'verá': 2218, 'evitar': 831, 'intermediarios': 1104, 'comprarles': 408, 'directamente': 647, 'puñalarme': 1727, 'empiezo': 711, 'cabra': 259, 'tíos': 2150, 'imbéciles': 1066, 'acaso': 27, 'fanático': 855, 'temas': 2050, 'prometo': 1692, 'piensas': 1611, 'seaís': 1898, 'dama': 546, 'brasilia': 225, 'visita': 2242, 'américa': 96, 'voluntad': 2247, 'sedes': 1904, 'servicios': 1924, 'trabaja': 2117, 'tapadera': 2041, 'clavado': 365, 'llamarlos': 1220, 'muchos': 1380, 'tantos': 2039, 'cuanto': 505, 'escapan': 762, 'durmiendo': 682, 'especial': 782, 'sueños': 2009, 'hermosos': 1022, 'despierto': 621, 'salió': 1881, 'aseguro': 138, 'guardarla': 954, 'quedo': 1739, 'abastecido': 9, 'desangrando': 604, 'callados': 274, 'esperma': 791, 'timó': 2088, 'lleve': 1248, 'acceder': 28, 'ordenador': 1495, 'central': 326, 'escuela': 770, 'peligrosas': 1572, 'mali': 1280, 'deciendo': 570, 'lindas': 1206, 'malin': 1281, 'woodly': 2268, 'entrega': 740, 'árbitro': 2275, 'decide': 568, 'señala': 1935, 'punto': 1718, 'gustarán': 961, 'elección': 700, 'mes': 1332, 'estáis': 823, 'strip': 1996, 'salchicha': 1872, 'dura': 680, 'flecha': 871, 'podrías': 1636, 'conseguido': 435, 'venir': 2205, 'collar': 379, 'esqueleto': 799, 'acabó': 26, 'olvidarme': 1489, 'personas': 1601, 'juegen': 1145, 'terminen': 2074, 'abrazar': 15, 'lindo': 1207, 'confundido': 426, 'cojones': 375, 'cogerla': 373, 'oferta': 1474, 'acabo': 25, 'despechada': 618, 'despeché': 619, 'vimos': 2236, 'bromista': 231, 'real': 1775, 'entiendes': 735, 'sola': 1974, 'jodo': 1136, 'cuatro': 510, 'querré': 1742, 'tóma': 2151, 'actos': 41, 'estudian': 817, 'cojínes': 376, 'sofá': 1972, 'estado': 804, 'sufro': 2013, 'conmoción': 431, 'infierno': 1083, 'conoce': 432, 'ira': 1114, 'cruzado': 498, 'río': 1848, 'cerramos': 332, 'aquel': 120, 'tipo': 2090, 'tuya': 2144, 'brújula': 234, 'amistad': 93, 'tuyos': 2145, 'área': 2277, 'indica': 1081, 'apunta': 118, 'hacia': 992, 'arriba': 136, 'jesús': 1122, 'corazón': 459, 'emociona': 706, 'formar': 875, 'parte': 1542, 'llevaría': 1246, 'recargando': 1781, 'voz': 2255, 'alta': 78, 'fácil': 907, 'viejo': 2229, 'patches': 1557, 'usas': 2170, 'sacaste': 1868, 'supergay': 2018, 'pagué': 1514, 'ocurren': 1467, 'cuántas': 531, 'tocado': 2097, 'cabecíta': 256, 'castaña': 321, 'molar': 1365, 'sesos': 1932, 'escaleras': 760, 'color': 382, 'haberle': 967, 'contado': 440, 'despistar': 622, 'calor': 277, 'eráis': 756, 'hermosura': 1023, 'toman': 2104, 'fotos': 878, 'escolares': 765, 'culpable': 526, 'intención': 1092, 'terminarse': 2073, 'cuándo': 530, 'ello': 704, 'deje': 589, 'seré': 1928, 'pedido': 1565, 'relajar': 1806, 'uah': 2153, 'recibe': 1782, '37': 4, '15': 0, 'divertido': 665, 'economía': 693, 'excusado': 838, 'prioridad': 1682, 'decidíamos': 569, 'creciente': 483, 'kay': 1161, 'dispares': 662, 'ten': 2051, 'cuidado': 520, 'encuentren': 722, 'saquen': 1890, 'quítate': 1766, 'chisme': 339, 'apta': 115, 'ocultarlo': 1464, 'escuchar': 767, 'darme': 553, 'cochecíto': 371, 'puse': 1720, 'llamó': 1230, 'peletero': 1571, 'roba': 1829, 'descaradamente': 608, 'llamé': 1229, 'imigración': 1067, 'intentar': 1096, 'deportaran': 599, 'quedaba': 1733, 'hielo': 1027, 'positivo': 1655, 'abracense': 13, 'calla': 273, 'llevando': 1241, 'cabo': 258, 'oídos': 1507, 'perfecto': 1593, 'llevaba': 1238, 'varios': 2184, 'tiros': 2095, 'sabían': 1858, 'habrá': 979, 'fascinante': 856, 'continúe': 446, 'conseguir': 436, 'apellido': 106, 'azúcar': 175, 'mala': 1274, 'pinta': 1617, 'preparas': 1672, 'platos': 1625, 'demás': 595, 'necesidad': 1406, 'contarle': 442, 'sucedido': 2001, 'entendido': 733, 'tac': 2033, 'bell': 200, 'doritos': 674, 'locos': 1255, 'tacos': 2034, 'ofrece': 1477, 'cien': 350, 'grandes': 943, 'quitado': 1759, 'dando': 550, 'salchichas': 1873, 'comer': 386, 'buscando': 246, 'llaves': 1232, 'detuvo': 627, '45': 5, 'lentamente': 1188, 'habrías': 981, 'ocasión': 1461, 'enmendarlo': 728, 'frecuente': 883, 'improbable': 1074, '23': 2, 'lexington': 1191, 'tome': 2106, 'batido': 188, 'caña': 322, 'nube': 1447, 'veímos': 2225, 'suéltalas': 2024, 'mitade': 1360, 'transmisión': 2131, 'aprovechar': 112, 'ofertas': 1475, 'alegría': 65, 'volvió': 2251, 'sarcásticos': 1894, 'difícil': 636, 'disfrutamos': 652, 'tanto': 2038, 'competitividad': 400, 'compasiva': 394, 'sincero': 1960, 'reventa': 1823, 'consigo': 438, 'suficientes': 2010, 'suyas': 2023, 'coge': 372, 'necesites': 1411, 'pilas': 1614, 'nuevas': 1453, 'sacarte': 1865, 'espero': 793, 'misma': 1358, 'contratado': 449, 'permiteme': 1596, 'agradecerte': 54, 'tomar': 2105, 'amamos': 87, 'convertirlo': 455, 'pesadilla': 1603, 'diré': 648, 'formas': 876, 'usando': 2167, 'colocar': 381, 'ultramoderna': 2155, 'sepa': 1920, 'inventó': 1109, 'manera': 1289, 'entrenarlos': 743, 'sube': 1998, 'árbitros': 2276, 'arma': 130, 'robando': 1831, 'descubierto': 610, 'cagando': 268, 'leches': 1186, 'muchísimas': 1381, 'litros': 1214, 'mexicanos': 1337, 'negors': 1417, 'actuante': 42, 'conmocionado': 429, 'tendrían': 2057, 'pisos': 1620, 'nombre': 1436, 'empeño': 710, 'cuadras': 502, 'cartel': 311, 'uh': 2154, 'iban': 1053, 'elegir': 701, 'ponle': 1648, 'infromación': 1086, 'tomándose': 2110, 'profesional': 1687, 'decirte': 575, 'hará': 1005, 'cargo': 308, 'veía': 2224, 'veintiquatro': 2194, 'duda': 677, 'salgan': 1876, 'bret': 229, 'llave': 1231, 'analogía': 97, 'hacernos': 989, 'aceptamos': 32, 'gramo': 940, 'grámos': 950, 'pérdida': 1729, 'ofrecerte': 1479, 'gastar': 918, 'jubilación': 1142, 'frivolidades': 887, 'guardarlo': 955, 'mueras': 1383, 'mentiste': 1328, 'dijiste': 641, 'primo': 1680, 'diste': 663, 'daba': 544, 'pego': 1570, 'metería': 1335, 'brazaleta': 226, 'tanzanita': 2040, 'noventa': 1446, 'permiten': 1597, 'jueguen': 1147, 'genios': 925, 'come': 383, 'sólidos': 2031, 'browns': 233, 'listos': 1210, 'batir': 189, 'par': 1527, 'novatos': 1445, 'experiencia': 843, 'lineación': 1208, 'inicial': 1087, 'sabemos': 1850, 'aires': 60, 'rome': 1839, 'esperar': 789, 'interesante': 1101, 'acompaña': 37, 'inventor': 1108, 'estés': 827, 'vuélvete': 2261, 'canadá': 289, 'ben': 202, 'jhonsson': 1123, 'fondo': 873, 'pusiste': 1721, 'pelígro': 1577, 'ofrecerías': 1480, 'improvisable': 1075, 'exceso': 836, 'andabamos': 100, 'laboratorio': 1172, 'estaré': 809, 'móvil': 1397, 'capaz': 298, 'osíto': 1499, 'north': 1438, 'llevarse': 1244, 'llevamos': 1239, 'enémigo': 748, 'devolvemos': 628, 'calvos': 279, 'damos': 548, 'chúpamela': 343, 'soluciona': 1976, 'hermanita': 1020, 'boom': 217, 'vieron': 2234, 'alumnos': 81, 'gustará': 960, 'paciente': 1509, 'cincuenta': 360, 'esperándome': 794, 'olvidémonos': 1490, 'concentrémonos': 416, 'supuestos': 2020, 'horatio': 1043, 'venden': 2197, 'nuestras': 1449, 'proviene': 1699, 'refranes': 1797, 'funcionar': 898}\n"
     ]
    },
    {
     "data": {
      "text/html": [
       "<div>\n",
       "<style scoped>\n",
       "    .dataframe tbody tr th:only-of-type {\n",
       "        vertical-align: middle;\n",
       "    }\n",
       "\n",
       "    .dataframe tbody tr th {\n",
       "        vertical-align: top;\n",
       "    }\n",
       "\n",
       "    .dataframe thead th {\n",
       "        text-align: right;\n",
       "    }\n",
       "</style>\n",
       "<table border=\"1\" class=\"dataframe\">\n",
       "  <thead>\n",
       "    <tr style=\"text-align: right;\">\n",
       "      <th></th>\n",
       "      <th>Locución</th>\n",
       "      <th>bow</th>\n",
       "    </tr>\n",
       "  </thead>\n",
       "  <tbody>\n",
       "    <tr>\n",
       "      <th>0</th>\n",
       "      <td>Francamente no</td>\n",
       "      <td>[0, 0, 0, 0, 0, 0, 0, 0, 0, 0, 0, 0, 0, 0, 0, ...</td>\n",
       "    </tr>\n",
       "    <tr>\n",
       "      <th>1</th>\n",
       "      <td>Lo del canadiense. Por favor, como que vosotro...</td>\n",
       "      <td>[0, 0, 0, 0, 0, 0, 0, 0, 0, 0, 0, 0, 0, 0, 0, ...</td>\n",
       "    </tr>\n",
       "    <tr>\n",
       "      <th>2</th>\n",
       "      <td>Tienes razón. A lo mejor así te liberas de tu ...</td>\n",
       "      <td>[0, 0, 0, 0, 0, 0, 0, 0, 0, 0, 0, 0, 0, 0, 0, ...</td>\n",
       "    </tr>\n",
       "    <tr>\n",
       "      <th>3</th>\n",
       "      <td>Pues, tú sabrás</td>\n",
       "      <td>[0, 0, 0, 0, 0, 0, 0, 0, 0, 0, 0, 0, 0, 0, 0, ...</td>\n",
       "    </tr>\n",
       "    <tr>\n",
       "      <th>4</th>\n",
       "      <td>Para mí que fue Krieger</td>\n",
       "      <td>[0, 0, 0, 0, 0, 0, 0, 0, 0, 0, 0, 0, 0, 0, 0, ...</td>\n",
       "    </tr>\n",
       "    <tr>\n",
       "      <th>...</th>\n",
       "      <td>...</td>\n",
       "      <td>...</td>\n",
       "    </tr>\n",
       "    <tr>\n",
       "      <th>954</th>\n",
       "      <td>Yo qué sé, digo yo qué será</td>\n",
       "      <td>[0, 0, 0, 0, 0, 0, 0, 0, 0, 0, 0, 0, 0, 0, 0, ...</td>\n",
       "    </tr>\n",
       "    <tr>\n",
       "      <th>955</th>\n",
       "      <td>Lo han entendido mal. Las joyas que venden en ...</td>\n",
       "      <td>[0, 0, 0, 0, 0, 0, 0, 0, 0, 0, 0, 0, 0, 0, 0, ...</td>\n",
       "    </tr>\n",
       "    <tr>\n",
       "      <th>956</th>\n",
       "      <td>Oooo... Me llamo Vivian</td>\n",
       "      <td>[0, 0, 0, 0, 0, 0, 0, 0, 0, 0, 0, 0, 0, 0, 0, ...</td>\n",
       "    </tr>\n",
       "    <tr>\n",
       "      <th>957</th>\n",
       "      <td>¿De dónde? ¿Del coño de tu madre?</td>\n",
       "      <td>[0, 0, 0, 0, 0, 0, 0, 0, 0, 0, 0, 0, 0, 0, 0, ...</td>\n",
       "    </tr>\n",
       "    <tr>\n",
       "      <th>958</th>\n",
       "      <td>Ah, sí esto podría funcionar</td>\n",
       "      <td>[0, 0, 0, 0, 0, 0, 0, 0, 0, 0, 0, 0, 0, 0, 0, ...</td>\n",
       "    </tr>\n",
       "  </tbody>\n",
       "</table>\n",
       "<p>959 rows × 2 columns</p>\n",
       "</div>"
      ],
      "text/plain": [
       "                                              Locución  \\\n",
       "0                                       Francamente no   \n",
       "1    Lo del canadiense. Por favor, como que vosotro...   \n",
       "2    Tienes razón. A lo mejor así te liberas de tu ...   \n",
       "3                                      Pues, tú sabrás   \n",
       "4                              Para mí que fue Krieger   \n",
       "..                                                 ...   \n",
       "954                        Yo qué sé, digo yo qué será   \n",
       "955  Lo han entendido mal. Las joyas que venden en ...   \n",
       "956                            Oooo... Me llamo Vivian   \n",
       "957                  ¿De dónde? ¿Del coño de tu madre?   \n",
       "958                       Ah, sí esto podría funcionar   \n",
       "\n",
       "                                                   bow  \n",
       "0    [0, 0, 0, 0, 0, 0, 0, 0, 0, 0, 0, 0, 0, 0, 0, ...  \n",
       "1    [0, 0, 0, 0, 0, 0, 0, 0, 0, 0, 0, 0, 0, 0, 0, ...  \n",
       "2    [0, 0, 0, 0, 0, 0, 0, 0, 0, 0, 0, 0, 0, 0, 0, ...  \n",
       "3    [0, 0, 0, 0, 0, 0, 0, 0, 0, 0, 0, 0, 0, 0, 0, ...  \n",
       "4    [0, 0, 0, 0, 0, 0, 0, 0, 0, 0, 0, 0, 0, 0, 0, ...  \n",
       "..                                                 ...  \n",
       "954  [0, 0, 0, 0, 0, 0, 0, 0, 0, 0, 0, 0, 0, 0, 0, ...  \n",
       "955  [0, 0, 0, 0, 0, 0, 0, 0, 0, 0, 0, 0, 0, 0, 0, ...  \n",
       "956  [0, 0, 0, 0, 0, 0, 0, 0, 0, 0, 0, 0, 0, 0, 0, ...  \n",
       "957  [0, 0, 0, 0, 0, 0, 0, 0, 0, 0, 0, 0, 0, 0, 0, ...  \n",
       "958  [0, 0, 0, 0, 0, 0, 0, 0, 0, 0, 0, 0, 0, 0, 0, ...  \n",
       "\n",
       "[959 rows x 2 columns]"
      ]
     },
     "execution_count": 54,
     "metadata": {},
     "output_type": "execute_result"
    }
   ],
   "source": [
    "count_vect = CountVectorizer(binary=True)\n",
    "bow_rep = count_vect.fit_transform(corpus.Locución.values)\n",
    "\n",
    "print(\"Vocabulario:\", count_vect.vocabulary_)\n",
    "\n",
    "corpus['bow'] = [row for row in bow_rep.toarray()]\n",
    "corpus\n"
   ]
  },
  {
   "cell_type": "code",
   "execution_count": 55,
   "metadata": {},
   "outputs": [
    {
     "name": "stdout",
     "output_type": "stream",
     "text": [
      "Locución                                       Francamente no\n",
      "bow         [0, 0, 0, 0, 0, 0, 0, 0, 0, 0, 0, 0, 0, 0, 0, ...\n",
      "Name: 0, dtype: object\n"
     ]
    }
   ],
   "source": [
    "print(corpus.iloc[0])"
   ]
  },
  {
   "cell_type": "code",
   "execution_count": null,
   "metadata": {},
   "outputs": [],
   "source": []
  },
  {
   "cell_type": "markdown",
   "metadata": {},
   "source": [
    "## Punto 3\n",
    "\n",
    "¿Cuando es una mejor idea usar una bolsa de n-gramas en  vez de una bolsa de palabras?\n",
    "\n",
    "La bolsa de plabras se puede utilizar en tareas de clasificación de documentos, para encontrar la frecuencia que se repite \n",
    "una palbra dentro del texto\n",
    "\n",
    "Mientras que el N-grama es una mejor opción pues se puede utilizar para identificar expresiones de palabras que aparecen en \n",
    "el texto"
   ]
  },
  {
   "cell_type": "markdown",
   "metadata": {},
   "source": [
    "## Punto 4\n",
    "\n",
    "¿A qué pertenecen los dialogos de ese archivo?\n",
    "\n",
    "Estos dialogos pertenecen a la serie Archer"
   ]
  }
 ],
 "metadata": {
  "kernelspec": {
   "display_name": "Python 3",
   "language": "python",
   "name": "python3"
  },
  "language_info": {
   "codemirror_mode": {
    "name": "ipython",
    "version": 3
   },
   "file_extension": ".py",
   "mimetype": "text/x-python",
   "name": "python",
   "nbconvert_exporter": "python",
   "pygments_lexer": "ipython3",
   "version": "3.8.5"
  }
 },
 "nbformat": 4,
 "nbformat_minor": 4
}
